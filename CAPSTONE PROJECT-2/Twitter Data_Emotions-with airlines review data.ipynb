{
 "cells": [
  {
   "cell_type": "code",
   "execution_count": 2,
   "metadata": {},
   "outputs": [
    {
     "name": "stderr",
     "output_type": "stream",
     "text": [
      "[nltk_data] Downloading package stopwords to\n",
      "[nltk_data]     /Users/Administrator/nltk_data...\n",
      "[nltk_data]   Package stopwords is already up-to-date!\n",
      "[nltk_data] Downloading package wordnet to\n",
      "[nltk_data]     /Users/Administrator/nltk_data...\n",
      "[nltk_data]   Package wordnet is already up-to-date!\n",
      "[nltk_data] Downloading package punkt to\n",
      "[nltk_data]     /Users/Administrator/nltk_data...\n",
      "[nltk_data]   Package punkt is already up-to-date!\n"
     ]
    }
   ],
   "source": [
    "import seaborn as sns\n",
    "import matplotlib.pylab as plt\n",
    "import numpy as np\n",
    "import pandas as pd\n",
    "\n",
    "from sklearn.linear_model import LogisticRegression\n",
    "from sklearn import metrics\n",
    "from sklearn.metrics import classification_report\n",
    "from sklearn.feature_extraction.text import CountVectorizer\n",
    "\n",
    "import spacy\n",
    "from spacy import displacy\n",
    "from spacy.util import minibatch, compounding\n",
    "\n",
    "from nltk.tokenize import WordPunctTokenizer\n",
    "import re\n",
    "from bs4 import BeautifulSoup\n",
    "\n",
    "import nltk\n",
    "nltk.download('stopwords')\n",
    "nltk.download('wordnet')\n",
    "nltk.download('punkt')\n",
    "from nltk.stem import WordNetLemmatizer\n",
    "from collections import Counter\n",
    "from nltk.tokenize import word_tokenize\n",
    "from nltk.corpus import stopwords\n",
    "\n",
    "from sklearn.model_selection import train_test_split\n",
    "from sklearn.feature_extraction.text import TfidfVectorizer, CountVectorizer\n",
    "\n",
    "from nltk.sentiment.vader import SentimentIntensityAnalyzer\n",
    "\n",
    "from sklearn.linear_model import LogisticRegression\n",
    "from sklearn import metrics\n",
    "from sklearn.metrics import classification_report\n",
    "from sklearn.feature_extraction.text import CountVectorizer\n",
    "\n",
    "from sklearn.svm import LinearSVC\n",
    "from sklearn.feature_extraction.text import CountVectorizer\n",
    "\n",
    "from nltk.sentiment.vader import SentimentIntensityAnalyzer\n",
    "\n",
    "# Display 100 characters max within a cell\n",
    "pd.set_option('max_colwidth',200)"
   ]
  },
  {
   "cell_type": "code",
   "execution_count": 3,
   "metadata": {},
   "outputs": [],
   "source": [
    "df = pd.read_csv('text_emotion.csv')"
   ]
  },
  {
   "cell_type": "code",
   "execution_count": 4,
   "metadata": {},
   "outputs": [
    {
     "data": {
      "text/html": [
       "<div>\n",
       "<style scoped>\n",
       "    .dataframe tbody tr th:only-of-type {\n",
       "        vertical-align: middle;\n",
       "    }\n",
       "\n",
       "    .dataframe tbody tr th {\n",
       "        vertical-align: top;\n",
       "    }\n",
       "\n",
       "    .dataframe thead th {\n",
       "        text-align: right;\n",
       "    }\n",
       "</style>\n",
       "<table border=\"1\" class=\"dataframe\">\n",
       "  <thead>\n",
       "    <tr style=\"text-align: right;\">\n",
       "      <th></th>\n",
       "      <th>_unit_id</th>\n",
       "      <th>_unit_state</th>\n",
       "      <th>_trusted_judgments</th>\n",
       "      <th>_last_judgment_at</th>\n",
       "      <th>airline_sentiment</th>\n",
       "      <th>airline_sentiment:confidence</th>\n",
       "      <th>negativereason</th>\n",
       "      <th>negativereason:confidence</th>\n",
       "      <th>airline</th>\n",
       "      <th>airline_sentiment_gold</th>\n",
       "      <th>name</th>\n",
       "      <th>negativereason_gold</th>\n",
       "      <th>retweet_count</th>\n",
       "      <th>text</th>\n",
       "      <th>tweet_coord</th>\n",
       "      <th>tweet_created</th>\n",
       "      <th>tweet_id</th>\n",
       "      <th>tweet_location</th>\n",
       "      <th>user_timezone</th>\n",
       "    </tr>\n",
       "    <tr>\n",
       "      <th>_golden</th>\n",
       "      <th></th>\n",
       "      <th></th>\n",
       "      <th></th>\n",
       "      <th></th>\n",
       "      <th></th>\n",
       "      <th></th>\n",
       "      <th></th>\n",
       "      <th></th>\n",
       "      <th></th>\n",
       "      <th></th>\n",
       "      <th></th>\n",
       "      <th></th>\n",
       "      <th></th>\n",
       "      <th></th>\n",
       "      <th></th>\n",
       "      <th></th>\n",
       "      <th></th>\n",
       "      <th></th>\n",
       "      <th></th>\n",
       "    </tr>\n",
       "  </thead>\n",
       "  <tbody>\n",
       "    <tr>\n",
       "      <td>False</td>\n",
       "      <td>681448150</td>\n",
       "      <td>finalized</td>\n",
       "      <td>3</td>\n",
       "      <td>2/25/15 5:24</td>\n",
       "      <td>neutral</td>\n",
       "      <td>1.0000</td>\n",
       "      <td>NaN</td>\n",
       "      <td>NaN</td>\n",
       "      <td>Virgin America</td>\n",
       "      <td>NaN</td>\n",
       "      <td>cairdin</td>\n",
       "      <td>NaN</td>\n",
       "      <td>0</td>\n",
       "      <td>@VirginAmerica What @dhepburn said.</td>\n",
       "      <td>NaN</td>\n",
       "      <td>2/24/15 11:35</td>\n",
       "      <td>5.703060e+17</td>\n",
       "      <td>NaN</td>\n",
       "      <td>Eastern Time (US &amp; Canada)</td>\n",
       "    </tr>\n",
       "    <tr>\n",
       "      <td>False</td>\n",
       "      <td>681448153</td>\n",
       "      <td>finalized</td>\n",
       "      <td>3</td>\n",
       "      <td>2/25/15 1:53</td>\n",
       "      <td>positive</td>\n",
       "      <td>0.3486</td>\n",
       "      <td>NaN</td>\n",
       "      <td>0.0000</td>\n",
       "      <td>Virgin America</td>\n",
       "      <td>NaN</td>\n",
       "      <td>jnardino</td>\n",
       "      <td>NaN</td>\n",
       "      <td>0</td>\n",
       "      <td>@VirginAmerica plus you've added commercials to the experience... tacky.</td>\n",
       "      <td>NaN</td>\n",
       "      <td>2/24/15 11:15</td>\n",
       "      <td>5.703010e+17</td>\n",
       "      <td>NaN</td>\n",
       "      <td>Pacific Time (US &amp; Canada)</td>\n",
       "    </tr>\n",
       "    <tr>\n",
       "      <td>False</td>\n",
       "      <td>681448156</td>\n",
       "      <td>finalized</td>\n",
       "      <td>3</td>\n",
       "      <td>2/25/15 10:01</td>\n",
       "      <td>neutral</td>\n",
       "      <td>0.6837</td>\n",
       "      <td>NaN</td>\n",
       "      <td>NaN</td>\n",
       "      <td>Virgin America</td>\n",
       "      <td>NaN</td>\n",
       "      <td>yvonnalynn</td>\n",
       "      <td>NaN</td>\n",
       "      <td>0</td>\n",
       "      <td>@VirginAmerica I didn't today... Must mean I need to take another trip!</td>\n",
       "      <td>NaN</td>\n",
       "      <td>2/24/15 11:15</td>\n",
       "      <td>5.703010e+17</td>\n",
       "      <td>Lets Play</td>\n",
       "      <td>Central Time (US &amp; Canada)</td>\n",
       "    </tr>\n",
       "    <tr>\n",
       "      <td>False</td>\n",
       "      <td>681448158</td>\n",
       "      <td>finalized</td>\n",
       "      <td>3</td>\n",
       "      <td>2/25/15 3:05</td>\n",
       "      <td>negative</td>\n",
       "      <td>1.0000</td>\n",
       "      <td>Bad Flight</td>\n",
       "      <td>0.7033</td>\n",
       "      <td>Virgin America</td>\n",
       "      <td>NaN</td>\n",
       "      <td>jnardino</td>\n",
       "      <td>NaN</td>\n",
       "      <td>0</td>\n",
       "      <td>@VirginAmerica it's really aggressive to blast obnoxious \"entertainment\" in your guests' faces &amp;amp; they have little recourse</td>\n",
       "      <td>NaN</td>\n",
       "      <td>2/24/15 11:15</td>\n",
       "      <td>5.703010e+17</td>\n",
       "      <td>NaN</td>\n",
       "      <td>Pacific Time (US &amp; Canada)</td>\n",
       "    </tr>\n",
       "    <tr>\n",
       "      <td>False</td>\n",
       "      <td>681448159</td>\n",
       "      <td>finalized</td>\n",
       "      <td>3</td>\n",
       "      <td>2/25/15 5:50</td>\n",
       "      <td>negative</td>\n",
       "      <td>1.0000</td>\n",
       "      <td>Can't Tell</td>\n",
       "      <td>1.0000</td>\n",
       "      <td>Virgin America</td>\n",
       "      <td>NaN</td>\n",
       "      <td>jnardino</td>\n",
       "      <td>NaN</td>\n",
       "      <td>0</td>\n",
       "      <td>@VirginAmerica and it's a really big bad thing about it</td>\n",
       "      <td>NaN</td>\n",
       "      <td>2/24/15 11:14</td>\n",
       "      <td>5.703010e+17</td>\n",
       "      <td>NaN</td>\n",
       "      <td>Pacific Time (US &amp; Canada)</td>\n",
       "    </tr>\n",
       "  </tbody>\n",
       "</table>\n",
       "</div>"
      ],
      "text/plain": [
       "          _unit_id _unit_state  _trusted_judgments _last_judgment_at  \\\n",
       "_golden                                                                \n",
       "False    681448150   finalized                   3      2/25/15 5:24   \n",
       "False    681448153   finalized                   3      2/25/15 1:53   \n",
       "False    681448156   finalized                   3     2/25/15 10:01   \n",
       "False    681448158   finalized                   3      2/25/15 3:05   \n",
       "False    681448159   finalized                   3      2/25/15 5:50   \n",
       "\n",
       "        airline_sentiment  airline_sentiment:confidence negativereason  \\\n",
       "_golden                                                                  \n",
       "False             neutral                        1.0000            NaN   \n",
       "False            positive                        0.3486            NaN   \n",
       "False             neutral                        0.6837            NaN   \n",
       "False            negative                        1.0000     Bad Flight   \n",
       "False            negative                        1.0000     Can't Tell   \n",
       "\n",
       "         negativereason:confidence         airline airline_sentiment_gold  \\\n",
       "_golden                                                                     \n",
       "False                          NaN  Virgin America                    NaN   \n",
       "False                       0.0000  Virgin America                    NaN   \n",
       "False                          NaN  Virgin America                    NaN   \n",
       "False                       0.7033  Virgin America                    NaN   \n",
       "False                       1.0000  Virgin America                    NaN   \n",
       "\n",
       "               name negativereason_gold  retweet_count  \\\n",
       "_golden                                                  \n",
       "False       cairdin                 NaN              0   \n",
       "False      jnardino                 NaN              0   \n",
       "False    yvonnalynn                 NaN              0   \n",
       "False      jnardino                 NaN              0   \n",
       "False      jnardino                 NaN              0   \n",
       "\n",
       "                                                                                                                                   text  \\\n",
       "_golden                                                                                                                                   \n",
       "False                                                                                               @VirginAmerica What @dhepburn said.   \n",
       "False                                                          @VirginAmerica plus you've added commercials to the experience... tacky.   \n",
       "False                                                           @VirginAmerica I didn't today... Must mean I need to take another trip!   \n",
       "False    @VirginAmerica it's really aggressive to blast obnoxious \"entertainment\" in your guests' faces &amp; they have little recourse   \n",
       "False                                                                           @VirginAmerica and it's a really big bad thing about it   \n",
       "\n",
       "        tweet_coord  tweet_created      tweet_id tweet_location  \\\n",
       "_golden                                                           \n",
       "False           NaN  2/24/15 11:35  5.703060e+17            NaN   \n",
       "False           NaN  2/24/15 11:15  5.703010e+17            NaN   \n",
       "False           NaN  2/24/15 11:15  5.703010e+17      Lets Play   \n",
       "False           NaN  2/24/15 11:15  5.703010e+17            NaN   \n",
       "False           NaN  2/24/15 11:14  5.703010e+17            NaN   \n",
       "\n",
       "                      user_timezone  \n",
       "_golden                              \n",
       "False    Eastern Time (US & Canada)  \n",
       "False    Pacific Time (US & Canada)  \n",
       "False    Central Time (US & Canada)  \n",
       "False    Pacific Time (US & Canada)  \n",
       "False    Pacific Time (US & Canada)  "
      ]
     },
     "execution_count": 4,
     "metadata": {},
     "output_type": "execute_result"
    }
   ],
   "source": [
    "dfadd=pd.read_csv('AirlineSentiment.csv', header=0, encoding = 'ISO-8859-1',index_col=1)\n",
    "dfadd.head()"
   ]
  },
  {
   "cell_type": "code",
   "execution_count": 5,
   "metadata": {},
   "outputs": [
    {
     "data": {
      "text/html": [
       "<div>\n",
       "<style scoped>\n",
       "    .dataframe tbody tr th:only-of-type {\n",
       "        vertical-align: middle;\n",
       "    }\n",
       "\n",
       "    .dataframe tbody tr th {\n",
       "        vertical-align: top;\n",
       "    }\n",
       "\n",
       "    .dataframe thead th {\n",
       "        text-align: right;\n",
       "    }\n",
       "</style>\n",
       "<table border=\"1\" class=\"dataframe\">\n",
       "  <thead>\n",
       "    <tr style=\"text-align: right;\">\n",
       "      <th></th>\n",
       "      <th>tweet_id</th>\n",
       "      <th>airline_sentiment</th>\n",
       "      <th>_unit_id</th>\n",
       "      <th>text</th>\n",
       "    </tr>\n",
       "  </thead>\n",
       "  <tbody>\n",
       "    <tr>\n",
       "      <td>0</td>\n",
       "      <td>5.703060e+17</td>\n",
       "      <td>neutral</td>\n",
       "      <td>681448150</td>\n",
       "      <td>@VirginAmerica What @dhepburn said.</td>\n",
       "    </tr>\n",
       "    <tr>\n",
       "      <td>1</td>\n",
       "      <td>5.703010e+17</td>\n",
       "      <td>positive</td>\n",
       "      <td>681448153</td>\n",
       "      <td>@VirginAmerica plus you've added commercials to the experience... tacky.</td>\n",
       "    </tr>\n",
       "    <tr>\n",
       "      <td>2</td>\n",
       "      <td>5.703010e+17</td>\n",
       "      <td>neutral</td>\n",
       "      <td>681448156</td>\n",
       "      <td>@VirginAmerica I didn't today... Must mean I need to take another trip!</td>\n",
       "    </tr>\n",
       "    <tr>\n",
       "      <td>3</td>\n",
       "      <td>5.703010e+17</td>\n",
       "      <td>negative</td>\n",
       "      <td>681448158</td>\n",
       "      <td>@VirginAmerica it's really aggressive to blast obnoxious \"entertainment\" in your guests' faces &amp;amp; they have little recourse</td>\n",
       "    </tr>\n",
       "    <tr>\n",
       "      <td>4</td>\n",
       "      <td>5.703010e+17</td>\n",
       "      <td>negative</td>\n",
       "      <td>681448159</td>\n",
       "      <td>@VirginAmerica and it's a really big bad thing about it</td>\n",
       "    </tr>\n",
       "  </tbody>\n",
       "</table>\n",
       "</div>"
      ],
      "text/plain": [
       "       tweet_id airline_sentiment   _unit_id  \\\n",
       "0  5.703060e+17           neutral  681448150   \n",
       "1  5.703010e+17          positive  681448153   \n",
       "2  5.703010e+17           neutral  681448156   \n",
       "3  5.703010e+17          negative  681448158   \n",
       "4  5.703010e+17          negative  681448159   \n",
       "\n",
       "                                                                                                                             text  \n",
       "0                                                                                             @VirginAmerica What @dhepburn said.  \n",
       "1                                                        @VirginAmerica plus you've added commercials to the experience... tacky.  \n",
       "2                                                         @VirginAmerica I didn't today... Must mean I need to take another trip!  \n",
       "3  @VirginAmerica it's really aggressive to blast obnoxious \"entertainment\" in your guests' faces &amp; they have little recourse  \n",
       "4                                                                         @VirginAmerica and it's a really big bad thing about it  "
      ]
     },
     "execution_count": 5,
     "metadata": {},
     "output_type": "execute_result"
    }
   ],
   "source": [
    "dfadd=dfadd[['tweet_id','airline_sentiment','_unit_id','text']]\n",
    "dfadd.reset_index(drop=True, inplace=True)\n",
    "dfadd.head()"
   ]
  },
  {
   "cell_type": "code",
   "execution_count": 6,
   "metadata": {},
   "outputs": [
    {
     "data": {
      "text/html": [
       "<div>\n",
       "<style scoped>\n",
       "    .dataframe tbody tr th:only-of-type {\n",
       "        vertical-align: middle;\n",
       "    }\n",
       "\n",
       "    .dataframe tbody tr th {\n",
       "        vertical-align: top;\n",
       "    }\n",
       "\n",
       "    .dataframe thead th {\n",
       "        text-align: right;\n",
       "    }\n",
       "</style>\n",
       "<table border=\"1\" class=\"dataframe\">\n",
       "  <thead>\n",
       "    <tr style=\"text-align: right;\">\n",
       "      <th></th>\n",
       "      <th>tweet_id</th>\n",
       "      <th>sentiment</th>\n",
       "      <th>author</th>\n",
       "      <th>content</th>\n",
       "    </tr>\n",
       "  </thead>\n",
       "  <tbody>\n",
       "    <tr>\n",
       "      <td>0</td>\n",
       "      <td>5.703060e+17</td>\n",
       "      <td>neutral</td>\n",
       "      <td>681448150</td>\n",
       "      <td>@VirginAmerica What @dhepburn said.</td>\n",
       "    </tr>\n",
       "    <tr>\n",
       "      <td>1</td>\n",
       "      <td>5.703010e+17</td>\n",
       "      <td>positive</td>\n",
       "      <td>681448153</td>\n",
       "      <td>@VirginAmerica plus you've added commercials to the experience... tacky.</td>\n",
       "    </tr>\n",
       "    <tr>\n",
       "      <td>2</td>\n",
       "      <td>5.703010e+17</td>\n",
       "      <td>neutral</td>\n",
       "      <td>681448156</td>\n",
       "      <td>@VirginAmerica I didn't today... Must mean I need to take another trip!</td>\n",
       "    </tr>\n",
       "    <tr>\n",
       "      <td>3</td>\n",
       "      <td>5.703010e+17</td>\n",
       "      <td>negative</td>\n",
       "      <td>681448158</td>\n",
       "      <td>@VirginAmerica it's really aggressive to blast obnoxious \"entertainment\" in your guests' faces &amp;amp; they have little recourse</td>\n",
       "    </tr>\n",
       "    <tr>\n",
       "      <td>4</td>\n",
       "      <td>5.703010e+17</td>\n",
       "      <td>negative</td>\n",
       "      <td>681448159</td>\n",
       "      <td>@VirginAmerica and it's a really big bad thing about it</td>\n",
       "    </tr>\n",
       "  </tbody>\n",
       "</table>\n",
       "</div>"
      ],
      "text/plain": [
       "       tweet_id sentiment     author  \\\n",
       "0  5.703060e+17   neutral  681448150   \n",
       "1  5.703010e+17  positive  681448153   \n",
       "2  5.703010e+17   neutral  681448156   \n",
       "3  5.703010e+17  negative  681448158   \n",
       "4  5.703010e+17  negative  681448159   \n",
       "\n",
       "                                                                                                                          content  \n",
       "0                                                                                             @VirginAmerica What @dhepburn said.  \n",
       "1                                                        @VirginAmerica plus you've added commercials to the experience... tacky.  \n",
       "2                                                         @VirginAmerica I didn't today... Must mean I need to take another trip!  \n",
       "3  @VirginAmerica it's really aggressive to blast obnoxious \"entertainment\" in your guests' faces &amp; they have little recourse  \n",
       "4                                                                         @VirginAmerica and it's a really big bad thing about it  "
      ]
     },
     "execution_count": 6,
     "metadata": {},
     "output_type": "execute_result"
    }
   ],
   "source": [
    "dfadd.columns=['tweet_id','sentiment','author','content']\n",
    "dfadd.head()"
   ]
  },
  {
   "cell_type": "code",
   "execution_count": 7,
   "metadata": {},
   "outputs": [
    {
     "data": {
      "text/plain": [
       "2047     1\n",
       "10912    1\n",
       "6806     1\n",
       "661      1\n",
       "2708     1\n",
       "        ..\n",
       "11583    1\n",
       "9534     1\n",
       "13628    1\n",
       "3387     1\n",
       "0        1\n",
       "Length: 14640, dtype: int64"
      ]
     },
     "execution_count": 7,
     "metadata": {},
     "output_type": "execute_result"
    }
   ],
   "source": [
    "dfadd.index.value_counts()"
   ]
  },
  {
   "cell_type": "code",
   "execution_count": 8,
   "metadata": {},
   "outputs": [
    {
     "data": {
      "text/plain": [
       "(14640, 4)"
      ]
     },
     "execution_count": 8,
     "metadata": {},
     "output_type": "execute_result"
    }
   ],
   "source": [
    "dfadd.shape"
   ]
  },
  {
   "cell_type": "code",
   "execution_count": 9,
   "metadata": {},
   "outputs": [
    {
     "data": {
      "text/plain": [
       "(54640, 4)"
      ]
     },
     "execution_count": 9,
     "metadata": {},
     "output_type": "execute_result"
    }
   ],
   "source": [
    "dfnewadded = pd.concat([df, dfadd], ignore_index=True, sort =False)\n",
    "dfnewadded.shape"
   ]
  },
  {
   "cell_type": "code",
   "execution_count": 26,
   "metadata": {},
   "outputs": [
    {
     "data": {
      "text/html": [
       "<div>\n",
       "<style scoped>\n",
       "    .dataframe tbody tr th:only-of-type {\n",
       "        vertical-align: middle;\n",
       "    }\n",
       "\n",
       "    .dataframe tbody tr th {\n",
       "        vertical-align: top;\n",
       "    }\n",
       "\n",
       "    .dataframe thead th {\n",
       "        text-align: right;\n",
       "    }\n",
       "</style>\n",
       "<table border=\"1\" class=\"dataframe\">\n",
       "  <thead>\n",
       "    <tr style=\"text-align: right;\">\n",
       "      <th></th>\n",
       "      <th>tweet_id</th>\n",
       "      <th>sentiment</th>\n",
       "      <th>author</th>\n",
       "      <th>content</th>\n",
       "    </tr>\n",
       "  </thead>\n",
       "  <tbody>\n",
       "    <tr>\n",
       "      <td>0</td>\n",
       "      <td>1.956967e+09</td>\n",
       "      <td>empty</td>\n",
       "      <td>xoshayzers</td>\n",
       "      <td>@tiffanylue i know  i was listenin to bad habit earlier and i started freakin at his part =[</td>\n",
       "    </tr>\n",
       "    <tr>\n",
       "      <td>1</td>\n",
       "      <td>1.956968e+09</td>\n",
       "      <td>sadness</td>\n",
       "      <td>wannamama</td>\n",
       "      <td>Layin n bed with a headache  ughhhh...waitin on your call...</td>\n",
       "    </tr>\n",
       "    <tr>\n",
       "      <td>2</td>\n",
       "      <td>1.956968e+09</td>\n",
       "      <td>sadness</td>\n",
       "      <td>coolfunky</td>\n",
       "      <td>Funeral ceremony...gloomy friday...</td>\n",
       "    </tr>\n",
       "    <tr>\n",
       "      <td>3</td>\n",
       "      <td>1.956968e+09</td>\n",
       "      <td>enthusiasm</td>\n",
       "      <td>czareaquino</td>\n",
       "      <td>wants to hang out with friends SOON!</td>\n",
       "    </tr>\n",
       "    <tr>\n",
       "      <td>4</td>\n",
       "      <td>1.956968e+09</td>\n",
       "      <td>neutral</td>\n",
       "      <td>xkilljoyx</td>\n",
       "      <td>@dannycastillo We want to trade with someone who has Houston tickets, but no one will.</td>\n",
       "    </tr>\n",
       "    <tr>\n",
       "      <td>...</td>\n",
       "      <td>...</td>\n",
       "      <td>...</td>\n",
       "      <td>...</td>\n",
       "      <td>...</td>\n",
       "    </tr>\n",
       "    <tr>\n",
       "      <td>54625</td>\n",
       "      <td>5.695900e+17</td>\n",
       "      <td>positive</td>\n",
       "      <td>681679784</td>\n",
       "      <td>@AmericanAir Flight 236 was great. Fantastic cabin crew. A+ landing. #thankyou #JFK http://t.co/dRW08djHAI</td>\n",
       "    </tr>\n",
       "    <tr>\n",
       "      <td>54626</td>\n",
       "      <td>5.695890e+17</td>\n",
       "      <td>negative</td>\n",
       "      <td>681679785</td>\n",
       "      <td>@AmericanAir Flight 953 NYC-Buenos Aires has been delay since yesterday at 10PM. Is going to take off at 3.30PM now? Give us answers!</td>\n",
       "    </tr>\n",
       "    <tr>\n",
       "      <td>54627</td>\n",
       "      <td>5.695890e+17</td>\n",
       "      <td>negative</td>\n",
       "      <td>681679786</td>\n",
       "      <td>@AmericanAir Flight Cancelled Flightled, can't go home until tomorrow. I could use dinner and a play, @AmericanAir! It's my first time in NYC.</td>\n",
       "    </tr>\n",
       "    <tr>\n",
       "      <td>54628</td>\n",
       "      <td>5.695890e+17</td>\n",
       "      <td>positive</td>\n",
       "      <td>681679787</td>\n",
       "      <td>Thank you. ÛÏ@AmericanAir: @jlhalldc Customer Relations will review your concerns and contact you back directly, John.Û</td>\n",
       "    </tr>\n",
       "    <tr>\n",
       "      <td>54629</td>\n",
       "      <td>5.695890e+17</td>\n",
       "      <td>negative</td>\n",
       "      <td>681679788</td>\n",
       "      <td>@AmericanAir How do I change my flight if the phone system keeps telling me that the representatives are busy?</td>\n",
       "    </tr>\n",
       "  </tbody>\n",
       "</table>\n",
       "<p>54630 rows × 4 columns</p>\n",
       "</div>"
      ],
      "text/plain": [
       "           tweet_id   sentiment       author  \\\n",
       "0      1.956967e+09       empty   xoshayzers   \n",
       "1      1.956968e+09     sadness    wannamama   \n",
       "2      1.956968e+09     sadness    coolfunky   \n",
       "3      1.956968e+09  enthusiasm  czareaquino   \n",
       "4      1.956968e+09     neutral    xkilljoyx   \n",
       "...             ...         ...          ...   \n",
       "54625  5.695900e+17    positive    681679784   \n",
       "54626  5.695890e+17    negative    681679785   \n",
       "54627  5.695890e+17    negative    681679786   \n",
       "54628  5.695890e+17    positive    681679787   \n",
       "54629  5.695890e+17    negative    681679788   \n",
       "\n",
       "                                                                                                                                              content  \n",
       "0                                                        @tiffanylue i know  i was listenin to bad habit earlier and i started freakin at his part =[  \n",
       "1                                                                                        Layin n bed with a headache  ughhhh...waitin on your call...  \n",
       "2                                                                                                                 Funeral ceremony...gloomy friday...  \n",
       "3                                                                                                                wants to hang out with friends SOON!  \n",
       "4                                                              @dannycastillo We want to trade with someone who has Houston tickets, but no one will.  \n",
       "...                                                                                                                                               ...  \n",
       "54625                                      @AmericanAir Flight 236 was great. Fantastic cabin crew. A+ landing. #thankyou #JFK http://t.co/dRW08djHAI  \n",
       "54626           @AmericanAir Flight 953 NYC-Buenos Aires has been delay since yesterday at 10PM. Is going to take off at 3.30PM now? Give us answers!  \n",
       "54627  @AmericanAir Flight Cancelled Flightled, can't go home until tomorrow. I could use dinner and a play, @AmericanAir! It's my first time in NYC.  \n",
       "54628                      Thank you. ÛÏ@AmericanAir: @jlhalldc Customer Relations will review your concerns and contact you back directly, John.Û  \n",
       "54629                                  @AmericanAir How do I change my flight if the phone system keeps telling me that the representatives are busy?  \n",
       "\n",
       "[54630 rows x 4 columns]"
      ]
     },
     "execution_count": 26,
     "metadata": {},
     "output_type": "execute_result"
    }
   ],
   "source": [
    "dfnewadded.head(-10)"
   ]
  },
  {
   "cell_type": "markdown",
   "metadata": {},
   "source": [
    "## first lets try model on the added data"
   ]
  },
  {
   "cell_type": "markdown",
   "metadata": {},
   "source": [
    "## Data Understanding and Preprocessing"
   ]
  },
  {
   "cell_type": "code",
   "execution_count": 10,
   "metadata": {},
   "outputs": [
    {
     "data": {
      "text/plain": [
       "tweet_id     0\n",
       "sentiment    0\n",
       "author       0\n",
       "content      0\n",
       "dtype: int64"
      ]
     },
     "execution_count": 10,
     "metadata": {},
     "output_type": "execute_result"
    }
   ],
   "source": [
    "dfadd.isnull().sum()"
   ]
  },
  {
   "cell_type": "code",
   "execution_count": null,
   "metadata": {},
   "outputs": [],
   "source": []
  },
  {
   "cell_type": "markdown",
   "metadata": {},
   "source": [
    "No missing values"
   ]
  },
  {
   "cell_type": "code",
   "execution_count": 11,
   "metadata": {},
   "outputs": [
    {
     "data": {
      "text/plain": [
       "213"
      ]
     },
     "execution_count": 11,
     "metadata": {},
     "output_type": "execute_result"
    }
   ],
   "source": [
    "dfadd.content.duplicated().sum()"
   ]
  },
  {
   "cell_type": "markdown",
   "metadata": {},
   "source": [
    "It looks like there are duplicated tweets (which could be retweets maybe) that needs to be taken into consideration"
   ]
  },
  {
   "cell_type": "code",
   "execution_count": 12,
   "metadata": {},
   "outputs": [
    {
     "data": {
      "text/plain": [
       "@united thanks                                                                                                                                 6\n",
       "@AmericanAir thanks                                                                                                                            5\n",
       "@SouthwestAir sent                                                                                                                             5\n",
       "@JetBlue thanks!                                                                                                                               5\n",
       "@AmericanAir thank you!                                                                                                                        4\n",
       "                                                                                                                                              ..\n",
       "@AmericanAir is the new 9:45 time confirmed or it may get Cancelled Flightled? Traveling with kids, need to be certain. Thx                    2\n",
       "@AmericanAir pretty lame response to a two paged single spaced letter http://t.co/aCebo6ELPa                                                   2\n",
       "@JetBlue thank you!!                                                                                                                           2\n",
       "@AmericanAir aa employees were rude and unwilling to help. 10,000 miles is a rotten cherry on top of a dog shit Sunday. #nocareforcustomers    2\n",
       "@AmericanAir you could train your flight attendants to have some manners and decency                                                           2\n",
       "Name: content, Length: 187, dtype: int64"
      ]
     },
     "execution_count": 12,
     "metadata": {},
     "output_type": "execute_result"
    }
   ],
   "source": [
    "dfadd.content.value_counts()[dfadd.content.value_counts()>1]"
   ]
  },
  {
   "cell_type": "code",
   "execution_count": 13,
   "metadata": {},
   "outputs": [],
   "source": [
    "dfadd=dfadd.drop_duplicates(subset='content')"
   ]
  },
  {
   "cell_type": "code",
   "execution_count": 14,
   "metadata": {},
   "outputs": [
    {
     "data": {
      "text/plain": [
       "0"
      ]
     },
     "execution_count": 14,
     "metadata": {},
     "output_type": "execute_result"
    }
   ],
   "source": [
    "dfadd.content.duplicated().sum()"
   ]
  },
  {
   "cell_type": "markdown",
   "metadata": {},
   "source": [
    "Now lets see the distribution of emotions in the data set"
   ]
  },
  {
   "cell_type": "code",
   "execution_count": 15,
   "metadata": {},
   "outputs": [
    {
     "data": {
      "image/png": "[encoded data removed]",
      "text/plain": [
       "<Figure size 720x432 with 1 Axes>"
      ]
     },
     "metadata": {
      "needs_background": "light"
     },
     "output_type": "display_data"
    }
   ],
   "source": [
    "plt.subplots(figsize=(10,6))\n",
    "\n",
    "dfadd.groupby('sentiment')['content'].count().sort_values(ascending=False).plot(kind='bar')\n",
    "plt.xticks(rotation=80)\n",
    "plt.show()"
   ]
  },
  {
   "cell_type": "markdown",
   "metadata": {},
   "source": [
    "It looks like there are some html characters within the text such as:‘&amp’,’&quot’,etc. For decoding html to general text, beautiful soup can be used"
   ]
  },
  {
   "cell_type": "code",
   "execution_count": 16,
   "metadata": {},
   "outputs": [],
   "source": [
    "def tweet_cleaner(tweet):\n",
    "    \n",
    "#     # To lowercase (not good for VADER)\n",
    "#     tweet = tweet.lower()\n",
    "    \n",
    "    # Remove HTML special entities (e.g. &amp;)\n",
    "    tweet = re.sub(r'\\&\\w*;', '', tweet)\n",
    "    \n",
    "    #Convert @username to \"@user\"\n",
    "    tweet = re.sub('@[^\\s]+','@user',tweet)\n",
    "    \n",
    "    # Remove whitespace (including new line characters)\n",
    "    tweet = re.sub(r'\\s\\s+', ' ', tweet)\n",
    "    \n",
    "    # Remove single space remaining at the front of the tweet.\n",
    "    tweet = tweet.lstrip(' ')\n",
    "    \n",
    "    # Remove characters beyond Basic Multilingual Plane (BMP) of Unicode:\n",
    "    tweet = ''.join(c for c in tweet if c <= '\\uFFFF')\n",
    "    \n",
    "    # Remove hyperlinks ->>>> For now just replace with http\n",
    "    tweet = re.sub(r'https?:\\/\\/.*\\/\\w*', 'http', tweet)\n",
    "    \n",
    "#     # Remove tickers such as USD ($)\n",
    "#     tweet = re.sub(r'\\$\\w*', '', tweet)\n",
    "    \n",
    "#     # Remove hashtags (not good for VADER)\n",
    "#     tweet = re.sub(r'#\\w*', '', tweet)\n",
    "    \n",
    "#     # Remove Punctuation and split 's, 't, 've with a space for filter\n",
    "#     tweet = re.sub(r'[' + punctuation.replace('@', '') + ']+', ' ', tweet)\n",
    "    \n",
    "#     # Remove words with 2 or fewer letters\n",
    "#     tweet = re.sub(r'\\b\\w{1,2}\\b', '', tweet)\n",
    "\n",
    "    return tweet\n",
    "\n",
    "\n",
    "\n",
    "# wordpunctok = WordPunctTokenizer()\n",
    "\n",
    "# pat1 = r'@[A-Za-z0-9_]+'\n",
    "# pat2 = r'https?://[^ ]+'\n",
    "\n",
    "# combined_pat = r'|'.join((pat1, pat2))\n",
    "# www_pat = r'www.[^ ]+'\n",
    "# negations_dic = {\"isn't\":\"is not\", \"aren't\":\"are not\", \"wasn't\":\"was not\", \"weren't\":\"were not\",\n",
    "#                 \"haven't\":\"have not\",\"hasn't\":\"has not\",\"hadn't\":\"had not\",\"won't\":\"will not\",\n",
    "#                 \"wouldn't\":\"would not\", \"don't\":\"do not\", \"doesn't\":\"does not\",\"didn't\":\"did not\",\n",
    "#                 \"can't\":\"can not\",\"couldn't\":\"could not\",\"shouldn't\":\"should not\",\"mightn't\":\"might not\",\n",
    "#                 \"mustn't\":\"must not\"}\n",
    "# neg_pattern = re.compile(r'\\b(' + '|'.join(negations_dic.keys()) + r')\\b')\n",
    "\n",
    "# def tweet_cleaner(text):\n",
    "#     soup = BeautifulSoup(text, 'lxml')\n",
    "#     souped = soup.get_text()\n",
    "#     try:\n",
    "#         quotRem = souped.decode(\"utf-8-sig\").replace(u\"\\ufffd\", \"?\")\n",
    "#     except:\n",
    "#         quotRem = souped\n",
    "#     stripped = re.sub(combined_pat, '', quotRem)\n",
    "#     stripped = re.sub(www_pat, '', stripped)\n",
    "#     lower_case = stripped.lower()\n",
    "#     neg_handled = neg_pattern.sub(lambda x: negations_dic[x.group()], lower_case)\n",
    "#     letters_only = re.sub(\"[^a-zA-Z]\", \" \", neg_handled)\n",
    "\n",
    "#     words = [x for x  in wordpunctok.tokenize(letters_only) if len(x) > 1]\n",
    "#     return (\" \".join(words)).strip()\n",
    "\n",
    " "
   ]
  },
  {
   "cell_type": "code",
   "execution_count": 17,
   "metadata": {},
   "outputs": [
    {
     "data": {
      "text/html": [
       "<div>\n",
       "<style scoped>\n",
       "    .dataframe tbody tr th:only-of-type {\n",
       "        vertical-align: middle;\n",
       "    }\n",
       "\n",
       "    .dataframe tbody tr th {\n",
       "        vertical-align: top;\n",
       "    }\n",
       "\n",
       "    .dataframe thead th {\n",
       "        text-align: right;\n",
       "    }\n",
       "</style>\n",
       "<table border=\"1\" class=\"dataframe\">\n",
       "  <thead>\n",
       "    <tr style=\"text-align: right;\">\n",
       "      <th></th>\n",
       "      <th>tweet_id</th>\n",
       "      <th>sentiment</th>\n",
       "      <th>author</th>\n",
       "      <th>content</th>\n",
       "      <th>Cleaned</th>\n",
       "    </tr>\n",
       "  </thead>\n",
       "  <tbody>\n",
       "    <tr>\n",
       "      <td>0</td>\n",
       "      <td>5.703060e+17</td>\n",
       "      <td>neutral</td>\n",
       "      <td>681448150</td>\n",
       "      <td>@VirginAmerica What @dhepburn said.</td>\n",
       "      <td>@user What @user said.</td>\n",
       "    </tr>\n",
       "    <tr>\n",
       "      <td>1</td>\n",
       "      <td>5.703010e+17</td>\n",
       "      <td>positive</td>\n",
       "      <td>681448153</td>\n",
       "      <td>@VirginAmerica plus you've added commercials to the experience... tacky.</td>\n",
       "      <td>@user plus you've added commercials to the experience... tacky.</td>\n",
       "    </tr>\n",
       "    <tr>\n",
       "      <td>2</td>\n",
       "      <td>5.703010e+17</td>\n",
       "      <td>neutral</td>\n",
       "      <td>681448156</td>\n",
       "      <td>@VirginAmerica I didn't today... Must mean I need to take another trip!</td>\n",
       "      <td>@user I didn't today... Must mean I need to take another trip!</td>\n",
       "    </tr>\n",
       "    <tr>\n",
       "      <td>3</td>\n",
       "      <td>5.703010e+17</td>\n",
       "      <td>negative</td>\n",
       "      <td>681448158</td>\n",
       "      <td>@VirginAmerica it's really aggressive to blast obnoxious \"entertainment\" in your guests' faces &amp;amp; they have little recourse</td>\n",
       "      <td>@user it's really aggressive to blast obnoxious \"entertainment\" in your guests' faces they have little recourse</td>\n",
       "    </tr>\n",
       "    <tr>\n",
       "      <td>4</td>\n",
       "      <td>5.703010e+17</td>\n",
       "      <td>negative</td>\n",
       "      <td>681448159</td>\n",
       "      <td>@VirginAmerica and it's a really big bad thing about it</td>\n",
       "      <td>@user and it's a really big bad thing about it</td>\n",
       "    </tr>\n",
       "    <tr>\n",
       "      <td>5</td>\n",
       "      <td>5.703010e+17</td>\n",
       "      <td>negative</td>\n",
       "      <td>681448162</td>\n",
       "      <td>@VirginAmerica seriously would pay $30 a flight for seats that didn't have this playing.\\nit's really the only bad thing about flying VA</td>\n",
       "      <td>@user seriously would pay $30 a flight for seats that didn't have this playing.\\nit's really the only bad thing about flying VA</td>\n",
       "    </tr>\n",
       "    <tr>\n",
       "      <td>6</td>\n",
       "      <td>5.703010e+17</td>\n",
       "      <td>positive</td>\n",
       "      <td>681448165</td>\n",
       "      <td>@VirginAmerica yes, nearly every time I fly VX this ÛÏear wormÛ wonÛªt go away :)</td>\n",
       "      <td>@user yes, nearly every time I fly VX this ÛÏear wormÛ wonÛªt go away :)</td>\n",
       "    </tr>\n",
       "    <tr>\n",
       "      <td>7</td>\n",
       "      <td>5.703000e+17</td>\n",
       "      <td>neutral</td>\n",
       "      <td>681448167</td>\n",
       "      <td>@VirginAmerica Really missed a prime opportunity for Men Without Hats parody, there. https://t.co/mWpG7grEZP</td>\n",
       "      <td>@user Really missed a prime opportunity for Men Without Hats parody, there. http</td>\n",
       "    </tr>\n",
       "    <tr>\n",
       "      <td>8</td>\n",
       "      <td>5.703000e+17</td>\n",
       "      <td>positive</td>\n",
       "      <td>681448169</td>\n",
       "      <td>@virginamerica Well, I didn'tÛ_but NOW I DO! :-D</td>\n",
       "      <td>@user Well, I didn'tÛ_but NOW I DO! :-D</td>\n",
       "    </tr>\n",
       "    <tr>\n",
       "      <td>9</td>\n",
       "      <td>5.702950e+17</td>\n",
       "      <td>positive</td>\n",
       "      <td>681448171</td>\n",
       "      <td>@VirginAmerica it was amazing, and arrived an hour early. You're too good to me.</td>\n",
       "      <td>@user it was amazing, and arrived an hour early. You're too good to me.</td>\n",
       "    </tr>\n",
       "  </tbody>\n",
       "</table>\n",
       "</div>"
      ],
      "text/plain": [
       "       tweet_id sentiment     author  \\\n",
       "0  5.703060e+17   neutral  681448150   \n",
       "1  5.703010e+17  positive  681448153   \n",
       "2  5.703010e+17   neutral  681448156   \n",
       "3  5.703010e+17  negative  681448158   \n",
       "4  5.703010e+17  negative  681448159   \n",
       "5  5.703010e+17  negative  681448162   \n",
       "6  5.703010e+17  positive  681448165   \n",
       "7  5.703000e+17   neutral  681448167   \n",
       "8  5.703000e+17  positive  681448169   \n",
       "9  5.702950e+17  positive  681448171   \n",
       "\n",
       "                                                                                                                                    content  \\\n",
       "0                                                                                                       @VirginAmerica What @dhepburn said.   \n",
       "1                                                                  @VirginAmerica plus you've added commercials to the experience... tacky.   \n",
       "2                                                                   @VirginAmerica I didn't today... Must mean I need to take another trip!   \n",
       "3            @VirginAmerica it's really aggressive to blast obnoxious \"entertainment\" in your guests' faces &amp; they have little recourse   \n",
       "4                                                                                   @VirginAmerica and it's a really big bad thing about it   \n",
       "5  @VirginAmerica seriously would pay $30 a flight for seats that didn't have this playing.\\nit's really the only bad thing about flying VA   \n",
       "6                                                     @VirginAmerica yes, nearly every time I fly VX this ÛÏear wormÛ wonÛªt go away :)   \n",
       "7                              @VirginAmerica Really missed a prime opportunity for Men Without Hats parody, there. https://t.co/mWpG7grEZP   \n",
       "8                                                                                         @virginamerica Well, I didn'tÛ_but NOW I DO! :-D   \n",
       "9                                                          @VirginAmerica it was amazing, and arrived an hour early. You're too good to me.   \n",
       "\n",
       "                                                                                                                           Cleaned  \n",
       "0                                                                                                           @user What @user said.  \n",
       "1                                                                  @user plus you've added commercials to the experience... tacky.  \n",
       "2                                                                   @user I didn't today... Must mean I need to take another trip!  \n",
       "3                  @user it's really aggressive to blast obnoxious \"entertainment\" in your guests' faces they have little recourse  \n",
       "4                                                                                   @user and it's a really big bad thing about it  \n",
       "5  @user seriously would pay $30 a flight for seats that didn't have this playing.\\nit's really the only bad thing about flying VA  \n",
       "6                                                     @user yes, nearly every time I fly VX this ÛÏear wormÛ wonÛªt go away :)  \n",
       "7                                                 @user Really missed a prime opportunity for Men Without Hats parody, there. http  \n",
       "8                                                                                         @user Well, I didn'tÛ_but NOW I DO! :-D  \n",
       "9                                                          @user it was amazing, and arrived an hour early. You're too good to me.  "
      ]
     },
     "execution_count": 17,
     "metadata": {},
     "output_type": "execute_result"
    }
   ],
   "source": [
    "\n",
    "dfadd['Cleaned'] = dfadd.content.apply(tweet_cleaner)\n",
    "dfadd.head(10)"
   ]
  },
  {
   "cell_type": "markdown",
   "metadata": {},
   "source": [
    "### Removing the stopwords"
   ]
  },
  {
   "cell_type": "code",
   "execution_count": 18,
   "metadata": {},
   "outputs": [
    {
     "data": {
      "text/html": [
       "<div>\n",
       "<style scoped>\n",
       "    .dataframe tbody tr th:only-of-type {\n",
       "        vertical-align: middle;\n",
       "    }\n",
       "\n",
       "    .dataframe tbody tr th {\n",
       "        vertical-align: top;\n",
       "    }\n",
       "\n",
       "    .dataframe thead th {\n",
       "        text-align: right;\n",
       "    }\n",
       "</style>\n",
       "<table border=\"1\" class=\"dataframe\">\n",
       "  <thead>\n",
       "    <tr style=\"text-align: right;\">\n",
       "      <th></th>\n",
       "      <th>tweet_id</th>\n",
       "      <th>sentiment</th>\n",
       "      <th>author</th>\n",
       "      <th>content</th>\n",
       "      <th>Cleaned</th>\n",
       "    </tr>\n",
       "  </thead>\n",
       "  <tbody>\n",
       "    <tr>\n",
       "      <td>0</td>\n",
       "      <td>5.703060e+17</td>\n",
       "      <td>neutral</td>\n",
       "      <td>681448150</td>\n",
       "      <td>@VirginAmerica What @dhepburn said.</td>\n",
       "      <td>@user What @user said.</td>\n",
       "    </tr>\n",
       "    <tr>\n",
       "      <td>1</td>\n",
       "      <td>5.703010e+17</td>\n",
       "      <td>positive</td>\n",
       "      <td>681448153</td>\n",
       "      <td>@VirginAmerica plus you've added commercials to the experience... tacky.</td>\n",
       "      <td>@user plus added commercials experience... tacky.</td>\n",
       "    </tr>\n",
       "    <tr>\n",
       "      <td>2</td>\n",
       "      <td>5.703010e+17</td>\n",
       "      <td>neutral</td>\n",
       "      <td>681448156</td>\n",
       "      <td>@VirginAmerica I didn't today... Must mean I need to take another trip!</td>\n",
       "      <td>@user I today... Must mean I need take another trip!</td>\n",
       "    </tr>\n",
       "    <tr>\n",
       "      <td>3</td>\n",
       "      <td>5.703010e+17</td>\n",
       "      <td>negative</td>\n",
       "      <td>681448158</td>\n",
       "      <td>@VirginAmerica it's really aggressive to blast obnoxious \"entertainment\" in your guests' faces &amp;amp; they have little recourse</td>\n",
       "      <td>@user really aggressive blast obnoxious \"entertainment\" guests' faces little recourse</td>\n",
       "    </tr>\n",
       "    <tr>\n",
       "      <td>4</td>\n",
       "      <td>5.703010e+17</td>\n",
       "      <td>negative</td>\n",
       "      <td>681448159</td>\n",
       "      <td>@VirginAmerica and it's a really big bad thing about it</td>\n",
       "      <td>@user really big bad thing</td>\n",
       "    </tr>\n",
       "    <tr>\n",
       "      <td>5</td>\n",
       "      <td>5.703010e+17</td>\n",
       "      <td>negative</td>\n",
       "      <td>681448162</td>\n",
       "      <td>@VirginAmerica seriously would pay $30 a flight for seats that didn't have this playing.\\nit's really the only bad thing about flying VA</td>\n",
       "      <td>@user seriously would pay $30 flight seats playing. really bad thing flying VA</td>\n",
       "    </tr>\n",
       "    <tr>\n",
       "      <td>6</td>\n",
       "      <td>5.703010e+17</td>\n",
       "      <td>positive</td>\n",
       "      <td>681448165</td>\n",
       "      <td>@VirginAmerica yes, nearly every time I fly VX this ÛÏear wormÛ wonÛªt go away :)</td>\n",
       "      <td>@user yes, nearly every time I fly VX ÛÏear wormÛ wonÛªt go away :)</td>\n",
       "    </tr>\n",
       "    <tr>\n",
       "      <td>7</td>\n",
       "      <td>5.703000e+17</td>\n",
       "      <td>neutral</td>\n",
       "      <td>681448167</td>\n",
       "      <td>@VirginAmerica Really missed a prime opportunity for Men Without Hats parody, there. https://t.co/mWpG7grEZP</td>\n",
       "      <td>@user Really missed prime opportunity Men Without Hats parody, there. http</td>\n",
       "    </tr>\n",
       "    <tr>\n",
       "      <td>8</td>\n",
       "      <td>5.703000e+17</td>\n",
       "      <td>positive</td>\n",
       "      <td>681448169</td>\n",
       "      <td>@virginamerica Well, I didn'tÛ_but NOW I DO! :-D</td>\n",
       "      <td>@user Well, I didn'tÛ_but NOW I DO! :-D</td>\n",
       "    </tr>\n",
       "    <tr>\n",
       "      <td>9</td>\n",
       "      <td>5.702950e+17</td>\n",
       "      <td>positive</td>\n",
       "      <td>681448171</td>\n",
       "      <td>@VirginAmerica it was amazing, and arrived an hour early. You're too good to me.</td>\n",
       "      <td>@user amazing, arrived hour early. You're good me.</td>\n",
       "    </tr>\n",
       "  </tbody>\n",
       "</table>\n",
       "</div>"
      ],
      "text/plain": [
       "       tweet_id sentiment     author  \\\n",
       "0  5.703060e+17   neutral  681448150   \n",
       "1  5.703010e+17  positive  681448153   \n",
       "2  5.703010e+17   neutral  681448156   \n",
       "3  5.703010e+17  negative  681448158   \n",
       "4  5.703010e+17  negative  681448159   \n",
       "5  5.703010e+17  negative  681448162   \n",
       "6  5.703010e+17  positive  681448165   \n",
       "7  5.703000e+17   neutral  681448167   \n",
       "8  5.703000e+17  positive  681448169   \n",
       "9  5.702950e+17  positive  681448171   \n",
       "\n",
       "                                                                                                                                    content  \\\n",
       "0                                                                                                       @VirginAmerica What @dhepburn said.   \n",
       "1                                                                  @VirginAmerica plus you've added commercials to the experience... tacky.   \n",
       "2                                                                   @VirginAmerica I didn't today... Must mean I need to take another trip!   \n",
       "3            @VirginAmerica it's really aggressive to blast obnoxious \"entertainment\" in your guests' faces &amp; they have little recourse   \n",
       "4                                                                                   @VirginAmerica and it's a really big bad thing about it   \n",
       "5  @VirginAmerica seriously would pay $30 a flight for seats that didn't have this playing.\\nit's really the only bad thing about flying VA   \n",
       "6                                                     @VirginAmerica yes, nearly every time I fly VX this ÛÏear wormÛ wonÛªt go away :)   \n",
       "7                              @VirginAmerica Really missed a prime opportunity for Men Without Hats parody, there. https://t.co/mWpG7grEZP   \n",
       "8                                                                                         @virginamerica Well, I didn'tÛ_but NOW I DO! :-D   \n",
       "9                                                          @VirginAmerica it was amazing, and arrived an hour early. You're too good to me.   \n",
       "\n",
       "                                                                                 Cleaned  \n",
       "0                                                                 @user What @user said.  \n",
       "1                                      @user plus added commercials experience... tacky.  \n",
       "2                                   @user I today... Must mean I need take another trip!  \n",
       "3  @user really aggressive blast obnoxious \"entertainment\" guests' faces little recourse  \n",
       "4                                                             @user really big bad thing  \n",
       "5         @user seriously would pay $30 flight seats playing. really bad thing flying VA  \n",
       "6                @user yes, nearly every time I fly VX ÛÏear wormÛ wonÛªt go away :)  \n",
       "7             @user Really missed prime opportunity Men Without Hats parody, there. http  \n",
       "8                                               @user Well, I didn'tÛ_but NOW I DO! :-D  \n",
       "9                                     @user amazing, arrived hour early. You're good me.  "
      ]
     },
     "execution_count": 18,
     "metadata": {},
     "output_type": "execute_result"
    }
   ],
   "source": [
    "stop = stopwords.words('english')\n",
    "dfadd['Cleaned'] = dfadd['Cleaned'].apply(lambda x: ' '.join([item for item in x.split() if item not in stop]))\n",
    "dfadd.head(10)"
   ]
  },
  {
   "cell_type": "markdown",
   "metadata": {},
   "source": [
    "### Let's apply a common words filter for removing most common words "
   ]
  },
  {
   "cell_type": "code",
   "execution_count": 19,
   "metadata": {},
   "outputs": [],
   "source": [
    "import pickle\n",
    "\n",
    "MIN_NUMBER_OF_SR = 1000\n",
    "MIN_COM_WORDS = 0.05\n",
    "MIN_UNCOM_WORDS = 0.05\n",
    "UNCOM_WORDS = 0.05\n",
    "dataframe = dfadd\n",
    "pivot_feature = 'sentiment'\n",
    "text_feature = 'Cleaned'\n",
    "\n",
    "def common_word_filter (dataframe, pivot_feature, text_feature):\n",
    "    \n",
    "    NUM_OF_SUB_TECH = len(dataframe[pivot_feature].value_counts()[dataframe[pivot_feature].value_counts() > MIN_NUMBER_OF_SR].index.tolist())\n",
    "    \n",
    "    list_common = []\n",
    "    \n",
    "    list_uncommon =[]\n",
    "    \n",
    "    list_least_common = []\n",
    "    \n",
    "    for sub_tech in dataframe[pivot_feature].value_counts()[dataframe[pivot_feature].value_counts() > MIN_NUMBER_OF_SR].index.tolist():\n",
    "        \n",
    "        cleaned_text = [str(txt) for text in dataframe[dataframe[pivot_feature] == sub_tech][text_feature] for txt in text.split(' ') if len(txt) > 2 and txt not in ' ']\n",
    "        \n",
    "        word_dist = nltk.FreqDist(cleaned_text)\n",
    "        \n",
    "        list_common.append([x[0] for x in word_dist.most_common(int(len(word_dist)*MIN_COM_WORDS))])\n",
    "        \n",
    "        list_uncommon.append([x[0] for x in word_dist.most_common(len(word_dist))[-int(len(word_dist)*MIN_UNCOM_WORDS):]])\n",
    "        \n",
    "        list_least_common.append([x[0] for x in word_dist.most_common(len(word_dist))[-int(len(word_dist)*UNCOM_WORDS):]])\n",
    "    \n",
    "    list_common_fl = [x for y in list_common for x in y]\n",
    "    \n",
    "    list_uncommon_fl = [x for y in list_uncommon for x in y]\n",
    "    \n",
    "    word_dist_com = nltk.FreqDist(list_common_fl)\n",
    "    \n",
    "    word_dist_ucom = nltk.FreqDist(list_uncommon_fl)\n",
    "    \n",
    "    list_final_com = [x[0] for x in word_dist_com.most_common(len(list_common_fl)) if x[1] > NUM_OF_SUB_TECH*0.75]\n",
    "    \n",
    "    list_final_ucom = [x[0] for x in word_dist_ucom.most_common(len(list_uncommon_fl)) if x[1] < NUM_OF_SUB_TECH*0.25]\n",
    "    \n",
    "    final_list = list(set(list_final_com + list_final_ucom + [y for x in list_least_common for y in x]))\n",
    "    \n",
    "    with open('common_word_list_for_filtering.pickle', 'wb') as handle:\n",
    "    \n",
    "        pickle.dump(final_list, handle, protocol=pickle.HIGHEST_PROTOCOL)\n",
    "    \n",
    "    return final_list\n",
    "\n"
   ]
  },
  {
   "cell_type": "code",
   "execution_count": 20,
   "metadata": {},
   "outputs": [],
   "source": [
    "final_list = common_word_filter(dfadd, 'sentiment','Cleaned')"
   ]
  },
  {
   "cell_type": "code",
   "execution_count": 21,
   "metadata": {},
   "outputs": [
    {
     "data": {
      "text/plain": [
       "1923"
      ]
     },
     "execution_count": 21,
     "metadata": {},
     "output_type": "execute_result"
    }
   ],
   "source": [
    "len(final_list)"
   ]
  },
  {
   "cell_type": "code",
   "execution_count": 22,
   "metadata": {},
   "outputs": [
    {
     "data": {
      "text/plain": [
       "14427"
      ]
     },
     "execution_count": 22,
     "metadata": {},
     "output_type": "execute_result"
    }
   ],
   "source": [
    "len(dfadd.content)"
   ]
  },
  {
   "cell_type": "code",
   "execution_count": 59,
   "metadata": {},
   "outputs": [
    {
     "data": {
      "text/html": [
       "<div>\n",
       "<style scoped>\n",
       "    .dataframe tbody tr th:only-of-type {\n",
       "        vertical-align: middle;\n",
       "    }\n",
       "\n",
       "    .dataframe tbody tr th {\n",
       "        vertical-align: top;\n",
       "    }\n",
       "\n",
       "    .dataframe thead th {\n",
       "        text-align: right;\n",
       "    }\n",
       "</style>\n",
       "<table border=\"1\" class=\"dataframe\">\n",
       "  <thead>\n",
       "    <tr style=\"text-align: right;\">\n",
       "      <th></th>\n",
       "      <th>tweet_id</th>\n",
       "      <th>sentiment</th>\n",
       "      <th>author</th>\n",
       "      <th>content</th>\n",
       "      <th>Cleaned</th>\n",
       "    </tr>\n",
       "  </thead>\n",
       "  <tbody>\n",
       "    <tr>\n",
       "      <td>0</td>\n",
       "      <td>5.703060e+17</td>\n",
       "      <td>neutral</td>\n",
       "      <td>681448150</td>\n",
       "      <td>@VirginAmerica What @dhepburn said.</td>\n",
       "      <td>said.</td>\n",
       "    </tr>\n",
       "    <tr>\n",
       "      <td>1</td>\n",
       "      <td>5.703010e+17</td>\n",
       "      <td>positive</td>\n",
       "      <td>681448153</td>\n",
       "      <td>@VirginAmerica plus you've added commercials to the experience... tacky.</td>\n",
       "      <td>plus added commercials experience... tacky.</td>\n",
       "    </tr>\n",
       "    <tr>\n",
       "      <td>2</td>\n",
       "      <td>5.703010e+17</td>\n",
       "      <td>neutral</td>\n",
       "      <td>681448156</td>\n",
       "      <td>@VirginAmerica I didn't today... Must mean I need to take another trip!</td>\n",
       "      <td>I today... Must mean I trip!</td>\n",
       "    </tr>\n",
       "    <tr>\n",
       "      <td>3</td>\n",
       "      <td>5.703010e+17</td>\n",
       "      <td>negative</td>\n",
       "      <td>681448158</td>\n",
       "      <td>@VirginAmerica it's really aggressive to blast obnoxious \"entertainment\" in your guests' faces &amp;amp; they have little recourse</td>\n",
       "      <td>aggressive blast obnoxious \"entertainment\" guests' faces recourse</td>\n",
       "    </tr>\n",
       "    <tr>\n",
       "      <td>4</td>\n",
       "      <td>5.703010e+17</td>\n",
       "      <td>negative</td>\n",
       "      <td>681448159</td>\n",
       "      <td>@VirginAmerica and it's a really big bad thing about it</td>\n",
       "      <td>big bad thing</td>\n",
       "    </tr>\n",
       "  </tbody>\n",
       "</table>\n",
       "</div>"
      ],
      "text/plain": [
       "       tweet_id sentiment     author  \\\n",
       "0  5.703060e+17   neutral  681448150   \n",
       "1  5.703010e+17  positive  681448153   \n",
       "2  5.703010e+17   neutral  681448156   \n",
       "3  5.703010e+17  negative  681448158   \n",
       "4  5.703010e+17  negative  681448159   \n",
       "\n",
       "                                                                                                                          content  \\\n",
       "0                                                                                             @VirginAmerica What @dhepburn said.   \n",
       "1                                                        @VirginAmerica plus you've added commercials to the experience... tacky.   \n",
       "2                                                         @VirginAmerica I didn't today... Must mean I need to take another trip!   \n",
       "3  @VirginAmerica it's really aggressive to blast obnoxious \"entertainment\" in your guests' faces &amp; they have little recourse   \n",
       "4                                                                         @VirginAmerica and it's a really big bad thing about it   \n",
       "\n",
       "                                                             Cleaned  \n",
       "0                                                              said.  \n",
       "1                        plus added commercials experience... tacky.  \n",
       "2                                       I today... Must mean I trip!  \n",
       "3  aggressive blast obnoxious \"entertainment\" guests' faces recourse  \n",
       "4                                                      big bad thing  "
      ]
     },
     "execution_count": 59,
     "metadata": {},
     "output_type": "execute_result"
    }
   ],
   "source": [
    "dfadd['Cleaned'] = dfadd['Cleaned'].apply(lambda x: ' '.join([word for word in x.split() if word not in (final_list)]))\n",
    "dfadd.head()"
   ]
  },
  {
   "cell_type": "code",
   "execution_count": 24,
   "metadata": {},
   "outputs": [],
   "source": [
    "dfadd.to_csv('additionalclean.csv',index=True)"
   ]
  },
  {
   "cell_type": "markdown",
   "metadata": {},
   "source": [
    "### We can apply our first models to cleaned content"
   ]
  },
  {
   "cell_type": "code",
   "execution_count": 60,
   "metadata": {},
   "outputs": [],
   "source": [
    "X_train2, X_test2, y_train2, y_test2 = train_test_split(dfadd['Cleaned'],\n",
    "                                                    dfadd['sentiment'],\n",
    "                                                    test_size=.25, random_state=53)"
   ]
  },
  {
   "cell_type": "markdown",
   "metadata": {},
   "source": [
    "### Count vectorizing"
   ]
  },
  {
   "cell_type": "code",
   "execution_count": 61,
   "metadata": {},
   "outputs": [],
   "source": [
    "count_vect2 = CountVectorizer(ngram_range=(1,1), min_df=0.001, max_df=0.999)\n",
    "count_vect_train2 = count_vect2.fit_transform(X_train2)\n",
    "count_vect_train2 = count_vect_train2.toarray()\n",
    "count_vect_test2 = count_vect2.transform(X_test2)\n",
    "count_vect_test2 = count_vect_test2.toarray()"
   ]
  },
  {
   "cell_type": "markdown",
   "metadata": {},
   "source": [
    "### Logistic Regression"
   ]
  },
  {
   "cell_type": "code",
   "execution_count": 62,
   "metadata": {},
   "outputs": [
    {
     "name": "stdout",
     "output_type": "stream",
     "text": [
      "Accuracy : 0.678957582478514\n"
     ]
    }
   ],
   "source": [
    "logreg_CV2 = LogisticRegression(multi_class='multinomial', solver='newton-cg',class_weight='balanced',\n",
    "                              C=1.0,n_jobs=-1, random_state=5)\n",
    "logreg_CV2.fit(count_vect_train2, y_train2)\n",
    "y_pred_lr_CV2 = logreg_CV2.predict(count_vect_test2)\n",
    "print('Accuracy :', metrics.accuracy_score(y_test2, y_pred_lr_CV2))"
   ]
  },
  {
   "cell_type": "markdown",
   "metadata": {},
   "source": [
    "##  Linear SVC"
   ]
  },
  {
   "cell_type": "code",
   "execution_count": 63,
   "metadata": {
    "scrolled": true
   },
   "outputs": [
    {
     "name": "stderr",
     "output_type": "stream",
     "text": [
      "/anaconda3/lib/python3.7/site-packages/sklearn/svm/base.py:929: ConvergenceWarning: Liblinear failed to converge, increase the number of iterations.\n",
      "  \"the number of iterations.\", ConvergenceWarning)\n"
     ]
    },
    {
     "data": {
      "text/plain": [
       "0.7291377876351539"
      ]
     },
     "execution_count": 63,
     "metadata": {},
     "output_type": "execute_result"
    }
   ],
   "source": [
    "\n",
    "Lsvc = LinearSVC()\n",
    "\n",
    "Lsvc.fit(count_vect_train2, y_train2)\n",
    "\n",
    "pred= Lsvc.predict(count_vect_test2)\n",
    "\n",
    "metrics.accuracy_score(y_test2, pred)"
   ]
  },
  {
   "cell_type": "markdown",
   "metadata": {},
   "source": [
    "## Naive Bayes"
   ]
  },
  {
   "cell_type": "code",
   "execution_count": 64,
   "metadata": {},
   "outputs": [
    {
     "data": {
      "text/plain": [
       "0.7238702522872194"
      ]
     },
     "execution_count": 64,
     "metadata": {},
     "output_type": "execute_result"
    }
   ],
   "source": [
    "\n",
    "from sklearn.naive_bayes import MultinomialNB\n",
    "\n",
    "nb_classifier = MultinomialNB()\n",
    "\n",
    "nb_classifier.fit(count_vect_train2, y_train2)\n",
    "\n",
    "pred = nb_classifier.predict(count_vect_test2)\n",
    "\n",
    "metrics.accuracy_score(y_test2, pred)"
   ]
  },
  {
   "cell_type": "markdown",
   "metadata": {},
   "source": [
    "## Random Forest"
   ]
  },
  {
   "cell_type": "code",
   "execution_count": 65,
   "metadata": {},
   "outputs": [
    {
     "name": "stdout",
     "output_type": "stream",
     "text": [
      "Accuracy : 0.7011366786803438\n"
     ]
    }
   ],
   "source": [
    "from sklearn.ensemble import RandomForestClassifier\n",
    "rf_CV = RandomForestClassifier(n_estimators = 200, random_state=5)\n",
    "rf_CV.fit(count_vect_train2, y_train2)\n",
    "y_pred_rf_CV = rf_CV.predict(count_vect_test2)\n",
    "print('Accuracy :', metrics.accuracy_score(y_test2, y_pred_rf_CV))"
   ]
  },
  {
   "cell_type": "markdown",
   "metadata": {},
   "source": [
    "## Tf-idf Vectorization¶"
   ]
  },
  {
   "cell_type": "code",
   "execution_count": 66,
   "metadata": {},
   "outputs": [
    {
     "name": "stdout",
     "output_type": "stream",
     "text": [
      "Longest word: invalid_loyalty_member_account_status\n"
     ]
    }
   ],
   "source": [
    "tfidf_vect = TfidfVectorizer(min_df=1, max_df=1.0, use_idf=True)\n",
    "tfidf_vect_train = tfidf_vect.fit_transform(X_train2)\n",
    "tfidf_vect_train = tfidf_vect_train.toarray()\n",
    "tfidf_vect_test = tfidf_vect.transform(X_test2)\n",
    "vocab = tfidf_vect.get_feature_names()\n",
    "pd.DataFrame(np.round(tfidf_vect_train, 2), columns=vocab).head(10)\n",
    "\n",
    "print('Longest word:', max(tfidf_vect.vocabulary_, key=len))"
   ]
  },
  {
   "cell_type": "markdown",
   "metadata": {},
   "source": [
    "## Logreg after Tf-idf"
   ]
  },
  {
   "cell_type": "code",
   "execution_count": 68,
   "metadata": {},
   "outputs": [
    {
     "name": "stderr",
     "output_type": "stream",
     "text": [
      "/anaconda3/lib/python3.7/site-packages/sklearn/linear_model/logistic.py:432: FutureWarning: Default solver will be changed to 'lbfgs' in 0.22. Specify a solver to silence this warning.\n",
      "  FutureWarning)\n",
      "/anaconda3/lib/python3.7/site-packages/sklearn/linear_model/logistic.py:469: FutureWarning: Default multi_class will be changed to 'auto' in 0.22. Specify the multi_class option to silence this warning.\n",
      "  \"this warning.\", FutureWarning)\n"
     ]
    },
    {
     "name": "stdout",
     "output_type": "stream",
     "text": [
      "Accuracy : 0.7529803160521209\n",
      "              precision    recall  f1-score   support\n",
      "\n",
      "    negative       0.82      0.88      0.85      2267\n",
      "     neutral       0.57      0.54      0.56       750\n",
      "    positive       0.67      0.55      0.60       590\n",
      "\n",
      "    accuracy                           0.75      3607\n",
      "   macro avg       0.69      0.66      0.67      3607\n",
      "weighted avg       0.75      0.75      0.75      3607\n",
      "\n"
     ]
    }
   ],
   "source": [
    "logreg_TV = LogisticRegression(class_weight='balanced', random_state=5)\n",
    "logreg_TV.fit(tfidf_vect_train, y_train2)\n",
    "y_pred_lr_TV = logreg_TV.predict(tfidf_vect_test)\n",
    "print('Accuracy :', metrics.accuracy_score(y_test2, y_pred_lr_TV))\n",
    "print (classification_report(y_test2, y_pred_lr_TV))"
   ]
  },
  {
   "cell_type": "markdown",
   "metadata": {},
   "source": [
    "## Applying Deep Learning"
   ]
  },
  {
   "cell_type": "code",
   "execution_count": 71,
   "metadata": {},
   "outputs": [
    {
     "name": "stdout",
     "output_type": "stream",
     "text": [
      "{'i': 1, '2': 2, 'hours': 3, 'us': 4, 'hold': 5, 'flightled': 6, 'no': 7, 'flight': 8, '3': 9, 'help': 10, '4': 11, 'u': 12, '1': 13, 'it': 14, 'go': 15, 'delay': 16, 'you': 17, 'service': 18, '5': 19, 'minutes': 20, 'now': 21, 'told': 22, 'luggage': 23, 'can': 24, 'on': 25, 'w': 26, 'time': 27, 'dm': 28, 'my': 29, 'is': 30, 'ever': 31, 'worst': 32, 'we': 33, 'due': 34, 'someone': 35, 'thanks': 36, 'lost': 37, 'hrs': 38, 'how': 39, 'flighted': 40, 'days': 41, 'again': 42, 'seats': 43, 'response': 44, 'experience': 45, 'me': 46, 'why': 47, 'your': 48, 'email': 49, 'online': 50, 'aa': 51, 'and': 52, 'staff': 53, 'jfk': 54, '10': 55, 'bad': 56, 'passengers': 57, 'min': 58, 'customers': 59, 'in': 60, 'sitting': 61, 'line': 62, 'so': 63, 'said': 64, '30': 65, 'stuck': 66, 'reservation': 67, 'flights': 68, 'flightr': 69, 'plane': 70, 'miles': 71, 'delayed': 72, 'do': 73, '6': 74, 'yes': 75, 'yet': 76, 'nothing': 77, 'airlines': 78, 'delays': 79, 'says': 80, 'a': 81, 'hotel': 82, 'connection': 83, 'lax': 84, 'tried': 85, 'not': 86, 'info': 87, 'tell': 88, 'system': 89, 'agents': 90, 'website': 91, \"what's\": 92, 'air': 93, 'gate': 94, 'put': 95, 'up': 96, 'that': 97, 'called': 98, 'keep': 99, 'rude': 100, 'pay': 101, 'also': 102, 'rebooked': 103, 'airport': 104, 'missed': 105, 'ago': 106, 'great': 107, 'airline': 108, 'all': 109, 'this': 110, 'out': 111, 'issues': 112, 'tomorrow': 113, 'finally': 114, 'mins': 115, 'today': 116, 'awesome': 117, 'anything': 118, 'if': 119, 'refund': 120, 'any': 121, 'checked': 122, 'rebook': 123, 'weather': 124, 'working': 125, 'week': 126, 'credit': 127, 'business': 128, 'day': 129, 'to': 130, '20': 131, 'come': 132, 'please': 133, 'anyone': 134, '8': 135, 'ord': 136, 'phone': 137, 'missing': 138, 'board': 139, '7': 140, 'available': 141, 'status': 142, 'united': 143, 'back': 144, 'problem': 145, 'still': 146, 'app': 147, 'ùª\\x8f': 148, 'team': 149, 'too': 150, 'always': 151, 'http\\x89û\\x9d': 152, 'there': 153, 'leave': 154, 'making': 155, 'thx': 156, 'terrible': 157, '15': 158, 'without': 159, 'helpful': 160, 'ok': 161, 'update': 162, 'are': 163, 'ù÷': 164, 'sorry': 165, 'disappointed': 166, 'here': 167, 'yesterday': 168, 'answer': 169, 'clt': 170, 'bag': 171, 'understand': 172, 'instead': 173, 'person': 174, 'amazing': 175, 'stop': 176, 'ewr': 177, 'one': 178, 'open': 179, 'fail': 180, 'name': 181, 'rep': 182, 'home': 183, 'send': 184, 'hi': 185, 'extra': 186, \"we're\": 187, 'claim': 188, 'really': 189, 'paid': 190, 'fix': 191, 'planes': 192, 'almost': 193, 'hour': 194, 'tonight': 195, 'contact': 196, 'pass': 197, 'bos': 198, 'though': 199, 'speak': 200, 'departure': 201, 'pilot': 202, 'did': 203, 'rt': 204, 'southwest': 205, 'customer': 206, 'need': 207, 'different': 208, 'happy': 209, 'boston': 210, 'took': 211, 'site': 212, 'supposed': 213, 'hung': 214, 'unacceptable': 215, 'try': 216, 'ridiculous': 217, 'talk': 218, 'connecting': 219, 'received': 220, 'full': 221, 'oh': 222, 'least': 223, 'call': 224, 'job': 225, 'poor': 226, 'ground': 227, 'am': 228, 'horrible': 229, 'something': 230, 'jetblue': 231, '45': 232, 'show': 233, 'tarmac': 234, 'employees': 235, 'card': 236, 'destinationdragons': 237, 'add': 238, 'stranded': 239, 'old': 240, 'them': 241, 'company': 242, 'seat': 243, 'found': 244, 'everyone': 245, 'chicago': 246, 'when': 247, 'guys': 248, 'airways': 249, 'well': 250, '24': 251, 'way': 252, '9': 253, 'twitter': 254, 'seriously': 255, 'ur': 256, 'leaving': 257, 'needs': 258, 'landed': 259, 'calling': 260, 'taking': 261, 'chance': 262, 'never': 263, 'maybe': 264, '40': 265, '11': 266, 'policy': 267, 'love': 268, \"i'd\": 269, 'far': 270, 'weeks': 271, 'for': 272, 'been': 273, 'nyc': 274, 'gave': 275, 'food': 276, 'account': 277, 'was': 278, '50': 279, 'might': 280, 'wrong': 281, 'half': 282, 'fee': 283, 'wife': 284, 'reply': 285, 'much': 286, 'vacation': 287, 'reason': 288, 'work': 289, 'ticket': 290, 'enough': 291, 'message': 292, 'big': 293, 'thing': 294, 'sit': 295, 'return': 296, 'option': 297, 'she': 298, 'went': 299, 'coming': 300, 'right': 301, 'off': 302, 'three': 303, 'frustrated': 304, 'desk': 305, 'confirmation': 306, 'broken': 307, 'past': 308, 'point': 309, 'bc': 310, 'reservations': 311, 'mechanical': 312, 'charge': 313, 'hr': 314, 'may': 315, 'using': 316, 'link': 317, 'offer': 318, 'car': 319, 'twice': 320, 'soon': 321, 'together': 322, 'iad': 323, 'kids': 324, '25': 325, 'question': 326, 'newark': 327, 'less': 328, 'charlotte': 329, 'asked': 330, 'around': 331, 'crew': 332, 'pls': 333, 'very': 334, 'destination': 335, \"there's\": 336, 'changed': 337, \"don't\": 338, 'b': 339, 'possible': 340, 'makes': 341, 'saying': 342, 'hey': 343, 'agent': 344, 'trip': 345, '800': 346, 'ù÷â': 347, 'guess': 348, 'houston': 349, 'used': 350, 'runway': 351, 'phx': 352, 'night': 353, 'number': 354, 'c': 355, 'worse': 356, 'the': 357, 'real': 358, 'fll': 359, 'cool': 360, 'best': 361, 'first': 362, 'longer': 363, 'ua': 364, 'awful': 365, 'traveling': 366, 'sfo': 367, 'things': 368, 'given': 369, \"we've\": 370, 'waited': 371, 'check': 372, 'lot': 373, 'cost': 374, 'telling': 375, 'waiting': 376, 'plus': 377, 'at': 378, 'hard': 379, 'points': 380, 'seems': 381, 'row': 382, 'idea': 383, '200': 384, 'arrived': 385, 'lga': 386, 'user': 387, 'had': 388, 'stay': 389, 'lack': 390, 'heard': 391, 'feel': 392, 'down': 393, 'member': 394, 'im': 395, 'minute': 396, 'sucks': 397, 'cust': 398, 'would': 399, 'lol': 400, 'international': 401, 'attendants': 402, 'friend': 403, 'mean': 404, 'happened': 405, 'after': 406, 'sat': 407, 'life': 408, 'philly': 409, 'else': 410, 'thru': 411, 'information': 412, 'frustrating': 413, 'end': 414, 'dc': 415, 'hoping': 416, 'then': 417, 'iah': 418, 'reflight': 419, 'maintenance': 420, 'done': 421, 'everything': 422, 'assistance': 423, 'loyal': 424, '12': 425, 'changes': 426, 'with': 427, 'pick': 428, 'swa': 429, '100': 430, 'monday': 431, 'error': 432, 'quick': 433, 'problems': 434, 'joke': 435, 'cannot': 436, 'wifi': 437, 'believe': 438, 'times': 439, 'jet': 440, 'terminal': 441, 'arrive': 442, 'phl': 443, 'las': 444, 'only': 445, 'forward': 446, 'expect': 447, 'glad': 448, 'bwi': 449, 'den': 450, 'counting': 451, 'second': 452, 'nice': 453, 'ceo': 454, 'needed': 455, 'busy': 456, '2nd': 457, 'non': 458, 'options': 459, 'checking': 460, 'suck': 461, 'pilots': 462, 'dca': 463, 'get': 464, 'request': 465, 'room': 466, 'calls': 467, 'apology': 468, 'wish': 469, 'la': 470, 'world': 471, 'wait': 472, 'got': 473, 'thought': 474, 'boarded': 475, 'issue': 476, 'reach': 477, 'blue': 478, 'deal': 479, 'flew': 480, 'bring': 481, 'process': 482, 'paying': 483, 'computer': 484, 'group': 485, 'complaint': 486, \"they're\": 487, 'usair': 488, 'mco': 489, 'club': 490, 'bags': 491, 'human': 492, 'another': 493, 'entire': 494, 'travel': 495, 'years': 496, 'case': 497, 'miami': 498, 'guy': 499, 'asking': 500, 'communication': 501, 'unitedairlines': 502, 'good': 503, 'sw': 504, 'city': 505, 'wow': 506, 'or': 507, 'yeah': 508, 'buy': 509, 'lose': 510, 'more': 511, 'standby': 512, 'currently': 513, 'address': 514, \"y'all\": 515, 'ask': 516, 'fees': 517, 'form': 518, 're': 519, 'already': 520, 'bought': 521, 'provide': 522, 'cant': 523, 'helping': 524, 'flt': 525, 'place': 526, 'empty': 527, 'whole': 528, 'months': 529, 'run': 530, 'taken': 531, 'over': 532, 'rather': 533, 'list': 534, 'hopefully': 535, 'pretty': 536, 'fly': 537, 'baggage': 538, 'asap': 539, 'trying': 540, 'updates': 541, 'passenger': 542, 'drive': 543, 'supervisor': 544, 'leg': 545, 'sleep': 546, 'counter': 547, 'nashville': 548, 'moved': 549, 'happens': 550, 'tv': 551, 'class': 552, 'month': 553, 'wtf': 554, 'as': 555, 'seem': 556, 'atl': 557, 'happen': 558, 'sunday': 559, 'live': 560, 'either': 561, \"we'll\": 562, 'support': 563, 'beyond': 564, 'correct': 565, 'tsa': 566, 'super': 567, 'year': 568, 'will': 569, 'future': 570, 'people': 571, 'fault': 572, 'flightlations': 573, 'appreciated': 574, 'automated': 575, 'companion': 576, 'holding': 577, \"you're\": 578, 'award': 579, 'fine': 580, 'austin': 581, 'confirmed': 582, 'better': 583, 'safety': 584, 'ready': 585, 'price': 586, 'purchase': 587, 'know': 588, 'delta': 589, 'okay': 590, 'figure': 591, 'pm': 592, 'easy': 593, 'plans': 594, 'checkin': 595, 'luv': 596, 'respond': 597, 'see': 598, 'apparently': 599, 'access': 600, 'looking': 601, 'upset': 602, 'where': 603, 'situation': 604, 'hate': 605, 'atlanta': 606, 'media': 607, 'customerservice': 608, 'flown': 609, 'reschedule': 610, 'offered': 611, 'high': 612, 'treat': 613, 'cabin': 614, 'probably': 615, 'ù': 616, 'set': 617, 'orlando': 618, 'employee': 619, 'disconnected': 620, 'ùô\\x8d': 621, 'flying': 622, 'handle': 623, 'charged': 624, 'through': 625, 'details': 626, 'record': 627, 'read': 628, 'zero': 629, 'date': 630, 'voucher': 631, 'compensation': 632, 'original': 633, 'delivered': 634, 'vegas': 635, 'gets': 636, 'switch': 637, 'following': 638, 'kind': 639, 'must': 640, 'early': 641, 'cause': 642, 'middle': 643, '2015': 644, 'completely': 645, 'sad': 646, 'giving': 647, 'r': 648, 'gonna': 649, 'dfw': 650, 'part': 651, 'top': 652, 'fact': 653, 'means': 654, 'seen': 655, 'allowed': 656, 'morning': 657, 'sending': 658, 'losing': 659, 'dont': 660, 'allow': 661, 'usairways': 662, 'schedule': 663, 'cold': 664, 'feb': 665, 'front': 666, 'running': 667, 'boarding': 668, 'flightlation': 669, 'fun': 670, 'gives': 671, \"let's\": 672, 'helped': 673, 'fare': 674, 'several': 675, '1k': 676, 'luck': 677, 'connections': 678, 'members': 679, 'changing': 680, 'share': 681, 'friendly': 682, 'long': 683, 'ù÷ä': 684, 'who': 685, 'upgrade': 686, 'came': 687, 'round': 688, 'what': 689, 'should': 690, 'clothes': 691, 'multiple': 692, 'but': 693, 'friends': 694, 'ù÷á': 695, 'answering': 696, 'rock': 697, 'yall': 698, 'change': 699, 'layover': 700, 'takes': 701, 'route': 702, 'despite': 703, 'sent': 704, 'space': 705, 'spoke': 706, 'reps': 707, 'services': 708, 'winter': 709, 'weekend': 710, 'lounge': 711, 'unable': 712, 'sense': 713, 'rdu': 714, 'hello': 715, 'bna': 716, 'birthday': 717, 'ù÷¢': 718, 'priority': 719, 'land': 720, '\\x89û\\x9d': 721, 'mileage': 722, 'could': 723, 'hope': 724, 'shit': 725, 'complete': 726, 'word': 727, 'o': 728, 'ppl': 729, 'from': 730, 'be': 731, 'knew': 732, 'held': 733, 'works': 734, 'arrival': 735, 'he': 736, 'unfortunately': 737, 'fixed': 738, 'ice': 739, 'denver': 740, 'id': 741, 'wall': 742, 'mia': 743, 'country': 744, 'news': 745, 'mobile': 746, 'lots': 747, 'totally': 748, 'next': 749, 'snow': 750, 'area': 751, 'afternoon': 752, 'report': 753, 'inconvenience': 754, 'absolutely': 755, 'follow': 756, 'left': 757, 'storm': 758, 'overnight': 759, 'aircraft': 760, 'mine': 761, 'goes': 762, 'booked': 763, 'kudos': 764, 'load': 765, 'confirm': 766, 'nope': 767, 'going': 768, 'control': 769, 'treated': 770, 'hang': 771, 'true': 772, 'relations': 773, 'haha': 774, 'keeps': 775, 'spend': 776, 'rescheduled': 777, 'husband': 778, 'small': 779, '3rd': 780, 'learn': 781, 'answers': 782, 'responding': 783, 'phones': 784, 'literally': 785, 'dealing': 786, 'does': 787, 'social': 788, 'plan': 789, 'dividend': 790, 'plz': 791, 'page': 792, 'anyway': 793, 'code': 794, 'folks': 795, 'dallas': 796, 'closed': 797, 'ny': 798, 'march': 799, 'course': 800, 'tix': 801, 'yr': 802, 'excellent': 803, 'man': 804, 'short': 805, 'overhead': 806, '90': 807, 'wonderful': 808, 'vouchers': 809, 'care': 810, 'matter': 811, 'sure': 812, 'offering': 813, 'door': 814, 'showing': 815, 'attitude': 816, 'gone': 817, 'virgin': 818, 'flyer': 819, 'ride': 820, '000': 821, 'depart': 822, 'friday': 823, 'of': 824, 'passbook': 825, 'bit': 826, 'ùô\\x8f': 827, 'evening': 828, 'child': 829, 'anymore': 830, 'arriving': 831, 'baby': 832, 'conf': 833, 'feedback': 834, 'neveragain': 835, 'letting': 836, '75': 837, 'last': 838, 'lines': 839, 'excited': 840, 'seating': 841, 'sign': 842, 'watch': 843, 'saturday': 844, 'web': 845, 'choice': 846, \"he's\": 847, 'forced': 848, 'submitted': 849, 'others': 850, 's': 851, 'worked': 852, 'anywhere': 853, 'even': 854, 'drop': 855, 'worth': 856, 'note': 857, 'move': 858, 'catch': 859, '1hr': 860, 'complaints': 861, 'failed': 862, 'fl': 863, 'shows': 864, 'trouble': 865, 'btw': 866, 'kept': 867, 'window': 868, 'behind': 869, 'away': 870, 'saw': 871, 'started': 872, 'domestic': 873, 'mail': 874, '22': 875, 'connect': 876, 'mom': 877, 'resolved': 878, 'ruined': 879, 'knows': 880, 'phoenix': 881, 'n': 882, 'usairwaysfail': 883, 'f': 884, 'cover': 885, 'bumped': 886, 'mess': 887, 'hangs': 888, 'select': 889, 'takeoff': 890, 'lady': 891, '35': 892, 'traveler': 893, '23': 894, 'receive': 895, 'drink': 896, 'center': 897, 'frequent': 898, 'happening': 899, 'bank': 900, 'e': 901, 'tickets': 902, 'daughter': 903, '19': 904, 'about': 905, 'flightd': 906, 'airports': 907, 'advisory': 908, 'captain': 909, 'followed': 910, 'bs': 911, 'post': 912, 'gates': 913, 'however': 914, 'huge': 915, 'explanation': 916, 'funeral': 917, 'warm': 918, 'mind': 919, 'dal': 920, 'i\\x89ûªm': 921, 'useless': 922, 'assist': 923, 'stuff': 924, 'expected': 925, 'filed': 926, 'order': 927, 'receipt': 928, 'svc': 929, 'moving': 930, 'unhelpful': 931, 'updated': 932, 'http': 933, 'keeping': 934, 'tag': 935, 'airplane': 936, 'office': 937, 'her': 938, 'cs': 939, 'merger': 940, '21': 941, \"didn't\": 942, 'none': 943, '60': 944, 'party': 945, 'its': 946, 'volume': 947, 'match': 948, 'current': 949, 'absolute': 950, 'pre': 951, 'dropped': 952, 'definitely': 953, 'itinerary': 954, 'free': 955, 'emails': 956, 'other': 957, 'mexico': 958, 'philadelphia': 959, 'regarding': 960, 'transfer': 961, 'security': 962, 'son': 963, 'total': 964, 'concern': 965, 'by': 966, 'unhappy': 967, '17': 968, 'file': 969, 'onto': 970, 'tired': 971, 'major': 972, 'tells': 973, 'damn': 974, 'power': 975, 'screwed': 976, 'excuse': 977, 'de': 978, 'talked': 979, 'kidding': 980, 'fucking': 981, 'except': 982, 'acceptable': 983, 'especially': 984, 'meal': 985, 'fares': 986, 'program': 987, 'planned': 988, 'video': 989, 'special': 990, 'notice': 991, 'like': 992, 'charging': 993, 'funny': 994, 'story': 995, 'routes': 996, 'family': 997, '0': 998, 'avgeek': 999, 'meeting': 1000, 'nightmare': 1001, 'actual': 1002, 'cut': 1003, 'resolve': 1004, 'pathetic': 1005, 'fingers': 1006, 'talking': 1007, 'questions': 1008, 'made': 1009, '2hrs': 1010, 'failure': 1011, 'clear': 1012, 'impressed': 1013, 'onboard': 1014, 'answered': 1015, 'has': 1016, 'just': 1017, 'compensate': 1018, 'per': 1019, 'tmrw': 1020, 'close': 1021, 'street': 1022, 'added': 1023, 'entertainment': 1024, '\\x89\\x9d': 1025, 'emailed': 1026, 'view': 1027, 'win': 1028, 'inflight': 1029, 'looks': 1030, 'upgrades': 1031, 'nonstop': 1032, 'oscars': 1033, 'smh': 1034, 'headed': 1035, 'count': 1036, 'requested': 1037, 'some': 1038, 'provided': 1039, 'slow': 1040, 'turn': 1041, 'picked': 1042, 'favorite': 1043, 'before': 1044, 'have': 1045, 'travelers': 1046, '18': 1047, 'auto': 1048, 'crossed': 1049, 'usually': 1050, 'forgot': 1051, 'premier': 1052, 'tweeting': 1053, 'wasted': 1054, 'tuesday': 1055, 'departing': 1056, 'sick': 1057, 'difference': 1058, 'listening': 1059, 'cc': 1060, 'badservice': 1061, 'tweet': 1062, 'broke': 1063, 'visit': 1064, 'refused': 1065, 'god': 1066, 'handled': 1067, 'enjoy': 1068, 'safe': 1069, 'appreciate': 1070, 'south': 1071, 'fantastic': 1072, 'internet': 1073, 'seattle': 1074, 'deals': 1075, 'imagine': 1076, 'purchased': 1077, 'fuck': 1078, '14': 1079, 'same': 1080, 'lie': 1081, 'suitcase': 1082, 'wondering': 1083, 'sort': 1084, 'lovely': 1085, 'fyi': 1086, 'waste': 1087, 'experienced': 1088, 'diego': 1089, 'st': 1090, 'preferred': 1091, 'willing': 1092, 'equipment': 1093, 'standing': 1094, 'switched': 1095, 'wonder': 1096, 'train': 1097, 'delivery': 1098, 'most': 1099, 'refunded': 1100, 'final': 1101, 'denied': 1102, 'angry': 1103, 'personal': 1104, 'bother': 1105, \"can't\": 1106, 'deliver': 1107, 'bus': 1108, 'hanging': 1109, 'choose': 1110, '16': 1111, 'hire': 1112, 'sister': 1113, 'unbelievable': 1114, 'clearly': 1115, 'department': 1116, 'turned': 1117, 'appease': 1118, '728': 1119, 'pdx': 1120, 'expensive': 1121, \"i'm\": 1122, 'adding': 1123, 'tracking': 1124, 'game': 1125, 'rate': 1126, 'disappointing': 1127, 'music': 1128, 'text': 1129, 'alone': 1130, 'cmh': 1131, 'because': 1132, 'ugh': 1133, 'along': 1134, 'arrives': 1135, 'coffee': 1136, 'ùô': 1137, 'representative': 1138, 'aus': 1139, 'trips': 1140, 'uk': 1141, 'filled': 1142, 'serious': 1143, 'refuse': 1144, 'badcustomerservice': 1145, 'outside': 1146, 'emergency': 1147, 'coach': 1148, 'ways': 1149, 'flightling': 1150, 'impossible': 1151, 'want': 1152, 'passes': 1153, 'etc': 1154, 'sell': 1155, 'flyers': 1156, 'speaking': 1157, 'freezing': 1158, 'engine': 1159, 'earlier': 1160, 'gotten': 1161, 'fast': 1162, 'cancelled': 1163, 'leaves': 1164, 'children': 1165, 'exit': 1166, 'prices': 1167, 'dragons': 1168, 'battles': 1169, 'd': 1170, 'america': 1171, '27': 1172, 'sea': 1173, 'think': 1174, 'congrats': 1175, 'step': 1176, 'welcome': 1177, 'expired': 1178, 'daily': 1179, 'apologies': 1180, 'gold': 1181, 'item': 1182, 'ù÷\\x81': 1183, 'watching': 1184, 'san': 1185, 'ù÷õ': 1186, 'sold': 1187, 'promised': 1188, 'resolution': 1189, 'solution': 1190, 'ones': 1191, 'continue': 1192, 'starting': 1193, 'likely': 1194, '\\x89ïö\\x95ü\\x8f': 1195, 'additional': 1196, 'accommodate': 1197, 'training': 1198, 'intl': 1199, 'mileageplus': 1200, 'ahead': 1201, 'attempt': 1202, 'honor': 1203, 'money': 1204, 'previous': 1205, 'diff': 1206, 'inside': 1207, 'touch': 1208, 'overbooked': 1209, 'florida': 1210, 'screw': 1211, '13': 1212, 'dollars': 1213, 'policies': 1214, 'make': 1215, 'till': 1216, 'fan': 1217, 'upgraded': 1218, 'patience': 1219, 'forever': 1220, 'important': 1221, 'cheap': 1222, 'incompetent': 1223, 'catering': 1224, 'notified': 1225, 'patient': 1226, 'mad': 1227, 'pbi': 1228, 'ended': 1229, 'nc': 1230, 'buffalo': 1231, 'systems': 1232, 'trueblue': 1233, 'cross': 1234, 'red': 1235, 'hawaii': 1236, 'enter': 1237, 'midnight': 1238, 'premium': 1239, 'across': 1240, 'infant': 1241, 'damaged': 1242, 'met': 1243, 'faster': 1244, 'iphone': 1245, 'sweet': 1246, 'event': 1247, 'hot': 1248, 'couple': 1249, 'bday': 1250, 'omg': 1251, 'main': 1252, 'book': 1253, 'suppose': 1254, 'platinum': 1255, 'third': 1256, 'rules': 1257, 'bird': 1258, 'break': 1259, 'incredibly': 1260, 'remember': 1261, 'within': 1262, 'nobody': 1263, 'consider': 1264, 'quickly': 1265, 'exactly': 1266, 'tho': 1267, 'redeem': 1268, 'fill': 1269, 'once': 1270, 'level': 1271, 'disgusting': 1272, 'pr': 1273, 'tweets': 1274, 'known': 1275, 'five': 1276, 'safely': 1277, 'conditions': 1278, 'ruining': 1279, 'amount': 1280, 'corporate': 1281, 'traffic': 1282, 'words': 1283, 'straight': 1284, \"you've\": 1285, 'mint': 1286, 'journal': 1287, 'side': 1288, '\\x95ü\\x8f': 1289, 'eat': 1290, 'let': 1291, 'cities': 1292, 'shame': 1293, 'hand': 1294, 'silver': 1295, 'april': 1296, 'ù÷©': 1297, \"dm'd\": 1298, 'driving': 1299, 'ipad': 1300, 'based': 1301, 'x': 1302, 'drinks': 1303, 'loved': 1304, 'treatment': 1305, 'promo': 1306, 'stewardess': 1307, 'perfect': 1308, 'raise': 1309, 'dmed': 1310, 'funds': 1311, 'numbers': 1312, 'promise': 1313, \"doesn't\": 1314, 'unprofessional': 1315, 'courtesy': 1316, 'incompetence': 1317, 'carousel': 1318, 'disaster': 1319, 'loaded': 1320, 'shot': 1321, 'example': 1322, 'an': 1323, 'simply': 1324, 'woman': 1325, 'london': 1326, 'b4': 1327, 'issued': 1328, 'fa': 1329, 'tampa': 1330, 'pleasant': 1331, 'landing': 1332, 'act': 1333, 'honest': 1334, 'possibly': 1335, 'perhaps': 1336, 'handling': 1337, 'lies': 1338, 'figured': 1339, 'crews': 1340, 'apply': 1341, 'slc': 1342, 'relate': 1343, 'res': 1344, 'snacks': 1345, 'attendant': 1346, 'suggestions': 1347, 'somewhere': 1348, 'bringing': 1349, 'rewards': 1350, 'rr': 1351, 'mdw': 1352, 'nearly': 1353, 'thinking': 1354, 'messed': 1355, 'worry': 1356, 'feet': 1357, 'sf': 1358, 'thursday': 1359, 'fuel': 1360, 'beautiful': 1361, 'dulles': 1362, 'logan': 1363, 'finding': 1364, 'school': 1365, 'texas': 1366, 'palm': 1367, 'sounds': 1368, 'become': 1369, 'improve': 1370, 'usa': 1371, 'advantage': 1372, 'fight': 1373, 'contacted': 1374, 'wanna': 1375, 'avail': 1376, 'low': 1377, 'announced': 1378, 'accept': 1379, 'thankyou': 1380, 'items': 1381, 'advance': 1382, 'prior': 1383, 'tough': 1384, 'global': 1385, 'economy': 1386, 'pull': 1387, 'announcement': 1388, 'wont': 1389, 'military': 1390, 'washington': 1391, 'deserves': 1392, 'stopped': 1393, 'computers': 1394, 'dia': 1395, 'delaying': 1396, 'stl': 1397, \"o'hare\": 1398, 'photo': 1399, 'frm': 1400, '00': 1401, 'avoid': 1402, 'prompt': 1403, '5hrs': 1404, 'crazy': 1405, 'ty': 1406, 'print': 1407, 'jetway': 1408, 'double': 1409, 'write': 1410, '500': 1411, 'rsw': 1412, 'officially': 1413, 'buf': 1414, 'surprised': 1415, 'watched': 1416, 'chances': 1417, 'crappy': 1418, 'quality': 1419, 'cab': 1420, 'pit': 1421, 'providing': 1422, 'heading': 1423, 'elite': 1424, 'automatically': 1425, 'juan': 1426, 'professional': 1427, 'wasting': 1428, 'clean': 1429, 'loyalty': 1430, 'mother': 1431, 'legroom': 1432, 'allowing': 1433, 'eventually': 1434, 'nothappy': 1435, 'wedding': 1436, 'type': 1437, 'worries': 1438, 'informed': 1439, 'since': 1440, 'columbus': 1441, 'sju': 1442, 'jb': 1443, 'jblu': 1444, '÷': 1445, 'death': 1446, 'p': 1447, 'large': 1448, 'brand': 1449, 'applied': 1450, 'hands': 1451, 'february': 1452, 'concerned': 1453, 'outstanding': 1454, 'dog': 1455, 'afford': 1456, 'sooner': 1457, 'trust': 1458, 'screen': 1459, '7am': 1460, 'returned': 1461, 'spending': 1462, 'cheers': 1463, 'easily': 1464, 'crap': 1465, 'lhr': 1466, 'save': 1467, \"couldn't\": 1468, 'alternate': 1469, '400': 1470, 'dept': 1471, 'cheaper': 1472, 'dead': 1473, 'two': 1474, 'planning': 1475, '70': 1476, 'returning': 1477, '55': 1478, 'absurd': 1479, 'cle': 1480, 'feels': 1481, 'experiences': 1482, 'contacting': 1483, 'direct': 1484, 'floor': 1485, 'otherwise': 1486, 'play': 1487, 'earn': 1488, 'head': 1489, 'management': 1490, 'states': 1491, 'killing': 1492, 'lets': 1493, 'complain': 1494, 'originally': 1495, 'msg': 1496, 'start': 1497, 'brother': 1498, 'frozen': 1499, 'taxi': 1500, 'realize': 1501, 'ive': 1502, 'obviously': 1503, 'often': 1504, 'sleeping': 1505, 'deplane': 1506, 'passed': 1507, 'feeling': 1508, 'departs': 1509, 'six': 1510, 'although': 1511, 'push': 1512, 'insane': 1513, 'east': 1514, 'y': 1515, '700': 1516, 'reward': 1517, 'fort': 1518, 'lauderdale': 1519, 'summer': 1520, 'ùõª': 1521, 'chairman': 1522, 'skies': 1523, 'song': 1524, 'ùôî': 1525, 'waive': 1526, 'bet': 1527, 'recent': 1528, 'thats': 1529, 'track': 1530, 'ran': 1531, 'look': 1532, 'normal': 1533, 'rescheduling': 1534, 'paris': 1535, 'errors': 1536, 'ah': 1537, 'ball': 1538, '36': 1539, 'moment': 1540, 'model': 1541, 'paper': 1542, '32': 1543, 'sun': 1544, 'dad': 1545, '300': 1546, 'mechanics': 1547, \"it's\": 1548, 'truly': 1549, 'thnx': 1550, \"who's\": 1551, 'minor': 1552, 'simple': 1553, 'sna': 1554, 'heathrow': 1555, 'difficult': 1556, 'seeing': 1557, 'properly': 1558, 'transferred': 1559, 'responded': 1560, 'carry': 1561, 'hotels': 1562, 'cancun': 1563, 'yea': 1564, 'yo': 1565, 'considering': 1566, 'flightations': 1567, 'outlets': 1568, 'easier': 1569, 'looked': 1570, 'a320': 1571, 'fi': 1572, 'til': 1573, 'costs': 1574, 'appears': 1575, 'frustration': 1576, 'effort': 1577, 'public': 1578, 'whats': 1579, 'whose': 1580, 'assigned': 1581, 'speed': 1582, \"here's\": 1583, 'boards': 1584, 'manager': 1585, 'reimbursed': 1586, 'flightation': 1587, '30am': 1588, 'stand': 1589, 'wet': 1590, 'piece': 1591, 'cun': 1592, '28': 1593, 'raleigh': 1594, 'honeymoon': 1595, 'epicfail': 1596, 'aware': 1597, 'interview': 1598, 'bdl': 1599, 'annoying': 1600, 'hearing': 1601, 'respect': 1602, 'surprise': 1603, 'higher': 1604, 'felt': 1605, 'connected': 1606, 'pvd': 1607, 'knowing': 1608, 'expecting': 1609, 'shuttle': 1610, 'faa': 1611, 'state': 1612, 'memphis': 1613, 'guarantee': 1614, '2x': 1615, 'ha': 1616, 'cell': 1617, 'usual': 1618, 'wheelchair': 1619, 'listed': 1620, 'american': 1621, 'specific': 1622, 'west': 1623, 'august': 1624, 'contest': 1625, 'flyingitforward': 1626, 'opportunity': 1627, 'posted': 1628, '99': 1629, 'biz': 1630, 'tech': 1631, 'lame': 1632, 'face': 1633, 'reimburse': 1634, '24hrs': 1635, 'position': 1636, 'many': 1637, 'earned': 1638, 'messages': 1639, 'laptop': 1640, 'incredible': 1641, 'sharing': 1642, 'commercial': 1643, 'timely': 1644, 'didnt': 1645, '26': 1646, 'wants': 1647, 'according': 1648, 'certificate': 1649, '3hrs': 1650, 'okc': 1651, '150': 1652, 'nuts': 1653, 'being': 1654, '140': 1655, 'airfare': 1656, 'california': 1657, 'inbound': 1658, 'rooms': 1659, 'doors': 1660, \"today's\": 1661, \"we'd\": 1662, 'disappointment': 1663, 'exact': 1664, 'reimbursement': 1665, 'hundreds': 1666, 'traveled': 1667, 'discuss': 1668, 'these': 1669, \"where's\": 1670, 'girl': 1671, 'certainly': 1672, 'rows': 1673, 'basically': 1674, 'dates': 1675, 'workers': 1676, 'ù÷ó': 1677, 'lesson': 1678, 'ticketed': 1679, 'shameful': 1680, 'unreal': 1681, 'ual': 1682, 'poorly': 1683, '42': 1684, 'house': 1685, 'value': 1686, 'retrieve': 1687, 'give': 1688, 'pissed': 1689, 'log': 1690, 'credits': 1691, 'causing': 1692, 'lied': 1693, 'reroute': 1694, 'discount': 1695, 'meant': 1696, 'fam': 1697, 'weight': 1698, 'peanuts': 1699, 'rest': 1700, 'shout': 1701, 'carrier': 1702, 'tpa': 1703, 'msp': 1704, 'take': 1705, 'winners': 1706, 'ripoff': 1707, 'nasty': 1708, 'four': 1709, \"wife's\": 1710, 'estimated': 1711, 'apologize': 1712, 'mke': 1713, 'offers': 1714, 'drove': 1715, 'heart': 1716, 'gear': 1717, 'rocks': 1718, 'est': 1719, 'sale': 1720, 'fraud': 1721, 'beach': 1722, 'flyfi': 1723, 'va': 1724, 'among': 1725, 'carriers': 1726, 'elevate': 1727, 'dirty': 1728, 'worried': 1729, 'whenever': 1730, 'meet': 1731, 'bin': 1732, '59': 1733, 'use': 1734, 'queue': 1735, 'include': 1736, 'sjc': 1737, 'notification': 1738, 'mon': 1739, 'picture': 1740, 'york': 1741, 'springs': 1742, 'somehow': 1743, 'positive': 1744, 'manage': 1745, \"she's\": 1746, 'payment': 1747, 'portland': 1748, 'affected': 1749, 'pa': 1750, 'pair': 1751, 'david': 1752, 'partner': 1753, 'outbound': 1754, 'fails': 1755, 'yep': 1756, 'hostage': 1757, 'getting': 1758, 'claims': 1759, 'pax': 1760, 'nah': 1761, 'existing': 1762, 'unless': 1763, '2day': 1764, \"they've\": 1765, 'diverted': 1766, 'msy': 1767, 'announce': 1768, 'unfriendlyskies': 1769, 'notifications': 1770, 'responses': 1771, 'walk': 1772, 'english': 1773, 'poorservice': 1774, 'attention': 1775, 'placed': 1776, 'legs': 1777, 'miserable': 1778, \"won't\": 1779, 'whatever': 1780, 'including': 1781, 'suggest': 1782, 'departed': 1783, 'acct': 1784, 'rerouted': 1785, 'garbage': 1786, 'certain': 1787, 'icing': 1788, 'hit': 1789, 'reasons': 1790, 'upcoming': 1791, 'comes': 1792, 'travels': 1793, 'comp': 1794, 'honestly': 1795, 'official': 1796, 'false': 1797, 'coast': 1798, 'listen': 1799, 'unitedsucks': 1800, 'chi': 1801, 'sound': 1802, 'sky': 1803, 'limit': 1804, 'conference': 1805, 'notify': 1806, 'explained': 1807, 'personnel': 1808, 'million': 1809, 'immediately': 1810, 'nj': 1811, 'shitty': 1812, 'scheduled': 1813, 'merge': 1814, 'turns': 1815, 'flts': 1816, 'cares': 1817, 'somebody': 1818, 'rapid': 1819, 'golf': 1820, 'laguardia': 1821, 'size': 1822, '30pm': 1823, 'alert': 1824, 'embarrassing': 1825, 'prepared': 1826, 'confused': 1827, 'stick': 1828, 'compassion': 1829, 'pittsburgh': 1830, 'located': 1831, 'ashamed': 1832, '48': 1833, 'midway': 1834, 'hunt': 1835, 'ùõó': 1836, 'sunny': 1837, 'balance': 1838, 'snack': 1839, 'locator': 1840, 'stress': 1841, 'anytime': 1842, 'self': 1843, 'expires': 1844, \"i've\": 1845, 'ù÷\\x8d': 1846, '10pm': 1847, 'francisco': 1848, 'complimentary': 1849, 'central': 1850, 'jump': 1851, 'continues': 1852, 'ù÷ã': 1853, 'light': 1854, 'revenue': 1855, 'degrees': 1856, 'saving': 1857, 'brought': 1858, 'smooth': 1859, 'method': 1860, 'rates': 1861, 'incident': 1862, '39': 1863, 'tea': 1864, 'carryon': 1865, '777': 1866, 't': 1867, 'seated': 1868, 'industry': 1869, 'express': 1870, \"'s\": 1871, 'existent': 1872, 'inconvenient': 1873, 'australia': 1874, 'medical': 1875, 'k': 1876, 'doesnt': 1877, 'private': 1878, 'hence': 1879, '6am': 1880, 'doubt': 1881, 'canned': 1882, 'local': 1883, 'comment': 1884, 'charges': 1885, 'walked': 1886, 'apart': 1887, 'generic': 1888, 'canada': 1889, 'pic': 1890, 'statement': 1891, 'directly': 1892, 'signed': 1893, 'repair': 1894, 'ill': 1895, 'general': 1896, 'cleveland': 1897, 'heads': 1898, 'steps': 1899, 'reserve': 1900, 'pts': 1901, 'meals': 1902, 'costumer': 1903, 'understood': 1904, 'reaching': 1905, 'police': 1906, 'breakfast': 1907, 'lousy': 1908, '737': 1909, 'switching': 1910, 'mech': 1911, '8am': 1912, 'locate': 1913, 'dinner': 1914, 'extended': 1915, 'suit': 1916, 'sight': 1917, 'bathroom': 1918, 'myself': 1919, 'alliance': 1920, 'accepting': 1921, 'alright': 1922, 'mark': 1923, 'badly': 1924, 'age': 1925, 'rent': 1926, 'sadly': 1927, 'those': 1928, 'young': 1929, 'stated': 1930, 'hook': 1931, 'yay': 1932, 'roundtrip': 1933, 'ind': 1934, 'biggest': 1935, 'decision': 1936, 'names': 1937, 'history': 1938, 'decided': 1939, 'living': 1940, 'i\\x89ûªve': 1941, 'accurate': 1942, 'father': 1943, 'learned': 1944, 'm': 1945, 'puerto': 1946, 'lower': 1947, 'shortly': 1948, 'parents': 1949, 'ba': 1950, 'separate': 1951, 'replying': 1952, 'icy': 1953, 'promotion': 1954, 'voice': 1955, 'finish': 1956, 'noticed': 1957, 'waterbury': 1958, 'republican': 1959, 't5': 1960, 'serving': 1961, 'profits': 1962, 'exec': 1963, 'disconnects': 1964, 'aadvantage': 1965, 'playing': 1966, 'reserved': 1967, 'chat': 1968, 'agree': 1969, 'they': 1970, 'shown': 1971, 'student': 1972, 'interesting': 1973, 'remove': 1974, 'exp': 1975, 'comfortable': 1976, 'hiring': 1977, 'field': 1978, '130': 1979, 'password': 1980, 'ùõñ': 1981, 'sorted': 1982, 'inspired': 1983, 'abq': 1984, 'barely': 1985, 'dtw': 1986, 'partners': 1987, 'recommend': 1988, 'tweeted': 1989, 'lap': 1990, 'eastern': 1991, 'pulling': 1992, 'forget': 1993, 'ä': 1994, 'bins': 1995, 'rough': 1996, 'luckily': 1997, 'don\\x89ûªt': 1998, 'i\\x89ûªll': 1999, 'ios': 2000, 'toward': 2001, '\\x89û': 2002, 'penalty': 2003, 'common': 2004, 'january': 2005, 'awards': 2006, 'clients': 2007, 'throwing': 2008, 'huh': 2009, 'zone': 2010, 'excuses': 2011, 'copy': 2012, 'fb': 2013, 'appear': 2014, 'stressful': 2015, 'heat': 2016, 'curious': 2017, 'responsibility': 2018, 'valid': 2019, 'lands': 2020, 'required': 2021, 'each': 2022, 'doing': 2023, \"they'd\": 2024, '3am': 2025, 'annoyed': 2026, 'bullshit': 2027, 'split': 2028, 'apple': 2029, 'bunch': 2030, '30min': 2031, 'served': 2032, 'notcool': 2033, 'reminder': 2034, 'device': 2035, 'reference': 2036, 'spot': 2037, 'karen': 2038, 'promises': 2039, 'cuz': 2040, 'correctly': 2041, 'lufthansa': 2042, 'replacement': 2043, 'jh': 2044, 'hates': 2045, 'buying': 2046, 'article': 2047, 'blog': 2048, 'strand': 2049, 'seconds': 2050, 'result': 2051, 'reasonable': 2052, 'consistently': 2053, 'actually': 2054, 'mci': 2055, 'operated': 2056, '4th': 2057, '8pm': 2058, 'csr': 2059, 'managed': 2060, 'truck': 2061, 'worstairlineever': 2062, 'coat': 2063, 'programs': 2064, '600': 2065, 'disconnect': 2066, 'bay': 2067, 'availability': 2068, 'cleaned': 2069, 'both': 2070, 'drunk': 2071, 'ass': 2072, 'deplaned': 2073, 'pending': 2074, 'hungry': 2075, 'disgusted': 2076, 'passport': 2077, 'ahold': 2078, 'departures': 2079, 'unitedfail': 2080, 'mid': 2081, 'routing': 2082, 'ff': 2083, 'couldnt': 2084, 'degree': 2085, 'advice': 2086, 'operations': 2087, 'fra': 2088, 'freaking': 2089, 'pushed': 2090, 'technical': 2091, 'fliers': 2092, 'horrendous': 2093, 'disgrace': 2094, 'term': 2095, 'his': 2096, 'guitar': 2097, 'fall': 2098, 'furious': 2099, 'saved': 2100, 'wednesday': 2101, 'wheels': 2102, 'wth': 2103, 'practice': 2104, 'exchange': 2105, 'yup': 2106, 'anniversary': 2107, 'whether': 2108, '1st': 2109, 'ù÷¥': 2110, 'bonus': 2111, 'actions': 2112, 'initial': 2113, 'accepted': 2114, 'yelled': 2115, 'nexus': 2116, 'interest': 2117, 'places': 2118, 'charleston': 2119, 'scavenger': 2120, 'reagan': 2121, 'stroller': 2122, 'band': 2123, 'spoken': 2124, \"would've\": 2125, 'stupid': 2126, 'selfie': 2127, 'lauren': 2128, 'snowing': 2129, 'hpn': 2130, 'livery': 2131, 'vx': 2132, 'leading': 2133, 'fabulous': 2134, 'such': 2135, 'awaiting': 2136, 'prefer': 2137, 'unused': 2138, 'dream': 2139, '2014': 2140, 'beat': 2141, 'g': 2142, \"how's\": 2143, 'sarcasm': 2144, 'kicked': 2145, 'failing': 2146, 'him': 2147, 'button': 2148, 'white': 2149, 'ps': 2150, 'putting': 2151, 'bug': 2152, 'ca': 2153, 'flier': 2154, 'results': 2155, 'flat': 2156, 'race': 2157, 'salt': 2158, 'benefits': 2159, 'turbulence': 2160, 'paperwork': 2161, 'gift': 2162, 'grandma': 2163, 'haven\\x89ûªt': 2164, 'destinations': 2165, 'stolen': 2166, 'europe': 2167, 'dear': 2168, 'serv': 2169, 'movie': 2170, 'prevent': 2171, 'shoes': 2172, 'beginning': 2173, 'ya': 2174, 'jan': 2175, 'ignored': 2176, 'upon': 2177, 'mistakes': 2178, 'requires': 2179, 'sincerely': 2180, 'disappeared': 2181, 'bogota': 2182, 'quite': 2183, 'enjoyed': 2184, 'causes': 2185, 'october': 2186, 'december': 2187, 'vs': 2188, 'whoever': 2189, 'coupon': 2190, 'louis': 2191, 'client': 2192, 'atrocious': 2193, '1000': 2194, 'machine': 2195, 'our': 2196, 'blaming': 2197, 'deep': 2198, 'ripped': 2199, '180': 2200, 'period': 2201, 'fleet': 2202, 'assume': 2203, 'requesting': 2204, 'wi': 2205, 'included': 2206, 'chicken': 2207, 'yvr': 2208, 'male': 2209, 'gross': 2210, 'location': 2211, 'boyfriend': 2212, 'wallet': 2213, 'damage': 2214, 'opened': 2215, 'abt': 2216, 'yrs': 2217, 'forth': 2218, 'aspen': 2219, 'mile': 2220, 'ton': 2221, 'deserve': 2222, 'hassle': 2223, 'terribly': 2224, 'accommodations': 2225, 'flightst': 2226, 'shopping': 2227, 'loving': 2228, 'released': 2229, 'extend': 2230, \"flight's\": 2231, 'shut': 2232, 'eta': 2233, 'worstcustomerservice': 2234, 'limited': 2235, 'epic': 2236, '433': 2237, \"they'll\": 2238, 'ktn': 2239, 'picking': 2240, 'kiosks': 2241, 'metal': 2242, 'hell': 2243, 'dumb': 2244, 'crying': 2245, 'solve': 2246, 'wanted': 2247, 'volunteer': 2248, '3pm': 2249, 'handlers': 2250, 'holders': 2251, 'idiots': 2252, '5th': 2253, 'named': 2254, 'exceptional': 2255, 'pushing': 2256, '45min': 2257, 'b737': 2258, 'tire': 2259, 'reading': 2260, 'attend': 2261, '6pm': 2262, 'communicate': 2263, 'star': 2264, 'standard': 2265, 'stinks': 2266, 'inexcusable': 2267, 'announcements': 2268, 'loses': 2269, 'treating': 2270, 'designed': 2271, 'serve': 2272, '3x': 2273, 'families': 2274, 'say': 2275, 'hnl': 2276, 'created': 2277, 'weird': 2278, 'define': 2279, 'decent': 2280, 'which': 2281, 'fire': 2282, 'beer': 2283, 'disregard': 2284, 'dragon': 2285, 'backup': 2286, 'disappoint': 2287, 'mistake': 2288, 'roc': 2289, '20min': 2290, 'eyes': 2291, 'operating': 2292, 'tkt': 2293, \"wasn't\": 2294, 'accounts': 2295, 'procedure': 2296, 'thoughts': 2297, 'teach': 2298, 'cup': 2299, 'extension': 2300, 'sigh': 2301, 'cart': 2302, 'responsible': 2303, 'bump': 2304, 'painful': 2305, 'belt': 2306, 'approach': 2307, 'troubles': 2308, 'june': 2309, 'turning': 2310, 'fans': 2311, 'lifetime': 2312, 'tablet': 2313, 'dying': 2314, 'courteous': 2315, 'die': 2316, 'compensated': 2317, 'join': 2318, 'directed': 2319, 'rico': 2320, '80': 2321, 'ignoring': 2322, 'suggested': 2323, 'camera': 2324, 'advise': 2325, 'harder': 2326, 'realized': 2327, 'ric': 2328, 'youre': 2329, 'neither': 2330, 'understandable': 2331, 'reported': 2332, 'ft': 2333, '15th': 2334, 'indeed': 2335, 'pricing': 2336, 'birmingham': 2337, 'brutal': 2338, 'throughout': 2339, 'discounts': 2340, 'noon': 2341, 'tx': 2342, 'loss': 2343, 'baltimore': 2344, 'nights': 2345, '51': 2346, 'receiving': 2347, 'corporation': 2348, 'cash': 2349, 'college': 2350, 'dealt': 2351, 'fleek': 2352, 'plat': 2353, 'nantucket': 2354, 'mosaic': 2355, '136': 2356, 'seeks': 2357, 'merged': 2358, 'usairwayssucks': 2359, 'commercials': 2360, 'won\\x89ûªt': 2361, 'fully': 2362, 'eye': 2363, 'impressive': 2364, 'stat': 2365, 'bill': 2366, 'uncomfortable': 2367, 'unexpected': 2368, 'getaway': 2369, 'design': 2370, 'cabo': 2371, 'redcarpet': 2372, 'bucks': 2373, 'license': 2374, \"haven't\": 2375, 'nervous': 2376, 'nicely': 2377, 'wheel': 2378, 'adds': 2379, 'pillows': 2380, 'fav': 2381, 'ù÷û': 2382, 'profit': 2383, 'understanding': 2384, \"'\": 2385, 'performance': 2386, 'facing': 2387, 'û': 2388, 'visa': 2389, 'constant': 2390, 'fat': 2391, 'brilliant': 2392, 'needing': 2393, 'channels': 2394, 'cards': 2395, 'spread': 2396, 'kinda': 2397, 'jose': 2398, 'abc': 2399, 'while': 2400, 'ùªî': 2401, 'law': 2402, 'manner': 2403, 'weak': 2404, 'thankfully': 2405, 'besides': 2406, 'search': 2407, 'gf': 2408, 'carrying': 2409, 'unfortunate': 2410, 'guide': 2411, '4hrs': 2412, 'crashed': 2413, 'scheduling': 2414, 'ref': 2415, 'grounded': 2416, 'operational': 2417, 'esp': 2418, 'writing': 2419, 'find': 2420, 'tel': 2421, 'pos': 2422, 'stellar': 2423, 'pocket': 2424, 'happily': 2425, 'highly': 2426, 'claimed': 2427, 'helps': 2428, 'monitor': 2429, 'spare': 2430, 'impact': 2431, 'efforts': 2432, 'confusion': 2433, 'software': 2434, 'ogg': 2435, 'unnecessary': 2436, 'decisions': 2437, \"it'll\": 2438, 'canadian': 2439, 'proper': 2440, 'stood': 2441, 'prove': 2442, 'hubby': 2443, '703': 2444, 'extremely': 2445, 'refuses': 2446, 'typical': 2447, 'driven': 2448, 'pleased': 2449, 'choosing': 2450, \"people's\": 2451, 'loading': 2452, '05': 2453, 'ten': 2454, '5hr': 2455, 'written': 2456, 'chair': 2457, 'fixing': 2458, 'worthless': 2459, 'transaction': 2460, 'rights': 2461, 'cry': 2462, 'replacing': 2463, 'frankfurt': 2464, 'grr': 2465, 'cx': 2466, 'hilarious': 2467, 'facebook': 2468, '787': 2469, 'tiny': 2470, 'prob': 2471, 'lazy': 2472, 'parked': 2473, 'desperately': 2474, 'girlfriend': 2475, 'spanish': 2476, 'exception': 2477, 'hurt': 2478, 'ski': 2479, 'reliable': 2480, 'travelling': 2481, 'miss': 2482, 'capt': 2483, 'ideas': 2484, 'bummer': 2485, 'bhm': 2486, 'accountability': 2487, 'bush': 2488, 'concourse': 2489, 'trapped': 2490, 'slept': 2491, 'updating': 2492, 'everytime': 2493, 'green': 2494, 'daughters': 2495, 'click': 2496, 'sometime': 2497, 'hear': 2498, '47': 2499, 'itineraries': 2500, '40pm': 2501, '2pm': 2502, 'uh': 2503, 'journey': 2504, 'cvg': 2505, 'albany': 2506, 'belongings': 2507, 'humans': 2508, 'detroit': 2509, 'addressed': 2510, 'abysmal': 2511, 'submit': 2512, 'cutting': 2513, 'download': 2514, 'cxl': 2515, 'extreme': 2516, 'similar': 2517, 'closer': 2518, 'formal': 2519, 'plenty': 2520, 'plastic': 2521, 'useful': 2522, 'north': 2523, 'smile': 2524, 'roads': 2525, 'overall': 2526, 'recently': 2527, 'document': 2528, 'incentive': 2529, 'isnt': 2530, 'charity': 2531, 'locations': 2532, 'tight': 2533, 'warning': 2534, 'lying': 2535, '2days': 2536, 'costing': 2537, \"int'l\": 2538, 'maint': 2539, 'ùôê': 2540, 'cont': 2541, 'driver': 2542, 'progress': 2543, 'estimate': 2544, 'gas': 2545, 'heavy': 2546, 'forgetting': 2547, 'crash': 2548, 'didn\\x89ûªt': 2549, 'van': 2550, 'customs': 2551, '1800': 2552, 'fresh': 2553, 'en': 2554, 'hartford': 2555, '65': 2556, 'alerts': 2557, 'lmao': 2558, 'earth': 2559, 'we\\x89ûªre': 2560, 'technically': 2561, '4567': 2562, 'refunds': 2563, 'thankful': 2564, 'kid': 2565, 'dropping': 2566, 'jacksonville': 2567, 'spent': 2568, 'southwestairlines': 2569, 'unreliable': 2570, 'feature': 2571, 'bae': 2572, 'insult': 2573, 'terry': 2574, 'oakland': 2575, 'enroute': 2576, 'credited': 2577, 'cali': 2578, '250': 2579, 'spring': 2580, '4pm': 2581, \"c'mon\": 2582, 'precheck': 2583, 'heck': 2584, 'kelly': 2585, '3056': 2586, 'accommodating': 2587, 'flightly': 2588, 'oak': 2589, 'savannah': 2590, 'evaluate': 2591, 'disney': 2592, 'regular': 2593, 'national': 2594, 'stole': 2595, 'cuba': 2596, 'chairs': 2597, 'goodwill': 2598, 'dissatisfied': 2599, 'sxm': 2600, 'asleep': 2601, 'decide': 2602, 'digital': 2603, 'significant': 2604, '719': 2605, 'agency': 2606, 'ctl': 2607, 'filmcrew': 2608, '7300': 2609, 'recourse': 2610, 'suicide': 2611, 'teens': 2612, 'operation': 2613, 'headphones': 2614, 'oscars2015': 2615, '50pm': 2616, 'winning': 2617, 'shared': 2618, 'random': 2619, 'desktop': 2620, 'boy': 2621, 'ùõ¥': 2622, 'virginamerica': 2623, 'plain': 2624, 'secure': 2625, 'browser': 2626, 'cake': 2627, '9am': 2628, 'beats': 2629, 'views': 2630, '1230': 2631, 'ability': 2632, 'dancing': 2633, 'crisis': 2634, 'scared': 2635, 'can\\x89ûªt': 2636, 'sec': 2637, 'assaulted': 2638, 'boo': 2639, 'selected': 2640, 'atlantic': 2641, 'application': 2642, 'competition': 2643, 'sos': 2644, 'chrome': 2645, 'inappropriate': 2646, 'ùàâ': 2647, 'ùà¤': 2648, 'flies': 2649, 'jacket': 2650, 'checkout': 2651, '3d': 2652, 'badges': 2653, 'superior': 2654, '80th': 2655, 'greeting': 2656, 'road': 2657, 'deserved': 2658, 'sucked': 2659, 'malfunction': 2660, 'classy': 2661, 'strong': 2662, 'opens': 2663, 'bumping': 2664, 'haul': 2665, '1pm': 2666, 'popular': 2667, 'hooked': 2668, 'fc': 2669, 'cousin': 2670, 'ase': 2671, 'chase': 2672, 'september': 2673, 'ac': 2674, 'during': 2675, 'illegal': 2676, 'h': 2677, 'kc': 2678, 'v': 2679, 'bothered': 2680, 'continued': 2681, 'scam': 2682, 'disrespect': 2683, 'july': 2684, 'skis': 2685, 'faith': 2686, 'property': 2687, 'horrid': 2688, 'j': 2689, 'aviv': 2690, 'action': 2691, 'continental': 2692, 'fran': 2693, 'manchester': 2694, 'constantly': 2695, 'bar': 2696, 'jobs': 2697, 'falling': 2698, 'rectify': 2699, 'scan': 2700, 'thinks': 2701, 'finest': 2702, 'closest': 2703, 'carseat': 2704, 'kp\\x89û\\x9d': 2705, 'ensure': 2706, 'jac': 2707, 'reserv': 2708, 'inadequate': 2709, 'nonsense': 2710, 'fits': 2711, 'fucked': 2712, 'claiming': 2713, 'poorcustomerservice': 2714, 'lake': 2715, 'glitch': 2716, 'truth': 2717, \"united's\": 2718, 'orf': 2719, 'clue': 2720, 'lit': 2721, 'overweight': 2722, 'holder': 2723, 'doesn\\x89ûªt': 2724, 'premiere': 2725, 'cute': 2726, 'kindness': 2727, 'mex': 2728, 'outsource': 2729, 'bridge': 2730, '2hr': 2731, 'foot': 2732, 'advertise': 2733, 'confirming': 2734, 'unfriendly': 2735, 'moms': 2736, 'forces': 2737, 'understaffed': 2738, 'oops': 2739, 'suggestion': 2740, 'dry': 2741, 'assign': 2742, 'btv': 2743, 'solved': 2744, 'notes': 2745, 'irritated': 2746, 'humor': 2747, 'own': 2748, 'dr': 2749, 'wearing': 2750, 'freq': 2751, 'eu': 2752, 'pleasure': 2753, 'explorer': 2754, \"plane's\": 2755, 'ads': 2756, 'snowy': 2757, 'dozen': 2758, 'tone': 2759, '00pm': 2760, 'ph': 2761, 'valuable': 2762, 'legal': 2763, '31': 2764, 'advertising': 2765, 'mi': 2766, 'further': 2767, 'sincere': 2768, 'contract': 2769, 'memories': 2770, 'attempting': 2771, 'circumstances': 2772, 'organization': 2773, 'tail': 2774, 'efficiency': 2775, 'worstairline': 2776, 'philippines': 2777, 'aisle': 2778, 'steamboat': 2779, 'hdn': 2780, 'numerous': 2781, 'relationship': 2782, 'present': 2783, 'breaking': 2784, 'stt': 2785, \"friend's\": 2786, '44': 2787, 'proof': 2788, 'texts': 2789, 'cluster': 2790, 'continuing': 2791, \"tomorrow's\": 2792, 'appalled': 2793, 'dming': 2794, 'notch': 2795, 'logged': 2796, 'occurred': 2797, 'screwing': 2798, 'def': 2799, 'enjoying': 2800, 'particularly': 2801, 'pricey': 2802, 'pulled': 2803, '38': 2804, 'sits': 2805, 'wed': 2806, 'unknown': 2807, 'operate': 2808, 'ramp': 2809, 'ùõ©': 2810, 'ins': 2811, '4am': 2812, 'matters': 2813, \"isn't\": 2814, 'ùî«': 2815, 'hardly': 2816, 'fiasco': 2817, 'wasnt': 2818, 'proud': 2819, 'ladies': 2820, 'chose': 2821, 'pain': 2822, \"everyone's\": 2823, 'belize': 2824, 'airbus': 2825, 'blamed': 2826, 'reminded': 2827, 'spam': 2828, 'commitment': 2829, 'explain': 2830, 'executive': 2831, 'orleans': 2832, 'map': 2833, 'sales': 2834, 'survey': 2835, 'skills': 2836, 'were': 2837, 'login': 2838, 'bahamas': 2839, 'nola': 2840, '29': 2841, '13th': 2842, 'officer': 2843, 'inches': 2844, 'aviation': 2845, 'walking': 2846, 'bankrupt': 2847, 'basic': 2848, 'armrest': 2849, 'marks': 2850, 'folder': 2851, 'darn': 2852, 'embarrassed': 2853, 'transport': 2854, 'recording': 2855, 'lavatory': 2856, 'expire': 2857, 'kp': 2858, 'necessary': 2859, 'wind': 2860, 'tray': 2861, 'table': 2862, 'box': 2863, 'massive': 2864, 'annual': 2865, 'ù÷ï': 2866, '9pm': 2867, 'cleared': 2868, 'praying': 2869, 'sept': 2870, 'magic': 2871, 'selling': 2872, 'downgrade': 2873, 'customerservicefail': 2874, 'incoming': 2875, 'alot': 2876, 'smiling': 2877, 'admit': 2878, 'boss': 2879, 'desks': 2880, 'dobetter': 2881, \"yesterday's\": 2882, 'custserv': 2883, 'owe': 2884, 'messaged': 2885, 'water': 2886, 'timed': 2887, 'jt': 2888, 'gj': 2889, 'follows': 2890, 'mission': 2891, 'gotta': 2892, 'pref': 2893, 'communications': 2894, '72': 2895, 'blah': 2896, 'em': 2897, 'packed': 2898, 'provider': 2899, 'content': 2900, 'odd': 2901, 'omaha': 2902, 'died': 2903, '7th': 2904, 'lives': 2905, 'hits': 2906, \"could've\": 2907, 'magazine': 2908, 'benefit': 2909, 'greatservice': 2910, 'rno': 2911, 'theres': 2912, 'thousands': 2913, 'speedy': 2914, 'success': 2915, 'tues': 2916, 'dime': 2917, 'hitting': 2918, 'wanting': 2919, 'ivr': 2920, 'rule': 2921, 'fell': 2922, 'injury': 2923, 'sites': 2924, 'personally': 2925, 'hopeful': 2926, 'invalid': 2927, '8aug': 2928, 'heavily': 2929, 'arrangements': 2930, 'fired': 2931, 'conversation': 2932, 'offices': 2933, 'aka': 2934, 'ring': 2935, '79': 2936, 'loves': 2937, 'harbor': 2938, 'conflicting': 2939, 'greenville': 2940, 'indy': 2941, 'november': 2942, 'northeast': 2943, 'cmon': 2944, 'loose': 2945, 'hv': 2946, 'ticketing': 2947, 'resched': 2948, '\\x89': 2949, 'lunch': 2950, 'anxious': 2951, 'inclement': 2952, '630': 2953, 'gary': 2954, 'printed': 2955, 'partnership': 2956, 'utah': 2957, 'responsive': 2958, 'pwm': 2959, 'ù÷ô': 2960, 'park': 2961, 'aww': 2962, 'anticipate': 2963, 'lead': 2964, 'gain': 2965, 'unlike': 2966, 'wide': 2967, \"ya'll\": 2968, 'fastest': 2969, 'involved': 2970, 'dsm': 2971, 'vieques': 2972, 'barbados': 2973, 'e190': 2974, 'ù÷\\x90': 2975, 'ùôû': 2976, 'getittogether': 2977, 'brandmance': 2978, 'inform': 2979, 'kill': 2980, '475': 2981, 'haiti': 2982, 'waiver': 2983, 'bluemanity': 2984, '58': 2985, 'flyitforward': 2986, 'bottles': 2987, 'hub': 2988, 'birds': 2989, 'shoutout': 2990, 'we\\x89ûªll': 2991, 'meaning': 2992, 'jvmchat': 2993, 'sympathy': 2994, 'flydelta': 2995, 'women': 2996, 'merging': 2997, '699': 2998, 'key': 2999, 'vile': 3000, 'neptune': 3001, 'md80': 3002, '\\x89÷¼\\x95ü\\x8f': 3003, 'innovation': 3004, 'vegan': 3005, 'entered': 3006, 'touchdown': 3007, '24th': 3008, 'loads': 3009, 'q': 3010, 'redirected': 3011, 'cheapflights': 3012, 'farecompare': 3013, 'representatives': 3014, 'globe': 3015, 'destroyed': 3016, 'market': 3017, 'psp': 3018, 'pressure': 3019, 'safari': 3020, 'clicking': 3021, '413': 3022, 'todays': 3023, 'blasting': 3024, 'iced': 3025, 'severely': 3026, 'girls': 3027, 'expectations': 3028, 'santa': 3029, 'exhausted': 3030, 'refunding': 3031, 'financial': 3032, 'surgery': 3033, 'regulation': 3034, 'consecutive': 3035, 'sees': 3036, 'increased': 3037, '50am': 3038, 'ct': 3039, 'temperature': 3040, 'section': 3041, 'ùôü': 3042, 'ùà¼': 3043, 'ù÷´': 3044, 'mentioned': 3045, 'bruh': 3046, '2d': 3047, 'embossed': 3048, 'patches': 3049, 'standards': 3050, \"ella's\": 3051, 'cue': 3052, 'exist': 3053, 'requirement': 3054, 'develop': 3055, 'jack': 3056, 'thurs': 3057, 'cheese': 3058, 'richard': 3059, 'network': 3060, 'umm': 3061, 'recieved': 3062, 'mr': 3063, 'risk': 3064, 'accident': 3065, 'emailing': 3066, 'debacle': 3067, 'caring': 3068, 'int': 3069, 'married': 3070, 'touched': 3071, 'removal': 3072, \"cessna's\": 3073, \"747's\": 3074, 'username': 3075, 'guitars': 3076, 'addition': 3077, 'preboard': 3078, 'active': 3079, 'brain': 3080, 'handed': 3081, 'coincidence': 3082, 'apps': 3083, 'new': 3084, 'silly': 3085, '30th': 3086, 'negligence': 3087, 'negotiate': 3088, 'coats': 3089, 'unavailable': 3090, 'donate': 3091, 'shocking': 3092, 'paste': 3093, 'century': 3094, 'severe': 3095, 'lostluggage': 3096, 'china': 3097, '5am': 3098, 'compliment': 3099, 'pays': 3100, 'assured': 3101, 'strange': 3102, 'lbs': 3103, 'hou': 3104, 'regret': 3105, 'delhi': 3106, 'thin': 3107, 'overbook': 3108, 'adopting': 3109, 'ftw': 3110, 'sched': 3111, 'manually': 3112, 'friendlyskies': 3113, 'bed': 3114, 'devices': 3115, 'failures': 3116, 'norm': 3117, 'terrific': 3118, 'reports': 3119, 'clothing': 3120, '746': 3121, 'randomly': 3122, 'kindle': 3123, 'jp\\x89û\\x9d': 3124, \"daughter's\": 3125, 'caught': 3126, 'ey\\x89û\\x9d': 3127, 'attached': 3128, '6232': 3129, 'yelling': 3130, 'connector': 3131, 'shall': 3132, 'incur': 3133, 'assuming': 3134, 'pqd': 3135, 'discrimination': 3136, 'resume': 3137, 'rarely': 3138, \"that's\": 3139, \"someone's\": 3140, 'theworst': 3141, 'enquires': 3142, 'understatement': 3143, 'characters': 3144, 'robin': 3145, 'hosting': 3146, 'beauty': 3147, 'partial': 3148, 'nrt': 3149, 'practical': 3150, 'retrain': 3151, 'puts': 3152, 'confusing': 3153, '6th': 3154, 'scott': 3155, 'del': 3156, 'segment': 3157, 'searching': 3158, 'b767': 3159, 'zurich': 3160, 'lisa': 3161, 'hanger': 3162, 'robotic': 3163, 'deck': 3164, 'servicefail': 3165, 'acknowledge': 3166, 'dot': 3167, 'efficient': 3168, 'definition': 3169, 'wake': 3170, 'bf': 3171, '11th': 3172, '10am': 3173, 'jacked': 3174, 'grand': 3175, 'reconsider': 3176, 'pat': 3177, 'restore': 3178, 'pretzels': 3179, 'lowered': 3180, 'ranked': 3181, 'intentionally': 3182, 'toronto': 3183, 'strategy': 3184, 'segments': 3185, 'bagage': 3186, 'describe': 3187, 'probs': 3188, '501': 3189, 'albuquerque': 3190, 'strikes': 3191, 'nowhere': 3192, 'planet': 3193, 'hayden': 3194, 'dark': 3195, 'origin': 3196, 'ana': 3197, 'ùªé': 3198, 'boise': 3199, 'atc': 3200, 'kiosk': 3201, 'smallest': 3202, 'ad': 3203, 'dunno': 3204, 'toilets': 3205, 'outrageous': 3206, '24h': 3207, 'every': 3208, 'tvs': 3209, 'crashing': 3210, 'stranding': 3211, 'bereavement': 3212, '403': 3213, 'tucson': 3214, 'notifying': 3215, '757': 3216, 'ontime': 3217, 'redeemed': 3218, 'cae': 3219, 'deleted': 3220, 'staffed': 3221, 'hospitality': 3222, 'anthony': 3223, 'snowboard': 3224, 'honolulu': 3225, 'miler': 3226, 'sacramento': 3227, 'arranged': 3228, 'providence': 3229, 'shouldnt': 3230, 'layovers': 3231, 'quicker': 3232, 'cranky': 3233, 'mths': 3234, 'easiest': 3235, 'con': 3236, 'accidentally': 3237, 'duh': 3238, 'tremendous': 3239, '4x': 3240, \"tonight's\": 3241, 'goal': 3242, 'operator': 3243, 'nature': 3244, 'orig': 3245, 'cookies': 3246, 'operators': 3247, 'calgary': 3248, 'approve': 3249, 'ship': 3250, 'halfway': 3251, 'texted': 3252, 'congratulations': 3253, 'remind': 3254, 'lmfao': 3255, 'assignment': 3256, 'ali': 3257, 'collection': 3258, 'pen': 3259, \"son's\": 3260, 'remains': 3261, 'jax': 3262, 'responds': 3263, 'ages': 3264, 'hmmm': 3265, 'normally': 3266, 'robbed': 3267, 'trash': 3268, 'aboard': 3269, 'stock': 3270, 'threatened': 3271, 'messing': 3272, '21st': 3273, '02': 3274, 'cruise': 3275, 'inefficient': 3276, 'promising': 3277, 'favor': 3278, 'awkward': 3279, 'detail': 3280, 'forgive': 3281, 'newyork': 3282, 'consideration': 3283, 'smoothly': 3284, 'becoming': 3285, 'brothers': 3286, 'thomas': 3287, 'seemed': 3288, 'owner': 3289, \"else's\": 3290, 'ignore': 3291, '05pm': 3292, 'idiot': 3293, 'google': 3294, 'refuel': 3295, 'bro': 3296, 'remote': 3297, 'insulting': 3298, 'booze': 3299, 'twelve': 3300, 'clarification': 3301, 'letsgo': 3302, \"mom's\": 3303, 'therefore': 3304, 'notimpressed': 3305, 'repeat': 3306, 'misleading': 3307, '750': 3308, 'played': 3309, 'pile': 3310, 'jets': 3311, 'patiently': 3312, 'chocolate': 3313, 'arrange': 3314, 'kit': 3315, 'jeff': 3316, 'chill': 3317, 'shirt': 3318, '55pm': 3319, 'donation': 3320, 'galley': 3321, 'alive': 3322, 'nocustomerservice': 3323, 'dial': 3324, 'accordingly': 3325, 'duty': 3326, 'fave': 3327, 'problemss': 3328, 'dpt': 3329, 'average': 3330, 'expedited': 3331, 'refundable': 3332, 'hide': 3333, 'force': 3334, 'falls': 3335, 'oversold': 3336, 'admiral': 3337, 'experiencing': 3338, 'considered': 3339, 'rant': 3340, 'woo': 3341, 'sop': 3342, 'pet': 3343, 'entering': 3344, 'supposedly': 3345, 'incorrect': 3346, 'storms': 3347, 'promotions': 3348, 'parent': 3349, 'dep': 3350, 'equally': 3351, '1200': 3352, 'uniform': 3353, 'loc': 3354, 'punta': 3355, 'cana': 3356, 'linked': 3357, 'rushed': 3358, 'treats': 3359, 'specifically': 3360, 'selection': 3361, 'unaware': 3362, 'subpar': 3363, 'corrected': 3364, 'sydney': 3365, 'oscar': 3366, 'sticking': 3367, 'rudest': 3368, \"tv's\": 3369, 'midland': 3370, 'approved': 3371, 'movies': 3372, 'boeing': 3373, 'screens': 3374, 'crackers': 3375, 'hoped': 3376, 'comments': 3377, 'feed': 3378, 'locked': 3379, 'shannon': 3380, 'lowest': 3381, 'forms': 3382, 'priced': 3383, 'honored': 3384, 'dang': 3385, 'passing': 3386, 'clubs': 3387, 'internal': 3388, 'flyunited': 3389, 'moments': 3390, 'functionality': 3391, 'rudeness': 3392, 'highlight': 3393, 'holy': 3394, 'everywhere': 3395, 'entirely': 3396, 'boat': 3397, 'disorganized': 3398, 'nicer': 3399, '1am': 3400, '34': 3401, 'packages': 3402, 'proceed': 3403, 'anamarketers': 3404, 'birth': 3405, 'clever': 3406, 'allows': 3407, 'black': 3408, 'temp': 3409, 'profile': 3410, 'parking': 3411, 'l': 3412, 'streaming': 3413, 'waits': 3414, 'hero': 3415, 'signal': 3416, 'reflect': 3417, 'integration': 3418, 'interaction': 3419, 'arizona': 3420, 'daytona': 3421, 'signs': 3422, 'a1': 3423, '3130': 3424, 'aruba': 3425, 'telephone': 3426, 'color': 3427, 'elderly': 3428, 'jamaica': 3429, 'nolove': 3430, 'battery': 3431, 'ù÷\\x8f': 3432, 'holdup': 3433, 'az': 3434, 'maiden': 3435, 'coupons': 3436, 'toddler': 3437, 'spirit': 3438, 'doug': 3439, 'servicing': 3440, 'books': 3441, 'indianapolis': 3442, 'disrespectful': 3443, 'students': 3444, 'êáå¡': 3445, '5pm': 3446, 'stories': 3447, 'amex': 3448, 'gracias': 3449, 'trained': 3450, 'rid': 3451, '11am': 3452, '\\x95ü\\x8f\\x89\\x9d': 3453, 'bottom': 3454, '830': 3455, 'bestairline': 3456, 'ragandisney': 3457, 'recovery': 3458, 'wknd': 3459, 'airplanes': 3460, '4251': 3461, 'guest': 3462, 'nh': 3463, 'letters': 3464, 'tryin': 3465, 'film': 3466, 'txt': 3467, 'thank': 3468, 'ùõø': 3469, 'mt': 3470, 'ù÷ê': 3471, 'create': 3472, 'balls': 3473, \"that'd\": 3474, 'pooling': 3475, 'companies': 3476, 'madness': 3477, 'sc': 3478, 'deny': 3479, 'um': 3480, '¦': 3481, 'nassau': 3482, 'jetbae': 3483, 'ù\\x8dé': 3484, 'gladly': 3485, 'glass': 3486, 'idk': 3487, 'odds': 3488, '05am': 3489, '37': 3490, '599': 3491, '3yr': 3492, 'b6': 3493, 'yest': 3494, 'gorgeous': 3495, '30a': 3496, 'sunshine': 3497, 'circle': 3498, 'brandloveaffair': 3499, 'havent': 3500, 'c26': 3501, 'nasdaq': 3502, 'loosing': 3503, 'dl': 3504, 'div': 3505, '669': 3506, 'seven': 3507, '424': 3508, 'lovejetblue': 3509, 'hopes': 3510, '69': 3511, 'choices': 3512, 'letter': 3513, 'comm': 3514, 'nvr': 3515, 'marie': 3516, '645': 3517, 'alaska': 3518, 'anybody': 3519, 'style': 3520, '\\x90\\x95ü\\x8f\\x89': 3521, 'picks': 3522, '639': 3523, 'frustrations': 3524, 'flightaware': 3525, 'late': 3526, 'able': 3527, 'cincy': 3528, 'drunks': 3529, 'sabre': 3530, 'kphl': 3531, 'phil': 3532, 'dividends': 3533, 'lodging': 3534, 'fear': 3535, '428': 3536, '4322': 3537, 'usairsucks': 3538, 'dozens': 3539, '680': 3540, 'srvc': 3541, 'jeanine': 3542, 'cho': 3543, 'yuma': 3544, 'logistics': 3545, 'assult': 3546, 'ep': 3547, 'aggressive': 3548, 'faces': 3549, 'prime': 3550, 'worstflightever': 3551, 'roasted': 3552, '89': 3553, '2a': 3554, 'downtown': 3555, 'blew': 3556, 'entertaining': 3557, '769': 3558, 'julie': 3559, 'andrews': 3560, 'mary': 3561, 'modify': 3562, 'neverflyvirginforbusiness': 3563, 'interested': 3564, 'distribution': 3565, 'scanned': 3566, 'prince': 3567, 'appointments': 3568, 'peeps': 3569, 'apt': 3570, 'version': 3571, 'ùî': 3572, 'butt': 3573, 'reputation': 3574, '120': 3575, 'hotline': 3576, 'indicates': 3577, 'dude': 3578, 'spoiled': 3579, 'comfort': 3580, 'refreshed': 3581, 'wine': 3582, 'browsers': 3583, 'southwestair': 3584, 'dance': 3585, 'wing': 3586, 'recline': 3587, '404': 3588, 'pros': 3589, 'precipitation': 3590, 'refusing': 3591, 'hahaha': 3592, 'unusable': 3593, '910': 3594, 'sanfrancisco': 3595, 'painless': 3596, 'woaw': 3597, 'shares': 3598, 'arms': 3599, 'mayweatherpacquiao': 3600, 'ordered': 3601, 'soooo': 3602, 'dislike': 3603, 'winds': 3604, 'mostly': 3605, 'ù÷÷': 3606, 'urgent': 3607, 'cancer': 3608, 'duffle': 3609, 'soft': 3610, 'challenge': 3611, 'ùàü': 3612, 'pink': 3613, 'mood': 3614, 'lighting': 3615, 'celebrating': 3616, 'atx': 3617, 'ploughs': 3618, 'lone': 3619, 'furrow': 3620, 'middleeast': 3621, 'channel': 3622, 'announces': 3623, 'consumers': 3624, 'minneapolis': 3625, 'waived': 3626, 'deicing': 3627, 'eri': 3628, 'hugely': 3629, 'hop': 3630, 'glasgow': 3631, 'ta': 3632, 'logic': 3633, '26th': 3634, 'gee': 3635, 'repeatedly': 3636, 'terminals': 3637, 'newly': 3638, 'instructed': 3639, 'regulations': 3640, 'expense': 3641, 'ua1116': 3642, 'expenses': 3643, 'codeshare': 3644, 'breaks': 3645, 'disabled': 3646, 'flex': 3647, 'plague': 3648, 'complained': 3649, 'roger': 3650, 'buddies': 3651, 'worst2unitedflightsever': 3652, 'resolutions': 3653, 'elsewhere': 3654, '08': 3655, 'ey': 3656, 'repeated': 3657, 'neglect': 3658, 'legitimate': 3659, 'unrelate': 3660, 'continually': 3661, 'tourist': 3662, 'indication': 3663, 'quoted': 3664, 'remembered': 3665, 'dms': 3666, 'recommended': 3667, 'completed': 3668, 'taxis': 3669, 'skiing': 3670, 'bright': 3671, 'pack': 3672, 'encountered': 3673, 'b1': 3674, 'stressed': 3675, 'strangers': 3676, 'stall': 3677, 'rearrange': 3678, 'jp': 3679, '0016': 3680, 'ethiopia': 3681, 'ua938': 3682, 'frigid': 3683, 'unscheduled': 3684, 'sandwich': 3685, 'quiet': 3686, 'suspect': 3687, 'madrid': 3688, 'mass': 3689, 'membership': 3690, 'fairs': 3691, 'reinstated': 3692, 'christmas': 3693, 'secured': 3694, 'greetings': 3695, 'what\\x89ûªs': 3696, 'vice': 3697, 'eagle': 3698, 'tool': 3699, 'ex': 3700, 'voided': 3701, 'argument': 3702, '73': 3703, '1472': 3704, 'shaking': 3705, 'committed': 3706, 'etihad': 3707, 'isis': 3708, '2000': 3709, 'jh\\x89û\\x9d': 3710, 'blocked': 3711, 'ms': 3712, 'assisting': 3713, 'musicians': 3714, 'tuned': 3715, 'deaf': 3716, 'president': 3717, 'dublin': 3718, 'pjs': 3719, 'confidence': 3720, 'woke': 3721, 'coworker': 3722, '56': 3723, 'settled': 3724, 'preboarding': 3725, 'kick': 3726, 'compared': 3727, 'bkk': 3728, 'collect': 3729, 'formally': 3730, 'handler': 3731, 'pointless': 3732, 'stunning': 3733, 'piss': 3734, 'fake': 3735, 'deplaning': 3736, 'yyz': 3737, 'pray': 3738, '30mins': 3739, '174': 3740, 'slightly': 3741, 'altitude': 3742, 'drops': 3743, '400er': 3744, '683': 3745, '634': 3746, \"child's\": 3747, '2012': 3748, 'terribleservice': 3749, 'blatant': 3750, 'wreck': 3751, 'ons': 3752, 'groups': 3753, 'hopeless': 3754, 'solutions': 3755, '80s': 3756, 'snowstorm': 3757, 'peace': 3758, 'disgraceful': 3759, 'filling': 3760, 'inept': 3761, 'fucken': 3762, 'frontrunner': 3763, 'oscars2016': 3764, 'charm': 3765, 'performing': 3766, 'stayed': 3767, '1051': 3768, '8th': 3769, 'regards': 3770, 'sunglasses': 3771, 'singapore': 3772, '435': 3773, 'bull': 3774, 'dreams': 3775, 'worker': 3776, 'happycustomer': 3777, 'timing': 3778, 'otis': 3779, 'irresponsible': 3780, 'sympathetic': 3781, 'paulo': 3782, 'relative': 3783, 'rcvd': 3784, 'comedy': 3785, \"ain't\": 3786, 'discover': 3787, 'voicemail': 3788, 'inaccurate': 3789, 'resolving': 3790, 'educate': 3791, 'intention': 3792, 'practices': 3793, 'sjo': 3794, 'arrogant': 3795, 'thus': 3796, 'fewer': 3797, 'overflight': 3798, 'seg': 3799, 'siting': 3800, 'shv': 3801, 'separated': 3802, 'radio': 3803, 'continuous': 3804, 'disgruntled': 3805, 'screaming': 3806, 'talks': 3807, '1600': 3808, 'carryons': 3809, '15mins': 3810, 'strongly': 3811, 'norfolk': 3812, 'renting': 3813, 'allowance': 3814, 'grandfather': 3815, 'approaching': 3816, '45pm': 3817, 'pants': 3818, 'empathy': 3819, 'delete': 3820, 'happier': 3821, 'priceless': 3822, 'thread': 3823, 'eco': 3824, 'purchasing': 3825, 'shoulder': 3826, 'pressurization': 3827, 'cnx': 3828, 'checkpoint': 3829, 'throw': 3830, 'immediate': 3831, 'visible': 3832, 'guidelines': 3833, \"dm'ed\": 3834, 'taxing': 3835, 'shouldhaveflowndelta': 3836, 'clarify': 3837, 'conversations': 3838, 'bk': 3839, 'tks': 3840, 'border': 3841, 'trvl': 3842, 'finds': 3843, 'appreciation': 3844, 'perk': 3845, 'jeokoo': 3846, 'solo': 3847, \"100's\": 3848, 'exclusively': 3849, 'qantas': 3850, 'cruel': 3851, 'flattering': 3852, 'legit': 3853, 'increase': 3854, 'ua936': 3855, '6hrs': 3856, 'speaks': 3857, 'approx': 3858, 'regardless': 3859, 'inch': 3860, 'directtv': 3861, 'transit': 3862, 'activities': 3863, 'culture': 3864, 'opal': 3865, 'woven': 3866, 'murdering': 3867, 'pens': 3868, 'internationally': 3869, 'turnaround': 3870, 'individual': 3871, 'blame': 3872, 'concept': 3873, 'econ': 3874, 'submitting': 3875, 'carried': 3876, '15min': 3877, 'competent': 3878, 'catered': 3879, 'guessing': 3880, 'hole': 3881, 'nothin': 3882, \"wouldn't\": 3883, 'backlog': 3884, 'expedia': 3885, 'difficulties': 3886, 'upgrading': 3887, 'advised': 3888, 'downhill': 3889, 'dub': 3890, 'inevitable': 3891, 'cramped': 3892, 'greedy': 3893, 'lh': 3894, 'noted': 3895, 'hundred': 3896, \"king'scollegelondon\": 3897, 'jailbreak': 3898, 'rag': 3899, 'columbia': 3900, '795': 3901, 'wks': 3902, 'situations': 3903, 'cheer': 3904, 'explanations': 3905, 'ordeal': 3906, 'notgoodenough': 3907, '767': 3908, 'pound': 3909, 'blankets': 3910, 'verify': 3911, 'improved': 3912, 'bye': 3913, 'former': 3914, 'pia': 3915, 'quit': 3916, 'blowing': 3917, 'transfers': 3918, 'beware': 3919, 'memory': 3920, 'base': 3921, 'beg': 3922, 'isn\\x89ûªt': 3923, 'waivers': 3924, 'frontier': 3925, 'combine': 3926, 'harsh': 3927, 'entitled': 3928, 'reeks': 3929, 'vomit': 3930, 'indicated': 3931, '304': 3932, 'reminding': 3933, 'expiring': 3934, 'enjoyable': 3935, 'path': 3936, 'relief': 3937, 'warmth': 3938, 'sentiment': 3939, 'regional': 3940, 'friendliest': 3941, 'tokyo': 3942, '2hours': 3943, 'clarifying': 3944, 'thousand': 3945, 'stow': 3946, 'pnr': 3947, 'smisek': 3948, 'exceptions': 3949, 'misplaced': 3950, 'mouse': 3951, 'rubber': 3952, 'issuing': 3953, 'hug': 3954, 'hangar': 3955, 'prem': 3956, 'rented': 3957, 'janet': 3958, 'erj145': 3959, 'alternatives': 3960, '1701': 3961, 'entry': 3962, 'sobewff': 3963, 'lights': 3964, 'resulting': 3965, 'stepping': 3966, 'ont': 3967, 'uncaring': 3968, 'pro': 3969, 'shots': 3970, 'perth': 3971, 'dest': 3972, 'nxt': 3973, 'evry': 3974, '4840': 3975, 'mht': 3976, 'multi': 3977, 'silence': 3978, 'stars': 3979, '1007': 3980, 'fair': 3981, 'moon': 3982, 'argentina': 3983, 'fr': 3984, 'pleasantly': 3985, 'replied': 3986, 'flexibility': 3987, 'awake': 3988, 'shipped': 3989, 'nothanks': 3990, 'promptly': 3991, '440': 3992, '1583': 3993, 'pretend': 3994, 'it\\x89ûªs': 3995, '28th': 3996, 'incorrectly': 3997, '4hr': 3998, 'ua1740': 3999, 'travellers': 4000, 'stillwaiting': 4001, 'slip': 4002, 'overseas': 4003, 'ù÷è': 4004, 'registered': 4005, 'stopping': 4006, 'accomplished': 4007, 'batting': 4008, 'boys': 4009, 'headache': 4010, 'procedures': 4011, '7pm': 4012, 'hardworking': 4013, 'capital': 4014, 'reinstate': 4015, 'invite': 4016, 'fallow': 4017, 'health': 4018, 'guaranteed': 4019, 'math': 4020, 'shocked': 4021, 'metro': 4022, 'laugh': 4023, 'nonexistent': 4024, 'insufficient': 4025, 'sub': 4026, 'par': 4027, '10a': 4028, 'certificates': 4029, 'cats': 4030, 'apparent': 4031, 'blown': 4032, 'technology': 4033, 'coworkers': 4034, 'cert': 4035, 'storage': 4036, 'bitch': 4037, 'knees': 4038, 'windows': 4039, 'wrap': 4040, '900': 4041, 'precious': 4042, 'fortunately': 4043, 'volumes': 4044, 'court': 4045, 'hashtag': 4046, 'warnings': 4047, 'previously': 4048, 'equal': 4049, '45mins': 4050, 'payed': 4051, 'headaches': 4052, 'federal': 4053, 'fella': 4054, 'presented': 4055, 'hometown': 4056, 'guests': 4057, 'hypocrisy': 4058, 'replaced': 4059, 'captive': 4060, 'jane': 4061, 'input': 4062, 'hidden': 4063, 'protect': 4064, 'asks': 4065, 'ferry': 4066, 'inbox': 4067, 'honoring': 4068, 'assignments': 4069, 'outdated': 4070, 'myers': 4071, 'durango': 4072, 'meantime': 4073, 'survive': 4074, 'stays': 4075, 'proactive': 4076, 'budget': 4077, 'pregnant': 4078, 'ffl': 4079, 'taylor': 4080, 'vallarta': 4081, 'honey': 4082, 'checks': 4083, 'finger': 4084, 'runs': 4085, 'france': 4086, 'affordable': 4087, 'data': 4088, 'urgently': 4089, 'receipts': 4090, 'lynn': 4091, 'cb': 4092, 'nephew': 4093, 'lindsey': 4094, 'principle': 4095, 'larger': 4096, 'nonprofit': 4097, 'corp': 4098, 'peanut': 4099, 'combination': 4100, 'texting': 4101, 'luvswa': 4102, 'capacity': 4103, 'closes': 4104, 'entertain': 4105, 'proving': 4106, 'locals': 4107, 'apologizing': 4108, 'cellphone': 4109, '85832': 4110, 'grateful': 4111, 'stops': 4112, 'intercom': 4113, 'chg': 4114, 'rudely': 4115, 'flgt': 4116, 'scene': 4117, '68': 4118, '653': 4119, 'unveils': 4120, 'ohio': 4121, 'series': 4122, 'b11': 4123, 'robot': 4124, 'knowledge': 4125, 'huntsville': 4126, 'carpet': 4127, 'sons': 4128, 'amazed': 4129, 'homeless': 4130, 'unpleasant': 4131, 'props': 4132, 'project': 4133, 'ùõ\\x81': 4134, '52': 4135, 'soaked': 4136, 'comped': 4137, 'boycott': 4138, 'marketing': 4139, 'impression': 4140, 'ù÷ð': 4141, 'goin': 4142, 'photos': 4143, 'seatac': 4144, 'wld': 4145, 'relax': 4146, 'concert': 4147, 'sudden': 4148, 'restroom': 4149, 'el': 4150, 'coordinate': 4151, '118': 4152, 'craziness': 4153, 'stations': 4154, 'wheelsup': 4155, 'portion': 4156, 'colleague': 4157, 'insist': 4158, 'complicated': 4159, 'winterweather': 4160, 'cxld': 4161, 'jumped': 4162, 'horror': 4163, 'sleet': 4164, 'condition': 4165, 'divert': 4166, 'soul': 4167, 'range': 4168, 'rip': 4169, 'buyer': 4170, 'rn': 4171, 'jacquie': 4172, 'plitt': 4173, 'unhappycustomer': 4174, 'refer': 4175, 'laws': 4176, 'steal': 4177, 'srsly': 4178, 'gosh': 4179, 'xx': 4180, 'gogo': 4181, 'happiness': 4182, 'paypal': 4183, '\\x89ª´\\x95ü\\x8f': 4184, 'android': 4185, 'gng': 4186, '2b': 4187, 'weekends': 4188, 'carolina': 4189, 'under': 4190, 'aug': 4191, \"80's\": 4192, 'gotcha': 4193, 'bathrooms': 4194, 'gmail': 4195, 'hrl': 4196, 'oversize': 4197, '152': 4198, 'forgotten': 4199, 'protocol': 4200, 'few': 4201, '\\x89÷û\\x95ü\\x8f': 4202, '50k': 4203, 'co': 4204, 'agt': 4205, 'mvp': 4206, 'understands': 4207, 'physically': 4208, 'filing': 4209, 'whoa': 4210, 'giant': 4211, 'stewardesses': 4212, 'ahhhh': 4213, '\\x89ûï': 4214, 'ing': 4215, 'sooo': 4216, 'display': 4217, 'flysouthwest': 4218, 'behavior': 4219, 'babies': 4220, 'bike': 4221, 'communicated': 4222, 'test': 4223, 'imo': 4224, 'rocked': 4225, 'separately': 4226, 'runways': 4227, 'tul': 4228, 'caller': 4229, 'oct': 4230, 'attitudes': 4231, 'callback': 4232, 'inability': 4233, 'staffing': 4234, 'jetbluesofly': 4235, 'deplorable': 4236, '2016': 4237, 'n598jb': 4238, 'uvf': 4239, 'westchester': 4240, 'redirect': 4241, 'discovered': 4242, 'stealing': 4243, 'blank': 4244, 'toledo': 4245, 'sm': 4246, 'ùóµ': 4247, 'lord': 4248, 'community': 4249, 'managers': 4250, 'awww': 4251, 'woof': 4252, 'charter': 4253, 'surely': 4254, 'joanna': 4255, 'specified': 4256, 'maimi': 4257, '125': 4258, 'testing': 4259, 'terms': 4260, 'geeks': 4261, 'forecast': 4262, 'disorganization': 4263, 'nd': 4264, 'apologizes': 4265, 'untz': 4266, 'syracuse': 4267, 'pics': 4268, 'hayes': 4269, '1970': 4270, '561': 4271, 'endless': 4272, 'srq': 4273, '33': 4274, '45am': 4275, 'jetbluerocks': 4276, 'lil': 4277, 'port': 4278, 'coke': 4279, 'praise': 4280, 'chs': 4281, 'mercy': 4282, 'ourselves': 4283, 'marathon': 4284, 'ping': 4285, 'likelihood': 4286, 'trading': 4287, 'reality': 4288, 'lovesongfriday': 4289, 'classes': 4290, 'tb': 4291, 'crewmember': 4292, 'island': 4293, 'pictures': 4294, '10hrs': 4295, 'sys': 4296, 'qualify': 4297, 'coverage': 4298, 'unwilling': 4299, 'vacations': 4300, '597': 4301, \"'bluemanity'\": 4302, 'fed': 4303, 'youth': 4304, 'bottle': 4305, 'sensitive': 4306, '40min': 4307, 'exists': 4308, 'awe': 4309, 'crewmembers': 4310, 'rings': 4311, 'challenging': 4312, 'breast': 4313, 'utterly': 4314, 'grace': 4315, 'bougth': 4316, 'mc': 4317, 'basket': 4318, 'vm': 4319, 'argued': 4320, '686': 4321, 'detailed': 4322, 'single': 4323, 'chairmans': 4324, 'shock': 4325, 'derrick': 4326, 'bussey': 4327, 'eyw': 4328, 'kim': 4329, '545': 4330, 'cargo': 4331, 'inconvenienced': 4332, '445': 4333, 'restrictions': 4334, 'gainesville': 4335, 'pst': 4336, 'sauce': 4337, '799': 4338, 'onholdwith': 4339, 'goingforgreatnessfail': 4340, '759': 4341, '837': 4342, 'gso': 4343, 'unload': 4344, 'housing': 4345, '4435': 4346, '1898': 4347, 'contingency': 4348, 'unusual': 4349, 'b16': 4350, 'colleagues': 4351, 'xna': 4352, \"you'll\": 4353, 'faulty': 4354, 'cherry': 4355, 'crowded': 4356, 'horriblecustomerservice': 4357, 'joined': 4358, 'diversion': 4359, 'callers': 4360, 'onhold': 4361, 'billing': 4362, 'cr': 4363, 'fresno': 4364, 'yousuck': 4365, '35x': 4366, 'bout': 4367, 'appreciates': 4368, 'manch': 4369, 'faithful': 4370, 'es': 4371, '4420': 4372, 'meds': 4373, 'inferior': 4374, '556': 4375, '1917': 4376, 'yell': 4377, 'provides': 4378, 'waivethefee': 4379, 'notmyfault': 4380, 'deadhead': 4381, 'aa2444': 4382, 'cot': 4383, 'rampers': 4384, 'sexual': 4385, 'wichita': 4386, \"aa's\": 4387, 'veers': 4388, 'auh': 4389, 'worstcustomerserviceever': 4390, 'b787': 4391, 'revs': 4392, 'goodbye': 4393, 'evoucher': 4394, '1081': 4395, 'alternative': 4396, '2222': 4397, 'cll': 4398, 'badmgmt': 4399, 'hoops': 4400, 'blast': 4401, 'obnoxious': 4402, 'men': 4403, 'hats': 4404, 'gentleman': 4405, 'amazingly': 4406, 'permanently': 4407, 'maneuver': 4408, 'lf': 4409, 'vibe': 4410, 'moodlitmonday': 4411, 'sciencebehindtheexperience': 4412, 'moodlighting': 4413, 'los': 4414, 'angeles': 4415, 'mountains': 4416, 'ù\\x8dá': 4417, 'ùõ¼\\x89ïö\\x95ü\\x8f': 4418, 'spotify': 4419, 'gaga': 4420, 'carrie': 4421, 'meh': 4422, 'tables': 4423, 'floors': 4424, 'films': 4425, 'sneaky': 4426, 'tripping': 4427, '\\x89ïö': 4428, 'represents': 4429, 'compatible': 4430, 'delighted': 4431, 'intern': 4432, 'xoxo': 4433, 'creates': 4434, 'anxiety': 4435, 'princesshalf': 4436, '713': 4437, 'css': 4438, \"investor's\": 4439, '88': 4440, 'inquired': 4441, 'restr': 4442, 'thrown': 4443, \"rec'd\": 4444, 'goodness': 4445, 'killed': 4446, 'mac': 4447, 'subsequent': 4448, 'silicon': 4449, '7d': 4450, 'shift': 4451, 'impending': 4452, 'ù\\x8dü': 4453, 'sentinel': 4454, 'luxuries': 4455, '883': 4456, 'female': 4457, 'seatbelt': 4458, 'exceed': 4459, 'forecasts': 4460, 'profitability': 4461, 'sorrynotsorry': 4462, 'sanity': 4463, 'comps': 4464, 'assets': 4465, 'battling': 4466, 'freyasfund': 4467, 'stunned': 4468, '550': 4469, 'momma': 4470, 'portfolio': 4471, 'tonite': 4472, 'jkf': 4473, 'bound': 4474, 'rockstar': 4475, 'ourprincess': 4476, 'ùî\\x8f': 4477, 'adore': 4478, 'mere': 4479, 'product': 4480, 'digging': 4481, 'singer': 4482, 'vx399': 4483, 'squared': 4484, 'avis': 4485, 'gesture': 4486, 'yummy': 4487, 'hair': 4488, '4c': 4489, 'bounce': 4490, 'donkey': 4491, 'integrate': 4492, 'slots': 4493, 'caffeine': 4494, 'wings': 4495, 'intro': 4496, 'returns': 4497, 'refreshing': 4498, 'a319': 4499, 'expanding': 4500, 'sandiego': 4501, 'nerdbird': 4502, 'frequency': 4503, 'lock': 4504, '747': 4505, 'bff': 4506, 'steel': 4507, 'hotspot': 4508, 'grouping': 4509, 'exposed': 4510, 'cus': 4511, 'definitive': 4512, 'reclining': 4513, 'enroll': 4514, 'potentially': 4515, 'town': 4516, 'nonrefundable': 4517, 'flawed': 4518, 'adult': 4519, 'recheck': 4520, 'loaner': 4521, 'awhile': 4522, \"'on\": 4523, \"time'\": 4524, 'austrian': 4525, 'colo': 4526, 'avoided': 4527, 'addresses': 4528, 'disability': 4529, 'grp': 4530, 'considerable': 4531, 'improvement': 4532, 'sp': 4533, 'construction': 4534, 'os': 4535, '441': 4536, 'wc': 4537, 'surly': 4538, 'folk': 4539, 'informative': 4540, '768': 4541, 'booted': 4542, 'unaccompanied': 4543, 'bench': 4544, 'hannah': 4545, 'surgeries': 4546, 'remorse': 4547, 'obvious': 4548, 'intact': 4549, 'systemwide': 4550, 'tides': 4551, 'french': 4552, 'coasts': 4553, '3659': 4554, 'prepares': 4555, 'reduce': 4556, 'bot': 4557, 'fiancì©e': 4558, 'panic': 4559, 'steve': 4560, 'politely': 4561, 'convenient': 4562, 'iceland': 4563, 'various': 4564, 'requests': 4565, 'lusaka': 4566, 'transatlantic': 4567, 'thanx': 4568, 'sti': 4569, 'season': 4570, 'holiday': 4571, 'frankly': 4572, 'defines': 4573, 'runaround': 4574, 'kul': 4575, 'kn\\x89û\\x9d': 4576, 'bergstrom': 4577, 'screws': 4578, 'consolation': 4579, '917': 4580, 'centers': 4581, 'challenges': 4582, 'publicly': 4583, \"vacation's\": 4584, 'rain': 4585, 'phn': 4586, 'mammoth': 4587, 'reviewed': 4588, 'impress': 4589, '110': 4590, 'holidays': 4591, \"team's\": 4592, 'cpap': 4593, 'patterns': 4594, 'tags': 4595, '2am': 4596, 'beverage': 4597, 'refueling': 4598, '4ward': 4599, 'sked': 4600, 'resulted': 4601, 'prevented': 4602, 'advising': 4603, 'fro': 4604, 'projects': 4605, 'dispatch': 4606, 'adjacent': 4607, 'pacific': 4608, \"pj's\": 4609, '25th': 4610, 'wastedtime': 4611, 'ua1516': 4612, 'reno': 4613, 'begin': 4614, '55am': 4615, 'laughed': 4616, 'thanked': 4617, 'goodenoughmother': 4618, 'cared': 4619, 'agnt': 4620, 'threatens': 4621, 'permission': 4622, 'ph6rps': 4623, 'overwhelmed': 4624, 'ohare': 4625, 'upload': 4626, 'goodnight': 4627, 'searched': 4628, 'bom': 4629, 'saver': 4630, 'fit': 4631, 'bio': 4632, 'placing': 4633, 'kevin': 4634, 'investigated': 4635, 'enuf': 4636, 'belfast': 4637, 'raising': 4638, 'communicationfail': 4639, 'reaches': 4640, 'clearing': 4641, 'art': 4642, 'reuniting': 4643, 'recovering': 4644, 'mention': 4645, 'measure': 4646, 'max': 4647, 'epicfailunited': 4648, 'winston': 4649, '1254': 4650, 'gains': 4651, 'wiped': 4652, 'thrilled': 4653, 'slowly': 4654, 'ùôà': 4655, 'jimmy': 4656, 'samartzis': 4657, 'surf': 4658, 'desert': 4659, 'remedy': 4660, 'stillnobags': 4661, 'pt': 4662, 'stndby': 4663, 'conveniently': 4664, 'into': 4665, 'duped': 4666, 'extent': 4667, 'focused': 4668, 'bulkhead': 4669, '1b': 4670, 'replies': 4671, 'medal': 4672, 'reunion': 4673, 'unnecessarily': 4674, 'overselling': 4675, 'ua5396': 4676, 'compliant': 4677, 'cushion': 4678, 'yyj': 4679, 'av': 4680, 'senior': 4681, 'supporting': 4682, 'timco': 4683, '1589': 4684, 'shoe': 4685, 'unsafe': 4686, 'shanghai': 4687, 'shes': 4688, 'fritz': 4689, 'verbal': 4690, 'confirmations': 4691, 'complains': 4692, 'l8r': 4693, 'taiwan': 4694, 'averted': 4695, 'beers': 4696, 'prize': 4697, '3750': 4698, 'x2': 4699, 'injured': 4700, 'roadwarrior': 4701, 'nite': 4702, 'intended': 4703, 'flierfriendly': 4704, 'supplies': 4705, 'brussels': 4706, 'b777': 4707, '200er': 4708, 'jj': 4709, 'joking': 4710, 'birthdate': 4711, 'noservice': 4712, \"company's\": 4713, 'reissued': 4714, 'applying': 4715, 'yourself': 4716, 'timeliness': 4717, '1m': 4718, 'condescending': 4719, 'chk': 4720, 'barbara': 4721, '20mins': 4722, '919': 4723, 'downgraded': 4724, 'savings': 4725, 'freaked': 4726, 'inefficiency': 4727, 'ua992': 4728, 'interior': 4729, '1580': 4730, 'cking': 4731, 'rollers': 4732, 'removed': 4733, 'welldone': 4734, 'goodflight': 4735, 'caned': 4736, 'mnl': 4737, 'clicked': 4738, 'resources': 4739, '1534': 4740, 'bounced': 4741, '472': 4742, 'tryna': 4743, 'seriousness': 4744, 'liars': 4745, 'maui': 4746, 'flightfail': 4747, 'shits': 4748, 'colombia': 4749, 'spotty': 4750, 'quote': 4751, 'trace': 4752, 'san68059m': 4753, 'amongst': 4754, 'ua6259': 4755, 'ua5525': 4756, 'excellence': 4757, 'kci': 4758, 'sì£o': 4759, 'intent': 4760, 'misses': 4761, 'horrific': 4762, 'contents': 4763, 'shirts': 4764, 'fueled': 4765, 'attentiveness': 4766, 'compare': 4767, 'bohol': 4768, 'nm': 4769, 'cebu': 4770, 'educational': 4771, 'cos': 4772, 'mechanic': 4773, 'fax': 4774, 'clutch': 4775, 'mike': 4776, 'packing': 4777, 'retain': 4778, 'cdg': 4779, 'ensuring': 4780, 'gettin': 4781, 'sunrise': 4782, 'describing': 4783, 'decline': 4784, 'ers': 4785, 'spots': 4786, 'inconvience': 4787, 'convince': 4788, 'alwayslate': 4789, '1071': 4790, 'bots': 4791, 'pgh': 4792, 'invest': 4793, 'wk': 4794, 'pres': 4795, 'centricity': 4796, 'astounding': 4797, 'sisters': 4798, 'ua469': 4799, 'unsure': 4800, 'ua1481': 4801, 'premier1k': 4802, 'ap': 4803, 'ashley': 4804, 'toddlers': 4805, 'competitor': 4806, 'jackson': 4807, 'misfortune': 4808, '1142': 4809, 'copilot': 4810, 'ouch': 4811, 'rubbish': 4812, 'meaningful': 4813, 'oversized': 4814, 'defend': 4815, 'ua3774': 4816, 'maine': 4817, 'smoothest': 4818, 'affect': 4819, 'violation': 4820, 'maintained': 4821, 'flightledflight': 4822, '3494': 4823, 'ywg': 4824, 'volunteers': 4825, 'recovered': 4826, 'tick': 4827, 'tock': 4828, 'spelled': 4829, 'consistency': 4830, 'citing': 4831, 'calendar': 4832, 'adopted': 4833, 'occur': 4834, 'should\\x89ûªve': 4835, 'hep': 4836, '38e': 4837, 'skilled': 4838, 'western': 4839, 'hemisphere': 4840, 'belong': 4841, 'bogotìá': 4842, '1109': 4843, 'pointed': 4844, 'earliest': 4845, 'leadership': 4846, 'curiosity': 4847, 'pin': 4848, '1547': 4849, 'noticing': 4850, 'edinburgh': 4851, 'disappears': 4852, 'courier': 4853, '3883': 4854, 'ramps': 4855, 'asia': 4856, 'korea': 4857, 'nt': 4858, '1531': 4859, 'alerted': 4860, 'flip': 4861, 'begins': 4862, 'populate': 4863, 'ua922': 4864, 'build': 4865, 'ottawa': 4866, 'ruin': 4867, 'unitedairlinessucks': 4868, 'doo': 4869, 'feces': 4870, 'sprinkled': 4871, 'monitoring': 4872, 'unbelievably': 4873, 'deciding': 4874, 'bangkok': 4875, 'accommodation': 4876, 'acknowledgment': 4877, 'foreign': 4878, 'airborne': 4879, 'hacks': 4880, 'mis': 4881, 'hah': 4882, 'rage': 4883, 'relaxing': 4884, 'investigate': 4885, '1750': 4886, 'via': 4887, 'tagged': 4888, 'closet': 4889, 'stepped': 4890, 'gpu': 4891, 'stream': 4892, 'travelocity': 4893, 'suffering': 4894, 'offensive': 4895, 'legally': 4896, '95': 4897, 'buddy': 4898, 'rated': 4899, '1171': 4900, 'skin': 4901, 'horribleservice': 4902, 'yow': 4903, 'firstworldproblems': 4904, 'refrain': 4905, 'b12': 4906, '1220': 4907, 'cnxn': 4908, 'unimpressed': 4909, '26f': 4910, 'unlikely': 4911, 'overheating': 4912, 'preflight': 4913, 'dreamliner': 4914, 'breakdown': 4915, 'c4': 4916, 'events': 4917, 'millions': 4918, 'somewhat': 4919, 'draft': 4920, 'ua1750': 4921, 'connects': 4922, 'irrops': 4923, 'livid': 4924, 'junk': 4925, 'raised': 4926, 'led': 4927, 'blocking': 4928, 'block': 4929, 'wheelchairs': 4930, 'mgr': 4931, 'counted': 4932, 'observe': 4933, 'compensating': 4934, 'deodorant': 4935, 'shampoo': 4936, '715': 4937, 'prom': 4938, '27l': 4939, '494': 4940, '20l': 4941, 'flyerfriendly': 4942, 'looong': 4943, 'satisfactory': 4944, 'rhonda': 4945, 'movement': 4946, 'filthy': 4947, 'disinfectant': 4948, 'cldnt': 4949, 'a3': 4950, 'developers': 4951, 'huston': 4952, 'preference': 4953, 'troubling': 4954, 'phenomenal': 4955, 'values': 4956, 'insulted': 4957, 'royally': 4958, 'boots': 4959, 'doubtful': 4960, \"he'll\": 4961, 'covering': 4962, 'vital': 4963, 'humour': 4964, 'pedro': 4965, 'assure': 4966, 'vp': 4967, 'custexp': 4968, 'cable': 4969, 'ops': 4970, 'festivities': 4971, '17th': 4972, 'difficulty': 4973, 'makeup': 4974, '8hrs': 4975, '2nite': 4976, 'contains': 4977, 'outsourcing': 4978, 'orbitz': 4979, '1514': 4980, 'frequentflyer': 4981, 'afraid': 4982, 'inspected': 4983, 'pita': 4984, 'herman': 4985, 'relayed': 4986, 'chief': 4987, 'curbside': 4988, 'smells': 4989, 'satisfied': 4990, '03': 4991, '495': 4992, 'bgm': 4993, '1706': 4994, 'typically': 4995, 'gluten': 4996, 'supervisors': 4997, 'rare': 4998, 'gfc': 4999, 'screenshot': 5000, 'panamerican': 5001, 'vicky': 5002, 'rotten': 5003, '310': 5004, 'standbys': 5005, 'brian': 5006, 'liable': 5007, 'arguing': 5008, 'luggages': 5009, 'remaining': 5010, 'wayne': 5011, 'misinformation': 5012, 'damages': 5013, 'fwiw': 5014, 'recognition': 5015, 'flipped': 5016, 'swiss': 5017, 'significantly': 5018, 'resend': 5019, 'historical': 5020, 'afterall': 5021, 'mix': 5022, 'wins': 5023, \"week's\": 5024, 'clockwork': 5025, 'puppy': 5026, '1997': 5027, '0600': 5028, 'conection': 5029, 'awesomeness': 5030, 'conveyer': 5031, 'unanticipated': 5032, 'ed': 5033, 'num': 5034, 'partly': 5035, 'reassign': 5036, 'everybody': 5037, 'slight': 5038, 'sir': 5039, 'contd': 5040, 'menus': 5041, 'losers': 5042, 'wave': 5043, 'chain': 5044, 'naming': 5045, 'unhappytraveler': 5046, 'rolling': 5047, 'narita': 5048, 'motel': 5049, 'lo': 5050, 'cream': 5051, 'standbye': 5052, 'potential': 5053, '6373': 5054, 'kn': 5055, '129': 5056, '5957': 5057, 'waitlisted': 5058, 'jim': 5059, 'burn': 5060, 'aw': 5061, 'fo': 5062, 'ticked': 5063, 'businessfirst': 5064, '11pm': 5065, 'ua688': 5066, 'shrug': 5067, 'education': 5068, 'smaller': 5069, 'jam': 5070, 'concentrate': 5071, \"agents'\": 5072, 'spite': 5073, 'believing': 5074, 'papers': 5075, 'firstclass': 5076, 'craft': 5077, 'unsympathetic': 5078, 'mails': 5079, 'queues': 5080, 'swapping': 5081, 'char': 5082, 'dissatisfaction': 5083, 'flow': 5084, 'betting': 5085, 'hd': 5086, 'settle': 5087, '4me': 5088, 'c25': 5089, '619': 5090, '8b': 5091, \"she'd\": 5092, 'ua3728': 5093, 'privileges': 5094, \"dm's\": 5095, 'cloud': 5096, 'ru': 5097, 'thick': 5098, 'slower': 5099, 'capable': 5100, '1712': 5101, 'hoo': 5102, '15p': 5103, 'complaining': 5104, 'downgrading': 5105, 'selections': 5106, 'typo': 5107, 'grouchy': 5108, 'nap': 5109, '12pm': 5110, 'oregon': 5111, \"women's\": 5112, 'reminds': 5113, 'ams': 5114, 'youareonyourown': 5115, 'logging': 5116, 'antigua': 5117, 'rear': 5118, 'crashes': 5119, 'abused': 5120, 'instagram': 5121, \"sayin'\": 5122, 'inquire': 5123, 'ailing': 5124, 'employer': 5125, 'busiest': 5126, 'expedient': 5127, 'dispatcher': 5128, 'trick': 5129, 'gogh': 5130, 'relevant': 5131, 'ramada': 5132, '50lbs': 5133, 'angrycustomer': 5134, 'beating': 5135, 'stranger': 5136, 'wht': 5137, 'appeared': 5138, 'err': 5139, 'ruth': 5140, 'rez': 5141, 'abroad': 5142, 'recap': 5143, 'goods': 5144, '8h': 5145, '4348': 5146, 'grab': 5147, 'sue': 5148, 'couldn\\x89ûªt': 5149, 'jerk': 5150, 'hoot': 5151, 'turkish': 5152, 'ua507': 5153, 'clouds': 5154, 'breach': 5155, 'counters': 5156, 'slapintheface': 5157, '738': 5158, '1242': 5159, 'fu': 5160, 'despicable': 5161, \"lookin'\": 5162, 'thirty': 5163, 'cushions': 5164, 'tnx': 5165, '53': 5166, 'remotely': 5167, 'shenanigans': 5168, 'prevention': 5169, 'condom': 5170, 'rito': 5171, 'anchorage': 5172, 'protected': 5173, 'dominican': 5174, '165': 5175, 'sorta': 5176, 'energy': 5177, 'tkts': 5178, 'began': 5179, 'determined': 5180, 'overpriced': 5181, 'overflowed': 5182, 'toilet': 5183, 'luxurious': 5184, 'explains': 5185, 'includes': 5186, 'creative': 5187, 'trains': 5188, 'beneficial': 5189, 'motto': 5190, 'staffer': 5191, 'grown': 5192, 'tears': 5193, 'yards': 5194, 'reduced': 5195, 'amateurish': 5196, \"'the\": 5197, 'customerexperience': 5198, 'dispute': 5199, 'increasing': 5200, 'communicating': 5201, 'scratching': 5202, 'referral': 5203, 'loud': 5204, 'flighting': 5205, 'finals': 5206, 'shuffle': 5207, 'nicest': 5208, '101': 5209, 'rapids': 5210, 'mailing': 5211, 'dramatically': 5212, 'package': 5213, 'ilc0hp': 5214, 'atleast': 5215, 'helpless': 5216, 'shades': 5217, 'upgd': 5218, '3xweekly': 5219, 'neworleans': 5220, '9148445695': 5221, 'appalling': 5222, 'miriam': 5223, 'montego': 5224, 'masters': 5225, 'smf': 5226, 'shoddy': 5227, 'stone': 5228, 'consumer': 5229, '3thparty': 5230, 'associated': 5231, 'identical': 5232, 'fields': 5233, 'neighbors': 5234, 'smoking': 5235, 'humiliating': 5236, 'serves': 5237, 'bourbon': 5238, 'bold': 5239, 'savethediagonals': 5240, '10min': 5241, '2yr': 5242, 'meetings': 5243, 'satisfaction': 5244, 'born': 5245, 'india': 5246, 'ooh': 5247, 'nofun': 5248, 'qualifies': 5249, '40mins': 5250, 'amsterdam': 5251, 'posting': 5252, 'surrounding': 5253, 'gents': 5254, 'frank': 5255, 'decency': 5256, 'fiancì©': 5257, 'little': 5258, 'debating': 5259, 'speeds': 5260, '4487': 5261, 'oc': 5262, 'wandered': 5263, 'pointing': 5264, 'distance': 5265, 'bizarre': 5266, 'outage': 5267, 'bandwidth': 5268, 'hubs': 5269, 'fab': 5270, \"mother's\": 5271, 'delight': 5272, 'shoulders': 5273, 'cld': 5274, 'swag': 5275, 'incl': 5276, 'overheard': 5277, 'greater': 5278, 'btwn': 5279, 'torture': 5280, 'heartbroken': 5281, 'teaching': 5282, 'loooooong': 5283, 'prev': 5284, 'ding': 5285, 'firefox': 5286, 'swell': 5287, 'sweetheart': 5288, '4649': 5289, 'bestflightever': 5290, 'cocktail': 5291, '5hours': 5292, 'perfectly': 5293, 'vacay': 5294, 'expiration': 5295, 'magically': 5296, 'solid': 5297, 'length': 5298, 'tourists': 5299, 'carol': 5300, '210': 5301, \"'customer\": 5302, '1625': 5303, 'nor': 5304, 'science': 5305, \"america's\": 5306, 'vineyard': 5307, 'entrance': 5308, 'ella': 5309, 'shifts': 5310, 'tip': 5311, '1700': 5312, 'badpolicy': 5313, 'theft': 5314, 'filmjobnoequipment': 5315, 'allergy': 5316, 'ann': 5317, 'sweepstakes': 5318, 'vinyl': 5319, 'sass': 5320, '805': 5321, 'professionals': 5322, '1687': 5323, 'honesty': 5324, 'strip': 5325, 'stoked': 5326, 'bellagio': 5327, 'destinationdragon': 5328, 'earlybird': 5329, 'television': 5330, 'prioritize': 5331, 'dice': 5332, 'hooking': 5333, 'station': 5334, 'genius': 5335, '24hr': 5336, 'dnt': 5337, 'sld': 5338, '617': 5339, '3040': 5340, 'antonio': 5341, '2xdaily': 5342, 'orangecounty': 5343, '8uxzj2': 5344, 'fri': 5345, 'equip': 5346, 'linking': 5347, 'pleaseeee': 5348, 'fron': 5349, 'allergic': 5350, 'ignores': 5351, 'oil': 5352, 'websites': 5353, 'triple': 5354, 'soaking': 5355, 'existence': 5356, 'passive': 5357, 'workaround': 5358, 'athletes': 5359, 'athlete': 5360, 'it\\x89ûªll': 5361, 'youve': 5362, 'alt': 5363, 'inconsistent': 5364, 'mates': 5365, 'dollar': 5366, 'canx': 5367, 'md': 5368, '10th': 5369, 'discontinued': 5370, 'cp': 5371, 'memorial': 5372, 'slowing': 5373, 'sometimes': 5374, 'c11': 5375, 'opposed': 5376, 'chaotic': 5377, 'smashed': 5378, 'zoom': 5379, 'msgs': 5380, 'boooo': 5381, 'gent': 5382, 'flyswa': 5383, 'denverairport': 5384, 'noexcuses': 5385, '450': 5386, 'tear': 5387, 'arkansas': 5388, 'specials': 5389, 'tfw1': 5390, 'holds': 5391, '636': 5392, 'b8': 5393, 'alex': 5394, 'asshole': 5395, 'orl': 5396, 'tips': 5397, 'blames': 5398, 'suitcases': 5399, 'priorities': 5400, 'ùîù': 5401, '96': 5402, 'laughing': 5403, 'valentines': 5404, 'diabetic': 5405, 'grabbed': 5406, 'trees': 5407, 'sayin': 5408, '3104': 5409, 'avon': 5410, 'rating': 5411, 'sanitizer': 5412, 'blackhistorymonth': 5413, 'musician': 5414, 'recruiting': 5415, 'bravo': 5416, 'ù\\x8dè': 5417, 'opening': 5418, 'tn': 5419, 'letdown': 5420, 'forgiven': 5421, 'alas': 5422, 'wounded': 5423, 'sooooo': 5424, 'particular': 5425, 'unorganized': 5426, 'skip': 5427, 'corner': 5428, 'pleasehelp': 5429, 'opinion': 5430, 'tld': 5431, 'mouth': 5432, '8hr': 5433, 'kay': 5434, '15minutes': 5435, \"one's\": 5436, 'nogood': 5437, 'que': 5438, 'invited': 5439, 'cockpit': 5440, 'tmw': 5441, 'backroads': 5442, 'competitors': 5443, 'pulse': 5444, 'batteries': 5445, 'dale': 5446, 'waitin': 5447, '1h': 5448, 'gun': 5449, 'louisville': 5450, 'sally': 5451, 'handing': 5452, 'clarence': 5453, '22nd': 5454, 'sanitized': 5455, 'troubadour': 5456, 'salted': 5457, 'vote': 5458, '\\x90\\x95ü\\x8f': 5459, \"all's\": 5460, '330': 5461, 'purely': 5462, \"when's\": 5463, 'µ': 5464, 'horse': 5465, 'codes': 5466, 'intend': 5467, 'graduate': 5468, 'êïæð': 5469, 'bless': 5470, '4146': 5471, 'acknowledgement': 5472, 'bestairlineever': 5473, 'lucky': 5474, 'draws': 5475, '20th': 5476, '\\x89÷¼': 5477, 'enforcing': 5478, 'forfeited': 5479, 'larry': 5480, 'isp': 5481, '4386': 5482, '122': 5483, '2bestfriends': 5484, 'repeating': 5485, 'tarmack': 5486, 'wx': 5487, 'provo': 5488, 'accommodated': 5489, 'betsy': 5490, 'besty': 5491, 'memo': 5492, 'buttons': 5493, \"it'd\": 5494, 'vaca': 5495, 'cattle': 5496, 'jason': 5497, 'eb': 5498, 'perform': 5499, 'cng': 5500, 'execution': 5501, '2009': 5502, 'nvm': 5503, 'rescue': 5504, 'fairly': 5505, 'setting': 5506, 'southwestrally': 5507, 'bestemployees': 5508, 'swaculture': 5509, 'addressing': 5510, 'singing': 5511, 'videos': 5512, 'reviewing': 5513, 'instruments': 5514, 'rocking': 5515, '411': 5516, 'nas': 5517, 'sjd': 5518, 'malfunctioning': 5519, 'dialup': 5520, 'b15': 5521, 'childish': 5522, 'remain': 5523, 'yearly': 5524, 'glitches': 5525, 'intelligent': 5526, 'enterprise': 5527, '4464': 5528, '35pm': 5529, '1137': 5530, 'thaw': 5531, 'aside': 5532, 'ga': 5533, 'knoxville': 5534, 'monthly': 5535, 'eligible': 5536, '952': 5537, 'woohoo': 5538, 'threatening': 5539, 'specifics': 5540, 'personalized': 5541, 'snapchat': 5542, 'bloody': 5543, '62': 5544, 'curb': 5545, 'postcode': 5546, 'ireland': 5547, '1a': 5548, 'sing': 5549, '10mins': 5550, 'expedite': 5551, 'swadiversity': 5552, 'announcing': 5553, 'lemme': 5554, 'university': 5555, 'craving': 5556, 'jackass': 5557, 'caribbean': 5558, 'development': 5559, 'forecasted': 5560, 'cried': 5561, \"customer's\": 5562, \"hour's\": 5563, 'displeased': 5564, 'winner': 5565, 'amazon': 5566, 'plug': 5567, 'unloaded': 5568, 'emp': 5569, 'reddit': 5570, 'bigger': 5571, 'dick': 5572, 'covered': 5573, 'shorts': 5574, 'interviews': 5575, 'wasn\\x89ûªt': 5576, 'pieces': 5577, 'ùõ¼': 5578, 'reopens': 5579, 'mardigras': 5580, 'gsp': 5581, 'tulsa': 5582, 'starving': 5583, 'spilled': 5584, 'grades': 5585, 'lodge': 5586, 'routed': 5587, 'bummed': 5588, 'callbacks': 5589, 'unspecified': 5590, '1971': 5591, 'guidance': 5592, 'imma': 5593, 'valentine': 5594, 'insight': 5595, '57': 5596, 'alleviate': 5597, 'modifications': 5598, '464': 5599, 'hangup': 5600, 'geg': 5601, 'answerthephone': 5602, '1041': 5603, '462': 5604, 'jetbluebos': 5605, 'org': 5606, 'readers': 5607, 'ùô¼': 5608, '1170': 5609, 'formula': 5610, '117': 5611, 'opt': 5612, '1856': 5613, 'noplacelikehome': 5614, 'setup': 5615, 'syr': 5616, 'comfortably': 5617, 'infants': 5618, 'establish': 5619, 'rebooks': 5620, 'possibility': 5621, 'thy': 5622, 'redemption': 5623, 'wut': 5624, 'rely': 5625, 'chips': 5626, \"airline's\": 5627, 'yours': 5628, 'staring': 5629, 'rectified': 5630, 'investors': 5631, 'noooo': 5632, '103': 5633, 'fustrated': 5634, 'brands': 5635, 'nytimes': 5636, \"a320's\": 5637, '190': 5638, '1way': 5639, 'tweeter': 5640, '123': 5641, 'reconsidering': 5642, 'pitt': 5643, 'drawing': 5644, 'debit': 5645, \"jetblue's\": 5646, 'strollers': 5647, 'ems': 5648, 'environment': 5649, 'maddening': 5650, '2324': 5651, 'robert': 5652, 'attended': 5653, '1557': 5654, 'pure': 5655, 'tim': 5656, '915': 5657, 'selfies': 5658, 'ricoh': 5659, '611': 5660, \"world's\": 5661, 'emv': 5662, '0510': 5663, 'reactions': 5664, 'dissapointed': 5665, '9hrs': 5666, 'bqn': 5667, 'costumers': 5668, 'sj': 5669, '1106': 5670, \"'preciate\": 5671, 'essentially': 5672, 'stairs': 5673, 'jetbluefail': 5674, 'criminal': 5675, 'bluecarpet': 5676, 'perspective': 5677, 'expressed': 5678, 'hawaiian': 5679, 'justify': 5680, '1562': 5681, 'newburgh': 5682, 'alcohol': 5683, 'league': 5684, '1533': 5685, '226': 5686, 'any1': 5687, '11a': 5688, 'umosaicmecrazy': 5689, 'autoresponse': 5690, '489': 5691, 'ideal': 5692, 'direction': 5693, '502': 5694, 'woulda': 5695, 'upstate': 5696, '622': 5697, 'nine': 5698, 'protection': 5699, '723': 5700, 'bumper': 5701, 'controllers': 5702, \"'various\": 5703, \"relationships'\": 5704, 'rum': 5705, '454': 5706, 'flite': 5707, '790': 5708, 'goodcustomerservice': 5709, '2morrow': 5710, 'charles': 5711, 'pig': 5712, '989': 5713, 'predicted': 5714, 'warmer': 5715, '1098': 5716, 'folding': 5717, 'regularly': 5718, 'jumping': 5719, 'earthquake': 5720, 'wsj': 5721, 'au': 5722, 'dakota': 5723, 'vetr': 5724, 'inc': 5725, 'foolish': 5726, 'beverages': 5727, 'corevalues': 5728, 'passion': 5729, 'aerojobmarket': 5730, 'nigga': 5731, 'mideast': 5732, '672': 5733, 'nov': 5734, '834': 5735, '2034': 5736, '6f': 5737, 'bein': 5738, 'rica': 5739, \"'em\": 5740, '2168': 5741, 'burger': 5742, '51pm': 5743, 'lucia': 5744, '1572': 5745, 'escape': 5746, '1729': 5747, 'cheesy': 5748, 'lay': 5749, 'smart': 5750, 'finder': 5751, 'dre': 5752, 'glasses': 5753, 'taxiing': 5754, 'truebluelove': 5755, 'sleekmoney': 5756, 'bucket': 5757, 'sounded': 5758, 'broadway': 5759, 'ardent': 5760, 'poughkeepsie': 5761, 'wkrb': 5762, 'a321': 5763, 'schedules': 5764, 'havana': 5765, 'photography': 5766, 'slowest': 5767, 'scenario': 5768, 'camp': 5769, 'carsl': 5770, 'jetblueblues': 5771, '2302': 5772, 'capture': 5773, 'angel': 5774, '415': 5775, 'patronizing': 5776, 'gangway': 5777, 'al': 5778, '320': 5779, 'heated': 5780, 'disappoints': 5781, 'flowers': 5782, 'pages': 5783, 'ruins': 5784, 'doke': 5785, '1099': 5786, 'roll': 5787, 'marked': 5788, 'geez': 5789, 'needcoffee': 5790, 'rifle': 5791, 'transferable': 5792, 'menu': 5793, '1318': 5794, 'diversions': 5795, 'brazil': 5796, 'between': 5797, 'sexy': 5798, '1951': 5799, 'closepwcs': 5800, 'ùª\\x8f\\x89\\x9d': 5801, 'festival': 5802, 'purpose': 5803, 'allergies': 5804, 'sand': 5805, '105': 5806, 'skytrax': 5807, 'sch': 5808, '530': 5809, 'dads': 5810, 'ath': 5811, 'postpone': 5812, 'fool': 5813, 'applicable': 5814, 'badge': 5815, 'eight': 5816, 'greatest': 5817, '\\x89ûïit': 5818, 'hotter': 5819, 'celebrates': 5820, '430': 5821, \"'blumanity'\": 5822, 'brushing': 5823, '705': 5824, 'c19': 5825, 'applepay': 5826, 'participate': 5827, 'accused': 5828, 'warehouse': 5829, 'becomes': 5830, 'targeting': 5831, '203': 5832, 'delivering': 5833, 'backpack': 5834, '894': 5835, 'oui': 5836, 'quoting': 5837, 'generated': 5838, 'painted': 5839, 'learning': 5840, 'asset': 5841, 'review': 5842, 'weighs': 5843, 'registration': 5844, 'deedee': 5845, 'pho': 5846, 'iowa': 5847, '43': 5848, 'diamond': 5849, 'pump': 5850, 'referred': 5851, 'impressions': 5852, 'reverse': 5853, 'spelling': 5854, 'flaw': 5855, 'insanity': 5856, 'chkd': 5857, 'citizen': 5858, 'flexible': 5859, '40am': 5860, 'army': 5861, 'shortcomings': 5862, 'wrongfully': 5863, 'weary': 5864, 'transf': 5865, 'dividendrewards': 5866, 'dividendmiles': 5867, 'cardholder': 5868, 'established': 5869, \"chairman's\": 5870, 'argue': 5871, 'unmonitored': 5872, 'rachel': 5873, 'misunderstood': 5874, 'owes': 5875, 'tammy': 5876, '838': 5877, 'jealous': 5878, \"planet's\": 5879, 'mel': 5880, 'sticker': 5881, 'endlessly': 5882, 'gatwick': 5883, '1715': 5884, 'nbr': 5885, 'gnv': 5886, 'wd40': 5887, 'involve': 5888, 'lists': 5889, '362': 5890, 'backs': 5891, 'proactively': 5892, 'thanku': 5893, 'chosen': 5894, '1826': 5895, 'us1562': 5896, 'ric2dfw': 5897, 'bora': 5898, 'finnair': 5899, \"ma'am\": 5900, '4473': 5901, 'affecting': 5902, 'gloves': 5903, 'elaborate': 5904, 'wannagohome': 5905, 'differently': 5906, 'clown': 5907, 'patrick': 5908, 'likes': 5909, 'inconsiderate': 5910, 'managing': 5911, 'offload': 5912, 'instructions': 5913, 'southern': 5914, 'sav': 5915, 'transported': 5916, 'compliments': 5917, 'lexington': 5918, 'brokenpromises': 5919, 'elm': 5920, 'grounds': 5921, 'locating': 5922, 'rumors': 5923, 'winterstorm': 5924, 'shameonyou': 5925, 'preventing': 5926, 'breath': 5927, 'bgr': 5928, '695': 5929, 'behave': 5930, 'baggages': 5931, '600117': 5932, 'americanairlines': 5933, 'nocrew': 5934, 'us5235': 5935, 'cha': 5936, 'rivets': 5937, 'service\\x89ïî\\x95ü\\x8f': 5938, 'na': 5939, 'overhaul': 5940, 'brush': 5941, 'fm': 5942, 'assholes': 5943, 'f623': 5944, 'havoc': 5945, '623': 5946, 'overwhelming': 5947, '3739': 5948, 'pops': 5949, '4663': 5950, 'exercise': 5951, 'miserably': 5952, 'cots': 5953, 'processes': 5954, 'midght': 5955, 'des': 5956, 'moines': 5957, 'abandoned': 5958, 'followers': 5959, 'ow': 5960, 'dumped': 5961, 'twins': 5962, 'depending': 5963, 'hve': 5964, 'flght': 5965, '1776': 5966, 'un': 5967, '2692': 5968, '1861': 5969, 'recorded': 5970, \"shouldn't\": 5971, '17pm': 5972, \"husband's\": 5973, '275': 5974, '4532': 5975, 'tamara': 5976, 'than': 5977, 'dedicated': 5978, 'sapphire': 5979, 'represent': 5980, 'prepare': 5981, 'wasteoftime': 5982, 'lawsuit': 5983, 'nearby': 5984, '49': 5985, '5238': 5986, 'opportunities': 5987, 'bttr': 5988, 'sync': 5989, 'yvonne': 5990, 'burning': 5991, 'dismissive': 5992, 'thks': 5993, 'scotch': 5994, 'worstflight': 5995, 'execplat': 5996, 'embarrassment': 5997, 'occupied': 5998, 'caused': 5999, 'baggagelost': 6000, 'fuk': 6001, 'scattered': 6002, 'a9': 6003, 'accts': 6004, '4438': 6005, '5015': 6006, 'roberto': 6007, '48hrs': 6008, 'evenlate': 6009, 'eliz': 6010, 'amateur': 6011, 'myrtle': 6012, 'transactions': 6013, 'tsaprecheck': 6014, 'prompts': 6015, 'desired': 6016, 'pity': 6017, 'ignorant': 6018, 'blizzard': 6019, 'occasions': 6020, 'requiring': 6021, '214': 6022, 'ùª\\x8f\\x89ïî\\x95ü\\x8f\\x89ïî\\x95ü\\x8f\\x89ïî\\x95ü\\x8f': 6023, 'spf': 6024, 'itin': 6025, 'secret': 6026, '5080': 6027, '5534': 6028, 'leads': 6029, 'fate': 6030, 'shld': 6031, 'cycles': 6032, '4524': 6033, 'uncalled': 6034, '1808': 6035, 'itself': 6036, '1855': 6037, '4443': 6038, '20pm': 6039, 'hat': 6040, 'hsv': 6041, 'perks': 6042, 'senseless': 6043, 'thenewamerican': 6044, 'nitrogen': 6045, 'fligt': 6046, 'aa4285': 6047, 'advisories': 6048, 'outta': 6049, 'aa3186': 6050, '2990176298': 6051, '3001885409': 6052, 'embassy': 6053, 'suites': 6054, 'herndon': 6055, 'tcf': 6056, 'abilities': 6057, 'swear': 6058, 'dialogue': 6059, 'q3': 6060, 'clueless': 6061, 'react': 6062, '1644': 6063, 'swu': 6064, 'yikes': 6065, 'aafail': 6066, 'buses': 6067, 'loop': 6068, 'lima': 6069, 'btr': 6070, 'envoy': 6071, 'wudda': 6072, 'cnn': 6073, 'nbc': 6074, '195': 6075, 'pounds': 6076, 'meelan': 6077, 'oneworld': 6078, 'pn': 6079, '320008a': 6080, 'deflator': 6081, 'chapter': 6082, 'amm': 6083, 'shawn': 6084, 'aa1675': 6085, 'lan': 6086, 'lacked': 6087, 'aa199': 6088, 'mxp': 6089, 'goingforgreat': 6090, 'shortage': 6091, '1300': 6092, 'automatic': 6093, 'oaaret': 6094, 'witnessed': 6095, 'tisk': 6096, '7700': 6097, '953': 6098, 'westjet': 6099, 'th': 6100, 'arent': 6101, 'ticks': 6102, '1388': 6103, 'aa45': 6104, 'cincinnati': 6105, 'billions': 6106, 'aa2402': 6107, 'flight293': 6108, '2470': 6109, 'understaffing': 6110, 'taste': 6111, 'refsd': 6112, 'norma': 6113, 'sedholm': 6114, '2401': 6115, '1359': 6116, 'neglected': 6117, 'tacky': 6118, \"guests'\": 6119, '\\x89ûïear': 6120, 'worm\\x89û\\x9d': 6121, 'parody': 6122, \"didn't\\x89û\": 6123, 'graphics': 6124, 'minimal': 6125, 'iconography': 6126, 'seductive': 6127, '29daystogo': 6128, 'graphic': 6129, 'hipster': 6130, 'boslas': 6131, 'vents': 6132, 'vx358': 6133, 'noair': 6134, 'sfotobos': 6135, 'noob': 6136, 'sendambien': 6137, 'andchexmix': 6138, 'bked': 6139, 'moodlight': 6140, 'calming': 6141, 'ùõï\\x89ïö': 6142, 'hollywood': 6143, 'bid': 6144, 'travelhelp': 6145, 'elevategold': 6146, 'tribute': 6147, 'soundofmusic': 6148, 'guiltypleasures': 6149, \"wow'd\": 6150, 'carrieunderwood': 6151, 'martin': 6152, 'classics': 6153, '0736': 6154, 'heyyyy': 6155, 'guyyyys': 6156, 'loft': 6157, 'cmfat35000feet': 6158, 'doom': 6159, 'supp': 6160, 'flightattendant': 6161, 'dreampath': 6162, 'begrudgingly': 6163, 'neverflyvirgin': 6164, 'avatars': 6165, 'kitty': 6166, 'disproportionate': 6167, 'jperhi': 6168, 'rnp': 6169, 'nomorevirgin': 6170, '345': 6171, 'redesign': 6172, 'ressie': 6173, 'sfo2lax': 6174, 'raeann': 6175, 'reluctant': 6176, '714': 6177, 'pleasecomeback': 6178, 'naelah': 6179, 'beautifully': 6180, 'e9': 6181, 'built': 6182, 'va370': 6183, 'vabeatsjblue': 6184, '882': 6185, '276': 6186, 'lucas': 6187, 'likingyoulessandless': 6188, \"you'd\": 6189, 'irmafromdallas': 6190, 'sunset': 6191, \"in'\": 6192, 'backtowinter': 6193, '0769': 6194, 'drivers': 6195, 'greyed': 6196, 'rang': 6197, 'vendor': 6198, 'pairings': 6199, 'redwineisbetter': 6200, 'wonked': 6201, 'designated': 6202, 'pasengers': 6203, 'topnews': 6204, 'arab': 6205, 'emirates': 6206, 'baggageissues': 6207, 'eps': 6208, 'lister': 6209, 'ketr': 6210, 'fl1289': 6211, 'clincher': 6212, 'cudtomers': 6213, 'you\\x89ûªve': 6214, 'ùªä': 6215, 'persisting': 6216, 'stink': 6217, \"guy's\": 6218, 'revue': 6219, '\\x95ü\\x8ffrom': 6220, 'beatstheothers': 6221, 'soreback': 6222, 'tossed': 6223, '\\x89\\x9dã\\x95ü\\x8f\\x89\\x9dã\\x95ü\\x8f\\x89\\x9dã\\x95ü\\x8f': 6224, 'header': 6225, 'elevateuser': 6226, 'numofpointsavailable': 6227, \"'0'\": 6228, 'diehardvirgin': 6229, 'vx413': 6230, 'nominated': 6231, 'meetthefleet': 6232, 'valley': 6233, 'disruption': 6234, 'fcmostinnovative': 6235, 'incubator': 6236, 'bubbly': 6237, 'spruce': 6238, 'moose': 6239, 'register': 6240, 'classiq': 6241, 'greetingz': 6242, 'rockies': 6243, 'airplanemodewason': 6244, '90s': 6245, '338': 6246, 'banned': 6247, '\\x89û÷select': 6248, 'city\\x89ûª': 6249, 'selecting': 6250, 'dented': 6251, 'miranda': 6252, 'vodkatonics': 6253, 'cruz': 6254, 'gratitude': 6255, 'mpower': 6256, 'aesthetics': 6257, 'budapest': 6258, 'oscarscountdown': 6259, '407': 6260, 'rise': 6261, 'q4': 6262, 'cutest': 6263, 'pepper': 6264, 'shaker': 6265, '4q': 6266, 'ùô\\x8d\\x89ïö\\x95ü\\x8f\\x89ïö\\x95ü\\x8f': 6267, 'doctor': 6268, 'dress': 6269, 'posts': 6270, 'net': 6271, 'javascript': 6272, 'stylesheets': 6273, 'handily': 6274, 'achieves': 6275, 'outlook': 6276, 'tmm': 6277, 'caching': 6278, 'links': 6279, 'choppy': 6280, 'gusty': 6281, 'windchill': 6282, \"monday's\": 6283, '112': 6284, \"'noooo\": 6285, 'ùàü2y': 6286, 'biztravel': 6287, '914': 6288, '329': 6289, '0185': 6290, '7c': 6291, 'wifey': 6292, 'vday': 6293, 'keeper': 6294, 'holla': 6295, 'debbie': 6296, 'baldwin': 6297, 'vx919': 6298, 'las2sfo': 6299, 'bestcrew': 6300, 'sherocks': 6301, 'rockstars': 6302, 'styling': 6303, 'bandie': 6304, 'lofty': 6305, 'silverstatus': 6306, 'transformative': 6307, 'uphold': 6308, 'taxes': 6309, 'statusmatch': 6310, 'ws': 6311, 'wjere': 6312, 'deeply': 6313, 'dontdothistome': 6314, 'blazer': 6315, 'kooples': 6316, 't3': 6317, 'boost': 6318, 'conversion': 6319, 'etailwest': 6320, 'payments': 6321, 'promoting': 6322, 'noneother': 6323, 'vxsafetydance\\x89û\\x9d': 6324, 'obsessed': 6325, 'swanky': 6326, 'cabaret': 6327, '150219': 6328, '000114': 6329, 'dirtiest': 6330, 'to10': 6331, 'chinese': 6332, 'comenity': 6333, 'transactional': 6334, 'sugafly': 6335, 'accelerate': 6336, 'livewelltraveled': 6337, 'sytycd': 6338, 'strayed': 6339, 'brisk': 6340, 'vx363': 6341, 'virgin\\x89ï¬': 6342, 'ù÷±\\x89ïö\\x95ü\\x8f': 6343, '150202': 6344, '000419': 6345, '27\\x89û': 6346, 'sprint': 6347, \"'kewl'\": 6348, 'dicks': 6349, \"a's\": 6350, 'giants': 6351, 'heaven': 6352, 'nwksf': 6353, 'boom': 6354, 'apostrophe': 6355, 'surname': 6356, 'apostrophefail': 6357, 'tindertips': 6358, 'tinderchamp': 6359, 'herbal': 6360, 'drinker': 6361, 'expansion': 6362, 'chng': 6363, 'affiliates': 6364, 'afiliates': 6365, 'dreaming': 6366, '5xweekly': 6367, '28apr': 6368, 'earphone': 6369, 'battle': 6370, 'backyard': 6371, 'competes': 6372, '\\x89ûü': 6373, 'nerd': 6374, '2y': 6375, 'extortion': 6376, 'worrying': 6377, 'artisanal': 6378, 'pairing': 6379, '513mph': 6380, 'tailwind': 6381, 'minus': 6382, 'freeneversucks': 6383, '871': 6384, 'thestarter': 6385, 'paul': 6386, 'visors': 6387, '\\x89ûò': 6388, 'beans': 6389, 'segway': 6390, 'infographic': 6391, 'defiantly': 6392, 'scolding': 6393, 'myvxexperience': 6394, '1000cost': 6395, \"virgin's\": 6396, 'apathy': 6397, 'wervirgin': 6398, 'fargo': 6399, 'amazings': 6400, 'kickin': 6401, 'ùõ': 6402, '6000': 6403, 'bonuses': 6404, 'letsgohome': 6405, 'lineup': 6406, \"assistant's\": 6407, 'au1066': 6408, 'steep': 6409, 'gla': 6410, 'selects': 6411, 'unrealistic': 6412, 'beautifull': 6413, '\\x89ª´': 6414, 'necessity': 6415, 'allan': 6416, 'kmm24999563v99860l0km': 6417, '8719519': 6418, 'rosetta': 6419, '6457': 6420, 'dan': 6421, 'wasappreciated': 6422, 'tiredofwaiting': 6423, 'executives': 6424, '8yr': 6425, 'aeroport': 6426, 'availab': 6427, 'defibrillator': 6428, 'newarkliberty': 6429, 'indicate': 6430, 'flyingainteasy': 6431, 'preexisting': 6432, 'reissue': 6433, 'shattered': 6434, 'ladan': 6435, 'latrice': 6436, 'inappropriately': 6437, 'kewl': 6438, 'inop': 6439, 'abbreve': 6440, 'tiredofthis': 6441, 'measly': 6442, 'interim': 6443, 'incls': 6444, 'unitedbreaksguitars': 6445, 'wantmymoneyback': 6446, 'telaviv': 6447, 'impolite': 6448, 'unfamiliar': 6449, 'outcome': 6450, 'neurosurgery': 6451, 'icu': 6452, '6533': 6453, 'zcc82u': 6454, '16h': 6455, 'mobility': 6456, 'accompany': 6457, 'starbucks': 6458, 'mclarren': 6459, 'category': 6460, 'controlled': 6461, 'pesky': 6462, 'screening': 6463, 'rozana': 6464, 'choosekind': 6465, \"night's\": 6466, '1235': 6467, 'eager': 6468, 'vision': 6469, 'servicedog': 6470, 'wtfodds': 6471, '236': 6472, 'ua1429': 6473, 'gong': 6474, 'enforcement': 6475, 'blackmailed': 6476, 'å£130': 6477, 'nullified': 6478, '\\x89ïî\\x95ü\\x8fout': 6479, 'ua1673': 6480, 'umpteen': 6481, 'concrete': 6482, 'honour': 6483, 'hollow': 6484, 'pattern': 6485, 'localized': 6486, 'accountable': 6487, 'tide': 6488, 'listens': 6489, 'insta': 6490, 'produce': 6491, 'limits': 6492, 'negligent': 6493, 'resent': 6494, 'pop': 6495, 'ridiculousness': 6496, 'learncustomerservice': 6497, 'literate': 6498, '18hrs': 6499, '8441639': 6500, 'travelbank': 6501, 'recouping': 6502, '1585': 6503, 'yul': 6504, 'montreal': 6505, 'ua3659': 6506, 'ua3417': 6507, 'distress': 6508, 'seeking': 6509, \"'improvement'\": 6510, 'attained': 6511, 'unrivalled': 6512, 'thaiairways': 6513, 'thai': 6514, '3466': 6515, 'pennypincher': 6516, 'youcouldntmakethis': 6517, 'brokenwheel': 6518, '587': 6519, '559': 6520, '1584': 6521, 'connolly': 6522, 'efficiently': 6523, 'disputed': 6524, 'saipan': 6525, 'guam': 6526, 'adventure': 6527, 'owed': 6528, 'remembering': 6529, 'platter': 6530, 'abundance': 6531, 'disrupted': 6532, '1001': 6533, 'getmartyhome': 6534, 'shower': 6535, 'finalizing': 6536, '35a': 6537, 'burg': 6538, 'unforeseeable': 6539, 'flightn': 6540, 'fend': 6541, 'malaysia': 6542, '0011': 6543, '55558000': 6544, 'kuala': 6545, 'lumpur': 6546, 'ase24766m': 6547, 'eservice': 6548, 'bg0kwm': 6549, 'narayanan': 6550, 'a380s': 6551, '4124': 6552, 'inquiries': 6553, \"737's\": 6554, 'equals': 6555, 'vein': 6556, 'thrombosis': 6557, 'connectns': 6558, 'hotl': 6559, 'waking': 6560, 'gonnabealongnight': 6561, 'ua80': 6562, 'briefings': 6563, 'ua3576': 6564, 'ray': 6565, '736': 6566, 'xmas': 6567, 'razor': 6568, 'inconveniently': 6569, 'dvt': 6570, 'sarcastically': 6571, '2wks': 6572, '1146': 6573, 'appropriate': 6574, 'nada': 6575, 'helpimstuck': 6576, 'mismanagement': 6577, \"'call\": 6578, \"corp'\": 6579, 'sabe': 6580, '1249': 6581, '964012': 6582, '964077': 6583, '964078': 6584, 'decorum': 6585, 'revisiting': 6586, \"certificate'\": 6587, 'spoil': 6588, 'onboad': 6589, 'volt': 6590, 'html5': 6591, 'effing': 6592, 'finishes': 6593, 'walks': 6594, 'encouraged': 6595, 'transition': 6596, '1ker': 6597, 'zambia': 6598, 'ua6076': 6599, 'balancing': 6600, 'cyberattack': 6601, 'pbj': 6602, 'ua276': 6603, 'statusmatchpaidoff': 6604, 'vancouver': 6605, 'investigated\\x89ûómy': 6606, '8477733': 6607, \"correct\\x89ûói've\": 6608, '1032': 6609, 'ua63': 6610, 'maryjo': 6611, 'trend': 6612, 'rebooting': 6613, 'shaky': 6614, 'comically': 6615, 'grk13575m': 6616, 'rim': 6617, 'repeatably': 6618, '1544': 6619, 'burgundy': 6620, '27d': 6621, '0162424965446': 6622, 'loner': 6623, 'amenity': 6624, 'kits': 6625, \"site\\x89ûóit's\": 6626, 'correctness': 6627, 'salisbury': 6628, \"continental's\": 6629, 'feat': 6630, '1016': 6631, '20minutes': 6632, 'ùõï\\x89ûï': 6633, 'funnycaptain': 6634, 'referencing': 6635, 'vacatinn': 6636, 'devalue': 6637, 'dorns': 6638, 'delyd': 6639, '1657': 6640, 'gjt': 6641, 'cozy': 6642, 'helpmeplease': 6643, 'anyonethere': 6644, 'vail': 6645, 'businesstravel': 6646, 'inline': 6647, 'disgutedindenver': 6648, 'demand': 6649, 'listing': 6650, 'empathizes': 6651, '1stclass': 6652, 'nonworking': 6653, 'entertainmnt': 6654, 'mcdonnell': 6655, 'douglas': 6656, \"bag's\": 6657, \"girl's\": 6658, '\\x89\\x9dã\\x95ü\\x8f\\x89\\x9dã\\x95ü\\x8f': 6659, 'baggage\\x89û': 6660, '0530': 6661, 'mysterious': 6662, 'rookie': 6663, 'svcs': 6664, \"baggage's\": 6665, 'demoted': 6666, 'golds': 6667, 'spousal': 6668, 'reveal': 6669, 'bettween': 6670, '71a': 6671, 'droppeditoffyet': 6672, 'ceases': 6673, 'amaze': 6674, 'icloud': 6675, 'absurdly': 6676, 'vì': 6677, 'albanyairport': 6678, 'spaces': 6679, 'tsk': 6680, '35k': 6681, 'rtb': 6682, 'waives': 6683, 'jana': 6684, 'acosta': 6685, 'alwaysdelayedonunited': 6686, 'branson': 6687, 'virginatlantic': 6688, 'continentalairlines': 6689, 'notfair': 6690, 'unaccounted': 6691, 'possessions': 6692, 'levels': 6693, 'realistically': 6694, 'unpleased': 6695, 'showed': 6696, 'panicked': 6697, 'rollerboards': 6698, 'iove': 6699, '1212': 6700, 'miscalculation': 6701, 'aging': 6702, 'aspenbaggagefail': 6703, 'condo': 6704, 'noanswer': 6705, '1other': 6706, 'dedication': 6707, 'mos': 6708, \"dm'ing\": 6709, 'forum': 6710, 'tom': 6711, '779': 6712, '389': 6713, 'pedophile': 6714, 'bass': 6715, '30k': 6716, '1161': 6717, 'ua6366': 6718, '1491': 6719, 'pairs': 6720, '2086': 6721, 'cnxns': 6722, 'drone': 6723, '4972': 6724, 'activate': 6725, 'mojave': 6726, 'pressurecooker': 6727, 'heattrap': 6728, '8602947': 6729, 'jon': 6730, 'ua1270': 6731, 'descending': 6732, 'farce': 6733, 'ua23': 6734, 'shambles': 6735, 'writers': 6736, 'missedwork': 6737, 'clientnothappy': 6738, 'justifiable': 6739, 'suffer': 6740, 'urgency': 6741, 'g8cvwj': 6742, 'kailua': 6743, 'ua246': 6744, 'refresh': 6745, 'mandatory': 6746, 'greatly': 6747, '211': 6748, 'ua381': 6749, 'classed': 6750, '5396': 6751, 'tbd': 6752, 'usd': 6753, 'quotations': 6754, 'saves': 6755, 'fwa': 6756, 'nowhereland': 6757, 'adapted': 6758, 'noooooooooooooooooooooope': 6759, 'occurs': 6760, 'sal': 6761, 'clo': 6762, '1h45m': 6763, 'faundation': 6764, 'judeo': 6765, 'cristian': 6766, 'ideologias': 6767, 'outsourced': 6768, 'knack': 6769, 'substandard': 6770, 'misconnected': 6771, 'temps': 6772, '3763': 6773, 'outdoor': 6774, \"'unwind'\": 6775, 'linesforever': 6776, 'sock': 6777, '3709': 6778, 'plundering': 6779, 'ua1589': 6780, 'jurassic': 6781, 'dinosaur': 6782, '0162389030167': 6783, '16866853': 6784, '8465981': 6785, 'farelock': 6786, '858': 6787, 'laissez': 6788, 'faire': 6789, '381': 6790, 'flight911': 6791, 'peopleon': 6792, 'electronic': 6793, 'precioustime': 6794, 'ua871': 6795, 'fyvrfn': 6796, 'tickt': 6797, '4yr': 6798, 'sukhdeep': 6799, 'sba': 6800, 'waitingonapilot': 6801, 'siouxfalls': 6802, 'whyairtravelsucks': 6803, 'discomfort': 6804, '5000': 6805, 'ua5282': 6806, 'frustratingly': 6807, 'b44': 6808, 'mpagent': 6809, 'ua3426': 6810, 'stretching': 6811, 'exhausting': 6812, 'ha\\x89û': 6813, 'robbing': 6814, 'ua4646': 6815, 'will1531': 6816, 'ua1532': 6817, 'travelled': 6818, 'scl': 6819, 'iha': 6820, '21l': 6821, '3866': 6822, '25mins': 6823, 'invoice': 6824, 'preferably': 6825, 'bru': 6826, 'sharp': 6827, 'pqms': 6828, 'pqds': 6829, \"doctors'\": 6830, '300er': 6831, '6may': 6832, '23sep': 6833, '23oct': 6834, 'venezuela': 6835, 'ua1130': 6836, 'having': 6837, 'milan': 6838, 'malpensa': 6839, '7apr': 6840, '28mar': 6841, '2jul': 6842, 'bad4business': 6843, 'rachelle': 6844, 'seatback': 6845, 'ua1260': 6846, '605': 6847, '1153': 6848, 'sdf': 6849, 'ua862': 6850, 'dismissed': 6851, 'bounces': 6852, 'worstservice': 6853, 'clowns': 6854, 'campus': 6855, 'recognize': 6856, 'terri': 6857, 'ua1619': 6858, 'saga': 6859, 'intentional': 6860, 'jersey': 6861, 'jx4s2t': 6862, 'damper': 6863, 'iy': 6864, 'building': 6865, '3511': 6866, 'agreement': 6867, 'hahahahaha': 6868, '1086': 6869, 'begging': 6870, 'stamp': 6871, 'displaced': 6872, 'bouncer': 6873, 'fraction': 6874, 'ua3388': 6875, 'affiliate': 6876, 'straightend': 6877, '3745': 6878, 'victoria': 6879, 'sombrons': 6880, 'michelle': 6881, 't1': 6882, 'pssngrs': 6883, 'fuckinlame': 6884, 'befor': 6885, 'lastflightwithyouever': 6886, 'layout': 6887, 'ua51': 6888, 'encourage': 6889, 'sole': 6890, '6166': 6891, 'blatantly': 6892, 'stable': 6893, '4603': 6894, 'mktg': 6895, 'branding': 6896, 'cxp': 6897, '430am': 6898, 'dca48810m': 6899, 'limbo': 6900, '70min': 6901, \"'error'\": 6902, '992': 6903, 'salvaged': 6904, 'lifevests': 6905, 'rebecca': 6906, 'levi': 6907, 'aaaand': 6908, '1205': 6909, 'uggh': 6910, 'wmass': 6911, 'ua1568': 6912, 'ua1543': 6913, 'uplink': 6914, 'cousins': 6915, 'language': 6916, 'walkway': 6917, 'airlinesecurity': 6918, 'expects': 6919, '1247': 6920, 'nogate': 6921, 'belabor': 6922, 'maybemange': 6923, 'alittlebetter': 6924, 'howisthatpossible': 6925, 'king': 6926, 'woeful': 6927, 'sponsor': 6928, 'friendlysky': 6929, 'frauds': 6930, 'gottogetbetter': 6931, '1130': 6932, 'bait': 6933, 'tactic': 6934, 'advertised': 6935, '1038': 6936, 'bookable': 6937, 'ratings': 6938, 'heh': 6939, 'ua1731': 6940, 'ua1469': 6941, '6600': 6942, 'courrier': 6943, 'avalible': 6944, 'hotelliving': 6945, 'prolly': 6946, 'fulfill': 6947, 'thailand': 6948, 'dis': 6949, 'hour20delay': 6950, 'their': 6951, \"'ya\": 6952, \"service'\": 6953, 'melbourne': 6954, \"relative's\": 6955, 'my8yb4': 6956, 'clarita': 6957, 'jaramillo': 6958, 'mejia': 6959, 'doorstep': 6960, 'stressors': 6961, 'vague': 6962, 'strandusindenver': 6963, 'hourandtenminutedelay': 6964, 'hourdelay': 6965, 'multipledooropeningandclosing': 6966, 'dangerofgettingsnowedin': 6967, 'dissapointment': 6968, 'thanking': 6969, '4461': 6970, 'braving': 6971, '1758': 6972, 'vacate': 6973, 'findanothergate': 6974, 'acc': 6975, 'ua6318': 6976, 'kansas': 6977, 'ua1758': 6978, 'fedup': 6979, 'disastrous': 6980, 'unanswered': 6981, 'ua978': 6982, '1180': 6983, 'ua484': 6984, 'ua1510': 6985, 'cooker': 6986, 'sundays': 6987, 'ua3785': 6988, 'mtgs': 6989, 'riot': 6990, 'reboot': 6991, '4232': 6992, 'sardine': 6993, 'belief': 6994, 'safer': 6995, 'jeanette': 6996, 'ua1118': 6997, 'uncle': 6998, 'thoughtful': 6999, 'gnvfsd': 7000, 'ktm': 7001, 'oscarnight': 7002, 'maintenece': 7003, \"'request'\": 7004, 'pales': 7005, 'comparison': 7006, 'wages': 7007, 'ua647': 7008, 'improper': 7009, 'gills': 7010, 'deceptive': 7011, 'granting': 7012, 'neverflyunited': 7013, 'ua1534': 7014, 'tries': 7015, 'claudia': 7016, 'mdt': 7017, 'ua1565': 7018, 'ongoing': 7019, 'flythefriendlyskies': 7020, 'unitedworstever': 7021, 'trappedhouston': 7022, 'winterstorm2015': 7023, 'whichisworsedenordfw': 7024, 'ual212': 7025, 'lungs': 7026, '3870': 7027, 'welcomed': 7028, 'grumpykim': 7029, 'unbalanced': 7030, 'curtesy': 7031, 'inpolite': 7032, 'nippon': 7033, 'subtlety': 7034, '15yr': 7035, 'awfulness': 7036, \"'more\": 7037, \"fixes'\": 7038, 'attitudy': 7039, 'viable': 7040, \"eqm's\": 7041, 'pqm': 7042, 'wb': 7043, '5639': 7044, 'snobby': 7045, 'remarks': 7046, 'poker': 7047, 'ua1266': 7048, 'logs': 7049, 'nomorecheckedbags': 7050, 'ua5168': 7051, 'ua795': 7052, 'givethoseladiesraise': 7053, '2065': 7054, 'extraordinaire': 7055, 'seau': 7056, 'fong': 7057, 'tcmparty': 7058, 'ce3k': 7059, '31daysofoscar': 7060, '800w': 7061, 'disspointed': 7062, 'b91': 7063, 'fe': 7064, 'americanisbetter': 7065, 'volkswagen': 7066, 'whatacluster': 7067, 'fransico': 7068, 'evacuated': 7069, '4994': 7070, 'wyoming': 7071, '2ndary': 7072, 'countries': 7073, '6hour': 7074, 'flydeltanexttime': 7075, 'govt': 7076, 'unitedairlinessux': 7077, 'ans': 7078, '806': 7079, 'synonymous': 7080, 'unfair': 7081, 'stingiest': 7082, 'ptfo': 7083, 'bastards': 7084, 'stingy': 7085, 'fete': 7086, 'barrel': 7087, '600mph': 7088, 'outfitted': 7089, '425pm': 7090, 'miscounting': 7091, 'ua5097': 7092, 'ua230': 7093, 'enforce': 7094, 'mqxc64': 7095, 'mpwnc2': 7096, '5721': 7097, 'worded': 7098, 'funited': 7099, 'historically': 7100, 'lifeline': 7101, 'moderate': 7102, 'sector': 7103, 'whereby': 7104, 'geography': 7105, 'flyingwithus': 7106, 'lostacustomer': 7107, \"'passenger\": 7108, \"comfort'\": 7109, 'yxe': 7110, 'ua6136': 7111, \"travelers'\": 7112, 'aircrafts': 7113, 'sep': 7114, 'f3kxb8': 7115, 'ml\\x89û\\x9d': 7116, '5491': 7117, '5644': 7118, 'connex': 7119, 'reseated': 7120, \"'missing\": 7121, \"screw'\": 7122, '3345': 7123, 'bringbackrealstaff': 7124, 'earnings': 7125, 'dishonoring': 7126, 'gay': 7127, 'smoothie': 7128, 'rapidly': 7129, 'fantasy': 7130, 'hiccups': 7131, 'smelled': 7132, 'japan': 7133, 'swipe': 7134, 'improvetheprocess': 7135, 'time2switch': 7136, 'inquiry': 7137, 'universally': 7138, '26pm': 7139, '416': 7140, '514': 7141, 'retook': 7142, 'goose': 7143, 'labrador': 7144, 'ua649': 7145, 'greed': 7146, '479': 7147, 'characterize': 7148, '5903': 7149, 'jockeying': 7150, 'twtr': 7151, 'ua6016053916': 7152, 'honalulu': 7153, 'delayua53': 7154, 'kauai': 7155, 'norway': 7156, 'shrugging': 7157, 'dependable': 7158, 'skyteam': 7159, 'helpfulness': 7160, 'lastella': 7161, 'ùô\\x8f\\x89ïö\\x95ü\\x8f': 7162, 'buzzkill': 7163, '1008': 7164, 'boot': 7165, 'emptied': 7166, 'distressed': 7167, 'startling': 7168, 'burst': 7169, 'ua3882': 7170, 'crewe': 7171, 'ua2066': 7172, 'ua6194': 7173, 'runners': 7174, 'miscnx': 7175, 'ð': 7176, 'authors': 7177, 'fiction': 7178, 'ua5037': 7179, 'realise': 7180, 'counts': 7181, 'faceless': 7182, 'starts': 7183, 'phantom': 7184, 'apeared': 7185, 'wouldnt': 7186, '3387': 7187, 'hopped': 7188, 'winwin': 7189, 'mbr': 7190, 'assurance': 7191, 'russell': 7192, 'daiber': 7193, 'ua994': 7194, 'induce': 7195, 'involuntarily': 7196, 'newest': 7197, 'badbadbad': 7198, 'i6ep18': 7199, 'nicole': 7200, 'quito': 7201, 'makestoomuchsense': 7202, 'united1k': 7203, '360': 7204, \"'trained'\": 7205, 'arose': 7206, '1689': 7207, 'washingtondc': 7208, 'dkyde6': 7209, '458336': 7210, '363660636': 7211, '440436': 7212, 'transpired': 7213, 'unitedhatesusall': 7214, 'hdndl11785': 7215, 'nh10': 7216, '5713': 7217, '3277': 7218, 'trashy': 7219, 'mislead': 7220, 'sends': 7221, 'outrage': 7222, 'ots': 7223, 'ua1764': 7224, 'enertainment': 7225, '6491': 7226, 'bil': 7227, 'fifty': 7228, 'ea': 7229, 'engineer': 7230, 'frame': 7231, '27a': 7232, 'unitedagainstunited': 7233, 'consequence': 7234, 'ua761': 7235, 'socket': 7236, 'beta': 7237, 'restriction': 7238, \"'we'll\": 7239, \"plane'\": 7240, 'bish': 7241, '14a': 7242, 'ua895': 7243, 'scream': 7244, 'ind43728m': 7245, '2100': 7246, '12h': 7247, 'chkout': 7248, 'european': 7249, 'fabrice': 7250, 'ggqzqd': 7251, 'muc': 7252, \"'til\": 7253, 'newamericanstinks': 7254, 'aircrft': 7255, 'ending': 7256, '863': 7257, 'whereabouts': 7258, 'greeeaat': 7259, 'scooby': 7260, 'manilla': 7261, 'unconscionable': 7262, 'hepl': 7263, 'robotweeting': 7264, 'disrespectfully': 7265, 'strive': 7266, 'actively': 7267, 'averaging': 7268, '240minute': 7269, 'ua125': 7270, 'published': 7271, 'ua1550': 7272, 'redeye': 7273, '443min': 7274, 'avoidable': 7275, 'goldentickets': 7276, '\\x89ïó\\x95ü\\x8f': 7277, 'draw': 7278, 'edge': 7279, 'routinely': 7280, 'traveller': 7281, 'scary': 7282, 'jokers': 7283, 'impacts': 7284, 'ua252': 7285, 'weasel': 7286, '354': 7287, 'nit': 7288, 'tryn': 7289, 'comping': 7290, 'freakin': 7291, 'fl1289sfo': 7292, 'getmeoffrhisfuckinplane': 7293, 'progressed': 7294, '675': 7295, '0985': 7296, 'outward': 7297, 'syd': 7298, 'connectfor': 7299, 'nolo': 7300, 'ua90': 7301, '350pm': 7302, 'virtually': 7303, 'rentals': 7304, '12thman': 7305, 'costumerservice': 7306, 'jk': 7307, 'segs': 7308, '6377': 7309, 'unitedlies': 7310, 'threw': 7311, 'refueled': 7312, 'hurry': 7313, 'retards': 7314, 'snit': 7315, 'compensates': 7316, 'ua57': 7317, 'swapped': 7318, 'zrh': 7319, '45hrs': 7320, '1125': 7321, \"cases'\": 7322, 'ua1616': 7323, 'lagging': 7324, 'ua1459': 7325, 'threehourslate': 7326, 'prescreen': 7327, 'makessense': 7328, 'immensely': 7329, 'airlinegave': 7330, 'pounding': 7331, 'sandra': 7332, 'commented': 7333, '25yrs': 7334, 'blind': 7335, 'handedly': 7336, 'blow': 7337, 'invoices': 7338, 'unitedsucksdick': 7339, 'sides': 7340, '732': 7341, 'unplanned': 7342, 'teeth': 7343, 'peer': 7344, 'copay': 7345, 'restrm': 7346, 'row7': 7347, 'restating': 7348, 'additionally': 7349, 'ua14': 7350, 'yxu': 7351, 'contradictory': 7352, 'anaphylaxis': 7353, 'needtobehonest': 7354, 'ua3782': 7355, 'ua1069': 7356, '4595': 7357, 'electrical': 7358, 'interiors': 7359, 'whyjeff': 7360, 'witness': 7361, 'mental': 7362, 'walls': 7363, 'fred': 7364, 'flintstone': 7365, 'regrading': 7366, 'diligent': 7367, 'ua748': 7368, '930pm': 7369, '6500': 7370, 'egregious': 7371, 'sam': 7372, 'adams': 7373, 'usurious': 7374, 'capabilities': 7375, 'context': 7376, 'prison': 7377, '6delays': 7378, 'arvls': 7379, 'custs': 7380, '4016688561': 7381, 'mga': 7382, 'uncontrollably': 7383, 'ua1470': 7384, 'kurt': 7385, 'ua1745': 7386, 'ua1002': 7387, 'mild': 7388, 'poisoning': 7389, 'ua5': 7390, '10voucherwhatajoke': 7391, 'case\\x89ûónothing': 7392, 'sloppy': 7393, 'tagging': 7394, 'backing': 7395, 'offenders': 7396, 'conversational': 7397, 'exiting': 7398, 'toothpaste': 7399, '70oz': 7400, 'rollaboard': 7401, 'zones': 7402, 'yaayy': 7403, 'loudspeaker': 7404, 'yep\\x89ûóused': 7405, '\\x89ûïthank': 7406, 'request\\x89û\\x9d': 7407, 'ua1150': 7408, 'plowing': 7409, 'dies': 7410, 'ebola': 7411, 'straightened': 7412, 'gig': 7413, 'rivals': 7414, 'wipe': 7415, 'wipes': 7416, 'stains': 7417, 'pins': 7418, '1226': 7419, 'buybacks': 7420, 'substitutes': 7421, \"o'head\": 7422, 'morn': 7423, 'munich': 7424, 'cowardly': 7425, '1427': 7426, '333': 7427, '1632': 7428, '8000': 7429, 'hops': 7430, 'lostmybusiness': 7431, 'disrespected': 7432, 'appropriately': 7433, 'fakesincerity': 7434, 'happyflight': 7435, 'angriest': 7436, 'angst': 7437, 'iest': 7438, 'tasha': 7439, 'mpls': 7440, 'deployment': 7441, 'tropic': 7442, 'elected': 7443, 'appointed': 7444, 'mistaken': 7445, 'scarf': 7446, '3618': 7447, 'overcharging': 7448, 'interviewed': 7449, 'recruiter': 7450, '4h2m': 7451, '5h2m': 7452, 'timezones': 7453, 'accuratetraveltimes': 7454, '3rdtimethishashappened': 7455, 'bums': 7456, '\\x89ïé': 7457, '\\x89\\x9dî': 7458, 'meanwhile': 7459, 'swing': 7460, 'fairway': 7461, 'overlooking': 7462, 'ripoffs': 7463, 'pricediscrimination': 7464, 'cracker': 7465, 'bullying': 7466, 'workforce': 7467, 'hilo': 7468, '2hr30min': 7469, 'b36a': 7470, '6475': 7471, 'geneva': 7472, 'spaghetti': 7473, 'flt803': 7474, 'nonupgrade': 7475, 'argueing': 7476, 'wakes': 7477, 'supply': 7478, 'images': 7479, 'astounds': 7480, 'flight6831': 7481, 'pssgrs': 7482, 'psngrs': 7483, 'npbhd0': 7484, 'poles': 7485, 'router': 7486, 'fuselage': 7487, 'ua343': 7488, 'is9jx1': 7489, 'mite': 7490, 'bites': 7491, 'mites': 7492, 'reopen': 7493, '1285': 7494, 'growing': 7495, '16hr': 7496, '55mins': 7497, 'earning': 7498, 'ua1523': 7499, 'puj': 7500, 'errored': 7501, \"a'dam\": 7502, 'sms': 7503, 'listened': 7504, 'diverged': 7505, 'burlington': 7506, 'vermont': 7507, 'n33103': 7508, 'taxies': 7509, 'ua26': 7510, 'liberty': 7511, 'bd': 7512, 'proj': 7513, 'cond': 7514, 'yuck': 7515, 'ua1665': 7516, 'conversed': 7517, 'wireless': 7518, 'piggy': 7519, 'routine': 7520, 'nyt': 7521, 'airserv': 7522, 'contractors': 7523, 'ua1566': 7524, 'calamity': 7525, 'lostsuitcase': 7526, 'noreimbursement': 7527, '132': 7528, 'comeonpeople': 7529, '1665': 7530, 'coupled': 7531, 'exacerbates': 7532, 'bootbag': 7533, 'generally': 7534, 'unhelpfulness': 7535, 'illogical': 7536, 'elp': 7537, 'emb145': 7538, 'elpaso': 7539, 'teamusa': 7540, 'cp\\x89û\\x9ddone': 7541, 'ua6': 7542, 'earnedmybusiness': 7543, 'cleanliness': 7544, '4651': 7545, 'pek': 7546, 'complimenting': 7547, 'sobbed': 7548, '1136': 7549, 'worn': 7550, 'enoughisenough': 7551, 'irreplaceable': 7552, 'milestone': 7553, 'repaid': 7554, 'copa': 7555, '635': 7556, 'competing': 7557, 'bringyourown': 7558, 'teams': 7559, 'championship': 7560, 'exasperating': 7561, 'undergoing': 7562, 'touching': 7563, '2210': 7564, 'lax29108m': 7565, 'royal': 7566, 'commission': 7567, 'connectin': 7568, 'nyfw': 7569, '50m': 7570, '1tix': 7571, 'youretheworst': 7572, 'mentioning': 7573, 'mortified': 7574, 'acted': 7575, 'lea': 7576, 'facts': 7577, 'keepingit100': 7578, 'weaktea': 7579, 'ua7985': 7580, 'coshared': 7581, '1669': 7582, '3781': 7583, 'weblink': 7584, 'avoiding': 7585, 'validity': 7586, 'underweight': 7587, 'everglades': 7588, 'faint': 7589, 'sunburn': 7590, '3367': 7591, 'saddening': 7592, 'wheresthepilot': 7593, 'flt1088': 7594, '157': 7595, 'ua3462': 7596, 'ua1088': 7597, 'straighten': 7598, 'dildo': 7599, 'terriblecustomerservice': 7600, 'credibility': 7601, 'ravioli': 7602, 'attendents': 7603, 'ua1022': 7604, 'platinummember': 7605, 'marcus': 7606, 'unsmiling': 7607, 'breezy': 7608, '14hrs': 7609, 'ua863': 7610, 'ua1157': 7611, 'int\\x89ûªl': 7612, 'dtv': 7613, '10yr': 7614, 'spin': 7615, 'opaque': 7616, 'ted': 7617, 'b3': 7618, '1299': 7619, 'm13': 7620, 'lx009': 7621, 'behaves': 7622, 'amy': 7623, 'lloyd': 7624, 'bosnia': 7625, 'cpus': 7626, 'proportion': 7627, 'goddamn': 7628, 'handy': 7629, 'society': 7630, 'resting': 7631, 'elbows': 7632, 'seatmate': 7633, 'alavera': 7634, 'sfobos': 7635, 'soda': 7636, 'tucking': 7637, 'moneynotspentonunited': 7638, 'disunited': 7639, 'ua5184': 7640, 'wpg': 7641, 'keepit100': 7642, 'bach': 7643, '10d': 7644, 'untd': 7645, 'ua415': 7646, 'ua4636': 7647, 'ua82': 7648, 'maintain': 7649, '0638': 7650, 'southbendinwhere': 7651, 'lindsay': 7652, '5\\x89ûª': 7653, '6\\x89û\\x9d': 7654, 'iflyalot': 7655, 'launched': 7656, 'nws': 7657, 'honululu': 7658, '4016': 7659, '529557': 7660, 'montana': 7661, 'refreshments': 7662, 'uhuh': 7663, 'preemptive': 7664, 'friendlyfriday': 7665, 'paws': 7666, 'blood': 7667, 'appt': 7668, '18009174929': 7669, 'litter': 7670, 'waiving': 7671, 'resell': 7672, 'dimensions': 7673, 'dmangen': 7674, 'grossed': 7675, 'flyingretro': 7676, 'gjqx6j': 7677, 'a587cw': 7678, 'inconveniences': 7679, '791': 7680, 'followback': 7681, '384': 7682, '3589': 7683, 'beingsuckontarmacsucks': 7684, 'ua1023': 7685, 'visibly': 7686, 'mainline': 7687, 'sato': 7688, 'unnerving': 7689, 'refreshes': 7690, '358': 7691, 'dounotwantmybusiness': 7692, 'voted': 7693, 'title': 7694, 'jedediah': 7695, 'whatstheholdup': 7696, 'chitocle': 7697, 'teeming': 7698, 'morons': 7699, 'ua6357': 7700, 'railed': 7701, '307': 7702, 'ethics': 7703, 'splitting': 7704, 'quadruples': 7705, 'trials': 7706, 'transcontinental': 7707, '72h': 7708, 'functioning': 7709, 'lining': 7710, \"aren't\": 7711, 'jj\\x89û\\x9d': 7712, '337': 7713, 'accruing': 7714, 'depression': 7715, 'familiar': 7716, 'hopethegearmakesitintact': 7717, '417': 7718, 'hkg': 7719, 'bila': 7720, '539': 7721, 'workin': 7722, '395': 7723, 'ua475': 7724, 'gently': 7725, 'whipped': 7726, 'canadaair': 7727, 'abuse': 7728, 'overcharge': 7729, 'privilege': 7730, 'tripitpro': 7731, 'transparency': 7732, 'sarah': 7733, 'stocker': 7734, 'victim': 7735, '1219': 7736, 'boiled': 7737, 'preventative': 7738, 'unresolved': 7739, 'narrower': 7740, 'bloated': 7741, 'mn': 7742, '5559': 7743, 'yyc': 7744, 'lightbulb': 7745, 'handshake': 7746, 'problemsolvers': 7747, 'ua4689': 7748, 'yhz': 7749, 'utmost': 7750, '5187': 7751, 'hurricane': 7752, 'checkers': 7753, 'overkill': 7754, 'kathryn': 7755, 'sotelo': 7756, '1449': 7757, 'aggravation': 7758, 'a3zz0f': 7759, 'compton': 7760, 'insurance': 7761, '3444': 7762, 'gsa': 7763, 'ithica': 7764, 'keepingtraditionsalive': 7765, 'thanksunited': 7766, 'kat': 7767, 'tasty': 7768, 'pad': 7769, '1558': 7770, '9c': 7771, 'acts': 7772, 'amarillo': 7773, 'hn': 7774, 'sucking': 7775, 'surcharge': 7776, 'unmissable': 7777, 'bushug': 7778, 'format': 7779, 'busads': 7780, 'thinkbus': 7781, 'screensand': 7782, '1612': 7783, 'guilty': 7784, '5012': 7785, '4781': 7786, '5102newflight': 7787, '5001': 7788, 'vegetarian': 7789, 'irene': 7790, 'paxex': 7791, 'mysteriously': 7792, 'thinner': 7793, 'asses': 7794, 'chocked': 7795, 'unmet': 7796, 'whatgives': 7797, 'dullessucks': 7798, '3xdaily': 7799, 'evansville': 7800, '4jun': 7801, '4465': 7802, 'slew': 7803, 'boardingpass': 7804, 'rad': 7805, '8thtime5monthsold': 7806, 'ua49': 7807, 'londonfashionweek': 7808, 'lfw15': 7809, '20k': 7810, 'cement': 7811, 'ua1724': 7812, '6212': 7813, 'needtocatchmynextflight': 7814, 'alreadyrebookedonce': 7815, \"sunday's\": 7816, '1623': 7817, 'traditions': 7818, 'flightdelay': 7819, 'nocompensation': 7820, 'despise': 7821, 'thee': 7822, 'dullestostatecollege': 7823, 'runningonthreehoursofsleep': 7824, 'delayedovernight': 7825, '912': 7826, 'ambassador': 7827, 'tiredandwanttogohome': 7828, 'confrontational': 7829, 'wating': 7830, 'dawn': 7831, 'senses': 7832, 'stickingtodelta': 7833, 'mn\\x89û\\x9d': 7834, 'loudly': 7835, 'throug': 7836, 'dimmed': 7837, 'oreos': 7838, 'asus': 7839, '16th': 7840, 'wondered': 7841, 'reclaim': 7842, 'aunts': 7843, '\\x89ââ600': 7844, 'onlyinamerica': 7845, 'customerservices': 7846, 'transparent': 7847, 'rick': 7848, 'clifton': 7849, 'handbag': 7850, 'escorted': 7851, 'prebooked': 7852, 'und': 7853, 'lagos': 7854, 'nigeria': 7855, 'ou': 7856, 'keepitclassy': 7857, '359': 7858, 'bragged': 7859, 'fib': 7860, 'vanished': 7861, 'idaho': 7862, 'anna': 7863, 'showsomerespect': 7864, '8473573': 7865, 'nawww': 7866, 'formed': 7867, '\\x89ââ202': 7868, 'ua1037': 7869, '9abc': 7870, '3hourdelay': 7871, 'ua4904': 7872, 'tolerable': 7873, 'lastflightofthenight': 7874, 'breakup': 7875, 'us3645': 7876, 'dpted': 7877, 'ua3645': 7878, '54pm': 7879, 'whatstatus': 7880, '2spooky': 7881, 'm8': 7882, 'spook': 7883, 'scare': 7884, 'us651621': 7885, 'aweful': 7886, 'waitingforbags': 7887, 'tiredcustomer': 7888, '689': 7889, 'nyc\\x89û': 7890, 'z': 7891, '38a': 7892, 'assumed': 7893, '8e': 7894, 'alb': 7895, '1of': 7896, 'ump': 7897, 'lugging': 7898, 'justgetmehome': 7899, 'seek': 7900, 'sbn': 7901, 'lgjw7b': 7902, 'voluntarily': 7903, '\\x89ââ67': 7904, 'g6455c': 7905, 'roanoke': 7906, 'sous': 7907, 'doumented': 7908, 'crucial': 7909, 'youragentshavenoclue': 7910, '78': 7911, '5lb': 7912, 'lon': 7913, '4841': 7914, 'illiterate': 7915, 'bars': 7916, 'msn': 7917, 'rx': 7918, 'eyeglasses': 7919, 'substantial': 7920, 'demonstration': 7921, 'corny': 7922, 'a\\x89û': 7923, '2daysofunitedfailures': 7924, '1thingafteranother': 7925, 'labyrinth': 7926, 'swindle': 7927, 'cont\\x89û': 7928, 'accomidating': 7929, '5979': 7930, 'qro': 7931, 'alwaysdelayed': 7932, 'amt': 7933, 'impatience': 7934, 'untruthful': 7935, 'overchargedunderserved': 7936, 'comedian': 7937, 'stage': 7938, 'reboard': 7939, 'duecto': 7940, 'willl': 7941, 'snowforce': 7942, 'grow': 7943, '10p': 7944, 'surveying': 7945, 'nudgenudge': 7946, 'vocab': 7947, 'donna': 7948, '1528': 7949, '909': 7950, 'interrogated': 7951, 'poorform': 7952, 'thatisall': 7953, 'golfunited': 7954, 'installed': 7955, 'possiable': 7956, 'schiphol': 7957, '20hrs': 7958, 'func': 7959, 'byod': 7960, 'worksnicely': 7961, 'subsequently': 7962, 'tennis': 7963, 'cantlogoutofunitedwifi': 7964, 'logout': 7965, 'saddened': 7966, 'inchecking': 7967, 'netherlands': 7968, \"john's\": 7969, 'ua5631': 7970, 'burbank': 7971, 'extravaganza': 7972, 'ec': 7973, 'deaffriendly': 7974, '335': 7975, '2247': 7976, 'weighed': 7977, 'indidnt': 7978, 'hime': 7979, 'syastem': 7980, '8544484': 7981, 'suite': 7982, 'keepusguessing': 7983, 'isthisyourfirsttry': 7984, '240': 7985, 'kms': 7986, '12h30am': 7987, 'cabine': 7988, 'sao': 7989, '0167560070877': 7990, 'fsqthg': 7991, \"'crashing\": 7992, 'they\\x89ûªre': 7993, 'heartless': 7994, 'lacking': 7995, 'interrupted': 7996, '71': 7997, 'definately': 7998, 'united13': 7999, 'joni': 8000, '5653': 8001, 'orthodoc': 8002, 'regains': 8003, 'karma': 8004, 'sweaty': 8005, 'ua4935': 8006, 'il': 8007, 'centerl': 8008, '400s': 8009, 'sitters': 8010, 'wellplayed': 8011, 'jokesonus': 8012, 'rechecked': 8013, 'uncvsduke': 8014, 'areyounew': 8015, 'no800number': 8016, 'feeltheheat': 8017, 'ritz': 8018, 'kidnapped': 8019, 'sellout': 8020, 'obsolete': 8021, '285': 8022, 'unitedairlinessuck': 8023, 'customary': 8024, '1020': 8025, 'spends': 8026, 'randomactsofcorporategreed': 8027, '630a': 8028, 'milage': 8029, 'idnumber8569822': 8030, 'hopetogetanswersoon': 8031, 'medallion': 8032, 'probablynot': 8033, 'monica': 8034, 'unitedfails': 8035, 'worsttripofmylife': 8036, 'n26902': 8037, '1101': 8038, 'anotherdisappointment': 8039, 'ralph': 8040, \"nader's\": 8041, \"ual's\": 8042, 'discouraging': 8043, '37d': 8044, 'koa': 8045, '2of2': 8046, 'thier': 8047, 'in1st': 8048, 'bite': 8049, 'threat': 8050, 'belligerent': 8051, 'ranting': 8052, 'aaron': 8053, 'blanket': 8054, 'whiskey': 8055, 'ua5029': 8056, 'ua423': 8057, 'blacked': 8058, 'twin': 8059, 'olds': 8060, 'lifesaver': 8061, 'preparations': 8062, '2mm': 8063, 'beought': 8064, 'unexpactable': 8065, 'ecom': 8066, 'conflict': 8067, 'erased': 8068, 'versions': 8069, 'shin': 8070, 'splits': 8071, 'sprinting': 8072, 'income': 8073, 'exams': 8074, '4372': 8075, 'pac': 8076, 'missin': 8077, 'aussie': 8078, 'cowgirl': 8079, 'cowboy': 8080, 'estelle': 8081, '820pm': 8082, 'ua1416': 8083, 'failagain': 8084, 'unite': 8085, \"usa's\": 8086, 'fashion': 8087, 'unitedvusa': 8088, 'distinguish': 8089, 'quantas': 8090, 'auckland': 8091, 'dmd': 8092, 'professor': 8093, 'startups': 8094, 'amateurs': 8095, 'vibrant': 8096, 'habitrails': 8097, 'sprinted': 8098, 'coughed': 8099, 'lung': 8100, 'amypoehler': 8101, 'bafore': 8102, 'simplify': 8103, 'lhrt2': 8104, 'yyzua70435': 8105, 'ua4727': 8106, 'turrible': 8107, 'unaccomidating': 8108, '280': 8109, '1640': 8110, 'n33289': 8111, 'careyon': 8112, 'leah': 8113, 'kerry': 8114, 'ua768': 8115, 'ebokeers': 8116, 'cdt': 8117, 'airside': 8118, '574': 8119, 'fairbanks': 8120, 'ua1641': 8121, 'aren\\x89ûªt': 8122, 'overheads': 8123, 'aquadilla': 8124, '547': 8125, 'ua1564': 8126, 'ua4232': 8127, 'withheld': 8128, 'pty': 8129, 'punished': 8130, 'accrue': 8131, 'cosmetic': 8132, 'weigh': 8133, 'conveyor': 8134, 'istanbul': 8135, '12th': 8136, 'lly144': 8137, 'stacey': 8138, 'potus': 8139, 'dvr': 8140, 'motion': 8141, 'drinking': 8142, 'plumber': 8143, '07': 8144, 'string': 8145, 'williams': 8146, 'edit': 8147, 'observation': 8148, 'reads': 8149, 'ypu': 8150, '787s': 8151, 'jt\\x89û\\x9d': 8152, 'ua304': 8153, '10f': 8154, 'noodles': 8155, 'peas': 8156, 'zukes': 8157, 'yogurt': 8158, 'stillmakingmepoorthough': 8159, \"hughes'\": 8160, 'automobiles': 8161, 'longstanding': 8162, 'shoulda': 8163, 'thor': 8164, 'idonotcare': 8165, 'doc': 8166, 'ua3466': 8167, 'ua22': 8168, 'pressed': 8169, '9year': 8170, 'cabins': 8171, 'church': 8172, 'sailed': 8173, 'ua6002': 8174, 'mli': 8175, 'ua3530': 8176, 'yeg': 8177, 'fay': 8178, 'retracted': 8179, 'affiliated': 8180, 'lh7631': 8181, 'margo': 8182, \"houston's\": 8183, 'intercontinental': 8184, \"'we've\": 8185, \"over'\": 8186, \"changed'\": 8187, 'reduction': 8188, '900s': 8189, 'exhorbitantfees': 8190, 'outpost': 8191, 'incurring': 8192, '5431': 8193, 'ua1297': 8194, 'pleasent': 8195, 'dj': 8196, '3586': 8197, '70s': 8198, 'inner': 8199, 'lowstandards': 8200, 'winters': 8201, 'annnnddddd': 8202, 'trade': 8203, 'sunkist': 8204, 'bypass': 8205, 'locally': 8206, 'confuses': 8207, '6in': 8208, 'surliness': 8209, 'speechless': 8210, 'monopoly': 8211, 'doesntfeellikestatusyet': 8212, 'inflexible': 8213, 'le2v9d': 8214, 'numbered': 8215, 'iatanbul': 8216, 'suggests': 8217, 'structure': 8218, 'diminishes': 8219, 'certs': 8220, 'clearvision': 8221, 'tv4u': 8222, 'deter': 8223, 'latter': 8224, 'preferences': 8225, 'ridic': 8226, 'paycheck': 8227, 'nabisco': 8228, 'pepperidge': 8229, 'farms': 8230, '2daysofhell': 8231, 'rj': 8232, '145s': 8233, 'amounts': 8234, 'apologized': 8235, 'sobbing': 8236, \"ua's\": 8237, 'answerthis': 8238, 'dreadful': 8239, 'whacked': 8240, 'verifies': 8241, 'circulation': 8242, 'premiers': 8243, 'burningman': 8244, 'mkwlkr': 8245, '9may': 8246, '5sep': 8247, 'regard': 8248, 'expressing': 8249, 'ua6465': 8250, 'consoled': 8251, '6344': 8252, '1576': 8253, 'waspaid': 8254, 'ua6255': 8255, 'winnipeg': 8256, 'ua1059': 8257, 'tightconnection': 8258, 'irritating': 8259, 'coltsmissingbags': 8260, 'lightyears': 8261, 'frightening': 8262, '1person': 8263, 'breathe': 8264, 'borderline': 8265, 'letsworktogether': 8266, 'dope': 8267, '299': 8268, '711': 8269, 'unempathetic': 8270, 'pri': 8271, 'opsec': 8272, 'leisure': 8273, '4411': 8274, 'bcn': 8275, 'whatsoever': 8276, 'unitedairline': 8277, 'correspondence': 8278, '2600': 8279, 'tablets': 8280, 'skateboards': 8281, 'anti': 8282, 'itproblems': 8283, 'respects': 8284, \"'cuz\": 8285, 'pretending': 8286, 'welfare': 8287, 'tracing': 8288, 'turquoise': 8289, 'ua1121': 8290, 'upc': 8291, 'swimsuits': 8292, 'competitively': 8293, '179': 8294, '324': 8295, 'unitedwithivy': 8296, 'falseadvertising': 8297, 'ua1127': 8298, 'tons': 8299, 'addr': 8300, 'signin': 8301, 'dxb': 8302, 'hearts': 8303, '512': 8304, 'sime': 8305, 'flashlight': 8306, 'noapology': 8307, 'restructured': 8308, 'brotha': 8309, 'multiplier': 8310, 'teleportation': 8311, 'ua514': 8312, 'rtbiah': 8313, 'cigarettes': 8314, 'prohibits': 8315, 'stonewalled': 8316, 'ua3710': 8317, '3710': 8318, 'colliding': 8319, '644': 8320, 'wontflyagainwithyou': 8321, 'staffers': 8322, 'faults': 8323, '1114': 8324, 'isolate': 8325, 'mtn': 8326, 'hemispheres': 8327, 'ritacomo': 8328, 'understandably': 8329, 'edgy': 8330, 'chipper': 8331, 'ser': 8332, 'chatting': 8333, 'stdby': 8334, 'sivi': 8335, 'stewart': 8336, 'amid': 8337, '13ewr': 8338, 'ua1151': 8339, 'go\\x89û': 8340, 'contracts': 8341, '618': 8342, '374': 8343, 'boldflavors': 8344, 'flavors': 8345, 'ingredients': 8346, 'csfail': 8347, 'milageplus': 8348, 'shady': 8349, 'undetermined': 8350, \"chicago's\": 8351, 'flyquiet': 8352, 'ordnoise': 8353, '856': 8354, '81': 8355, 'cyndi': 8356, 'troy': 8357, '3875': 8358, 'glance': 8359, 'starboard': 8360, 'reinstating': 8361, 'kosher': 8362, 'unitedfirst': 8363, 'upfare': 8364, 'dining': 8365, 'connectors': 8366, 'considerably': 8367, 'wise': 8368, 'cheeze': 8369, 'jilted': 8370, 'moneyelsewhere': 8371, 'tryagain': 8372, 'ezee': 8373, 'wilson': 8374, 'ua3787': 8375, 'amnt': 8376, '0162431184663': 8377, 'igiveup': 8378, 'signup': 8379, 'forelock': 8380, 'convinced': 8381, 'vary': 8382, 'ito': 8383, 'firing': 8384, 'loaned': 8385, 'classic': 8386, 'elizabeth': 8387, 'ua3364': 8388, 'retweet': 8389, 'doublestandards': 8390, '877': 8391, '253': 8392, 'travelingwithsmallkids': 8393, 'jetbridge': 8394, 'passenegers': 8395, 'allright': 8396, 'ua1159': 8397, 'rmoug15': 8398, 'cheduled': 8399, 'closings': 8400, 'birthdays': 8401, 'resending': 8402, \"airlines'\": 8403, 'disloyal': 8404, '10x9x17': 8405, '20x15': 8406, '7x8': 8407, 'taller': 8408, 'ù÷ö': 8409, 'firm': 8410, 'batman': 8411, 'insanely': 8412, 'upsell': 8413, 'laden': 8414, 'albeit': 8415, '86': 8416, 'tissues': 8417, '9h': 8418, '3359': 8419, 'nonetheless': 8420, '8273993': 8421, 'audition': 8422, 'quiche': 8423, 'tandoori': 8424, 'entrees': 8425, 'accompaniments': 8426, 'equipped': 8427, 'txting': 8428, 'pittsburg': 8429, 'untrained': 8430, 'crossing': 8431, 'whispering': 8432, 'bitty': 8433, 'acquire': 8434, '1591': 8435, '1618': 8436, 'perceived': 8437, 'flightncy': 8438, 'blegh': 8439, 'braved': 8440, 'shipping': 8441, \"feb's\": 8442, 'edition': 8443, 'near': 8444, 'njv4bp': 8445, 'brandi': 8446, 'zabsonre': 8447, 'farmington': 8448, 'slopes': 8449, 'ua5025': 8450, '5237': 8451, 'feck': 8452, 'transpacific': 8453, 'gist': 8454, 'indicating': 8455, 'aback': 8456, 'squarely': 8457, \"passenger's\": 8458, 'cockup': 8459, 'ijustwanttosleep': 8460, 'proficient': 8461, 'reactive': 8462, 'juice': 8463, 'getphilz': 8464, 'mot': 8465, 'clusterfucks': 8466, 'moar': 8467, 'bully': 8468, 'mentality': 8469, 'fostering': 8470, 'inspiration': 8471, 'employeerelations': 8472, '757s': 8473, 'ports': 8474, 'crì¢pe': 8475, 'ua1207': 8476, 'americanair': 8477, 'biscuits': 8478, 'sentimental': 8479, 'mp': 8480, 'connetion': 8481, 'research': 8482, '2053': 8483, 'fr1': 8484, 'sr': 8485, '256746438028': 8486, 'prompted': 8487, \"glassdoor's\": 8488, 'snagging': 8489, 'notsurprising': 8490, 'luvthem': 8491, 'leverage': 8492, 'meagan': 8493, 'fouty': 8494, 'brancato': 8495, '2771': 8496, 'parentsonboard': 8497, 'flypbi': 8498, 'logically': 8499, 'altonbrownlive': 8500, 'sohappy': 8501, 'unfollow': 8502, '85': 8503, '210pm': 8504, 'scramble': 8505, 'auction': 8506, 'invitational': 8507, '1999': 8508, '2011': 8509, 'throwback': 8510, '9newsbusiness': 8511, '218': 8512, 'facepalm': 8513, 'approvals': 8514, 'fml': 8515, 'teyana': 8516, 'medusafridays': 8517, 'till11': 8518, 'themenofbusiness': 8519, 'playa': 8520, 'carmen': 8521, 'christine': 8522, 'mx': 8523, 'dignity': 8524, '01': 8525, 'baitandswitch': 8526, 'ids': 8527, '2373': 8528, 'rapidrewards': 8529, 'lasttweetaboutthis': 8530, 'groupa': 8531, 'portal': 8532, 'reverted': 8533, 'role': 8534, 'barzegar': 8535, 'euros': 8536, 'tent': 8537, 'village': 8538, 'chantilly': 8539, 'vacationfail': 8540, 'frozenwater': 8541, 'gettingimpatient': 8542, 'theycouldatleastofferfreebooze': 8543, 'thrower': 8544, 'venetia': 8545, 'crook': 8546, '1614': 8547, 'oyu': 8548, 'strives': 8549, \"centric'\": 8550, 'marriott': 8551, 'smalls': 8552, 'traditionally': 8553, 'sledge': 8554, 'hammer': 8555, 'scalpel': 8556, \"bible'\": 8557, 'vipliveinthevieyard': 8558, 'careers': 8559, 'intuitlife': 8560, 'leanin': 8561, 'resource': 8562, '\\x89\\x9dã\\x95ü\\x8f': 8563, 'reboarding': 8564, 'a49': 8565, 'kta': 8566, 'vip': 8567, 'worthy': 8568, 'happycamper': 8569, 'mae': 8570, '2155': 8571, 'e11': 8572, 'penguin': 8573, 'als': 8574, 'smoooothest': 8575, 'southwestsmoothie': 8576, 'stepup': 8577, 'makeitright': 8578, 'wewillsee': 8579, 'sol': 8580, 'raps': 8581, '3500pts': 8582, 'partnerrewards': 8583, 'evolved': 8584, 'aimed': 8585, 'satisfy': 8586, 'nano': 8587, 'smattering': 8588, 'etd': 8589, 'swa1004': 8590, '4471': 8591, 'sauna': 8592, 'buisness': 8593, 'hail': 8594, 'schoolgirl': 8595, 'typing': 8596, 'bagsflyfree': 8597, 'cheatcustomers': 8598, 'mugged': 8599, 'wrongiswrong': 8600, 'badbussiness': 8601, 'uncool': 8602, 'attempts': 8603, 'poc': 8604, 'organizations': 8605, 'nowarmclothes': 8606, 'tus': 8607, 'lostbags': 8608, 'youdidit': 8609, 'higgs': 8610, 'boson': 8611, 'nonprofits': 8612, 'thebachelor': 8613, 'wah': 8614, 'floridavacation': 8615, 'smoothflight': 8616, 'flutter': 8617, 'fullprice': 8618, 'bethonors': 8619, 'honorable': 8620, 'economic': 8621, 'cdn': 8622, 'towns': 8623, 'customerappreciation': 8624, 'gaincustomers': 8625, 'keepem2': 8626, 'lovedflyingwiththem': 8627, 'notanymore': 8628, '261093929756': 8629, '336': 8630, 'lubbock': 8631, 'crooked': 8632, 'shouldwearmasks': 8633, 'f8neqm': 8634, \"'service'\": 8635, 'lou': 8636, 'ourguest': 8637, 'enrolled': 8638, 'katie': 8639, 'c47': 8640, '206': 8641, 'canthurtasking': 8642, 'nutsaboutsouthwest': 8643, 'brooding': 8644, 'monkey': 8645, 'mdw2mci': 8646, 'homeandreadyfornexttrip': 8647, 'satisfactorily': 8648, 'justsayin': 8649, 'genuinely': 8650, 'comparable': 8651, 'shittydeal': 8652, 'responsiveness': 8653, 'escaping': 8654, 'maltese': 8655, 'mean\\x89û': 8656, 'improving': 8657, 'hugeeeee': 8658, 'evennotified': 8659, 'theflight': 8660, 'isdelayed': 8661, 'wererunning': 8662, 'tests': 8663, 'chemistry': 8664, 'melissa': 8665, 'albums': 8666, 'accidents': 8667, 'fistfights': 8668, 'applications': 8669, 'positions': 8670, 'briughy': 8671, 'aif2015': 8672, 'agcommunity': 8673, 'plants': 8674, 'productivity': 8675, 'healthbenefitsofplants': 8676, 'gardening': 8677, 'darrel': 8678, 'lifting': 8679, 'spirits': 8680, 'c9': 8681, 'clues': 8682, 'mkt': 8683, 'whathappend': 8684, 'devalued': 8685, 'detective': 8686, 'kelsey': 8687, 'sports': 8688, 'booo': 8689, '3138': 8690, 'givethemraises': 8691, 'crabby': 8692, 'grrrrrr': 8693, 'feltthelove': 8694, 'netneutrality': 8695, 'displayed': 8696, 'northern': 8697, 'paradise': 8698, 'ùõ»': 8699, 'flight2149': 8700, 'entertained': 8701, 'gin': 8702, 'tonic': 8703, 'toyingwithouremotions': 8704, 'toughtomakeplans': 8705, 'gettingthirsty': 8706, '46mins': 8707, 'businesstrip': 8708, 'dos': 8709, \"don'ts\": 8710, 'announcer': 8711, '651': 8712, '823': 8713, '3075': 8714, 'broad': 8715, 'notsatisfied': 8716, 'georgia': 8717, \"don's\": 8718, 'ri': 8719, 'motions': 8720, 'n366sw': 8721, '99999999': 8722, 'allgood': 8723, 'ideserveareward': 8724, 'partnering': 8725, 'hilton': 8726, 'marriage': 8727, \"'flight'\": 8728, 'cheap1': 8729, '376': 8730, 'ftlauderdale': 8731, 'ftmyers': 8732, 'sellmypointssoon': 8733, 'body': 8734, 'downs': 8735, 'meat': 8736, 'punishedforflying': 8737, 'flamethrowers': 8738, 'plow': 8739, '1028': 8740, 'tok': 8741, 'possession': 8742, 'airtran': 8743, 'q4vnmb': 8744, 'displays': 8745, 'ù÷ç': 8746, 'nakedmeetings': 8747, 'banning': 8748, 'nut': 8749, 'dust': 8750, 'sighed': 8751, \"'ing\": 8752, 'lin': 8753, 'lasalle': 8754, '1156': 8755, 'b46': 8756, '184': 8757, 'directional': 8758, 'dislexia': 8759, 'looped': 8760, '3744': 8761, 'n284wn': 8762, 'gis2015': 8763, \"what'd\": 8764, 'ewk': 8765, 'pseudo': 8766, 'lease': 8767, 'empathetic': 8768, 'monika': 8769, 'mwa': 8770, 'ambivalence': 8771, 'patricia': 8772, 'ranging': 8773, 'ù÷»': 8774, 'nbd': 8775, 'muchas': 8776, 'grassy': 8777, 'dissaponted': 8778, 'wn3946': 8779, 'rita': 8780, 'olympic': 8781, 'akron': 8782, 'wretched': 8783, 'mdwmem': 8784, 'suspended': 8785, '1050': 8786, 'ar': 8787, 'companionpass': 8788, 'consistent': 8789, 'ichangedyourdiaper': 8790, 'eom': 8791, 'ù÷£': 8792, 'tru': 8793, 'thatthis': 8794, 'contingencies': 8795, '3267': 8796, 'n659sw': 8797, 'mighty': 8798, 'retiring': 8799, 'c22': 8800, 'weatherless': 8801, 'anderson': 8802, 'sweeps': 8803, 'precludes': 8804, 'southwestluv': 8805, 'destroy': 8806, '50th': 8807, 'sweethearts': 8808, 'companions': 8809, 'aim': 8810, 'functionally': 8811, 'gimme': 8812, 'combat': 8813, 'dontmakemebeg': 8814, 'everyones': 8815, 'secrets': 8816, 'brighter': 8817, 'qualified': 8818, 'hollymais': 8819, 'mines': 8820, 'obtain': 8821, 'investment': 8822, '4179': 8823, 'fransisco': 8824, 'fasten': 8825, 'tiday': 8826, 'planing': 8827, 'bur': 8828, 'gettingbetter': 8829, '2707': 8830, 'sfosna': 8831, 'infinity': 8832, 'get2': 8833, '436': 8834, 'angering': 8835, 'slowness': 8836, 'ack': 8837, 'wentook3': 8838, 'shouldhaveflownjetblue': 8839, 'mario': 8840, 'bros': 8841, 'gameboy': 8842, 'crappiest': 8843, 'enemy': 8844, 'handicapped': 8845, 'strandednyc': 8846, \"grader's\": 8847, 'ohk': 8848, 'inexpensive': 8849, 'airfares': 8850, '209': 8851, 'notmadeofmoney': 8852, 'curse': 8853, 'deed': 8854, 'essentials': 8855, 'hotlanta': 8856, 'galaxy': 8857, 's4': 8858, 'scroll': 8859, 'letitgo': 8860, 'rumor': 8861, '898': 8862, 'peanutsonaplatter': 8863, '380': 8864, '1708': 8865, 'dani': 8866, 'stowaway': 8867, 'defective': 8868, 'chalk': 8869, 'ù÷ü': 8870, 'coldly': 8871, 'neveryamind': 8872, 'seam': 8873, 'busted': 8874, 'zippers': 8875, 'uninformed': 8876, 'unapologetic': 8877, 'dynamite': 8878, 'quietly': 8879, 'irate': 8880, 'rnd': 8881, 'gov': 8882, 'governor': 8883, 'sb': 8884, '202': 8885, 'legalizes': 8886, 'lgbt': 8887, 'lend': 8888, 'expeditious': 8889, 'onechildfourbags': 8890, 'redirects': 8891, '75yo': 8892, 'audience': 8893, 'complimentarybeveragesneeded': 8894, 'earlybirdmeansnothing': 8895, 'yday': 8896, '90min': 8897, 'drenched': 8898, '1629': 8899, '\\x89û÷connect\\x89ûª': 8900, 'consumermarketing': 8901, '4001': 8902, '1215pm': 8903, \"cx'ed\": 8904, 'nev': 8905, 'sisterbrother': 8906, '681': 8907, 'alison': 8908, 'bobbi': 8909, 'unprecedented': 8910, 'getmeouttahere': 8911, 'southwestsucks': 8912, 'imaginedragons': 8913, 'slaycancerwithdragons': 8914, 'noluv': 8915, 'happend': 8916, '668': 8917, 'adam': 8918, 'tracks': 8919, 'mashing': 8920, 'tones': 8921, 'sd': 8922, 'delacy': 8923, 'compassionate': 8924, '3999': 8925, '1800iflyswa': 8926, 'muh': 8927, '170': 8928, 'laps': 8929, 'dilemma': 8930, \"bf's\": 8931, 'insulin': 8932, '3913': 8933, '4199': 8934, '3825': 8935, 'grandcanyon': 8936, 'baggagefail': 8937, 'bagsflyfreebutnotwithme': 8938, '50min': 8939, 'epitimeoffail': 8940, 'jamie': 8941, 'mckinnie': 8942, 'owning': 8943, 'retroactively': 8944, 'optout': 8945, 'furnish': 8946, 'talents': 8947, '3336': 8948, \"swa's\": 8949, 'getmeoutofhere': 8950, 'intlcheckin': 8951, 'sink': 8952, 'homegirl': 8953, 'out\\x89ïö\\x95ü\\x8f': 8954, 'ùò±': 8955, 'stuckintampa': 8956, 'mgmt': 8957, 'cavalli': 8958, 'calves': 8959, 'interfering': 8960, 'mccarran': 8961, 'c16': 8962, 'southwestfail': 8963, '8q6mfd': 8964, 'paso': 8965, 'wills': 8966, '2hr30': 8967, 'loser': 8968, '2464': 8969, 'insubstantial': 8970, 'blacklivesmatter': 8971, 'internships': 8972, 'davidson': 8973, 'auditorium': 8974, 'jsom': 8975, 'utdallas': 8976, 'fehqne': 8977, '21feb15': 8978, '2646': 8979, 'tomorro': 8980, 'fwwe7f': 8981, 'ant': 8982, '3076': 8983, 'brag': 8984, 'totalfail': 8985, '4229': 8986, 'highhopes': 8987, 'presidential': 8988, '899': 8989, 'fsz4yo': 8990, '6mos': 8991, 'las2buf': 8992, '4040': 8993, '3113': 8994, 'omaden': 8995, 'sev': 8996, '2k': 8997, 'getyourlife': 8998, 'vets': 8999, '3252': 9000, 'vet': 9001, 'healing': 9002, 'idols': 9003, 'ùõð': 9004, 'flysw': 9005, '525': 9006, 'urged': 9007, 'forty': 9008, '45minflight': 9009, 'been3hours': 9010, 'celebration': 9011, '408': 9012, 'windy': 9013, '70f': 9014, 'unmanned': 9015, 'tweak': 9016, '4158': 9017, 'microsecond': 9018, 'after2': 9019, 'whenitsnowsitpours': 9020, 'tgcyalate': 9021, 'library': 9022, '3899': 9023, 'grandmothers': 9024, 'anhour': 9025, 'ù÷é': 9026, 'werenot': 9027, '2chng': 9028, 'going2': 9029, 'whch': 9030, 'advsry': 9031, 'removes': 9032, 'readily': 9033, 'imjustsaying': 9034, 'comcast': 9035, '3403': 9036, 'mans': 9037, 'portable': 9038, 'happybirthday': 9039, 'profitable': 9040, 'venture': 9041, 'isitthegarykellyway': 9042, 'cutoff': 9043, 'counting\\x89û': 9044, 'chapman': 9045, 'designs': 9046, '3970': 9047, 'getmorehands': 9048, 'indian': 9049, 'aunties': 9050, 'aruna': 9051, 'tremendously': 9052, 'velour': 9053, '4053': 9054, '3867': 9055, 'getmeoffthisbird': 9056, 'crutches': 9057, 'ne': 9058, 'ùõ\\x9dtoo': 9059, '3ticketsforjax': 9060, 'ç': 9061, 'ó\\x95ü\\x8f': 9062, 'directs': 9063, 'okcdirects': 9064, 'okcprofessionals': 9065, 'customerloyalty': 9066, '4315': 9067, 'n231wn': 9068, 'launder': 9069, 'hiremorepeople': 9070, 'approximate': 9071, \"keepitmovin'\": 9072, '3260': 9073, 'grandkids': 9074, 'supvsr': 9075, 'implement': 9076, 'hyperlinked': 9077, '800iflyswa': 9078, 'eve': 9079, 'childrens': 9080, 'purifier': 9081, 'ù÷±': 9082, \"we'e\": 9083, 'baking': 9084, '3415': 9085, 'sourhwest': 9086, 'dread': 9087, 'surveys': 9088, 'sac': 9089, 'betch': 9090, '3472': 9091, 'nationwide': 9092, '1140': 9093, 'bone': 9094, 'kmdw': 9095, 'b738': 9096, 'stretch': 9097, '947': 9098, 'emer': 9099, 'albuquer': 9100, 'maverick': 9101, 'adjusting': 9102, 'snowstorms': 9103, 'airpt': 9104, 'luved': 9105, '372': 9106, '17mph': 9107, 'applauded': 9108, 'takemeback': 9109, 'stl2atl': 9110, 'fwhei6': 9111, 'alist': 9112, 'wifiless': 9113, 'buzz': 9114, '300s': 9115, 'ahah': 9116, 'sw\\x89ïö\\x89\\x9dñ': 9117, 'annamarie': 9118, 'norris': 9119, 'recognized': 9120, 'deval': 9121, '2bwi': 9122, 'nmaryland': 9123, '2morrw': 9124, 'scumbag': 9125, 'bestinclass': 9126, '30000ft': 9127, 'takemehome': 9128, '2672': 9129, '192': 9130, 'rndtrp': 9131, 'radish': 9132, 'ù\\x90«': 9133, 'noc': 9134, 'marry': 9135, 'lamp': 9136, 'desperate': 9137, 'miscommunicated': 9138, 'popped': 9139, 'prospective': 9140, 'schools': 9141, 'eternally': 9142, 'blatimore': 9143, 'songs': 9144, 'hoom': 9145, 'interferes': 9146, 'ellen': 9147, 'concerts': 9148, 'alway': 9149, 'treasure': 9150, 'weathered': 9151, 'stacy': 9152, 'wernicke': 9153, 'lacma': 9154, 'fairfax': 9155, 'noone': 9156, 'ripme': 9157, 'heyo': 9158, '1836': 9159, 'headlines': 9160, 'liveonfox17': 9161, 'februaryfreezefox17': 9162, 'okaaaaay': 9163, 'gal': 9164, \"old's\": 9165, \"cap'n\": 9166, 'manana': 9167, 'stlouis': 9168, '505': 9169, 'bradley': 9170, 'wway': 9171, 'spvsr': 9172, 'blows': 9173, 'padresst': 9174, 'teamspirit': 9175, 'southwestrocks': 9176, 'cocktails': 9177, 'neverchange': 9178, 'mytimeismoney': 9179, 'roundtrips': 9180, 'wmn4life': 9181, 'deficiency': 9182, 'luvagent': 9183, 'assuring': 9184, 'guessweflyingdelta': 9185, \"apple's\": 9186, 'ipodtouch': 9187, 'needtogethome': 9188, 'buck': 9189, \"'b'\": 9190, 'carryonbagssloweverybodydown': 9191, 'volleyball': 9192, 'graduation': 9193, 'absoulutely': 9194, 'manufactured': 9195, 'quirkiness': 9196, 'mmm': 9197, 'captiveaudience': 9198, 'functional': 9199, 'mightmismybrosgraduation': 9200, 'flight\\x89û': 9201, 'shhhh': 9202, 'deborah': 9203, 'wantcharge': 9204, 'extending': 9205, 'notahappytraveler': 9206, 'obey': 9207, 'imdetermined': 9208, 'relay': 9209, 'allowabl': 9210, 'horizon': 9211, 'kats': 9212, '3458': 9213, '314505529': 9214, 'moveaboutthecountry': 9215, 'fjbfsc': 9216, '776': 9217, '656': 9218, 'frigidfriday': 9219, 'ahhhhh': 9220, 'jackpot': 9221, 'devaluation': 9222, 'retire': 9223, 'excruciatingly': 9224, 'hover': 9225, 'intrusive': 9226, 'pockets': 9227, \"'thanks'\": 9228, 'goingtovegas': 9229, 'getconnected': 9230, 'achieving': 9231, 'luxury': 9232, 'missedflight': 9233, 'releasing': 9234, 'lbb': 9235, 'tripofalifetime': 9236, 'baitswitch': 9237, 'sinuses': 9238, 'contend': 9239, 'landings': 9240, 'preregistration': 9241, 'eould': 9242, 'wannaa': 9243, 'flipping': 9244, 'whiny': 9245, \"gettin'\": 9246, 'homewardbound': 9247, 'bringin': 9248, 'mor': 9249, 'parhetic': 9250, 'bagawim': 9251, 'bands': 9252, 'veryloyalcustomer': 9253, 'useable': 9254, '8x7xvm': 9255, '\\x95ü\\x8fyou': 9256, 'tos': 9257, 'bebetter': 9258, 'mrn': 9259, 'budweiserduels': 9260, 'desirable': 9261, '108639': 9262, 'stellarservice': 9263, 'byebyeusairline': 9264, '4028': 9265, 'medically': 9266, '4007': 9267, 'xw': 9268, 'brd': 9269, 'overbk': 9270, 'chiberia': 9271, 'miracles': 9272, '2851': 9273, 'bec': 9274, 'll\\x89û\\x9d': 9275, 'resort': 9276, '\\x89ïö\\x95ü\\x8f\\x89ïö\\x95ü\\x8f': 9277, 'wilco': 9278, 'sundown': 9279, '4200': 9280, 'subterfuge': 9281, '8hh4p2': 9282, '317': 9283, \"must've\": 9284, 'mixtape': 9285, \"6'4\": 9286, 'loveeee': 9287, 'empathize': 9288, 'capitalized': 9289, 'lowercase': 9290, '702': 9291, 'excitement': 9292, 'bcuz': 9293, 'heroes': 9294, 'swapic': 9295, 'disappear': 9296, 'luvin': 9297, 'therofo': 9298, 'bowl': 9299, 'pleaseeeeee': 9300, 'luvintheair': 9301, 'joy': 9302, 'heartlanta': 9303, 'fist': 9304, 'hopin': 9305, 'hardcase': 9306, 'golfbags': 9307, 'ifthe80sneverstopped': 9308, 'chart': 9309, 'topping': 9310, '4467': 9311, '503': 9312, 'saturdays': 9313, 'permanent': 9314, 'ineligible': 9315, \"fiancee'\": 9316, 'evrytime': 9317, '955': 9318, 'rolled': 9319, 'bz': 9320, 'prettyplease': 9321, 'airliner': 9322, 'cache': 9323, '159': 9324, 'exclusive': 9325, 'seasonal': 9326, 'daydreaming': 9327, 'ohioprobz': 9328, 'origami': 9329, 'oldpolicieswaybetter': 9330, 'yeehaw': 9331, 'vent': 9332, 'ensured': 9333, '455': 9334, 'quirky': 9335, 'archaic': 9336, 'accommodates': 9337, 'onelove': 9338, '578': 9339, 'favoriteairline': 9340, 'luvforsw': 9341, \"columbus'\": 9342, 'unserved': 9343, 'ù\\x90©': 9344, 'flight7': 9345, 'a60': 9346, 'constructive': 9347, 'criticism': 9348, 'bringbacktheluvtordu': 9349, 'directflights': 9350, '261633561838': 9351, 'wholly': 9352, 'ù÷\\x8d\\x89': 9353, '«\\x89': 9354, '«': 9355, 'consultant': 9356, 'accumulation': 9357, 'phishing': 9358, 'cheapest': 9359, 'superb': 9360, 'ctr': 9361, 'areas': 9362, 'nonstops': 9363, '21mbps': 9364, 'bestfriend': 9365, '14th': 9366, 'presenting': 9367, 'roadmap': 9368, 'embed': 9369, 'integrating': 9370, 'milwaukee': 9371, 'supporter': 9372, 'jesus': 9373, 'portrayed': 9374, 'homosexual': 9375, 'judas': 9376, 'performs': 9377, '\\x89ûïgay': 9378, 'wedding\\x89û\\x9d': 9379, 'wn4287': 9380, 'whoot': 9381, 'gap': 9382, 'lasted': 9383, 'redeeming': 9384, '423': 9385, 'races': 9386, 'england': 9387, 'lovetotravel': 9388, 'chaching': 9389, 'laura': 9390, 'onlywaytofly': 9391, 'leathery': 9392, 'faaaannntastic': 9393, 'horribleattitudes': 9394, 'players': 9395, 'chgd': 9396, 'acoustic': 9397, 'disneyprincesshalfmarathon': 9398, 'girlsweekend': 9399, 'bffs': 9400, '463': 9401, 'rich': 9402, 'westagard': 9403, 'att': 9404, 'nancy': 9405, 'customersfirst': 9406, 'qualification': 9407, 'mobileboarding': 9408, 'bridesmaid': 9409, 'beijing': 9410, 'unpredictable': 9411, 'tiks': 9412, 'ù÷±\\x89\\x9d': 9413, '\\x95ü\\x8fim': 9414, 'herb': 9415, 'ù÷ãflying': 9416, 'willie': 9417, 'nelson': 9418, 'impersonator': 9419, 'sang': 9420, 'peanutsandtoons': 9421, '1172': 9422, \"skymall's\": 9423, 'ripskymall': 9424, 'passngr': 9425, 'gt': 9426, '134': 9427, 'flythroughs': 9428, 'a30': 9429, 'rethinking': 9430, 'sporadically': 9431, 'uncharacteristic': 9432, 'aired': 9433, 'bookofnegroes': 9434, \"2015'\": 9435, '77': 9436, 'sests': 9437, 'pleeeease': 9438, 'spotting': 9439, \"sen't\": 9440, '18th': 9441, 'sweatshirt': 9442, 'leinenkugels': 9443, 'craftbeer': 9444, 'norfolk\\x89û': 9445, 'transports': 9446, 'caution': 9447, 'dependents': 9448, 'inperson': 9449, 'whyyy': 9450, '4223': 9451, 'damion': 9452, 'damionflight4223': 9453, 'demolish': 9454, '3933': 9455, 'imessage': 9456, 'witty': 9457, 'repartee': 9458, 'bso': 9459, 'attentive': 9460, 'bicycles': 9461, 'criteria': 9462, 'bikes': 9463, 'faq': 9464, 'lanes': 9465, 'luvsw': 9466, 'bingo': 9467, 'noah': 9468, 'mr\\x89û\\x9d': 9469, 'messaging': 9470, 'sw900001': 9471, 'vyil1xklrog24fs': 9472, '918j': 9473, 'humphrey': 9474, '87yearslate': 9475, 'maybeijustlost': 9476, 'whyyounoloveme': 9477, 'sets': 9478, '1800flowers': 9479, '8fkqw': 9480, 'worstthingever': 9481, 'fedexed': 9482, 'courtney': 9483, '3526665682': 9484, 'anni': 9485, 'jamesasworth': 9486, 'brent': 9487, '70plus': 9488, 'additonal': 9489, 'cantblametheweather': 9490, 'mhtforlife': 9491, 'brendan': 9492, 'rs\\x89û\\x9d': 9493, 'subscribe': 9494, 'kindly': 9495, 'mardigras2015': 9496, 'straying': 9497, 'thingsishouldknow': 9498, 'ifeeldumb': 9499, 'roadtrip': 9500, \"i'll\": 9501, 'pastmypatienceexpirationdate': 9502, 'inclusion': 9503, 'popping': 9504, 'ld\\x89û\\x9d': 9505, 'sw\\x89û\\x9dfollowed': 9506, 'customerservicewin': 9507, 'itravelalot': 9508, 'government': 9509, 'approval': 9510, 'companionpasses': 9511, 'residing': 9512, 'compete': 9513, 'fuckinf': 9514, 'sht': 9515, 'deltanews': 9516, 'screakjmf': 9517, 'emerging': 9518, 'leader': 9519, 'pv': 9520, '3854': 9521, 'lovesouthwest': 9522, 'mybday': 9523, 'undignified': 9524, 'freedrinkcoupons': 9525, 'mltple': 9526, 'jax2bna': 9527, 'notokay': 9528, 'lastly': 9529, 'concerns': 9530, '2078': 9531, 'balt': 9532, 'vomited': 9533, 'chaos': 9534, 'caroline': 9535, 'superhero': 9536, '1703': 9537, 'bnasnow': 9538, 'astounded': 9539, 'contempt': 9540, 'purse': 9541, 'wendell': 9542, 'holton': 9543, 'n8661a': 9544, '8h4': 9545, 'secondly': 9546, \"on's\": 9547, 'packingayak': 9548, 'cockroaches': 9549, 'crawling': 9550, 'traps': 9551, 'fs4ve7': 9552, 'devotedyyours': 9553, 'nl': 9554, 'disappointments': 9555, '4110': 9556, 'discusses': 9557, 'possibilities': 9558, 'nhl': 9559, 'arena': 9560, 'sportsbiz': 9561, 'octavia': 9562, 'downnnnn': 9563, 'solar': 9564, 'charger': 9565, 'changer': 9566, 'usb': 9567, 'bicycle': 9568, 'fla': 9569, 'sw\\x89û\\x9d': 9570, 'neveind': 9571, 'modelodenegocio': 9572, 'innovacion': 9573, 'businessmodel': 9574, 'divadapouch': 9575, 'thepoopqueen': 9576, 'wonderfully': 9577, 'reload': 9578, 'phi': 9579, 'freecomedyshow': 9580, 'newlifetimecustomer': 9581, 'engadget': 9582, 'theverge': 9583, 'wired': 9584, 'iusedtoloveu': 9585, 'emerg': 9586, '1831': 9587, 'erw': 9588, '442998': 9589, 'commit': 9590, 'kisses': 9591, 'disheartening': 9592, 'requirements': 9593, 'backpacks': 9594, 'shotwest': 9595, 'åêfvf9yw': 9596, 'swrr': 9597, 'åê298033455': 9598, '154': 9599, 'acting': 9600, 'reachable': 9601, 'uneventful': 9602, 'outline': 9603, 'scenarios': 9604, 'hood': 9605, 'snag': 9606, 'pumped': 9607, 'essential': 9608, 'attire': 9609, 'grant': 9610, 'majority': 9611, 'tomoro': 9612, 'feelingtheluv': 9613, 'profitbeforepeople': 9614, '2020': 9615, '3111': 9616, 'n614sw': 9617, 'rubs': 9618, 'wigs': 9619, 'michele': 9620, \"nature's\": 9621, 'humored': 9622, '4968': 9623, 'n8325d': 9624, '1945': 9625, 'snowbama': 9626, 'promos': 9627, '\\x89ïö\\x95ü\\x8fanywhere': 9628, 'may\\x89\\x9d': 9629, 'undefined': 9630, 'cgroup': 9631, '4125': 9632, 'comeon': 9633, 'predict': 9634, 'iiiii': 9635, '1802': 9636, 'costarica': 9637, 'pennies': 9638, 'vacatime': 9639, '771': 9640, 'fattuesday': 9641, 'awwweesssooomee': 9642, 'prchase': 9643, 'retailer': 9644, 'l8': 9645, 'keepmy': 9646, 'swamped': 9647, 'mardi': 9648, 'gras': 9649, 'instrument': 9650, 'deicer': 9651, '1613': 9652, 'bushleague': 9653, 'weakservice': 9654, '3768': 9655, '2522': 9656, 'nochill': 9657, 'electric': 9658, 'skateboard': 9659, 'fp9m6y': 9660, 'jennifer': 9661, 'cascino': 9662, 'becuz': 9663, 'swfan': 9664, '7min': 9665, 'spreading': 9666, 'nftyconvention': 9667, 'store': 9668, 'necessities': 9669, '5yrs': 9670, 'southwestluvsweeps': 9671, '211pilot': 9672, 'elevator': 9673, 'southworst': 9674, 'girlfriend\\x89ûªs': 9675, 'desparately': 9676, \"reso's\": 9677, '3397': 9678, 'phonedied': 9679, 'alistpreferred': 9680, '87': 9681, '43rd': 9682, 'soured': 9683, 'thu': 9684, 'screencap': 9685, 'payton': 9686, 'swair': 9687, 'tortured': 9688, 'assisted': 9689, '1079871763': 9690, 'incidents': 9691, 'bham': 9692, '648': 9693, 'fgkxv5': 9694, '587701925count': 9695, 'adjustment': 9696, 'bool': 9697, 'niggaz': 9698, 'loyalrrmember': 9699, 'lovesouthwestair': 9700, 'dontchangeathing': 9701, 'snowfall': 9702, 'fhk2te': 9703, 'measles': 9704, 'outbreak': 9705, 'f5r3zz': 9706, 'jvstatus': 9707, 'streamline': 9708, 'commute': 9709, '\\x89÷¥': 9710, 'ùò': 9711, 'condescension': 9712, 'serenitynow': 9713, 'improvements': 9714, 'octaviannightmare': 9715, 'graded': 9716, 'eqp': 9717, 'fusturated': 9718, '3574': 9719, '1814': 9720, '4720': 9721, 'daycare': 9722, 'harass': 9723, 'mistakefurious': 9724, '6yo': 9725, 'temporary': 9726, 'aisles': 9727, 'evermoreroom': 9728, '\\x89ûªs': 9729, 'marty': 9730, 'george': 9731, 'nobaggagefees': 9732, 'pgfryz': 9733, 'tied': 9734, 'proposal': 9735, '27th': 9736, 'gala': 9737, 'boundless': 9738, 'republic': 9739, 'tan': 9740, 'rejecting': 9741, 'canister': 9742, 'powder': 9743, 'divider': 9744, 'verified': 9745, 'pointsme': 9746, 'overchging': 9747, 'bg': 9748, 'herded': 9749, 'cattle2slaughter': 9750, 'rainy': 9751, 'poop': 9752, 'signing': 9753, 'credentials': 9754, 'baejet': 9755, 'amirite': 9756, 'airspace': 9757, 'destin': 9758, 'walton': 9759, 'yer': 9760, 'lbc': 9761, 'napkins': 9762, 'ùªö': 9763, 'justdoit': 9764, 'youknowyouwantto': 9765, 'ùõ÷': 9766, 'versa': 9767, 'longing': 9768, 'firstlove': 9769, 'ondemand': 9770, 'leatherseats': 9771, 'hipunis': 9772, 'guyana': 9773, 'greg': 9774, 'teamnkh': 9775, 'annnndddd': 9776, 'glowing': 9777, 'sparkled': 9778, 'tummy': 9779, 'sunrises': 9780, 'jetbluehatesbtv': 9781, 'trublue': 9782, 'veterans': 9783, 'occasion': 9784, 'janna': 9785, 'weappreciateyou': 9786, 'trueblue\\x89û\\x9d': 9787, 'jetbluefame': 9788, 'sosmart': 9789, 'frequentflyerappreciates': 9790, 'alsoyayforsnacks': 9791, 'prbound': 9792, 'weekday': 9793, 'atct': 9794, 'lane': 9795, '1447': 9796, 'n351jb': 9797, 'suffered': 9798, 'fifth': 9799, 'persistence': 9800, '1373': 9801, 'soooooo': 9802, 'sleepy': 9803, 'eventhoughits2degreesathome': 9804, 'pid': 9805, 'dim': 9806, 'blushing': 9807, 'container': 9808, '18gal': 9809, 'totes': 9810, '1680': 9811, 'flight108': 9812, 'cameras': 9813, 'hitch': 9814, 'hike': 9815, 'passengersarepeople': 9816, 'adv': 9817, '616': 9818, 'civilized': 9819, 'lag': 9820, 'aiecraft': 9821, 'fuckin': 9822, 'facilities': 9823, 'navigating': 9824, 'flu': 9825, 'pricy': 9826, '1274': 9827, 'zombie': 9828, 'welp': 9829, 'chging': 9830, 'isit': 9831, 'froward': 9832, 'ùôä': 9833, '»rt': 9834, 'sway': 9835, 'transferring': 9836, 'contribution': 9837, 'pool': 9838, 'arc': 9839, 'extractions': 9840, 'abducted': 9841, 'lessening': 9842, \"part's\": 9843, 'agencies': 9844, \"ceo's\": 9845, 'columbian': 9846, 'compartments': 9847, 'studying': 9848, 'lingo': 9849, 'depressing': 9850, '1316': 9851, 'lololololol': 9852, 'overreacting': 9853, 'tails': 9854, 'relieved': 9855, 'neighboring': 9856, 'omgee': 9857, 'onfleek': 9858, 'ù÷µ': 9859, 'foh': 9860, 'noooooooooooooooooo': 9861, 'chats': 9862, 'contentmarketing': 9863, 'mag': 9864, 'kangaroos': 9865, 'deemed': 9866, 'blade': 9867, 'freberg15': 9868, 'ù÷©rt': 9869, 'lmfaooooo': 9870, 'granny': 9871, 'yasssss': 9872, 'da': 9873, 'fuccc': 9874, 'unfollowing': 9875, 'preciation': 9876, '\\x89ïö\\x95ü\\x8ftampa': 9877, 'why\\x89ûï': 9878, 'fedora': 9879, 'no\\x89ûï': 9880, 'lolol': 9881, 'tongue': 9882, 'cheek': 9883, 'etiquette': 9884, 'fights': 9885, 'stahhppp': 9886, 'jetblue\\x89û': 9887, 'just\\x89û': 9888, 'welllllll': 9889, 'peak': 9890, 'caucasity': 9891, 'moves': 9892, 'lmaoooo': 9893, 'hired': 9894, 'lmfaooo': 9895, 'assuage': 9896, 'indignation': 9897, 'records': 9898, 'exits': 9899, 'wens': 9900, \"okay'd\": 9901, 'cultural': 9902, 'appropriation': 9903, 'ù÷ô\\x89ûï': 9904, 'ballin': 9905, 'http\\x89û\\x9dlol': 9906, 'welcoming': 9907, '704': 9908, '1065': 9909, 'toss': 9910, 'wit': 9911, '340': 9912, 'brink': 9913, 'bankruptcy': 9914, 'fleet\\x89ûªs': 9915, 'sporting': 9916, 'stahp': 9917, 'bops': 9918, 'newspaper': 9919, 'ihop': 9920, 'multimedia': 9921, '\\x95ü\\x8f\\x89ûï': 9922, 'lolz': 9923, 'blizzue': 9924, 'hizouse': 9925, '\\x89ïî\\x95ü\\x8f': 9926, 'petty': 9927, 'http\\x89û\\x9dayyy': 9928, 'hahah': 9929, 'yasss': 9930, 'ù÷©\\x89ûï': 9931, 'digg': 9932, 'donut': 9933, 'designer': 9934, 'duct': 9935, 'taped': 9936, 'ohboy': 9937, 'shouldigetoutandpush': 9938, 'flying\\x89û': 9939, 'tlc': 9940, 'alternatively': 9941, 'york\\x89û': 9942, 'irina': 9943, 'eatup': 9944, 'cafe': 9945, '1914': 9946, 'buggy': 9947, 'mons': 9948, 'abassinet': 9949, 'gerne': 9950, 'methods': 9951, 'billmelate': 9952, 'vmsg': 9953, 'dig': 9954, 'heels': 9955, 'novel': 9956, \"'mile\": 9957, \"high'\": 9958, 'misspelled': 9959, '19jun': 9960, '6sep': 9961, 'geraghty': 9962, 'gopatriots': 9963, '25m': 9964, 'westpalmbeach': 9965, 'flybetter': 9966, 'chasing': 9967, 'redsox': 9968, '\\x95ü\\x8fny': 9969, 'catsanddogslivingtogether': 9970, 'pearl': 9971, '460': 9972, 'complex': 9973, 'waldorf': 9974, 'astoria': 9975, 'outfit': 9976, 'liking': 9977, 'shocker': 9978, 'daniel': 9979, 'webpage': 9980, '8162': 9981, 'fl382': 9982, \"sittin'\": 9983, 'birder': 9984, 'trap': 9985, 'rats': 9986, 'sloooooow': 9987, '1918': 9988, 'separating': 9989, 'safetyconcerns': 9990, 'reunited': 9991, 'delinquent': 9992, 'homeward': 9993, 'monsoon': 9994, 'devastated': 9995, 'bridges': 9996, 'jetblues': 9997, 'extralight': 9998, 'happytohelp': 9999, 'blacklist': 10000, 'contactless': 10001, 'siblings': 10002, 'diffused': 10003, \"'perks'\": 10004, '5lbs': 10005, 'inflation': 10006, 'nexttime': 10007, 'andthewinneris': 10008, 'permissions': 10009, 'whyabcwhy': 10010, 'nerds': 10011, 'dressed': 10012, 'informs': 10013, 'the16': 10014, 'accessibility': 10015, 'equality': 10016, 'missingtheoscars': 10017, 'ooookay': 10018, 'tap': 10019, 'shiver': 10020, 'forevercold': 10021, 'sdq': 10022, 'paseengers': 10023, 'santo': 10024, 'domingo': 10025, \"9'8\": 10026, 'surfboard': 10027, 'gif': 10028, 'thng': 10029, '98': 10030, 'prechk': 10031, 'tanked': 10032, 'justwrong': 10033, 'alamo': 10034, 'tatiana': 10035, 'aha': 10036, 'smith': 10037, 'oust': 10038, '2070': 10039, 'accurately': 10040, \"m'good\": 10041, '2601': 10042, 'focus': 10043, 'psgrs': 10044, 'nikon': 10045, 'exper': 10046, 'smell': 10047, 'undrstnd': 10048, 'wlcm': 10049, 'onbrd': 10050, 'bulb': 10051, 'cabcelled': 10052, 'byebyejetblue': 10053, 'token': 10054, 'distances': 10055, 'snowbound': 10056, 'scent': 10057, 'tht': 10058, 'deli': 10059, 'customerservicenot': 10060, '2008': 10061, 'prefference': 10062, '1025': 10063, '1117': 10064, 'inconceivable': 10065, 'ishouldhavedriven': 10066, 'chrishasmadeusblush': 10067, 'trending': 10068, 'increments': 10069, '000ft': 10070, 'sea\\x89ïö\\x95ü\\x8fbos': 10071, \"month's\": 10072, 'summit': 10073, 'ought': 10074, 'communicationiskey': 10075, '175': 10076, 'ventilation': 10077, 'ùªî\\x89ïö\\x95ü\\x8f': 10078, 'hunky': 10079, 'dory': 10080, '1159': 10081, '1384': 10082, 'laxjfk': 10083, 'garage': 10084, '\\x89÷¼\\x95ü\\x8f\\x89ïö\\x95ü\\x8f': 10085, \"that'll\": 10086, '584': 10087, 'luggagegate': 10088, 'yoga': 10089, 'edits': 10090, 'mbas': 10091, '1415': 10092, 'pto': 10093, 'mintyfresh': 10094, '620': 10095, '1691': 10096, 'ctg': 10097, 'captured': 10098, 'brittany': 10099, 'loweredexpectations': 10100, 'enzo': 10101, 'pooch': 10102, 'directing': 10103, 'bevies': 10104, 'wiyh': 10105, 'newborns': 10106, 'inebriated': 10107, 'closure': 10108, 'quickie': 10109, 'cartagena': 10110, 'praises': 10111, 'pact': 10112, 'organizational': 10113, 'chartering': 10114, \"open's\": 10115, 'sugar': 10116, 'idlovetoask': 10117, 'startled': 10118, 'description': 10119, 'expanded': 10120, 'bonnie': 10121, 'newburg': 10122, 'rly': 10123, '9a': 10124, 'investigation': 10125, 'tux': 10126, 'cannedtweet': 10127, 'demanded': 10128, 'handles': 10129, 'waved': 10130, '589': 10131, 'inserted': 10132, 'truebluecolors': 10133, 'flight16': 10134, 'circling': 10135, 'updateyourwebsite': 10136, 'desires': 10137, 'dobetterjetblue': 10138, 'sittin': 10139, 'flt1533': 10140, 'carta': 10141, 'wat': 10142, 'apnea': 10143, 'glenn': 10144, 'coles': 10145, 'niagara': 10146, 'unlucky': 10147, 'haning': 10148, 'mosaicmecrazy': 10149, 'nofilterneeded': 10150, 'flyfi\\x89û': 10151, 'miraculously': 10152, \"liftin'\": 10153, 'higherandhigher': 10154, 'soulandinspiration': 10155, 'acy': 10156, 'takr': 10157, '906': 10158, '904am': 10159, '2301': 10160, 'erie': 10161, 'authority': 10162, '751': 10163, 'badairline': 10164, 'pitts': 10165, 'mde': 10166, 'tf': 10167, 'wore': 10168, 'sylvie': 10169, 'yourock\\x89û\\x9d': 10170, 'eternity': 10171, '5ammisery': 10172, 'animal': 10173, 'hella': 10174, 'surprises': 10175, '1222': 10176, 'misbehavior': 10177, 'dubai': 10178, 'equalizer': 10179, 'shucks': 10180, 'engagements': 10181, 'tar': 10182, 'mat': 10183, 'minimum': 10184, \"pandora's\": 10185, 'backhome': 10186, 'hesitant': 10187, 'sized': 10188, 'stuckonaplane': 10189, 'babyfood': 10190, 'cushy': 10191, 'rethink': 10192, 'hatch': 10193, 'flite454': 10194, 'interupt': 10195, 'staduim': 10196, 'ijustwanttobeinboston': 10197, 'thanksdc': 10198, 'concerning': 10199, 'ada': 10200, 'sex': 10201, '2202': 10202, '8088': 10203, 'sxmjfk': 10204, 'wouldn\\x89ûªt': 10205, \"comp'd\": 10206, 'cory': 10207, 'greatcustomerservice\\x89ïö\\x89÷¼': 10208, 'incase': 10209, 'cave': 10210, 'distributor': 10211, 'livethelegend': 10212, 'playlist': 10213, 'c12': 10214, 'instant': 10215, 'lipstick': 10216, 'toolong': 10217, 'restless': 10218, 'maarten': 10219, 'exciting': 10220, 'tempting': 10221, 'sodone': 10222, 'treacherous': 10223, 'rockers': 10224, 'knock': 10225, '684': 10226, '1272': 10227, \"space's\": 10228, 'allowances': 10229, 'lizaapproved': 10230, '82å¡': 10231, 'pgashow': 10232, 'weathers': 10233, 'phew': 10234, 'pant': 10235, 'wheeze': 10236, '1089': 10237, 'pricewise': 10238, 'cough': 10239, 'compact': 10240, 'redo': 10241, 'thismosaicnothappy': 10242, '1002': 10243, 'bestdressed': 10244, 'giggled': 10245, 'goodgenes': 10246, 'ilookyoung': 10247, 'lb': 10248, 'condolences': 10249, 'institutional': 10250, 'predictive': 10251, 'analytics': 10252, 'alicia': 10253, 'exceptionalservice': 10254, 'colombian': 10255, 'disapptment': 10256, 'bdng': 10257, 'tad': 10258, 'rebuilding': 10259, 'chatted': 10260, 'lowdown': 10261, '33036': 10262, '2gether': 10263, 'session': 10264, 'beloved': 10265, 'itenary': 10266, 'foreverrrrrr': 10267, 'analyst': 10268, 'nixchangefees': 10269, 'orphan': 10270, 'villages': 10271, 'booksmedicine': 10272, 'orphanage': 10273, 'fold': 10274, 'crib': 10275, 'campaign': 10276, 'dualcam': 10277, 'tour': 10278, '\\x89û\\x9dunfortunately': 10279, '\\x89\\x9dã\\x95ü\\x8f\\x89ýã\\x95ü\\x8f': 10280, 'werenotincalianymore': 10281, 'happytweet': 10282, 'barriers': 10283, 'iata': 10284, 'lifeisgood': 10285, 'guacamole': 10286, 'westpalmbeachbound': 10287, 'incidentals': 10288, '162': 10289, 'anyways': 10290, 'nomoreaggravation': 10291, 'flywhonotblue': 10292, 'wailing': 10293, 'kin': 10294, 'flt348': 10295, '1183': 10296, '1225': 10297, 'delayforwhat': 10298, '631': 10299, '891': 10300, '5722': 10301, '348': 10302, 'sittingonthetarmac': 10303, 'nix': 10304, 'inflght': 10305, 'thre': 10306, 'abcletjetbluestreamfeed': 10307, '1818': 10308, 'nooooo': 10309, 'disturb': 10310, 'costa': 10311, 'pura': 10312, 'vida': 10313, 'sharktank': 10314, 'toplay': 10315, 'makingthingseasy': 10316, 'feelbetter': 10317, '266': 10318, 'lgb': 10319, 'cal': 10320, 'effect': 10321, 'markie': 10322, 'mayweather': 10323, 'pacquiao': 10324, 'terra': 10325, 'mommy': 10326, 'daddy': 10327, 'insider': 10328, 'hill': 10329, 'flexes': 10330, 'completing': 10331, 'installation': 10332, 'sooooooo': 10333, 'ridiculously': 10334, 'blackish': 10335, '445pm': 10336, 'streetwise': 10337, 'underway': 10338, 'query': 10339, 'scrum': 10340, 'learnt': 10341, '16mont': 10342, 'exceptionally': 10343, 'uncourteous': 10344, 'butnot': 10345, 'grumpy': 10346, 'flight1407': 10347, 'inflatable': 10348, 'savethoseseats': 10349, '691': 10350, 'grasshopper': 10351, 'twitterz': 10352, 'kung': 10353, 'discontinue': 10354, '471': 10355, 'fllsfo': 10356, 'negroni': 10357, 'bitcoin': 10358, 'dec': 10359, 'natural': 10360, 'beefjerky': 10361, 'muscles': 10362, 'frown': 10363, 'flyin': 10364, 'jdhadp': 10365, '633': 10366, 'howhardcanthatreallybe': 10367, 'nogearnotraining': 10368, 'warmest': 10369, 'negativedegrees': 10370, 'snowwillnevermelt': 10371, 'pandora': 10372, 'steward': 10373, 'bliss': 10374, 'indenial': 10375, 'whatfrozenpipes': 10376, 'dontflythem': 10377, 'alarm': 10378, 'older': 10379, 'misread': 10380, '1202': 10381, '80sweresomuchfun': 10382, 'colder': 10383, 'bedofroses': 10384, 'colored': 10385, 'guns': 10386, 'iwoulddoanythingforlove': 10387, 'we\\x89ûªve': 10388, 'partnered': 10389, 'miamore': 10390, 'iadore': 10391, 'idontwannalivewithoutyourlove': 10392, 'itwasminttobe': 10393, 'bestinclasssocial': 10394, 'stevie': 10395, 'jetgreen': 10396, 'jetred': 10397, 'flightlanding': 10398, 'sunscreen': 10399, 'feelsgood': 10400, 'flawless': 10401, 'blueheros\\x89û\\x9d': 10402, 'disabledtraveler': 10403, 'expowest': 10404, 'evenmorespace': 10405, 'evenmoreview': 10406, '16mo': 10407, '2nt': 10408, 'internship': 10409, '277': 10410, 'tke': 10411, 'sis': 10412, 'mega': 10413, \"evening's\": 10414, 'wager': 10415, 'isitsummeryet': 10416, 'wylie': 10417, 'snoop': 10418, 'thanksjetblue': 10419, 'princess': 10420, 'trivia': 10421, 'makingloveoutofnothingatall': 10422, 'patienceiswearingthin': 10423, \"boston'\": 10424, '290': 10425, 'itscostingmeincome': 10426, 'mintalicious': 10427, 'shelleyandmarcrock': 10428, 'lostinlove': 10429, 'wemosaictogether': 10430, \"who'd\": 10431, 'bearable': 10432, 'notwheelsup': 10433, 'steamed': 10434, 'conjunction': 10435, 'complainer': 10436, 'shanese': 10437, 'bryant': 10438, 'melton': 10439, 'grandmother': 10440, 'holdon': 10441, 'everythingsgonnabealright': 10442, 'serviced': 10443, 'ccndjp': 10444, 'cling': 10445, '3hrdelay': 10446, 'countless': 10447, 'strips': 10448, 'workhard': 10449, 'playsoon': 10450, '994': 10451, '493': 10452, 'crumbs': 10453, 'hip': 10454, 'sirius': 10455, 'xm': 10456, '1at': 10457, '1sttimeflyer': 10458, 'contain': 10459, 'herself': 10460, 'ricardo': 10461, 'olavarria': 10462, 'nny': 10463, 'kitties': 10464, 'countingdown': 10465, 'erring': 10466, 'upwherewebelong': 10467, 'suuuuper': 10468, '802': 10469, 'core': 10470, 'config': 10471, 'toolittletoolate': 10472, '108': 10473, '670': 10474, 'predictable': 10475, 'icyflight': 10476, 'poorcommunication': 10477, 'waitingsince': 10478, 'flight424': 10479, 'comedic': 10480, 'othr': 10481, 'incomprehensible': 10482, 'fromthefrontseat': 10483, 'pereira': 10484, 'cartago': 10485, 'streets': 10486, 'misunderstanding': 10487, 'scandal': 10488, 'tower': 10489, 'inoperable': 10490, 'n615jb': 10491, 'sox': 10492, 'n775jb': 10493, 'loyalmosaicmember': 10494, 'gettingoffplane': 10495, '606': 10496, '2maro': 10497, 'currentlysittingontarmac': 10498, 'mosiacfail': 10499, '833': 10500, 'helene': 10501, 'reevaluate': 10502, 'ù÷äcool': 10503, 'massages': 10504, 'hurts': 10505, 'static': 10506, 'markets': 10507, 'bureau': 10508, '\\x95ü\\x8f\\x89ï¬': 10509, 'warmweather': 10510, 'firefighters': 10511, 'bugging': 10512, 'expand': 10513, '2007': 10514, 'doubled': 10515, 'inquiring': 10516, '1684': 10517, 'disclose': 10518, '2416': 10519, 'notbabysitters': 10520, 'whrsthecoach': 10521, '\\x89÷¥\\x89ïö': 10522, 'semantics': 10523, 'dictionary': 10524, 'itscold': 10525, 'rack': 10526, 'latte': 10527, 'rt\\x89ûï': 10528, '1553': 10529, 'tab': 10530, 'lick': 10531, 'ahoy': 10532, 'allyoucanjetpass': 10533, 'mosiac': 10534, 'okie': 10535, 'acces': 10536, '\\x89ûïonly\\x89û\\x9d': 10537, 'vino': 10538, 'receives': 10539, 'analysts': 10540, 'legacy': 10541, 'oveur': 10542, 'murdock': 10543, 'julian': 10544, 'substitute': 10545, \"disney's\": 10546, 'magical': 10547, \"rocky's\": 10548, 'milehighselfieclub': 10549, 'reassigned': 10550, 'telephones': 10551, 'repping': 10552, 'bruins': 10553, 'hof': 10554, 'jetbluebruins': 10555, 'reposted': 10556, 'jetscrew': 10557, 'awfulcustomerservice': 10558, 'gifting': 10559, '375': 10560, 'wendi': 10561, '127': 10562, 'noting': 10563, 'dealings': 10564, 'stubborn': 10565, 'demanding': 10566, 'ish': 10567, 'comparing': 10568, '\\x89ïö\\x95ü\\x8f\\x89ïö\\x95ü\\x8f\\x89ïö\\x95ü\\x8f': 10569, 'dunkin': 10570, 'donuts': 10571, 'hazard': 10572, 'thingsyoucantmakeup': 10573, 'switch2sbux': 10574, 'remembers': 10575, 'coffeeneeded': 10576, 'relying': 10577, 'ineedcoffee': 10578, 'princesses': 10579, 'glassslipperchallenge': 10580, 'wdw': 10581, '533': 10582, 'onlyblue': 10583, 'jetblueforever': 10584, 'descent': 10585, 'truebluemember4life': 10586, 'hunting': 10587, 'pistol': 10588, 'themed': 10589, 'tsanightmare': 10590, 'acquired': 10591, 'kravitz': 10592, \"3x's\": 10593, 'ù÷âomg': 10594, 'bored': 10595, 'convo': 10596, 'fixthis': 10597, 'isthisreal': 10598, 'nevertoldus': 10599, 'lile': 10600, 'fancy': 10601, 'lieflat': 10602, 'lobstermac': 10603, 'bloodymary': 10604, 'jetsetter': 10605, 'telleveryone': 10606, 'justifythissupport': 10607, 'lostrevenue': 10608, 'angryandsober': 10609, 'bachelorpartymishap': 10610, 'sham': 10611, 'nottrue': 10612, 'processing': 10613, '566': 10614, 'nosupport': 10615, 'infuriated': 10616, 'ionlyflyblue': 10617, 'thelodge': 10618, 'staticy': 10619, 'ithelpsabit': 10620, 'disneyworld': 10621, 'bestplanesever': 10622, 'peter': 10623, 'rqstd': 10624, 'bcz': 10625, '577': 10626, 'pillow': 10627, 'skywest': 10628, 'skyw': 10629, 'tailfinthursday': 10630, 'reveals': 10631, 'travelpulse': 10632, 'ùôî\\x89÷¼\\x95ü\\x8f': 10633, 'ù÷\\x8f\\x89÷¼\\x95ü\\x8f': 10634, 'icelandair': 10635, 'ozs': 10636, 'tattoo': 10637, 'stbernard': 10638, 'gnight': 10639, 'jua': 10640, \"'just\": 10641, \"ask'\": 10642, 'jorge': 10643, 'cri': 10644, 'samantha': 10645, 'evasive': 10646, \"martha's\": 10647, 'african': 10648, 'mv': 10649, 'swift': 10650, 'programming': 10651, 'refresher': 10652, 'courses': 10653, 'fridge\\x89û': 10654, 'dorm': 10655, 'doll': 10656, 'huxleyesque': 10657, 'reliability': 10658, '8oz': 10659, 'benadryl': 10660, 'epipens': 10661, 'sofly': 10662, 'firststari': 10663, 'seetonight': 10664, 'waters': 10665, 'annnnnd': 10666, 'hall': 10667, 'signage': 10668, 'headphone': 10669, 'pointer': 10670, 'nba': 10671, 'corpgreed': 10672, 'nevertakeno': 10673, '06': 10674, 'wallstreet': 10675, 'scope': 10676, 'teanot': 10677, 'wrestle': 10678, 'target': 10679, 'stafford': 10680, '453': 10681, '12a': 10682, '2792125083854': 10683, 'cty': 10684, 'jetbluesucks': 10685, 'gears': 10686, 'grinding': 10687, 'highest': 10688, 'patriarc': 10689, 'affects': 10690, 'entrusted': 10691, 'portsmouth': 10692, 'cometoaustin': 10693, 'harf': 10694, 'iraiq': 10695, 'registers': 10696, 'xd': 10697, 'swap': 10698, '5a': 10699, 'feelings': 10700, 'happy4them': 10701, 'thefutureisweird': 10702, 'incidentally': 10703, 'sheila': 10704, \"grandpa's\": 10705, 'ashes': 10706, 'naples': 10707, 'lived': 10708, \"50's\": 10709, 'swooped': 10710, 'restored': 10711, 'stockhouse': 10712, 'foodallergy': 10713, 'insensitive': 10714, 'foodallergies': 10715, 'unsolicited': 10716, 'uneducated': 10717, 'opinions': 10718, 'reckless': 10719, 'dangerous': 10720, 'daytonabeach': 10721, \"6'2\": 10722, 'engaging': 10723, 'personable': 10724, 'tore': 10725, 'hid': 10726, 'valued': 10727, 'steered': 10728, 'consult': 10729, 'interns': 10730, 'ùõ¥\\x89ïö\\x95ü\\x8f': 10731, 'truebluepoints': 10732, 'jetbluemember': 10733, 'sliced': 10734, 'bread': 10735, 'beatriz': 10736, 'susan': 10737, 'ais': 10738, 'ftl': 10739, 'pizza': 10740, 'easter': 10741, 'depends\\x89û\\x9d': 10742, 'udub': 10743, '4helped': 10744, 'seattlebound': 10745, 'controller': 10746, 'agian': 10747, 'ù÷ò': 10748, 'cinnabons': 10749, 'bonsinthesky': 10750, '04': 10751, 'smitten': 10752, '1401': 10753, '25a': 10754, 'slog': 10755, 'likeagirl': 10756, 'smm': 10757, 'lekvhg': 10758, '1348': 10759, 'lift': 10760, 'itsthelittlethings': 10761, 'compounded': 10762, 'jetbluemess': 10763, 'suddenly': 10764, 'argh': 10765, '730': 10766, '1408': 10767, 'dumps': 10768, 'thetakeover': 10769, 'produced': 10770, 'yponthebeat': 10771, 'career': 10772, 'italian': 10773, '1366': 10774, '1552': 10775, 'ocean': 10776, 'valentinesday': 10777, 'loveisintheair': 10778, 'geraldine': 10779, 'jetbluejfk': 10780, 'pastor': 10781, 'homeschool': 10782, 'spirited': 10783, 'prefundia': 10784, 'controllableirregularity': 10785, 'fluid': 10786, '2017': 10787, 'bosjfk': 10788, '486': 10789, 'jfkroc': 10790, 'hacked': 10791, 'highway': 10792, 'spade': 10793, 'spiced': 10794, 'phillip': 10795, 'heller': 10796, 'ifc': 10797, 'delicious': 10798, 'gum': 10799, 'chillycvz': 10800, 'thankgoodness': 10801, 'below': 10802, 'fitz': 10803, '1326': 10804, 'invitation': 10805, 'humiliated': 10806, 'uncompromising': 10807, 'blindsided': 10808, '2275': 10809, 'pp': 10810, 'flatiron': 10811, 'sil': 10812, 'declined': 10813, 'activity': 10814, 'ohno': 10815, 'bundleup': 10816, 'leastthebeverageswillbecold': 10817, 'fashioned': 10818, 'accessing': 10819, 'structures': 10820, 'hated': 10821, 'vulnerable': 10822, 'thieves': 10823, '382': 10824, '3312': 10825, 'towed': 10826, 'corrupt': 10827, '83': 10828, 'whilst': 10829, 'penalized': 10830, 'lightly': 10831, 'unloading': 10832, 'writes': 10833, '135': 10834, 'satellite': 10835, 'n559jb': 10836, 'wifes': 10837, 'cramming': 10838, 'ùî«\\x89ïö\\x95ü\\x8f': 10839, 'delayedl': 10840, 'treenut': 10841, 'freeconcert': 10842, 'printers': 10843, 'mfps': 10844, '1133': 10845, 'n353jb': 10846, 'enraging': 10847, 'oahu': 10848, '305': 10849, 'mailbox': 10850, 'forwarding': 10851, 'nightlife': 10852, 'wires': 10853, 'awesomeee': 10854, 'ment': 10855, 'effective': 10856, 'keepitup': 10857, 'bluetiful': 10858, 'lifeneedsfrosting': 10859, '1601': 10860, 'hint': 10861, 'constitution': 10862, 'declaration': 10863, 'independence': 10864, 'navy': 10865, 'tailfin': 10866, 'slash': 10867, 'engagement': 10868, 'cooler': 10869, 'pdw': 10870, 'ilovejetblue': 10871, 'connecticut\\x89\\x9dã\\x95ü\\x8f': 10872, 'stpatricksfoundation': 10873, 'rotary': 10874, 'backtodelta': 10875, 'tighter': 10876, 'colonist': 10877, 'mcgraw': 10878, 'embody': 10879, 'thanksdave': 10880, 'famous': 10881, \"jetblue'\": 10882, 'inspiring': 10883, 'realtime': 10884, 'rockingthetweets': 10885, 'alittle': 10886, 'weyburn': 10887, 'okayyyy': 10888, 'irons': 10889, 'no2jetblue': 10890, 'things\\x89û': 10891, 'wouldve': 10892, 'liked': 10893, 'simultaneously': 10894, 'wishmyflightwaslonger': 10895, 'squished': 10896, 'peggy': 10897, 'lft5': 10898, 'hemophilia': 10899, 'rudeservice': 10900, 'bleed': 10901, 'leeds': 10902, '918': 10903, 'oversleeping': 10904, 'uncontrollable': 10905, 'irregularity': 10906, 'stocking': 10907, 'vt': 10908, 'nerves': 10909, 'greenfield': 10910, 'reporter': 10911, 'badwebsite': 10912, 'ripping': 10913, 'tixs': 10914, 'deboards': 10915, 'crummyservice': 10916, 'whydidntiflysouthwest': 10917, 'goodluckamericanair': 10918, 'cathy': 10919, 'impossibly': 10920, '1lesscustomer': 10921, 'cheapoairchat': 10922, 'xtra': 10923, 'donotflyusair': 10924, 'germany': 10925, \"life's\": 10926, 'srv': 10927, 'carolinas': 10928, 'alsonodrinkcartcomingaround': 10929, 'leaking': 10930, '1925': 10931, 'friendlyteam': 10932, 'disciplined': 10933, 'divided': 10934, 'pumps': 10935, '17a': 10936, 'us4551': 10937, 'presentation': 10938, 'pandu': 10939, '740': 10940, 'you\\x89û': 10941, 'spain': 10942, 'israel': 10943, 'whining': 10944, 'openskies': 10945, 'overcharged': 10946, 'wrecked': 10947, 'lengthy': 10948, 'retweeted': 10949, 'mystery': 10950, \"i'v\": 10951, \"cx'd\": 10952, '4011': 10953, 'ux': 10954, '300rt': 10955, 'impaired': 10956, 'jetblueanyone': 10957, 'weather\\x89û': 10958, 'outofbusiness': 10959, 'ruiningmy': 10960, 'cap': 10961, '1801': 10962, 'revision': 10963, 'casual': 10964, '2139': 10965, '781': 10966, '879': 10967, '4505': 10968, 'opposite': 10969, 'thete': 10970, 'employ': 10971, 'grandparents': 10972, \"q'd\": 10973, '3837': 10974, 'sarita': 10975, '5203': 10976, '581': 10977, 'semester': 10978, 'asgmnt': 10979, '15am': 10980, 'wouldt': 10981, 'yellow': 10982, '2063': 10983, '18feb': 10984, 'herba': 10985, '1946': 10986, '41min': 10987, '504': 10988, 'forgets': 10989, 'ricky': 10990, 'us624': 10991, '1820': 10992, '2rsw': 10993, 'courtsey': 10994, '2min': 10995, '01pm': 10996, 'illness': 10997, 'forfeits': 10998, \"doctor's\": 10999, 'swallowed': 11000, 'solves': 11001, 'dmsc': 11002, 'applies': 11003, \"wont'\": 11004, '748': 11005, 'forfeit': 11006, 'inactivity': 11007, 'csm': 11008, 'daryl': 11009, 'louder': 11010, 'sine': 11011, 'initiated': 11012, 'glitchy': 11013, 'powers': 11014, 'charac': 11015, 'wiil': 11016, '730a': 11017, 'socialtantrum': 11018, 'caren': 11019, 'mccaren': 11020, 'us1799': 11021, 'supv': 11022, 'skyscanner': 11023, '2046': 11024, 'narrow': 11025, 'usaw': 11026, 'breastfeeding': 11027, \"momma's\": 11028, 'fulfilled': 11029, 'reqs': 11030, 'mediocre': 11031, 'combo': 11032, 'switchingboth': 11033, 'fligths': 11034, 'steering': 11035, 'disconnecting': 11036, 'schooler': 11037, 'noclothesnoinfo': 11038, 'failingyourcustomer': 11039, '223': 11040, 'usairwaysfailscustomers': 11041, 'guinea': 11042, 'pigs': 11043, '5612': 11044, '1798': 11045, 'missedupgrades': 11046, 'hopkins': 11047, 'intel': 11048, 'mitchell': 11049, 'i\\x89ûªd': 11050, 'dissemination': 11051, '5545': 11052, 'b18': 11053, 'tailwind\\x89û': 11054, 'convey': 11055, 'emailmailto': 11056, 'itfits': 11057, 'toes': 11058, 'candy': 11059, '449': 11060, 'exe': 11061, '521': 11062, 'scenes': 11063, 'noaccountability': 11064, 'grandcayman': 11065, 'goes\\x89û': 11066, 'tailwinds': 11067, 'asking\\x89û': 11068, 'greeted': 11069, 'welcomes': 11070, 'moveup': 11071, 'terminology': 11072, 'brings': 11073, 'verbiage': 11074, 'priv': 11075, 'queries': 11076, 'airway': 11077, 'shined': 11078, 'thur': 11079, 'tlh': 11080, 'lostandforgotten': 11081, 'nailed': 11082, 'shadier': 11083, 'nines': 11084, 'shutting': 11085, 'flyjetblue': 11086, 'theyareallbetter': 11087, 'exhaustion': 11088, 'runnin': 11089, '2rent': 11090, 'killin': 11091, 'reiterate': 11092, 'unreasonable': 11093, 'offended': 11094, 'notourfaultyoudontuseyourgatesright': 11095, 'sided': 11096, 'salem': 11097, 'logistically': 11098, 'desition': 11099, 'nade': 11100, 'goodgriefpeople': 11101, 'parizad': 11102, 'manifests': 11103, 'wedontcarebecauseyoupaidalready': 11104, 'takeresponsibility': 11105, 'diane': 11106, 'enters': 11107, 'deteriorating': 11108, 'assurances': 11109, 'thnk': 11110, 'german': 11111, 'deplanes': 11112, 'auf': 11113, 'wiedersehen': 11114, 'applaud': 11115, 'periods': 11116, '8d': 11117, 'dividendsmember': 11118, 'publicity': 11119, 'resorting': 11120, 'afterward': 11121, 'us5268': 11122, '4050': 11123, 'us728': 11124, '5268': 11125, \"i'vebeen\": 11126, 'waa': 11127, \"father's\": 11128, 'depot': 11129, 'squeaks': 11130, 'restrooms': 11131, '456': 11132, 'faced': 11133, 'inputted': 11134, 'sittingontheplane': 11135, 'readded': 11136, 'asha': 11137, 'wilmington': 11138, 'removing': 11139, 'initiative': 11140, 'minefits': 11141, '1mnth': 11142, 'bcs': 11143, 'ownership': 11144, 'breathing': 11145, 'aye': 11146, 'buys': 11147, 'bracket': 11148, 'grrrrrrrr': 11149, '5077': 11150, 'twist': 11151, 'plot': 11152, 'unsecured': 11153, 'taping': 11154, 'attach': 11155, '94lxa62': 11156, 'e2kvm4': 11157, 'thansk': 11158, '2119': 11159, '5594': 11160, '3937': 11161, 'stare': 11162, '610': 11163, '7498': 11164, 'chillpill': 11165, '6170': 11166, 'workout': 11167, '603': 11168, '2705': 11169, '1899': 11170, 'await': 11171, 'height': 11172, 'prompting': 11173, 'stepitup': 11174, 'lightning': 11175, 'struggling': 11176, 'pleads': 11177, '1937': 11178, 'grrrr': 11179, '2102': 11180, 'dominick': 11181, 'guardia': 11182, 'offline': 11183, 'rodeo': 11184, 'acarl4': 11185, 'oprah': 11186, '5097': 11187, 'strike': 11188, 'minors': 11189, 'documentation': 11190, 'fend4urself': 11191, 'tonnes': 11192, '4914': 11193, 'laughter': 11194, '41am': 11195, '57am': 11196, 'recordings': 11197, 'burned': 11198, 'contagious': 11199, 'virus': 11200, 'measurements': 11201, 'tia': 11202, '0316': 11203, 'sport': 11204, 'bashing': 11205, 'unproductive': 11206, 'pumping': 11207, 'parts': 11208, 'freeflight': 11209, 'relied': 11210, 'weighing': 11211, 'referring': 11212, 'verification': 11213, 'quintana': 11214, 'roo': 11215, 'pamper': 11216, 'fend4yourself': 11217, 'o\\x89û\\x9d': 11218, '3841': 11219, 'jail': 11220, 'sections': 11221, 'bailed': 11222, \"out'\": 11223, '419': 11224, 'negatively': 11225, 'integrity': 11226, '457': 11227, '4469': 11228, 'tallahassee': 11229, 'reflection': 11230, 'extinct': 11231, 'ringling': 11232, 'barnum': 11233, 'bailey': 11234, 'peeled': 11235, 'trivialize': 11236, 'communist': 11237, 'russia': 11238, 'ben': 11239, 'legitimately': 11240, 'mundane': 11241, 'qs': 11242, 'pride': 11243, 'upholding': 11244, 'alwayshappensthere': 11245, 'angrytraveler': 11246, '138': 11247, 'theworstairline': 11248, 'ultimately': 11249, '5163': 11250, '3751': 11251, 'rescued': 11252, 'c29': 11253, 'a18': 11254, 'carts': 11255, 'handicap': 11256, '20years': 11257, 'eventprof': 11258, 'departments': 11259, 'recover': 11260, 'undelayed': 11261, 'bwahahaha': 11262, 'notafanofyourmerger': 11263, 'wewanttoknow': 11264, '44pm': 11265, 'clarion': 11266, 'ummmm': 11267, \"air's\": 11268, 'hindered': 11269, 'snapped': 11270, 'fudgin': 11271, 'justwantmybed': 11272, 'billed': 11273, 'synch': 11274, 'fudgers': 11275, '694': 11276, '6x': 11277, 'poorplanning': 11278, 'flightd\\x89û': 11279, 'whatcustomerservice': 11280, '518': 11281, '758': 11282, '4424': 11283, 'n813ma': 11284, 'teen': 11285, 'flight5182': 11286, '8hrswaiting': 11287, 'stupidity': 11288, '4500': 11289, 'waaaaaaiting': 11290, '5182': 11291, '4047': 11292, 'cents': 11293, 'efficencies': 11294, '1581': 11295, 'sexually': 11296, 'elmira': 11297, 'detectors': 11298, 'specialist': 11299, 'plains': 11300, 'csrs': 11301, '2120': 11302, 'charlote': 11303, 'istead': 11304, 'funflightattendants': 11305, 'flt635': 11306, 'sundayfunday': 11307, 'solate': 11308, '4278': 11309, 'bozos': 11310, 'smarter': 11311, 'mooks': 11312, 'godelta': 11313, '614': 11314, 'jetways': 11315, 'pisspoor': 11316, '2118': 11317, 'pissing': 11318, '10m': 11319, '1h40m': 11320, 'nofood': 11321, 'nodrinks': 11322, 'nohelp': 11323, \"should've\": 11324, '729': 11325, '\\x89î': 11326, '4827': 11327, '878': 11328, 'f6': 11329, 'failover': 11330, '555phltoslc': 11331, 'unansweredquestions': 11332, '4609': 11333, 'aflame': 11334, 'release': 11335, 'printer': 11336, 'improves': 11337, 'angryairtravel': 11338, '639p': 11339, 'danbury': 11340, 'servers': 11341, 'emily': 11342, 'account\\x89û': 11343, 'drunkpilots': 11344, 'islands': 11345, 'stuckintheloop': 11346, 'flight2031': 11347, 'valuables': 11348, 'us2146': 11349, 'aa2924': 11350, 'outtage': 11351, '2031': 11352, 'regretting': 11353, 'hotterandlongerthanhell': 11354, '45minutes': 11355, 'downright': 11356, 'hostile': 11357, 'awe474': 11358, 'manual': 11359, 'ystrdy': 11360, 'tryng': 11361, 'rsrv': 11362, 'unsuitable': 11363, '601': 11364, 'rett': 11365, 'cavan': 11366, 'gofundme': 11367, 'deferring': 11368, 'offensively': 11369, 'particulars': 11370, '55min': 11371, 'us755': 11372, 'aa2595': 11373, 'realistic': 11374, '2595': 11375, 'sgs': 11376, '480': 11377, 'cstsvc': 11378, 'honors': 11379, 'rcd': 11380, '4035': 11381, 'eating': 11382, 'interpreting': 11383, 'sarcastic': 11384, 'excellentcustomerservice': 11385, 'waitinginphilly': 11386, 'flight838': 11387, 'usdelay': 11388, \"'paperwork'\": 11389, 'letsgoalready': 11390, '2022': 11391, '4454': 11392, '3818': 11393, 'whyisusairalwaysdelayed': 11394, 'emotional': 11395, 'incurred': 11396, 'approximately': 11397, 'superiors': 11398, 'emplid': 11399, 'aa67': 11400, '20feb15': 11401, 'appealing': 11402, '4565': 11403, 'influx': 11404, 'sum1': 11405, 'utilize': 11406, 'nocommunication': 11407, '10x': 11408, 'sympathize': 11409, '4210': 11410, 'firevan': 11411, 'effortless': 11412, 'tory': 11413, 'churn': 11414, 'takingthistothetop': 11415, 'employees\\x89ïî\\x95ü\\x8f': 11416, 'stuffing': 11417, 'sweat': 11418, 'scoop': 11419, 'accomplish': 11420, 'john': 11421, 'aboout': 11422, 'mhtt': 11423, '2hrs35minonhold': 11424, 'weekinbound': 11425, 'lastnight': 11426, 'careless': 11427, 'overloads': 11428, 'sorude': 11429, 'bze': 11430, '54': 11431, \"cxl'd\": 11432, 'nose': 11433, 'reinforcements': 11434, '2go': 11435, '1735': 11436, 'conditioning': 11437, 'phoneeeee': 11438, '4097': 11439, '4478': 11440, '1848': 11441, 'malcome': 11442, 'replicate': 11443, 'empl': 11444, 'greatjob': 11445, 'boggling': 11446, 'melting': 11447, 'agents\\x89û': 11448, 'tense': 11449, 'attndt': 11450, 'wrecking': 11451, 'smugsmirk': 11452, 'norush': 11453, 'exhibited': 11454, 'newamericanairline': 11455, 'cheapslogannotmotto': 11456, 'attdt': 11457, 'decides': 11458, 'aggravating': 11459, 'flt1727': 11460, 'mellani': 11461, 'superstars': 11462, 'mellie': 11463, 'vouchers\\x89û': 11464, 'icecream': 11465, 'collectively': 11466, 'percentage': 11467, 'yout': 11468, 'liza': 11469, 'idiotic': 11470, 'diet': 11471, 'bizness': 11472, 'a4': 11473, 'suggesting': 11474, 'podium': 11475, '1773': 11476, '1903': 11477, 'tiffany': 11478, 'infrastructure': 11479, 'massivefail': 11480, 'failphone': 11481, 'flgjt': 11482, 'grief': 11483, '0400': 11484, 'loans': 11485, 'smfh': 11486, 'abounds': 11487, 'evv': 11488, '3960': 11489, 'missedconnection': 11490, 'forcedovernight': 11491, 'worstflightexperienceever': 11492, 'getmehome': 11493, '3hr': 11494, '26min': 11495, 'loanr': 11496, '5084773604': 11497, 'canld': 11498, 'resch': 11499, 'lapse': 11500, 'poorlyhandled': 11501, 'usairheads': 11502, 'gifts': 11503, 'revers': 11504, 'vacationing': 11505, 'platinumeventually': 11506, 'tabitha': 11507, '3min': 11508, '00am': 11509, '50minssss': 11510, 'anotherfail': 11511, 'hanged': 11512, 'vows': 11513, 'smoothtransition': 11514, 'secs': 11515, 'fkn': 11516, 'unbelieavle': 11517, 'unaccpetable': 11518, 'failback': 11519, 'actualy': 11520, 'hostel': 11521, 'fwd': 11522, 'stillbagless': 11523, 'commitments': 11524, 'excusable': 11525, 'lynchburg': 11526, 'noexcusesaccepted': 11527, '755': 11528, 'usuck': 11529, 'pleading': 11530, 'grt': 11531, 'uppp': 11532, 'imtired': 11533, 'saveface': 11534, 'showup': 11535, 'professors': 11536, 'midterm': 11537, 'whichever': 11538, 'hooray': 11539, 'ebhset': 11540, 'pleasehurryup': 11541, 'answerphone': 11542, 'reschedulemyflight': 11543, 'fiousairways': 11544, 'tools': 11545, 'prayer': 11546, 'mishaps': 11547, 'lotttttttt': 11548, '74': 11549, '734': 11550, 'synergy': 11551, 'idontwanttocallback': 11552, 'becuase': 11553, 'disappearing': 11554, 'allready': 11555, 'amend': 11556, 'emerald': 11557, '2h30m': 11558, 'needlessly': 11559, 'wronganswer': 11560, 'unnoticed': 11561, '1796': 11562, 'chl': 11563, 'worstairlineinamerica': 11564, 'mod': 11565, '3hr30min': 11566, 'hosp': 11567, 'trys': 11568, 'cuts': 11569, 'hlp': 11570, '496': 11571, 'kitchen': 11572, '558': 11573, 'hasty': 11574, 'unwise': 11575, 'pushback': 11576, 'plows': 11577, 'pullin': 11578, 'sh': 11579, 'trbl': 11580, 'terriblecommunication': 11581, 'essence': 11582, '5283': 11583, 'reschedules': 11584, '2hr15min': 11585, '880': 11586, 'e36': 11587, 'truthful': 11588, 'ontarmac': 11589, '1881': 11590, 'donaldaroberts1': 11591, '1030pm': 11592, '94': 11593, 'workforces': 11594, 'eyyyy': 11595, 'drift': 11596, \"g'ma's\": 11597, 'af': 11598, 'clog': 11599, 'vegetarianproblems': 11600, 'ontario': 11601, '2023': 11602, '60th': 11603, 'determination': 11604, 'cabinfever': 11605, 'nw': 11606, '5530': 11607, '717': 11608, 'd1mqf5': 11609, 'respectful': 11610, '5hourwait': 11611, 'cesspool': 11612, 'germs': 11613, 'tequila': 11614, 'us643': 11615, 'stopover': 11616, 'flustered': 11617, 'kristy': 11618, 'kristie': 11619, 'gate4': 11620, 'promotethatgirl': 11621, 'tomrw': 11622, 'flightcancelled': 11623, 'custservicehasnonumber': 11624, 'us733': 11625, '1world': 11626, 'notion': 11627, 'versace': 11628, 'biceps': 11629, 'toll': 11630, 'nght': 11631, 'cls': 11632, 'sche': 11633, 'genious': 11634, 'aa1061': 11635, 'preggo': 11636, 'hormones': 11637, 'curvygirltravels': 11638, 'digit': 11639, \"family's\": 11640, 'okee': 11641, '1875': 11642, 'stats': 11643, 'nick': 11644, '742': 11645, 'comin': 11646, 'h8': 11647, 'thankjesus': 11648, 'thankme': 11649, \"lady's\": 11650, 'hubbys': 11651, 'eaten': 11652, 'ute': 11653, 'effin': 11654, 'shitting': 11655, '150000': 11656, 'i\\x89\\x9d': 11657, 'differ': 11658, 'acu': 11659, 'assed': 11660, 'dmv': 11661, 'noshadetothedmv': 11662, 'pregame': 11663, 'amtrak': 11664, 'badcustomersrvice': 11665, 'whereismybag': 11666, 'itis': 11667, 'poorcustumerservice': 11668, 'veg': 11669, 'ew': 11670, 'undermines': 11671, 'intelligence': 11672, 'template': 11673, 'enormous': 11674, 'flight850': 11675, '667': 11676, 'inaccessibility': 11677, 'discourteous': 11678, 'frequentflyers': 11679, 'chuckhole': 11680, '850': 11681, 'aal': 11682, 'retweets': 11683, '1815': 11684, 'n747uw': 11685, 'aligned': 11686, '80å¡': 11687, 'mobay': 11688, 'owen': 11689, 'usairwaysfflyer': 11690, 'f6dk04': 11691, 'xzmscw': 11692, 'quarter': 11693, 'basketball': 11694, 'wheresmyrefund': 11695, 'jerks': 11696, 'ù\\x90': 11697, 'leak': 11698, 'getmeoffthisplane': 11699, 'ineedabeer': 11700, '813': 11701, '826': 11702, 'mbj': 11703, '816': 11704, 'stating': 11705, 'flt5127': 11706, 'greatcustomerservice': 11707, 'selves': 11708, 'reativation': 11709, 'backed': 11710, 'hospice': 11711, 'soc': 11712, 'dontflyusairways': 11713, 'shitshow': 11714, 'weights': 11715, 'jobfail': 11716, 'guesstimate': 11717, 'incapable': 11718, '2yo': 11719, 'airbus321seat14fproblems': 11720, \"athlete's\": 11721, 'scareways': 11722, 'neverfails': 11723, 'cat': 11724, 'zig': 11725, 'zagging': 11726, 'movements': 11727, '4297': 11728, \"'extra\": 11729, \"849's\": 11730, 'havin': 11731, 'shuttles': 11732, 'authorize': 11733, '250k': 11734, 'dadeland': 11735, 'misery': 11736, 'lawyerup': 11737, 'disbelief': 11738, 'themagicalstranger': 11739, 'zip': 11740, '730pm': 11741, '150am': 11742, '30timesenough': 11743, 'dumping': 11744, 'theworstairlineever': 11745, 'delightful': 11746, 'professionalism': 11747, 'pulls': 11748, 'pleeeeeeeease': 11749, '3797': 11750, 'sailor': 11751, 'propositioned': 11752, 'creditcardsales': 11753, 'naval': 11754, 'commands': 11755, 'slogan': 11756, 'recharging': 11757, 'anyhelp': 11758, 'dontmakemegooutside': 11759, 'incedentals': 11760, 'noworstairline': 11761, 'worstever': 11762, 'daddyshome': 11763, 'notnice': 11764, 'tellyourstory': 11765, 'terrifyingly': 11766, 'jwa': 11767, 'shade': 11768, 'reachingnewlows': 11769, 'smelly': 11770, 'waitingagain': 11771, 'misjudging': 11772, 'deliberate': 11773, 'expens': 11774, '1851': 11775, '1769': 11776, 'burroughs': 11777, 'yourairlinesucks': 11778, 'triage': 11779, 'personality': 11780, \"'promotions'\": 11781, '23\\x89û\\x9dl': 11782, '9\\x89û\\x9dw': 11783, '12\\x89û\\x9dh': 11784, 'travelfail': 11785, \"'missing'\": 11786, 'nightmarish': 11787, 'patiencerunningout': 11788, 'barclay': 11789, 'freeze': 11790, 'avp': 11791, 'tgif': 11792, 'findurgrip': 11793, 'advis': 11794, 'wo': 11795, 'stollen': 11796, \"anyone's\": 11797, 'mobil': 11798, 'wishing': 11799, 'prn': 11800, 'planebroken': 11801, 'neverontime': 11802, 'paymytab': 11803, 'myr': 11804, 'problematic': 11805, 'us1765': 11806, 'shavon': 11807, 'evn': 11808, 'squashed': 11809, 'achieve': 11810, 'yield': 11811, 'navigate': 11812, '2066': 11813, 'congratulation': 11814, '4009': 11815, 'ghettofab': 11816, 'z1': 11817, 'proceeded': 11818, 'tricities': 11819, 'sean': 11820, 'awe1701': 11821, 'c38': 11822, 'us626': 11823, 'boyfriends': 11824, 'iwas': 11825, 'upgrd': 11826, '12am': 11827, '25min': 11828, '676': 11829, 'emphasize': 11830, 'vape': 11831, 'gr8': 11832, 'saddens': 11833, 'mini': 11834, 'melinda': 11835, 'greensboro': 11836, 'jewel': 11837, 'workng': 11838, 'et': 11839, 'pushy': 11840, 'gagent': 11841, 'danny': 11842, 'us628': 11843, 'beareavement': 11844, 'lunchtime': 11845, 'stillnotonmyflight': 11846, '2133': 11847, 'mimosa': 11848, 'kinder': 11849, 'breavement': 11850, '1707': 11851, 'replane': 11852, 'youcandobetter': 11853, 'groan': 11854, \"mary's\": 11855, '5223': 11856, 'valuing': 11857, 'curt': 11858, 'eternal': 11859, 'mergerdisaster': 11860, 'weds': 11861, 'd9': 11862, '835': 11863, '\\x89ûïwe': 11864, 'api': 11865, 'happyfriday': 11866, 'tier': 11867, 'complainers': 11868, 'robyn': 11869, 'sprawled': 11870, 'grossedout': 11871, 'recycle': 11872, 'bagtag': 11873, '\\x89ýã\\x95ü\\x8f\\x89÷û\\x95ü\\x8f': 11874, '1786': 11875, 'crosswords': 11876, 'oldseatnocushion': 11877, 'nohelponboard': 11878, 'coathanging': 11879, 'obama': 11880, 'frozentoilet': 11881, 'medicalissue': 11882, 'mechanicalissue': 11883, 'dispatchissue': 11884, 'gassing': 11885, 'finalstretch': 11886, 'mileagerun': 11887, '6k': 11888, '1839': 11889, '1838': 11890, '1907': 11891, 'offloading': 11892, 'dishonest': 11893, 'exicted': 11894, 'psychological': 11895, 'tricks': 11896, 'colors': 11897, 'worldwide': 11898, 'guys\\x89û': 11899, 'circles': 11900, '21p': 11901, '3935': 11902, 'prof': 11903, 'takers': 11904, 'mvmt': 11905, '890': 11906, '5136': 11907, 'connection\\x89û': 11908, '1857': 11909, 'unemployment': 11910, 'affairs': 11911, '4553': 11912, '1f': 11913, 'ffstatusdontmatter': 11914, 'thenewaa': 11915, 'grandbabies': 11916, 'births': 11917, '46min': 11918, 'geeeeezzzzz': 11919, 'phltolas': 11920, 'cinci': 11921, 'zfv': 11922, '5137': 11923, '5547': 11924, '1777': 11925, 'clearance': 11926, \"paypal's\": 11927, 'tedious': 11928, 'overfilled': 11929, '000lbs': 11930, 'lavoratories': 11931, '437': 11932, 'phxord': 11933, 'ab': 11934, 'vuelo24': 11935, 'vuelos24': 11936, 'webs': 11937, 'anarchy': 11938, '555': 11939, 'hockey': 11940, 'sticks': 11941, 'pleeeeease': 11942, 'pits': 11943, \"baby's\": 11944, 'ihatemergers': 11945, 'monterey': 11946, 'fog': 11947, 'veggies': 11948, 'olives': 11949, 'velcro': 11950, \"'footrest'\": 11951, \"shelf'\": 11952, 'a330': 11953, 'realizing': 11954, 'mask': 11955, 'polite': 11956, 'habitually': 11957, 'cases': 11958, 'salad': 11959, 'fuking': 11960, 'uncertainty': 11961, 'undue': 11962, \"req'ing\": 11963, 'wewantcomps': 11964, 'strandedattheairport': 11965, 'sponsorship': 11966, 'valleys': 11967, 'sandwiches': 11968, '2702': 11969, '2696': 11970, 'montereyregionalairport': 11971, 'alan': 11972, 'lve': 11973, 'mergers': 11974, 'irony': 11975, 'barking': 11976, '666': 11977, '1783': 11978, 'chathes': 11979, '297': 11980, 'mastercard': 11981, 'backwards': 11982, 'destroying': 11983, 'lively': 11984, 'nostalgic': 11985, \"bene's\": 11986, '5095': 11987, 'cak': 11988, 'scheming': 11989, 'obj': 11990, 'lmaooo': 11991, 'http\\x89û\\x9drt': 11992, 'h2o': 11993, 'flight1797': 11994, 'dreading': 11995, 'interchangeably': 11996, 'mp3': 11997, 'player': 11998, 'usage': 11999, 'lilly': 12000, 'badcustomerexperience': 12001, '657': 12002, 'candice': 12003, 'onion': 12004, 'tbt': 12005, 'b13': 12006, 'tiredfrustrated': 12007, 'ethan': 12008, 'revive': 12009, 'laundry': 12010, 'tabs': 12011, '1217': 12012, 'pipes': 12013, 'skys': 12014, 'imagined': 12015, 'stubbornly': 12016, 'phf': 12017, 'flyus': 12018, 'holz': 12019, 'labeled': 12020, 'occupy': 12021, 'musical': 12022, 'correlate': 12023, '1870': 12024, 'petition': 12025, 'docs': 12026, 'tys': 12027, 'gth239': 12028, 'usaiways': 12029, 'coded': 12030, 'trumping': 12031, 'booster': 12032, '7f': 12033, 'brochure': 12034, 'touting': 12035, '130am': 12036, '3860': 12037, 'notevenjv': 12038, 'recvd': 12039, '40k': 12040, 'tckt': 12041, 'pointy': 12042, 'anyone40min': 12043, 'flight4592': 12044, '00p': 12045, '07p': 12046, 'smoothoperation': 12047, 'misplace': 12048, '1pm10': 12049, 'freaky': 12050, 'ckin': 12051, 'thereisafirstforeverything': 12052, \"'tough\": 12053, \"is'\": 12054, '673': 12055, 'crosswinds': 12056, 'barclays': 12057, \"'please\": 12058, \"wait'\": 12059, 'devs': 12060, 'sill': 12061, 'usexpress': 12062, 'psa': 12063, 'reopened': 12064, 'wd': 12065, 'secondary': 12066, 'screenings': 12067, 'disconnection': 12068, '5141': 12069, \"uncle's\": 12070, 'considerate': 12071, 'marsha': 12072, 'thankyouforeverything': 12073, 'awol': 12074, 'lite': 12075, 'misguided': 12076, 'nothings': 12077, 'creating': 12078, '3880': 12079, 'vrm': 12080, 'admirals': 12081, 'fallen': 12082, 'parker': 12083, 'us4485': 12084, 'us2118': 12085, 'pple': 12086, '2218': 12087, 'us2218': 12088, '36min': 12089, 'betty': 12090, 'ilm': 12091, 'surprisingly': 12092, 'strandedinnashville': 12093, 'livepersonplease': 12094, 'encounter': 12095, 'outright': 12096, 'flt1999': 12097, 'upsetting': 12098, 'disguised': 12099, 'coffeemaker': 12100, 'ft1892': 12101, 'be4': 12102, 'coma': 12103, 'in\\x89û': 12104, 'mins\\x89û': 12105, 'installing': 12106, 'muzak': 12107, 'totaled': 12108, 'baked': 12109, \"reply's\": 12110, 'usairwaysssuck': 12111, 'comforting': 12112, 'stationary': 12113, '725': 12114, '1966': 12115, 'lucycat': 12116, 'timbit': 12117, 'reassess': 12118, 'usairwayssuck': 12119, \"'y'\": 12120, '41': 12121, 'rejected': 12122, 'fendforyourself': 12123, '2k424j0': 12124, 'dnx58v': 12125, 'flailing': 12126, 'severally': 12127, 'chairmanlove': 12128, 'monetary': 12129, 'overloaded': 12130, 'emergencies': 12131, \"'direct\": 12132, \"flight'\": 12133, 'whatajoke': 12134, 'isabelle': 12135, 'gramp': 12136, 'divident': 12137, 'µfor': 12138, '1748': 12139, 'systemic': 12140, '153': 12141, 'disallows': 12142, 'makeovertime': 12143, 'customerserviceplease': 12144, 'donthavehighhopes': 12145, 'noreply': 12146, 'filters': 12147, 'dns': 12148, 'admin': 12149, '19b': 12150, '1943': 12151, 'antitrust': 12152, 'unprofessionalism': 12153, '2dayslate': 12154, 'pordes': 12155, '5129': 12156, 'holdtime': 12157, 'verbally': 12158, 'cussed': 12159, 'peeved': 12160, 'pascucci': 12161, 'reaccommodation': 12162, 'mumbled': 12163, 'uses': 12164, 'mumbai': 12165, 'surat': 12166, 'navimumbai': 12167, 'passengerslose': 12168, 'gooutofbusiness': 12169, 'disruptions': 12170, '325': 12171, 'worsttraveldayever': 12172, 'unexplained': 12173, 'tweetin': 12174, 'doin': 12175, 'anythin': 12176, 'wiser': 12177, 'us558': 12178, 'neverflyusairways': 12179, 'heel': 12180, 'clicks': 12181, '4439': 12182, '3389': 12183, 'thislinehasntmovedforanhour': 12184, 'shaquille': 12185, 'tysvm': 12186, '3121': 12187, '1874get': 12188, 'tyvm': 12189, 'hectic': 12190, 'husain': 12191, 'protest': 12192, 'rehman': 12193, 'malik': 12194, '1hour': 12195, 'spreadtheword': 12196, 'borrow': 12197, 'f38ish': 12198, 'praised': 12199, 'barklays': 12200, \"'out\": 12201, 'throne': 12202, '470': 12203, 'conn': 12204, '763': 12205, 'executiveplatinummeansnothing': 12206, 'iwantcoffee': 12207, 'powered': 12208, 'longday': 12209, 'reposting': 12210, 'imateacher': 12211, \"cont'd\": 12212, 'c68ld9': 12213, 'c14': 12214, '1791': 12215, '5302': 12216, 'snaps': 12217, 'cups': 12218, 'steaming': 12219, 'themselves': 12220, 'wheresthecustomerserviceat': 12221, '893': 12222, 'hungary': 12223, '0372389047497': 12224, 'usairway': 12225, 'crw': 12226, 'hts': 12227, '604': 12228, 'theend': 12229, 'goodday': 12230, \"f'd\": 12231, 'sickcrew': 12232, 'tanpa': 12233, 'tic': 12234, '200fee': 12235, '654': 12236, 'unprofessionally': 12237, 'fmjtyl': 12238, 'ùª\\x8f\\x89ïî\\x95ü\\x8f': 12239, '9å¼': 12240, 'anticipation': 12241, 'freddie': 12242, 'sibling': 12243, 'wether': 12244, 'approproately': 12245, 'tooooo': 12246, 'command': 12247, 'absorb': 12248, 'deceiving': 12249, 'reprehensible': 12250, '50hrs': 12251, 'winkwink': 12252, 'intimate': 12253, '5202': 12254, 'gray': 12255, 'submits': 12256, '2check': 12257, 'travis': 12258, 'rush': 12259, 'jetway\\x89ûówhy': 12260, 'apx': 12261, 'closing': 12262, 'nobackup': 12263, 'begun': 12264, 'accessible': 12265, 'planestrainsandautomobiles': 12266, 'preparedness': 12267, 'snowballed': 12268, '1923': 12269, 'aforementioned': 12270, 'patron': 12271, 'hoodlums': 12272, '3729': 12273, 'speciifc': 12274, 'character': 12275, '3923': 12276, 'hogs': 12277, '628': 12278, 'impediment': 12279, 'duke': 12280, '1761': 12281, 'mason': 12282, 'registering': 12283, 'researching': 12284, 'contaced': 12285, 'eyewitness': 12286, 'unheard': 12287, 'manned': 12288, '2069': 12289, 'crickets': 12290, '3900': 12291, 'ubetter': 12292, 'smth': 12293, 'seet': 12294, 'dating': 12295, 'optimistic': 12296, 'oy': 12297, 'tara': 12298, 'gem': 12299, 'coin': 12300, 'onehouronhold': 12301, '1797': 12302, 'reactivate': 12303, 'casimir': 12304, '2955': 12305, 'nocareforcustomers': 12306, 'mold': 12307, 'us3825': 12308, 'filthyplane': 12309, 'hopeidonotgetsick': 12310, '2013': 12311, '46': 12312, '788': 12313, '188': 12314, 'nexttimeiwillflysouthwest': 12315, 'lex': 12316, 'xt': 12317, '1571aus': 12318, 'add\\x89ûªl': 12319, 'prolonged': 12320, 'prds': 12321, '304min': 12322, 'chef': 12323, 'miguel': 12324, 'allende': 12325, '4that': 12326, 'minsput': 12327, 'calledit': 12328, 'hungupnohelp': 12329, 'andrew': 12330, 'sma': 12331, 'rollercoaster': 12332, 'killeen': 12333, 'droped': 12334, 'rwrd': 12335, 'aadv': 12336, 'narrowly': 12337, 'snags': 12338, '64gb': 12339, '9hour': 12340, 'choppiest': 12341, 'whiplash': 12342, 'americanairlinesfail': 12343, 'iwantmymoneyback': 12344, 'reversed': 12345, '580815': 12346, '\\x89ûïinconvenient\\x89û\\x9d': 12347, 'stuckinmemphis': 12348, 'texasisclosed': 12349, 'faves': 12350, '1357': 12351, 'sheesh': 12352, 'espinosa': 12353, 'crated': 12354, 'painfully': 12355, 'inexperienced': 12356, 'paged': 12357, 'spaced': 12358, 'biggie': 12359, 'spagnuolo': 12360, 'coached': 12361, 'rams': 12362, '1181': 12363, 'whammie': 12364, 'robocalls': 12365, 'aa76': 12366, 'gems': 12367, 'pvg': 12368, 'arbitrary': 12369, 'pafe': 12370, 'gma': 12371, 'trv': 12372, 'swivel': 12373, 'dietcoke': 12374, 'happyflier': 12375, 'b40': 12376, 'marshaled': 12377, 'there\\x89ûªs': 12378, 'retired': 12379, 'resoled': 12380, 'kax': 12381, 'grievance': 12382, 'maria': 12383, 'beanie': 12384, 'diapers': 12385, 'manners': 12386, 'stilling': 12387, 'dialing': 12388, 'attempted': 12389, 'obscene': 12390, 'acquisition': 12391, '1843': 12392, 'dwell': 12393, 'encouragement': 12394, '1565': 12395, 'logical': 12396, 'wear': 12397, 'xxx': 12398, 'vastly': 12399, 'bundle': 12400, 'applause': 12401, 'freezes': 12402, 'inflating': 12403, 'beaches': 12404, '1636': 12405, 'temorris2010': 12406, 'dc10': 12407, '2888155964': 12408, 'brrr': 12409, 'chilly': 12410, 'ù÷¨': 12411, '1463': 12412, 'probls': 12413, 'rtrn': 12414, 'nickeled': 12415, '2559': 12416, \"dc9's\": 12417, 'tt': 12418, '3322': 12419, 'planb': 12420, 'upgrademe': 12421, 'animals': 12422, 'americandairlinessucks': 12423, 'experts': 12424, 'arrivals': 12425, 'aa3688': 12426, 'preventable': 12427, 'foru': 12428, 'allowable': 12429, 'admitted': 12430, '2495': 12431, '1229': 12432, '1120am': 12433, 'aa3490': 12434, 'hormonal': 12435, 'teenager': 12436, 'wastedeffort': 12437, 'reappeared': 12438, 'avios': 12439, 'undone': 12440, 'mce': 12441, 'utevgw': 12442, 'bragging': 12443, 'js': 12444, 'donedeal': 12445, 'talktoahuman': 12446, 'strength': 12447, 'reached': 12448, 'fì»': 12449, 'struts': 12450, 'nozzle': 12451, 'calibrated': 12452, 'us1937': 12453, 'absorber': 12454, 'ksml': 12455, 'enhance': 12456, 'fuellikely': 12457, 'cycle': 12458, '4285': 12459, 'yucki': 12460, 'prerecorded': 12461, 'us2065': 12462, 'smiles': 12463, 'refundprocedurenottoopainful': 12464, 'tmr': 12465, 'leather': 12466, 'ay': 12467, 'seams': 12468, 'marsh': 12469, 'nutella': 12470, 'veryimportantproject': 12471, 'refurbish': 12472, 'intra': 12473, 'drain': 12474, 'fearing': 12475, 'potable': 12476, 'mcidfw': 12477, 'recommendation': 12478, 'depends': 12479, \"what'\": 12480, 'burrito': 12481, '1119': 12482, 'overzealous': 12483, 'pns': 12484, 'frequently': 12485, 'wiggle': 12486, 'aa1119': 12487, 'aa157': 12488, '3m': 12489, 'sliver': 12490, 'noxtralegroom': 12491, 'nocoatcloset': 12492, 'faail': 12493, 'yayayay': 12494, 'ba1551': 12495, '4628': 12496, 'wack': 12497, 'bueno': 12498, '5348': 12499, 'cheque': 12500, 'unknowledgeable': 12501, '11c': 12502, 'potatoes': 12503, 'ballbag': 12504, 'worrisome': 12505, 'preoccupied': 12506, 'flagging': 12507, 'observer': 12508, 'counterparts': 12509, '1278': 12510, 'bsuxlu': 12511, 'aa3465': 12512, 'whereas': 12513, 'sgf': 12514, '3200': 12515, 'mikes': 12516, 'tk': 12517, 'spk': 12518, 'sufficiently': 12519, 'presumably': 12520, 'reproach': 12521, 'reform': 12522, 'bitchy': 12523, 'youd': 12524, 'cater': 12525, '8a': 12526, \"'thank\": 12527, \"you'\": 12528, 'aa2401': 12529, 'usxlon': 12530, 'us84': 12531, 'weekly': 12532, '5hs': 12533, '20yr': 12534, 'nofunatall': 12535, \"uwon't\": 12536, 'me2make': 12537, 'me2sit': 12538, 'excess': 12539, 'timesstill': 12540, 'celebs': 12541, 'press': 12542, 'deice': 12543, 'that\\x89ûªs': 12544, 'clunky': 12545, '2160': 12546, 'account\\x89û\\x9d': 12547, 'motor': 12548, 'rising': 12549, 'awheelchair': 12550, 'nonewplanes': 12551, 'scoot': 12552, 'aa1103': 12553, 'miserablemorning': 12554, 'commence': 12555, 'dpdfpp': 12556, 'regina': 12557, 'argg': 12558, 'bpdfpp': 12559, 'trite': 12560, 'platitudes': 12561, '13341': 12562, 'woodland': 12563, 'virginia': 12564, '20171': 12565, '0200': 12566, 'logo': 12567, '350': 12568, '\\x89ûïtide': 12569, 'century\\x89û\\x9d': 12570, 'machines': 12571, '1130pm': 12572, 'pouting': 12573, 'attitudeissues': 12574, 'extenuating': 12575, 'downstairs': 12576, 'elise': 12577, 'ees': 12578, 'k20': 12579, 'chking': 12580, 'schd': 12581, 'plainly': 12582, 'n76200': 12583, 'makers': 12584, 'mindset': 12585, 'journalist': 12586, 'medication': 12587, '4daysapologise': 12588, 'colours': 12589, \"skipper's\": 12590, 'ife': 12591, '6hr': 12592, 'suprise': 12593, 'vanity': 12594, 'gah': 12595, 'disorganised': 12596, 'inhumane': 12597, 'humanity': 12598, 'terror': 12599, 'bills': 12600, 'xox': 12601, 'subscription': 12602, 'dayscharging': 12603, 'tollfree': 12604, 'earrings': 12605, 'a8': 12606, 'a15': 12607, 'earring': 12608, 'dayjustgotworse': 12609, 'winks': 12610, 'commutation': 12611, 'drives': 12612, '2284': 12613, 'flightrs': 12614, 'curfew': 12615, 'aa1237': 12616, 'ù÷á\\x89ïö\\x95ü\\x8f': 12617, 'notahappycustomer': 12618, 'leavingtomm': 12619, 'bleh': 12620, '3001408092': 12621, 'crjs': 12622, 'airstairs': 12623, 'valet': 12624, 'brave': 12625, '1568': 12626, 'noise': 12627, 'norahm': 12628, '125k': 12629, 'lawyer': 12630, 'wrath': 12631, 'drag': 12632, 'chronological': 12633, 'footage': 12634, 'abi': 12635, '2298': 12636, '2339': 12637, 'figures': 12638, 'retaining': 12639, 'q2': 12640, 'midnite': 12641, 'whisper': 12642, 'joanne': 12643, 'flightnightmare': 12644, '1239': 12645, 'dart': 12646, 'gunna': 12647, '2348': 12648, '3499': 12649, 'cameragear': 12650, 'injuries': 12651, 'periolodicly': 12652, 'tu': 12653, 'leeway': 12654, '25mn': 12655, 'sna2ord': 12656, 'flt2417': 12657, 'unserviceable': 12658, 'usair4603': 12659, '4591': 12660, '2417': 12661, 'twa': 12662, 'aa5411': 12663, 'thanksm': 12664, 'cabs': 12665, 'slides': 12666, 'taxiway': 12667, '1074': 12668, 'outoftouchwithreality': 12669, 'appointment': 12670, 'deactivated': 12671, 'deactivate': 12672, 'inv': 12673, 'aa1679': 12674, 'successful': 12675, '4369': 12676, 'ridicules': 12677, '5392': 12678, 'infinite': 12679, 'hamsters': 12680, 'rabbits': 12681, 'transportation': 12682, 'pregnantwithtwins': 12683, '2498': 12684, 'candace': 12685, 'bqonpa': 12686, '1641': 12687, '2214': 12688, 'displeasure': 12689, '3487': 12690, 'donotflywiththem': 12691, 'fidencio': 12692, 'kybilc': 12693, 'isle': 12694, 'gabriela': 12695, '402': 12696, 'lip': 12697, '3611': 12698, '34pm': 12699, 'shafted': 12700, 'abandon': 12701, 'pensacola': 12702, '3670': 12703, 'cuzco': 12704, 'saidi': 12705, \"employee's\": 12706, 'buenos': 12707, 'ares': 12708, 'sre': 12709, 'hon': 12710, 'sauvignon': 12711, 'blanc': 12712, 'pronounce': 12713, 'multibillion': 12714, 'multimillion': 12715, 'agts': 12716, 'unamericanairlines': 12717, 'southwestairwasthere': 12718, \"envoy's\": 12719, '5347': 12720, 'of40': 12721, 'unfold': 12722, '14am': 12723, '19pm': 12724, 'wrench': 12725, 'apron': 12726, 'suree': 12727, 'grnd': 12728, 'jeans': 12729, 'suits': 12730, 'amen': 12731, 'rec': 12732, 'funerals': 12733, 'capability': 12734, '3349': 12735, 'hitawall': 12736, 'newplanesmell': 12737, 'y\\x89ûªall': 12738, 'evil': 12739, '6wks': 12740, 'oldplanes': 12741, 'damageluggage': 12742, 'chge': 12743, '160': 12744, '1510': 12745, 'ud': 12746, 'retrn': 12747, 'pickng': 12748, 'preparation': 12749, 'us4623': 12750, 'commend': 12751, 'rubbed': 12752, 'airportcardio': 12753, '1152': 12754, 'travelproblems': 12755, '1642': 12756, 'entree': 12757, 'nosedived': 12758, 'newamerican': 12759, 'delaney': 12760, 'aa291': 12761, 'aateam': 12762, 'rigorous': 12763, 'brownsville': 12764, 'hardtodo': 12765, 'hahahah': 12766, 'liar': 12767, 'pacify': 12768, 'span': 12769, 'believable': 12770, 'americant': 12771, 'reuse': 12772, 'hm': 12773, 'aaadvantage': 12774, 'balloons': 12775, 'need2know': 12776, 'maf': 12777, 'hardest': 12778, '6a': 12779, '1620': 12780, '1338': 12781, 'providenciales': 12782, '1651': 12783, '1672': 12784, 'becky': 12785, 'piela': 12786, 'orange': 12787, '89ish': 12788, 'bankruptcies': 12789, 'dog\\x89ûªs': 12790, 'helpline': 12791, 'holler': 12792, 'gtsvyb': 12793, 'unprepared': 12794, 'ho': 12795, \"right's\": 12796, 'booklet': 12797, 'ystday': 12798, 'angrybird': 12799, \"where'smybag\": 12800, '77min': 12801, 'pats': 12802, 'doyourjob': 12803, 'acpt': 12804, 'trickling': 12805, 'wakinginmemphis': 12806, 'up\\x89û': 12807, 'genuine': 12808, 'neverflyaaagain': 12809, 'fluctuated': 12810, 'woase2015': 12811, 'winterops': 12812, 'nastiest': 12813, 'slime': 12814, 'fas': 12815, 'congested': 12816, 'dissapointing': 12817, 'talent': 12818, 'bdsm': 12819, 'porn': 12820, 'op': 12821, '1337': 12822, 'raft': 12823, 'botched': 12824, 'absurdity': 12825, 'tug': 12826, 'outraged': 12827, '49min': 12828, 'memorize': 12829, 'phrase': 12830, 'shortcuts': 12831, 'itover': 12832, 'someones': 12833, '106': 12834, '104': 12835, 'protocols': 12836, 'mikehertz7': 12837, 'phrased': 12838, '2334': 12839, 'fakeawards': 12840, 'luvisbetter': 12841, 'attendent': 12842, 'mty': 12843, '7hours': 12844, 'surfer': 12845, 'noloveforsurfers': 12846, '2321': 12847, 'escalate': 12848, 'adjustments': 12849, 'seemless': 12850, '15lb': 12851, 'surfboardbag': 12852, 'nomoaa': 12853, 'mait': 12854, 'formality': 12855, 'reader': 12856, 'nohotel': 12857, 'frowny': 12858, 'k13': 12859, \"brother's\": 12860, 'unsat': 12861, '3months': 12862, 'angelo': 12863, 'discussing': 12864, 'howdy': 12865, 'erroring': 12866, '20minute': 12867, 'thousandth': 12868, 'mistreated': 12869, \"'it's\": 12870, 'guru': 12871, 'ease': 12872, 'evidently': 12873, 'rides': 12874, 'circuit': 12875, 'breaker': 12876, '2hourwaitsucks': 12877, 'madhouse': 12878, 'skycap': 12879, 'montrose': 12880, 'allrepresentativesbusy': 12881, 'nooption': 12882, '4333': 12883, 'bademployeeproblem': 12884, 'surgeryhelp': 12885, 'irrlcd': 12886, 'unamerican': 12887, 'dehydrated': 12888, 'chaperone': 12889, 'robinson': 12890, 'crazybitch': 12891, 'aa2334': 12892, 'fiancìä': 12893, 'hahahaha': 12894, 'pasting': 12895, 'bride': 12896, 'attending': 12897, 'brooklyn': 12898, 'denise': 12899, 'rtn': 12900, 'rudestaff': 12901, 'incompetentmanagers': 12902, 'awfully': 12903, 'unclear': 12904, 'audio': 12905, 'pir': 12906, 'cud': 12907, '1230am': 12908, '230am': 12909, '1605': 12910, 'reasonably': 12911, 'kthxbai': 12912, 'strict': 12913, 'lacks': 12914, 'jaipur': 12915, 'dehli': 12916, '2plains': 12917, '2fails': 12918, '1108': 12919, \"abc's\": 12920, 'basics': 12921, 'stiiiil': 12922, 'hating': 12923, 'cac': 12924, '259': 12925, 'lmk': 12926, 'michael': 12927, 'the15hours': 12928, \"there're\": 12929, 'infuriating': 12930, '7hrs': 12931, 'iberia': 12932, 'aa3390': 12933, 'stmt': 12934, 'getyouracttogether': 12935, 'painandsuffering': 12936, 'tjycqh': 12937, 'pu': 12938, 'unt': 12939, 'aft': 12940, 'remained': 12941, '3days': 12942, 'unreachable': 12943, '2516': 12944, '2244': 12945, 'revieving': 12946, '4275': 12947, 'chkin': 12948, 'mtg': 12949, 'baggagedrama': 12950, 'squawked': 12951, 'worstcustservice': 12952, 'nationalized': 12953, \"nation's\": 12954, 'aal65': 12955, 'declared': 12956, 'squawking': 12957, 'aa106': 12958, 'weather\\x89ïö\\x95ü\\x8f': 12959, 'fligth': 12960, 'somthing': 12961, 'qqbmug': 12962, 'reticketed': 12963, 'epicfailure': 12964, '00a': 12965, 'unsettling': 12966, 'walmart': 12967, 'apologise': 12968, 'blameshiftoverload': 12969, 'visiting': 12970, 'languages': 12971, 'latinamerican': 12972, 'hs': 12973, 'ithaca': 12974, 'xld': 12975, 'rulesshouldbend': 12976, 'sheer': 12977, 'reigning': 12978, 'gd': 12979, 'sloooowresponses': 12980, '3hours': 12981, 'twenty': 12982, \"hasn't\": 12983, 'prank': 12984, 'plt': 12985, '1h08': 12986, '1080': 12987, '1418': 12988, 'mom\\x89ûªs': 12989, 'insure': 12990, 'fricken': 12991, 'g8': 12992, 'd6': 12993, 'mk': 12994, 'd4': 12995, 'pe': 12996, 'bt': 12997, 'wa': 12998, '7a': 12999, 'ky': 13000}\n"
     ]
    }
   ],
   "source": [
    "\n",
    "import keras\n",
    "from keras.preprocessing.text import Tokenizer\n",
    "\n",
    "tokenizer = Tokenizer(num_words=2500,split=' ')\n",
    "tokenizer.fit_on_texts(dfadd.Cleaned)\n",
    "\n",
    "print(tokenizer.word_index)"
   ]
  },
  {
   "cell_type": "code",
   "execution_count": 72,
   "metadata": {},
   "outputs": [
    {
     "name": "stdout",
     "output_type": "stream",
     "text": [
      "[[   0    0    0 ...    0    0   64]\n",
      " [   0    0    0 ... 1023 2360   45]\n",
      " [   0    0    0 ...  404    1  345]\n",
      " ...\n",
      " [   0    0    0 ...    0  481   78]\n",
      " [   0    0    0 ...  121 1347    1]\n",
      " [   0    0    0 ...  512   11    8]]\n"
     ]
    }
   ],
   "source": [
    "from keras.preprocessing.sequence import pad_sequences\n",
    "\n",
    "X = tokenizer.texts_to_sequences(dfadd.Cleaned)\n",
    "X = pad_sequences(X)\n",
    "print(X)"
   ]
  },
  {
   "cell_type": "code",
   "execution_count": 73,
   "metadata": {},
   "outputs": [
    {
     "name": "stdout",
     "output_type": "stream",
     "text": [
      "[[0 1 0]\n",
      " [1 0 0]\n",
      " [0 1 0]\n",
      " ...\n",
      " [0 1 0]\n",
      " [0 0 1]\n",
      " [0 1 0]]\n"
     ]
    }
   ],
   "source": [
    "Y = []\n",
    "for val in dfadd.sentiment:\n",
    "    if(val == 'positive'):\n",
    "        Y.append([1,0,0])\n",
    "    elif (val=='neutral'):\n",
    "        Y.append([0,1,0])\n",
    "    else:\n",
    "        Y.append([0,0,1])\n",
    "Y = np.array(Y)\n",
    "print(Y)"
   ]
  },
  {
   "cell_type": "code",
   "execution_count": 74,
   "metadata": {},
   "outputs": [],
   "source": [
    "X_tr, X_ts, y_tr, y_ts = train_test_split(X,Y,test_size=0.25)"
   ]
  },
  {
   "cell_type": "code",
   "execution_count": 75,
   "metadata": {},
   "outputs": [
    {
     "name": "stdout",
     "output_type": "stream",
     "text": [
      "WARNING:tensorflow:From /anaconda3/lib/python3.7/site-packages/tensorflow/python/framework/op_def_library.py:263: colocate_with (from tensorflow.python.framework.ops) is deprecated and will be removed in a future version.\n",
      "Instructions for updating:\n",
      "Colocations handled automatically by placer.\n",
      "WARNING:tensorflow:From /anaconda3/lib/python3.7/site-packages/keras/backend/tensorflow_backend.py:3445: calling dropout (from tensorflow.python.ops.nn_ops) with keep_prob is deprecated and will be removed in a future version.\n",
      "Instructions for updating:\n",
      "Please use `rate` instead of `keep_prob`. Rate should be set to `rate = 1 - keep_prob`.\n"
     ]
    },
    {
     "name": "stderr",
     "output_type": "stream",
     "text": [
      "/anaconda3/lib/python3.7/site-packages/ipykernel_launcher.py:5: UserWarning: The `dropout` argument is no longer support in `Embedding`. You can apply a `keras.layers.SpatialDropout1D` layer right after the `Embedding` layer to get the same behavior.\n",
      "  \"\"\"\n",
      "/anaconda3/lib/python3.7/site-packages/ipykernel_launcher.py:6: UserWarning: Update your `LSTM` call to the Keras 2 API: `LSTM(300, dropout=0.2, recurrent_dropout=0.2)`\n",
      "  \n"
     ]
    }
   ],
   "source": [
    "from keras.models import Sequential\n",
    "from keras.layers import Dense, Activation, Embedding, LSTM\n",
    "\n",
    "model = Sequential()\n",
    "model.add(Embedding(2500,128,input_length=X.shape[1],dropout=0.2))\n",
    "model.add(LSTM(300, dropout_U=0.2,dropout_W=0.2))\n",
    "model.add(Dense(3,activation='softmax'))\n",
    "\n",
    "model.compile(loss=keras.losses.categorical_crossentropy,optimizer='adam',metrics=['accuracy'])\n",
    "\n",
    "\n"
   ]
  },
  {
   "cell_type": "code",
   "execution_count": 76,
   "metadata": {},
   "outputs": [
    {
     "name": "stdout",
     "output_type": "stream",
     "text": [
      "WARNING:tensorflow:From /anaconda3/lib/python3.7/site-packages/tensorflow/python/ops/math_ops.py:3066: to_int32 (from tensorflow.python.ops.math_ops) is deprecated and will be removed in a future version.\n",
      "Instructions for updating:\n",
      "Use tf.cast instead.\n",
      "Epoch 1/5\n",
      " - 99s - loss: 0.7393 - acc: 0.6902\n",
      "Epoch 2/5\n",
      " - 98s - loss: 0.5321 - acc: 0.7826\n",
      "Epoch 3/5\n",
      " - 100s - loss: 0.4578 - acc: 0.8127\n",
      "Epoch 4/5\n",
      " - 99s - loss: 0.3993 - acc: 0.8399\n",
      "Epoch 5/5\n",
      " - 101s - loss: 0.3526 - acc: 0.8580\n"
     ]
    },
    {
     "data": {
      "text/plain": [
       "<keras.callbacks.History at 0x1a38b399b0>"
      ]
     },
     "execution_count": 76,
     "metadata": {},
     "output_type": "execute_result"
    }
   ],
   "source": [
    "model.fit(X_tr ,y_tr, epochs=5,verbose=2,batch_size=32)"
   ]
  },
  {
   "cell_type": "code",
   "execution_count": 77,
   "metadata": {},
   "outputs": [
    {
     "name": "stdout",
     "output_type": "stream",
     "text": [
      "3607/3607 [==============================] - 9s 2ms/step\n",
      "0.7363459939172733\n"
     ]
    }
   ],
   "source": [
    "print(model.evaluate(X_ts,y_ts)[1])"
   ]
  },
  {
   "cell_type": "code",
   "execution_count": 1,
   "metadata": {},
   "outputs": [
    {
     "ename": "NameError",
     "evalue": "name 'dfadd' is not defined",
     "output_type": "error",
     "traceback": [
      "\u001b[0;31m---------------------------------------------------------------------------\u001b[0m",
      "\u001b[0;31mNameError\u001b[0m                                 Traceback (most recent call last)",
      "\u001b[0;32m<ipython-input-1-2cdd09edebf3>\u001b[0m in \u001b[0;36m<module>\u001b[0;34m\u001b[0m\n\u001b[0;32m----> 1\u001b[0;31m \u001b[0mdfadd\u001b[0m\u001b[0;34m.\u001b[0m\u001b[0mhead\u001b[0m\u001b[0;34m(\u001b[0m\u001b[0;34m)\u001b[0m\u001b[0;34m\u001b[0m\u001b[0;34m\u001b[0m\u001b[0m\n\u001b[0m",
      "\u001b[0;31mNameError\u001b[0m: name 'dfadd' is not defined"
     ]
    }
   ],
   "source": [
    "dfadd.head()"
   ]
  },
  {
   "cell_type": "code",
   "execution_count": null,
   "metadata": {},
   "outputs": [],
   "source": []
  }
 ],
 "metadata": {
  "kernelspec": {
   "display_name": "Python 3",
   "language": "python",
   "name": "python3"
  },
  "language_info": {
   "codemirror_mode": {
    "name": "ipython",
    "version": 3
   },
   "file_extension": ".py",
   "mimetype": "text/x-python",
   "name": "python",
   "nbconvert_exporter": "python",
   "pygments_lexer": "ipython3",
   "version": "3.7.1"
  }
 },
 "nbformat": 4,
 "nbformat_minor": 4
}
