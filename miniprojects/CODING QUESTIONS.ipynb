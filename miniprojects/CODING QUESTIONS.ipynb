{
 "cells": [
  {
   "cell_type": "code",
   "execution_count": null,
   "metadata": {},
   "outputs": [],
   "source": [
    "# reading a file pandas\n",
    "\n",
    "df=pd.read_csv('autos.csv', header=0, encoding = 'ISO-8859-1',index_col=1)\n",
    "\n",
    "# reading without pandas\n",
    "import csv\n",
    "datax=[]\n",
    "with open('Data.csv','r') as csvFile:\n",
    "    reader = csv.reader(csvFile)\n",
    "    datax=list(reader)"
   ]
  },
  {
   "cell_type": "markdown",
   "metadata": {},
   "source": [
    "MAKE A PALINDROME"
   ]
  },
  {
   "cell_type": "code",
   "execution_count": 1,
   "metadata": {},
   "outputs": [
    {
     "data": {
      "text/plain": [
       "True"
      ]
     },
     "execution_count": 1,
     "metadata": {},
     "output_type": "execute_result"
    }
   ],
   "source": [
    "def isPalindrome(string):\n",
    "        left,right=iter(string),iter(string[::-1])\n",
    "        i=0\n",
    "        while i<len(string)/2:\n",
    "            if next(left)!=next(right):\n",
    "                return False\n",
    "            i+=1\n",
    "            return True\n",
    "isPalindrome('redrum murder')"
   ]
  },
  {
   "cell_type": "code",
   "execution_count": 2,
   "metadata": {},
   "outputs": [
    {
     "data": {
      "text/plain": [
       "True"
      ]
     },
     "execution_count": 2,
     "metadata": {},
     "output_type": "execute_result"
    }
   ],
   "source": [
    "isPalindrome('redrum mur')"
   ]
  },
  {
   "cell_type": "code",
   "execution_count": 66,
   "metadata": {},
   "outputs": [
    {
     "data": {
      "text/plain": [
       "24"
      ]
     },
     "execution_count": 66,
     "metadata": {},
     "output_type": "execute_result"
    }
   ],
   "source": [
    "# recursion, define a factorial\n",
    "\n",
    "def fact_rec(n):\n",
    "    if n==1:\n",
    "        return 1\n",
    "    return n*fact_rec(n-1)\n",
    "\n",
    "fact_rec(4)\n",
    "\n"
   ]
  },
  {
   "cell_type": "markdown",
   "metadata": {},
   "source": [
    "### *args and **kwargs?"
   ]
  },
  {
   "cell_type": "markdown",
   "metadata": {},
   "source": [
    "args: we don’t know how many arguments will be passed to a function\n",
    ">>> def func(*args):\n",
    "   for i in args:\n",
    "       print(i)\n",
    ">>> func(3,2,1,4,7)\n",
    "out 3 2 1 4 7\n",
    "\n",
    "kwargs: keyword arguments when we don’t know how many\n",
    ">>> def func(**kwargs):\n",
    "   for i in kwargs:\n",
    "       print(i,kwargs[i])\n",
    ">>> func(a=1,b=2,c=7)\n",
    "out a.1 b.2 c.7"
   ]
  },
  {
   "cell_type": "markdown",
   "metadata": {},
   "source": [
    "### df.apply() method\n"
   ]
  },
  {
   "cell_type": "code",
   "execution_count": null,
   "metadata": {},
   "outputs": [],
   "source": [
    "# df.apply(function)\n"
   ]
  },
  {
   "cell_type": "markdown",
   "metadata": {},
   "source": [
    "zip"
   ]
  },
  {
   "cell_type": "code",
   "execution_count": 37,
   "metadata": {
    "scrolled": true
   },
   "outputs": [
    {
     "name": "stdout",
     "output_type": "stream",
     "text": [
      "<zip object at 0x10553ad48>\n"
     ]
    },
    {
     "data": {
      "text/plain": [
       "{1: 5, 2: 6, 3: 7, 4: 8}"
      ]
     },
     "execution_count": 37,
     "metadata": {},
     "output_type": "execute_result"
    }
   ],
   "source": [
    "# result is a tuple\n",
    "# if one is short, result is for the shortest iterable\n",
    "# reverse zip operation\n",
    "\n",
    "tuplist=[('kaan', 'short'),('ali', 'tall')]\n",
    "result=zip(*tuplist)\n",
    "print(result)\n",
    "\n",
    "# to create a dictionary\n",
    "\n",
    "keys=[ 1,2, 3,4]\n",
    "\n",
    "values=[ 5,6 ,7,8]\n",
    "dictnew=dict(zip(keys,values))\n",
    "dictnew"
   ]
  },
  {
   "cell_type": "code",
   "execution_count": 45,
   "metadata": {},
   "outputs": [
    {
     "data": {
      "text/html": [
       "<div>\n",
       "<style scoped>\n",
       "    .dataframe tbody tr th:only-of-type {\n",
       "        vertical-align: middle;\n",
       "    }\n",
       "\n",
       "    .dataframe tbody tr th {\n",
       "        vertical-align: top;\n",
       "    }\n",
       "\n",
       "    .dataframe thead th {\n",
       "        text-align: right;\n",
       "    }\n",
       "</style>\n",
       "<table border=\"1\" class=\"dataframe\">\n",
       "  <thead>\n",
       "    <tr style=\"text-align: right;\">\n",
       "      <th></th>\n",
       "      <th>1</th>\n",
       "      <th>2</th>\n",
       "      <th>3</th>\n",
       "      <th>4</th>\n",
       "    </tr>\n",
       "  </thead>\n",
       "  <tbody>\n",
       "    <tr>\n",
       "      <td>5</td>\n",
       "      <td>5</td>\n",
       "      <td>6</td>\n",
       "      <td>7</td>\n",
       "      <td>8</td>\n",
       "    </tr>\n",
       "    <tr>\n",
       "      <td>6</td>\n",
       "      <td>5</td>\n",
       "      <td>6</td>\n",
       "      <td>7</td>\n",
       "      <td>8</td>\n",
       "    </tr>\n",
       "    <tr>\n",
       "      <td>7</td>\n",
       "      <td>5</td>\n",
       "      <td>6</td>\n",
       "      <td>7</td>\n",
       "      <td>8</td>\n",
       "    </tr>\n",
       "    <tr>\n",
       "      <td>8</td>\n",
       "      <td>5</td>\n",
       "      <td>6</td>\n",
       "      <td>7</td>\n",
       "      <td>8</td>\n",
       "    </tr>\n",
       "  </tbody>\n",
       "</table>\n",
       "</div>"
      ],
      "text/plain": [
       "   1  2  3  4\n",
       "5  5  6  7  8\n",
       "6  5  6  7  8\n",
       "7  5  6  7  8\n",
       "8  5  6  7  8"
      ]
     },
     "execution_count": 45,
     "metadata": {},
     "output_type": "execute_result"
    }
   ],
   "source": [
    "import pandas as pd\n",
    "dfnew=pd.DataFrame(dictnew, index=dictnew.values())\n",
    "dfnew"
   ]
  },
  {
   "cell_type": "code",
   "execution_count": 3,
   "metadata": {},
   "outputs": [
    {
     "name": "stdout",
     "output_type": "stream",
     "text": [
      "a 1\n",
      "b 2\n",
      "c 7\n"
     ]
    }
   ],
   "source": [
    "def func(**kwargs):\n",
    "    for i in kwargs:\n",
    "        print(i,kwargs[i])\n",
    "\n",
    "func(a=1,b=2,c=7)"
   ]
  },
  {
   "cell_type": "code",
   "execution_count": 4,
   "metadata": {},
   "outputs": [
    {
     "name": "stdout",
     "output_type": "stream",
     "text": [
      "a\n",
      "b\n",
      "c\n"
     ]
    }
   ],
   "source": [
    "def func(*args):\n",
    "    for i in args:\n",
    "        print(i)\n",
    "\n",
    "func('a','b','c')"
   ]
  },
  {
   "cell_type": "code",
   "execution_count": 28,
   "metadata": {},
   "outputs": [
    {
     "data": {
      "text/plain": [
       "[4, 6, 6]"
      ]
     },
     "execution_count": 28,
     "metadata": {},
     "output_type": "execute_result"
    }
   ],
   "source": [
    "# list comprehension the length of each lowercase word\n",
    "\n",
    "text1='sdrg LKJLKJ lklkjl LKLKJ LKL lklkjl'\n",
    "list2=[len(x) for x in text1.split() if x.islower()] \n",
    "list2\n",
    "# listl=list(x in x for text1 if text1.split()))"
   ]
  },
  {
   "cell_type": "markdown",
   "metadata": {},
   "source": [
    "iterate through multiple loops\n"
   ]
  },
  {
   "cell_type": "code",
   "execution_count": 32,
   "metadata": {},
   "outputs": [
    {
     "data": {
      "text/plain": [
       "[(1, 'q'),\n",
       " (1, 'w'),\n",
       " (1, 'e'),\n",
       " (2, 'q'),\n",
       " (2, 'w'),\n",
       " (2, 'e'),\n",
       " (3, 'q'),\n",
       " (3, 'w'),\n",
       " (3, 'e')]"
      ]
     },
     "execution_count": 32,
     "metadata": {},
     "output_type": "execute_result"
    }
   ],
   "source": [
    "# find the all possible pairs, result will be list of tuples\n",
    "\n",
    "numbers=[1,2,3]\n",
    "letters=['q','w','e']\n",
    "pairs=[(i,j) for i in numbers for j in letters]\n",
    "pairs"
   ]
  },
  {
   "cell_type": "markdown",
   "metadata": {},
   "source": [
    "### convert a list to a string"
   ]
  },
  {
   "cell_type": "code",
   "execution_count": 5,
   "metadata": {},
   "outputs": [
    {
     "name": "stdout",
     "output_type": "stream",
     "text": [
      "a-b-c\n"
     ]
    }
   ],
   "source": [
    "# use join.() method\n",
    "\n",
    "list1=['a','b','c']\n",
    "lstring='-'.join(list1)\n",
    "print(lstring)"
   ]
  },
  {
   "cell_type": "markdown",
   "metadata": {},
   "source": [
    "### convert a list into a tuple\n"
   ]
  },
  {
   "cell_type": "markdown",
   "metadata": {},
   "source": [
    " use tuple() function"
   ]
  },
  {
   "cell_type": "markdown",
   "metadata": {},
   "source": [
    "Generator , has a yield keyword in it\n"
   ]
  },
  {
   "cell_type": "code",
   "execution_count": null,
   "metadata": {},
   "outputs": [],
   "source": []
  },
  {
   "cell_type": "markdown",
   "metadata": {},
   "source": [
    "### How to count the occurrences of a particular element in the list?"
   ]
  },
  {
   "cell_type": "code",
   "execution_count": 6,
   "metadata": {},
   "outputs": [
    {
     "name": "stdout",
     "output_type": "stream",
     "text": [
      "2\n"
     ]
    }
   ],
   "source": [
    "# use count() function, how many mon's in this list\n",
    "weekdays = ['sun','mon','tue','mon','wed','dun','sat']\n",
    "print(weekdays.count('mon'))"
   ]
  },
  {
   "cell_type": "code",
   "execution_count": null,
   "metadata": {},
   "outputs": [],
   "source": []
  },
  {
   "cell_type": "code",
   "execution_count": 7,
   "metadata": {},
   "outputs": [
    {
     "name": "stdout",
     "output_type": "stream",
     "text": [
      "[['sun', 1], ['mon', 2], ['tue', 1], ['mon', 2], ['wed', 1], ['dun', 1], ['sat', 1]]\n"
     ]
    }
   ],
   "source": [
    "# find each occurence at once with a list comprehension\n",
    "newl=[[x,weekdays.count(x)] for x in weekdays]\n",
    "print(newl)"
   ]
  },
  {
   "cell_type": "markdown",
   "metadata": {},
   "source": [
    "### Using enumerate"
   ]
  },
  {
   "cell_type": "markdown",
   "metadata": {},
   "source": [
    "The Python enumerate() function adds a counter to an iterable object. enumerate() function can accept sequential indexes starting from zero."
   ]
  },
  {
   "cell_type": "code",
   "execution_count": 8,
   "metadata": {},
   "outputs": [],
   "source": [
    "# lets find the index numbers of this tuple\n",
    "subjects = ('Python', 'Interview', 'Questions')"
   ]
  },
  {
   "cell_type": "code",
   "execution_count": 9,
   "metadata": {
    "scrolled": true
   },
   "outputs": [
    {
     "name": "stdout",
     "output_type": "stream",
     "text": [
      "0 Python\n",
      "1 Interview\n",
      "2 Questions\n"
     ]
    }
   ],
   "source": [
    "for i, x in enumerate(subjects):\n",
    "    print(i,x)"
   ]
  },
  {
   "cell_type": "code",
   "execution_count": 15,
   "metadata": {},
   "outputs": [
    {
     "data": {
      "text/plain": [
       "[(0, 'a'), (1, 'b'), (2, 'c')]"
      ]
     },
     "execution_count": 15,
     "metadata": {},
     "output_type": "execute_result"
    }
   ],
   "source": [
    "listx=['a','b','c']\n",
    "list(enumerate(listx))"
   ]
  },
  {
   "cell_type": "markdown",
   "metadata": {},
   "source": [
    "### Concatenate strings"
   ]
  },
  {
   "cell_type": "code",
   "execution_count": 10,
   "metadata": {},
   "outputs": [
    {
     "name": "stdout",
     "output_type": "stream",
     "text": [
      "kaganilter\n"
     ]
    }
   ],
   "source": [
    "# use + \n",
    "\n",
    "print('kagan' + 'ilter')"
   ]
  },
  {
   "cell_type": "code",
   "execution_count": 11,
   "metadata": {},
   "outputs": [],
   "source": [
    "# concat() is used for dataframes panda\n",
    "# pd.concat([df1,df2])"
   ]
  },
  {
   "cell_type": "markdown",
   "metadata": {},
   "source": [
    "### print sum of the numbers starting from 1 to 100?"
   ]
  },
  {
   "cell_type": "code",
   "execution_count": 12,
   "metadata": {},
   "outputs": [
    {
     "name": "stdout",
     "output_type": "stream",
     "text": [
      "5050\n"
     ]
    }
   ],
   "source": [
    "print(sum(range(1,101)))"
   ]
  },
  {
   "cell_type": "markdown",
   "metadata": {},
   "source": [
    "### program to find the average of numbers in a list in Python?"
   ]
  },
  {
   "cell_type": "code",
   "execution_count": 4,
   "metadata": {},
   "outputs": [
    {
     "name": "stdout",
     "output_type": "stream",
     "text": [
      "how many numbers will be in the list4\n",
      "enter element: 1\n",
      "enter element: 4\n",
      "enter element: 5\n",
      "enter element: 6\n",
      "avg of the list 4.0\n"
     ]
    }
   ],
   "source": [
    "n=int(input('how many numbers will be in the list'))\n",
    "a=[]\n",
    "for i in range (0,n):\n",
    "    elem=int(input('enter element: '))\n",
    "    a.append(elem)\n",
    "    avg=sum(a)/n\n",
    "print('avg of the list', avg)\n"
   ]
  },
  {
   "cell_type": "markdown",
   "metadata": {},
   "source": [
    "#### a program to reverse a number in Python?"
   ]
  },
  {
   "cell_type": "code",
   "execution_count": 8,
   "metadata": {},
   "outputs": [
    {
     "name": "stdout",
     "output_type": "stream",
     "text": [
      "enter a number234\n",
      "reverse: 432\n"
     ]
    }
   ],
   "source": [
    "n=int(input('enter a number'))\n",
    "reverse=0\n",
    "while (n>0):\n",
    "    digit=n%10\n",
    "    reverse=reverse*10+digit\n",
    "    n=n//10\n",
    "print('reverse:', reverse)"
   ]
  },
  {
   "cell_type": "markdown",
   "metadata": {},
   "source": [
    "### find sum of the digits of a number in Python?"
   ]
  },
  {
   "cell_type": "code",
   "execution_count": 9,
   "metadata": {
    "scrolled": true
   },
   "outputs": [
    {
     "name": "stdout",
     "output_type": "stream",
     "text": [
      "enter a number456\n",
      "15\n"
     ]
    }
   ],
   "source": [
    "n=int(input('enter a number'))\n",
    "total=0\n",
    "while n>0:\n",
    "    digit=n%10\n",
    "    total=total+digit\n",
    "    n=n//10\n",
    "print(total)"
   ]
  },
  {
   "cell_type": "markdown",
   "metadata": {},
   "source": [
    "### Number palindrome"
   ]
  },
  {
   "cell_type": "code",
   "execution_count": 23,
   "metadata": {},
   "outputs": [
    {
     "name": "stdout",
     "output_type": "stream",
     "text": [
      "enter a number454\n",
      "palindrome\n"
     ]
    }
   ],
   "source": [
    "n=int(input('enter a number'))\n",
    "temp=n\n",
    "rev=0\n",
    "while n>0:\n",
    "    digit=n%10\n",
    "    rev=rev*10+digit\n",
    "    n=n//10\n",
    "if(temp==rev):\n",
    "    print('palindrome')\n",
    "else:\n",
    "    print('not palindrome')"
   ]
  },
  {
   "cell_type": "markdown",
   "metadata": {},
   "source": [
    "### Write a Python Program to Count the Number of Digits in a Number?"
   ]
  },
  {
   "cell_type": "code",
   "execution_count": 25,
   "metadata": {},
   "outputs": [
    {
     "name": "stdout",
     "output_type": "stream",
     "text": [
      "enter a number345\n",
      "The number of digits in the number are: 3\n"
     ]
    }
   ],
   "source": [
    "n=int(input('enter a number'))\n",
    "count=0\n",
    "while(n>0):\n",
    "    count=count+1\n",
    "    n=n//10\n",
    "print('The number of digits in the number are:',count)"
   ]
  },
  {
   "cell_type": "markdown",
   "metadata": {},
   "source": [
    "### Print Table of a Given Number"
   ]
  },
  {
   "cell_type": "code",
   "execution_count": 26,
   "metadata": {},
   "outputs": [
    {
     "name": "stdout",
     "output_type": "stream",
     "text": [
      "enter a number between 1-106\n",
      "6 x 1 = 6\n",
      "6 x 2 = 12\n",
      "6 x 3 = 18\n",
      "6 x 4 = 24\n",
      "6 x 5 = 30\n",
      "6 x 6 = 36\n",
      "6 x 7 = 42\n",
      "6 x 8 = 48\n",
      "6 x 9 = 54\n",
      "6 x 10 = 60\n"
     ]
    }
   ],
   "source": [
    "n=int(input('enter a number between 1-10'))\n",
    "for i in range(1,11):\n",
    "    print(n,'x',i,'=',n*i)"
   ]
  },
  {
   "cell_type": "markdown",
   "metadata": {},
   "source": [
    "### Check if a Number is a Prime Number"
   ]
  },
  {
   "cell_type": "code",
   "execution_count": 30,
   "metadata": {},
   "outputs": [
    {
     "name": "stdout",
     "output_type": "stream",
     "text": [
      "Enter number: 56\n",
      "Number isn’t prime\n"
     ]
    }
   ],
   "source": [
    "a=int(input('Enter number: '))\n",
    "k=0\n",
    "for i in range(2,a//2+1):\n",
    "    if(a%i==0):\n",
    "        k=k+1\n",
    "if(k<=0):\n",
    "    print('Number is prime')\n",
    "else:\n",
    "    print('Number isn’t prime')"
   ]
  },
  {
   "cell_type": "markdown",
   "metadata": {},
   "source": [
    "### armstrong number"
   ]
  },
  {
   "cell_type": "code",
   "execution_count": 32,
   "metadata": {},
   "outputs": [
    {
     "name": "stdout",
     "output_type": "stream",
     "text": [
      "Enter any number: 153\n",
      "The number is an armstrong number.\n"
     ]
    }
   ],
   "source": [
    "n=int(input('Enter any number: '))\n",
    "a=list(map(int,str(n)))\n",
    "b=list(map(lambda x:x**3,a))\n",
    "if(sum(b)==n):\n",
    "    print('The number is an armstrong number.')\n",
    "else:\n",
    "    print('The number isn’t an arsmtrong number.')"
   ]
  },
  {
   "cell_type": "markdown",
   "metadata": {},
   "source": [
    "### Check if a Number is a Perfect Number"
   ]
  },
  {
   "cell_type": "code",
   "execution_count": 41,
   "metadata": {},
   "outputs": [
    {
     "name": "stdout",
     "output_type": "stream",
     "text": [
      "Enter any number: 567\n",
      "The number is not a Perfect number!\n"
     ]
    }
   ],
   "source": [
    "n = int(input('Enter any number: '))\n",
    "sum1 = 0\n",
    "for i in range(1, n):\n",
    "    if(n % i == 0):\n",
    "        sum1 = sum1 + i\n",
    "if (sum1 == n):\n",
    "    print('The number is a Perfect number!')\n",
    "else:\n",
    "    print('The number is not a Perfect number!')"
   ]
  },
  {
   "cell_type": "markdown",
   "metadata": {},
   "source": [
    "### Write a Python Program to Swap the First and Last Value of a List?"
   ]
  },
  {
   "cell_type": "code",
   "execution_count": 45,
   "metadata": {},
   "outputs": [
    {
     "name": "stdout",
     "output_type": "stream",
     "text": [
      "Enter the number of elements in list:4\n",
      "Enter element1:2\n",
      "Enter element2:3\n",
      "Enter element3:4\n",
      "Enter element4:5\n",
      "New list is:\n",
      "[5, 3, 4, 2]\n"
     ]
    }
   ],
   "source": [
    "a=[]\n",
    "n= int(input('Enter the number of elements in list:'))\n",
    "for x in range(0,n):\n",
    "    element=int(input('Enter element' + str(x+1) + ':'))\n",
    "    a.append(element)\n",
    "temp=a[0]\n",
    "a[0]=a[n-1]\n",
    "a[n-1]=temp\n",
    "print('New list is:')\n",
    "print(a)"
   ]
  },
  {
   "cell_type": "markdown",
   "metadata": {},
   "source": [
    "### Count the Number of Vowels in a String?"
   ]
  },
  {
   "cell_type": "code",
   "execution_count": 47,
   "metadata": {},
   "outputs": [
    {
     "name": "stdout",
     "output_type": "stream",
     "text": [
      "Enter string:BABakagan\n",
      "Number of vowels are:\n",
      "4\n"
     ]
    }
   ],
   "source": [
    "string=input('Enter string:')\n",
    "string=string.lower()\n",
    "vowels=0\n",
    "for i in string:\n",
    "    if(i=='a' or i=='e' or i=='i' or i=='o' or i=='u'):\n",
    "        vowels=vowels+1\n",
    "print('Number of vowels are:')\n",
    "print(vowels)"
   ]
  },
  {
   "cell_type": "markdown",
   "metadata": {},
   "source": [
    "### Check Common Letters in Two Input Strings"
   ]
  },
  {
   "cell_type": "code",
   "execution_count": 51,
   "metadata": {},
   "outputs": [
    {
     "name": "stdout",
     "output_type": "stream",
     "text": [
      "Enter first string:kagan\n",
      "Enter second string:ilter\n",
      "The common letters are:\n",
      "e\n",
      "l\n",
      "t\n",
      "r\n",
      "i\n"
     ]
    }
   ],
   "source": [
    "s1=input('Enter first string:')\n",
    "s2=input('Enter second string:')\n",
    "a=list(set(s1) and set(s2))\n",
    "print('The common letters are:')\n",
    "for i in a:\n",
    "    print(i)"
   ]
  },
  {
   "cell_type": "markdown",
   "metadata": {},
   "source": [
    "filter numbers from a list divisible by 3 and 5"
   ]
  },
  {
   "cell_type": "code",
   "execution_count": 59,
   "metadata": {},
   "outputs": [
    {
     "name": "stdout",
     "output_type": "stream",
     "text": [
      "[1, 2, 4, 7, 8, 11, 13, 14, 16, 17, 19, 22, 23, 26, 28, 29, 31, 32, 34, 37, 38, 41, 43, 44, 46, 47, 49]\n"
     ]
    }
   ],
   "source": [
    "a=[x for x in range (0,50)]\n",
    "divisibles=filter(lambda x: x%3!=0 and x%5!=0,a)\n",
    "print(list(divisibles))"
   ]
  },
  {
   "cell_type": "code",
   "execution_count": 63,
   "metadata": {},
   "outputs": [
    {
     "name": "stdout",
     "output_type": "stream",
     "text": [
      "hll my nm s KGN\n"
     ]
    }
   ],
   "source": [
    "# filter the vowels in a string\n",
    "string1='hello my name is KAGAN'\n",
    "vowels='AEIOUaeiou'\n",
    "nonvowel=filter(lambda x: x not in vowels,string1)\n",
    "print(''.join(nonvowel))"
   ]
  },
  {
   "cell_type": "markdown",
   "metadata": {},
   "source": [
    "Reduce, has 2 arguments\n",
    "write string reverse"
   ]
  },
  {
   "cell_type": "code",
   "execution_count": 65,
   "metadata": {},
   "outputs": [
    {
     "name": "stdout",
     "output_type": "stream",
     "text": [
      "NAGAK si eman ym olleh\n"
     ]
    }
   ],
   "source": [
    "import functools\n",
    "string12='hello my name is KAGAN'\n",
    "reverse= functools.reduce(lambda x,y:y+x, string12)\n",
    "print(reverse)"
   ]
  },
  {
   "cell_type": "markdown",
   "metadata": {},
   "source": [
    "### Create a class named Person, use the __init__() function to assign values for name and age:"
   ]
  },
  {
   "cell_type": "code",
   "execution_count": 54,
   "metadata": {},
   "outputs": [
    {
     "name": "stdout",
     "output_type": "stream",
     "text": [
      "John\n",
      "36\n"
     ]
    }
   ],
   "source": [
    "class Person:\n",
    "  def __init__(self, name, age):\n",
    "    self.name = name\n",
    "    self.age = age\n",
    "\n",
    "p1 = Person(\"John\", 36)\n",
    "\n",
    "print(p1.name)\n",
    "print(p1.age)"
   ]
  },
  {
   "cell_type": "markdown",
   "metadata": {},
   "source": [
    "### OrderedDictionary"
   ]
  },
  {
   "cell_type": "code",
   "execution_count": 62,
   "metadata": {},
   "outputs": [],
   "source": [
    "import collections\n",
    "from collections import OrderedDict"
   ]
  },
  {
   "cell_type": "code",
   "execution_count": 63,
   "metadata": {},
   "outputs": [
    {
     "name": "stdout",
     "output_type": "stream",
     "text": [
      "a A\n",
      "b B\n",
      "c C\n"
     ]
    }
   ],
   "source": [
    "d=collections.OrderedDict()\n",
    "d['a']='A'\n",
    "d['b']='B'\n",
    "d['c']='C'\n",
    "\n",
    "for i,j in d.items():\n",
    "    print (i,j)"
   ]
  },
  {
   "cell_type": "markdown",
   "metadata": {},
   "source": [
    "### find a duplicate in a string"
   ]
  },
  {
   "cell_type": "code",
   "execution_count": 66,
   "metadata": {},
   "outputs": [
    {
     "data": {
      "text/plain": [
       "'l,o,l'"
      ]
     },
     "execution_count": 66,
     "metadata": {},
     "output_type": "execute_result"
    }
   ],
   "source": [
    "duplicate=[]\n",
    "first_time=[]\n",
    "\n",
    "a = 'Hello world'\n",
    "\n",
    "for i in a:\n",
    "    if i not in first_time:\n",
    "        first_time.append(i)\n",
    "    else:\n",
    "        duplicate.append(i)\n",
    "\n",
    "','.join(duplicate)"
   ]
  },
  {
   "cell_type": "markdown",
   "metadata": {},
   "source": [
    "### anagrams"
   ]
  },
  {
   "cell_type": "code",
   "execution_count": 68,
   "metadata": {},
   "outputs": [
    {
     "name": "stdout",
     "output_type": "stream",
     "text": [
      "anagram\n"
     ]
    }
   ],
   "source": [
    "a='godar'\n",
    "b='rodag'\n",
    "l1 = sorted(list(a))\n",
    "l2 = sorted(list(b))\n",
    "if l1 == l2:\n",
    "    print (\"anagram\")\n",
    "else:\n",
    "    print('no')"
   ]
  },
  {
   "cell_type": "code",
   "execution_count": null,
   "metadata": {},
   "outputs": [],
   "source": []
  },
  {
   "cell_type": "code",
   "execution_count": 3,
   "metadata": {},
   "outputs": [
    {
     "name": "stdout",
     "output_type": "stream",
     "text": [
      "{'10030': 2, '10250': 1, '10510': 1}\n"
     ]
    }
   ],
   "source": [
    "dct = {}\n",
    "\n",
    "for x in data1[1:]:\n",
    "    dct[x[0]] = dct.get(x[0], 0) + 1\n",
    "\n",
    "print(dct)"
   ]
  },
  {
   "cell_type": "code",
   "execution_count": 8,
   "metadata": {},
   "outputs": [
    {
     "data": {
      "text/plain": [
       "['string', 'OBJECTS', 'have', 'MANY', 'interesting', 'PROPERTIES']"
      ]
     },
     "execution_count": 8,
     "metadata": {},
     "output_type": "execute_result"
    }
   ],
   "source": [
    "word_list = 'StRing ObJeCts haVe mANy inTEResting pROPerTies'\n",
    "b=word_list.split()\n",
    "i=0\n",
    "for j in b:\n",
    "    if i%2==1:\n",
    "        b[i]=b[i].upper()\n",
    "    else:\n",
    "        b[i]=b[i].lower()\n",
    "    i+=1\n",
    "b"
   ]
  },
  {
   "cell_type": "code",
   "execution_count": 9,
   "metadata": {},
   "outputs": [
    {
     "data": {
      "text/plain": [
       "\"['string', 'OBJECTS', 'have', 'MANY', 'interesting', 'PROPERTIES']\""
      ]
     },
     "execution_count": 9,
     "metadata": {},
     "output_type": "execute_result"
    }
   ],
   "source": [
    "b=str(b)\n",
    "b"
   ]
  },
  {
   "cell_type": "code",
   "execution_count": 10,
   "metadata": {},
   "outputs": [
    {
     "data": {
      "text/plain": [
       "str"
      ]
     },
     "execution_count": 10,
     "metadata": {},
     "output_type": "execute_result"
    }
   ],
   "source": [
    "type(b)"
   ]
  },
  {
   "cell_type": "markdown",
   "metadata": {},
   "source": [
    "iterate dictionary key and values"
   ]
  },
  {
   "cell_type": "code",
   "execution_count": 14,
   "metadata": {
    "scrolled": true
   },
   "outputs": [
    {
     "name": "stdout",
     "output_type": "stream",
     "text": [
      "('a', 1)\n",
      "('b', 2)\n",
      "('c', 3)\n"
     ]
    }
   ],
   "source": [
    "dict1={'a':1,'b':2,'c':3}\n",
    "for item in dict1.items():\n",
    "    print(item)"
   ]
  },
  {
   "cell_type": "code",
   "execution_count": null,
   "metadata": {},
   "outputs": [],
   "source": [
    "#  //* enroll_code,student_id\n",
    "# 10030,55000\n",
    "# 10030,55804\n",
    "# 10250,55804\n",
    "# 10510,55000\n",
    "# #1. USe pandas to read the csv file, Data.csv; Processing -> Count # students per subject, \n",
    "# # Sample output below\n",
    "# 10030 : 2\n",
    "# 10250 :1\n",
    "# 10510 :1\n",
    "\n",
    "# import pandas as pandas\n",
    "# df.read_csv('data.csv')\n",
    "# df.groupby('enroll_code').student_id.count()\n",
    "\n",
    "\n",
    "# # #2. USe base Python only to read the csv file, Data.csv; Processing -> Count # students per subject, \n",
    "\n",
    "# import csv\n",
    "# data=[]\n",
    "# with open('Data.csv','r') as csvFile:\n",
    "#     reader = csv.reader(csvFile)\n",
    "#     data=list(reader)\n",
    "\n",
    "\n",
    "# lst = [[10030,55000],[10030,55804],[],[]]\n",
    "# for i,j in enumerate(lst):\n",
    "#   print(i,j) # 1 [10030, 55000]\n",
    "#               # 2 [10030, 55804] \n",
    "# lst1=[]\n",
    "# dct=dict()\n",
    "# a=0\n",
    "# for i  in lst:\n",
    "#   if i[0] not in list1:\n",
    "#     list1.append(i[0])\n",
    "#     a=0\n",
    "#   a=a+1\n",
    "#   dct[i[0]=a\n",
    " \n",
    "# # SQL, table in DB\n",
    "#  SELECT enroll_code, COUNT(DISTINCT(student_id))\n",
    "#  FROM Data\n",
    "#  GROUP BY enroll_code\n",
    "#  2\n",
    "#  1\n",
    "#  1\n",
    "# SELECT enroll_code, COUNT(DISTINCT(student_id))\n",
    "# FROM data\n",
    "\n",
    "# WHERE enroll_code=10030 \n",
    "# LIMIT 1 OFFSET 8\n",
    "\n",
    "# 10030 2\n",
    "# 10030 2 \n",
    "\n",
    " //* enroll_code,student_id\n",
    "10030,55000\n",
    "10030,55804\n",
    "10250,55804\n",
    "10510,55000\n",
    "#1. USe pandas to read the csv file, Data.csv; Processing -> Count # students per subject, \n",
    "# Sample output below\n",
    "10030 : 2\n",
    "10250 :1\n",
    "10510 :1\n",
    "\n",
    "import pandas as pandas\n",
    "df.read_csv('data.csv')\n",
    "df.groupby('enroll_code').student_id.count()\n",
    "\n",
    "\n",
    "#2. USe base Python only to read the csv file, Data.csv; Processing -> Count # students per subject, \n",
    "\n",
    "import csv\n",
    "with open ('data.csv') as csv\n",
    "\n",
    "len(set(student_id))\n",
    "\n",
    "\n",
    "lst = [[10030,55000],[10030,55804],[],[]]\n",
    "for i,j in enumerate(lst):\n",
    "  print(i,j) # 1 [10030, 55000]\n",
    "              # 2 [10030, 55804] \n",
    "lst1=[]\n",
    "lst2=[]\n",
    "dct=dict()\n",
    "a=0\n",
    "for i  in lst:\n",
    "  if i[0] not in list1:\n",
    "    list1.append(i[0])\n",
    "    a=0\n",
    "  a=a+1\n",
    "  dct[i[0]=a\n",
    " \n",
    "\n",
    "\n",
    "# SQL, table in DB\n",
    "\n",
    "SELECT enroll_code, COUNT(student_id)\n",
    "FROM data\n",
    "GROUP BY enroll_code\n",
    "\n",
    "\n",
    "SELECT enroll_code, COUNT(student_id)\n",
    "FROM data\n",
    "WHERE enroll_code=10030\n",
    "LIMIT 1\n",
    "\n",
    "\n",
    "SELECT enroll_code, COUNT(student_id) as cnt\n",
    "FROM data\n",
    "GROUP BY enroll_code\n",
    "HAVING cnt > 1 \n",
    "\n",
    "\n",
    "\n",
    "\n",
    "\n",
    "import csv\n",
    "data1=[]\n",
    "with open ('data.csv',r) as csv1:\n",
    "  reading=csv.reader(csv1)\n",
    "  data1=list(reading)\n",
    "  \n",
    "resultdict={}\n",
    "for item in data1[1:]:\n",
    "  if item[0] not in resultdict:\n",
    "    resultdict[item[0]]=1\n",
    "  else:\n",
    "    resultdict[item[0]]+=1\n",
    "resultdict\n",
    "\n"
   ]
  },
  {
   "cell_type": "code",
   "execution_count": 46,
   "metadata": {},
   "outputs": [
    {
     "data": {
      "text/plain": [
       "{'10030': 2, '10250': 1, '10510': 1}"
      ]
     },
     "execution_count": 46,
     "metadata": {},
     "output_type": "execute_result"
    }
   ],
   "source": [
    "data=[['enroll_code', 'student_id'], ['10030', '55000'], ['10030', '55804'], ['10250', '55804'], ['10510', '55000']]\n",
    "result = {}\n",
    "for item in data[1:]:\n",
    "    if item[0] not in result :\n",
    "        result [item[0]] = 1\n",
    "    else:\n",
    "        result [item[0]] += 1\n",
    "result"
   ]
  },
  {
   "cell_type": "markdown",
   "metadata": {},
   "source": [
    "### enumerate the number of letters in a given string in a dictionary"
   ]
  },
  {
   "cell_type": "code",
   "execution_count": 16,
   "metadata": {
    "scrolled": false
   },
   "outputs": [
    {
     "name": "stdout",
     "output_type": "stream",
     "text": [
      "{'e': [0, 4, 8, 15, 20], 'n': [1, 11], 'u': [2], 'm': [3], 'r': [5, 16], 'a': [6, 10, 17], 't': [7, 14], ' ': [9, 12], 'I': [13], 'b': [18], 'l': [19]}\n"
     ]
    }
   ],
   "source": [
    "def retrieve_character_indices(string):\n",
    "    character_indices = dict()\n",
    "    # Define the 'for' loop\n",
    "    for index, character in enumerate(string):\n",
    "        # Update the dictionary if the key already exists\n",
    "        if character in character_indices:\n",
    "            character_indices[character].append(index)\n",
    "        # Update the dictionary if the key is absent\n",
    "        else:\n",
    "            character_indices[character] = [index]\n",
    "            \n",
    "    return character_indices\n",
    "  \n",
    "print(retrieve_character_indices('enumerate an Iterable'))"
   ]
  },
  {
   "cell_type": "markdown",
   "metadata": {},
   "source": [
    "update a dicitonary"
   ]
  },
  {
   "cell_type": "code",
   "execution_count": 17,
   "metadata": {},
   "outputs": [
    {
     "data": {
      "text/plain": [
       "{1: '1', 2: '2', 3: '3'}"
      ]
     },
     "execution_count": 17,
     "metadata": {},
     "output_type": "execute_result"
    }
   ],
   "source": [
    "dict1={1:'1',2:'2'}\n",
    "dict1.update({3:'3'})\n",
    "dict1"
   ]
  },
  {
   "cell_type": "code",
   "execution_count": 20,
   "metadata": {},
   "outputs": [
    {
     "data": {
      "text/plain": [
       "{1: '1', 2: '2', 3: '3', 'newkey1': 'a'}"
      ]
     },
     "execution_count": 20,
     "metadata": {},
     "output_type": "execute_result"
    }
   ],
   "source": [
    "dict1.update(newkey1='a')\n",
    "dict1"
   ]
  },
  {
   "cell_type": "markdown",
   "metadata": {},
   "source": [
    "traverse in a dataframe result in a dictionary"
   ]
  },
  {
   "cell_type": "code",
   "execution_count": null,
   "metadata": {},
   "outputs": [],
   "source": [
    "column_counts = dict()\n",
    "\n",
    "# Traverse through the columns in the heroes DataFrame\n",
    "for column_name, series in heroes.iteritems():\n",
    "    # Retrieve the values stored in series in a list form\n",
    "    values = list(series)\n",
    "    category_counts = dict()  \n",
    "    # Traverse through unique categories in values\n",
    "    for category in set(values):\n",
    "        # Count the appearance of category in values\n",
    "        category_counts[category] = values.count(category)\n",
    "    \n",
    "    column_counts[column_name] = category_counts\n",
    "    \n",
    "print(column_counts)"
   ]
  },
  {
   "cell_type": "code",
   "execution_count": null,
   "metadata": {},
   "outputs": [],
   "source": []
  }
 ],
 "metadata": {
  "kernelspec": {
   "display_name": "Python 3",
   "language": "python",
   "name": "python3"
  },
  "language_info": {
   "codemirror_mode": {
    "name": "ipython",
    "version": 3
   },
   "file_extension": ".py",
   "mimetype": "text/x-python",
   "name": "python",
   "nbconvert_exporter": "python",
   "pygments_lexer": "ipython3",
   "version": "3.7.6"
  }
 },
 "nbformat": 4,
 "nbformat_minor": 2
}
