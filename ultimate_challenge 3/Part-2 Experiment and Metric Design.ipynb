{
 "cells": [
  {
   "cell_type": "markdown",
   "metadata": {},
   "source": [
    "- What would you choose as the key measure of success of this experiment in encouraging driver partners to serve both cities, and why would you choose this metric?"
   ]
  },
  {
   "cell_type": "markdown",
   "metadata": {},
   "source": [
    "As a key measure, I would choose the change of activity during the weekdays. During day hours, the entrance of cars from Gotham and during night hours the entrance from the Metropolis would be a reasonable metric. This metric depends on an assumption that there is an electronic record system that calculates the crossing of each car."
   ]
  },
  {
   "cell_type": "markdown",
   "metadata": {},
   "source": [
    "We can apply a hypothesis testing"
   ]
  },
  {
   "cell_type": "markdown",
   "metadata": {},
   "source": [
    "H0: During the weekdays, there is no difference between the mean number of cars entering the bridge from Metropolis between 7 pm and 4 am\n",
    "\n",
    "H1: During the weekdays, there is a difference (increase) between the mean number of cars entering the bridge from Metropolis between 7 pm and 4 am"
   ]
  },
  {
   "cell_type": "markdown",
   "metadata": {},
   "source": [
    "To evaluate this, it would be helpful to track drivers (tracking all of them initially would be helpful) and also the city habits both on weekdays and weekends. Which cities are they spending the majority of their time, or are they split. After that informing all of them of the changed toll policy and track/record their drives again."
   ]
  },
  {
   "cell_type": "markdown",
   "metadata": {},
   "source": [
    "I would use a one-tailed Z-test to determine the p-value of each hypothesis."
   ]
  },
  {
   "cell_type": "markdown",
   "metadata": {},
   "source": [
    "If the p-value is less than 0.05 for I would reject the null hypotheses and recommend the reimbursement program continue\n",
    "\n",
    "If the p-value is greater than 0.05 I would fail to reject the null hypotheses and recommend that a different program be developed to increase partner driving between the two cities."
   ]
  },
  {
   "cell_type": "code",
   "execution_count": null,
   "metadata": {},
   "outputs": [],
   "source": []
  }
 ],
 "metadata": {
  "kernelspec": {
   "display_name": "Python 3",
   "language": "python",
   "name": "python3"
  },
  "language_info": {
   "codemirror_mode": {
    "name": "ipython",
    "version": 3
   },
   "file_extension": ".py",
   "mimetype": "text/x-python",
   "name": "python",
   "nbconvert_exporter": "python",
   "pygments_lexer": "ipython3",
   "version": "3.7.1"
  }
 },
 "nbformat": 4,
 "nbformat_minor": 2
}
