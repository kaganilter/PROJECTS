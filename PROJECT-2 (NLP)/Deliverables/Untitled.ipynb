{
 "cells": [
  {
   "cell_type": "code",
   "execution_count": null,
   "metadata": {},
   "outputs": [],
   "source": [
    "from textwrap import wrap \n",
    "string = 'This is python programming language. One of its kind, it is also one of the most popular language in the world.' \n",
    "\n",
    "s = wrap(text = string, width = 30) \n",
    ">>> print s \n",
    ">>> ['This is python programming', 'language. One of its kind, it', 'is also one of the most', 'popular language in the world.'] \n",
    ">>> \n",
    ">>> \n",
    ">>> for i in s: \n",
    "\tprint i \n",
    " \n",
    "This is python programming \n",
    "language. One of its kind, it \n",
    "is also one of the most \n",
    "popular language in the world."
   ]
  }
 ],
 "metadata": {
  "kernelspec": {
   "display_name": "Python 3",
   "language": "python",
   "name": "python3"
  },
  "language_info": {
   "codemirror_mode": {
    "name": "ipython",
    "version": 3
   },
   "file_extension": ".py",
   "mimetype": "text/x-python",
   "name": "python",
   "nbconvert_exporter": "python",
   "pygments_lexer": "ipython3",
   "version": "3.7.6"
  }
 },
 "nbformat": 4,
 "nbformat_minor": 4
}
