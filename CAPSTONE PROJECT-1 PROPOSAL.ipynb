{
 "cells": [
  {
   "cell_type": "markdown",
   "metadata": {},
   "source": [
    "Capstone Project Proposal\n",
    " \n",
    "By Kagan ILTER\n",
    " \n",
    "1.     \tWhat is the problem you want to solve?\n",
    " \n",
    "The scope of this project is to predict the price of a used vehicle based on its features.\n",
    " \n",
    "2.     \tWho is your client and why do they care about this problem? In other words, what will they do or decide based on your analysis?\n",
    "a.     \tIndividual Buyers: Whoever interested in buying a new car wonders about the actual value of the specific car with the one, which was asked by the seller. So it is important for all to come to a better understanding of the values of the cars.\n",
    "b.     \tDealers: Most dealers would like to learn the value of that individual car, and determine its value later on.\n",
    "c.     \tIndividual Sellers: Most private sellers would need the value of their car since the value is not constant, it changes considering the depreciation, the repairs etc.\n",
    "d.     \tWebsites or Applications created to help private parties or dealers sell their vehicles.\n",
    " \n",
    " \n",
    "3.     \tWhat data are you going to use for this? How will you acquire it?\n",
    " \n",
    "Data Set:\n",
    "a.     \tThe data was scraped with from the Ebay. Dataset is acquired from Kaggle:  https://www.kaggle.com/orgesleka/used-cars-database/data\n",
    "b.     \tData Set includes 19 features and 371528 data points/observations.\n",
    "c.     \tThe data has too many missing values, outliers. Also includes nonsense/ wrong entries like 9999 as year of Registration.\n",
    "d.     \tThis data includes the data points/observations from 2016. (I will search for methods to scrape data for 2017 and 2018, if available.)\n",
    "e.     \tTarget Feature is 'price'. Since it is the price of an individual car, it is continuous.\n",
    "f. Other features are:\n",
    "·       dateCrawled : when this ad was first crawled, all field-values are taken from this date\n",
    "·       name : \"name\" of the car\n",
    "·       seller : private or dealer\n",
    "·       offerType\n",
    "·       vehicleType\n",
    "·       yearOfRegistration : at which year the car was first registered\n",
    "·       gearbox\n",
    "·       powerPS : power of the car in PS\n",
    "·       model\n",
    "·       kilometer : how many kilometers the car has driven\n",
    "·       monthOfRegistration : at which month the car was first registered\n",
    "·       fuelType\n",
    "·       brand\n",
    "·       notRepairedDamage : if the car has a damage which is not repaired yet\n",
    "·       dateCreated : the date for which the ad at ebay was created\n",
    "·       nrOfPictures : number of pictures in the ad (unfortunately this field contains everywhere a 0 and is thus useless (bug in crawler!) )\n",
    "·       postalCode\n",
    "·       lastSeenOnline : when the crawler saw this ad last online\n",
    " \n",
    " \n",
    "4.     \tOutline your approach to solving this problem.\n",
    "My target/response feature would be the price of the used cars.  My independent features would be other features ( 'name' of the car, seller type, horse power of the car, mileage, any damage or repair, gearbox (automatic or manuel), age of the car...). It is a supervised problem. I will complete this project on Jupyter Notebook. I am planning to examine data (Data Collection), wrangle the data (Data Wrangling), apply ML algorithms and present the project.\n",
    " \n",
    "5.     \tWhat are your deliverables?\n",
    " \n",
    "My deliverables will be a jupyter notebook and a report published on my github account. The report will include my findings and related python code.\n",
    "\n"
   ]
  },
  {
   "cell_type": "code",
   "execution_count": null,
   "metadata": {},
   "outputs": [],
   "source": []
  }
 ],
 "metadata": {
  "kernelspec": {
   "display_name": "Python 3",
   "language": "python",
   "name": "python3"
  },
  "language_info": {
   "codemirror_mode": {
    "name": "ipython",
    "version": 3
   },
   "file_extension": ".py",
   "mimetype": "text/x-python",
   "name": "python",
   "nbconvert_exporter": "python",
   "pygments_lexer": "ipython3",
   "version": "3.7.1"
  }
 },
 "nbformat": 4,
 "nbformat_minor": 2
}
